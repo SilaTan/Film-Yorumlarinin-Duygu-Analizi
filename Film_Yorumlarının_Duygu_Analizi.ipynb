{
  "cells": [
    {
      "cell_type": "markdown",
      "metadata": {
        "id": "view-in-github",
        "colab_type": "text"
      },
      "source": [
        "<a href=\"https://colab.research.google.com/github/SilaTan/Film-Yorumlarinin-Duygu-Analizi/blob/master/Film_Yorumlar%C4%B1n%C4%B1n_Duygu_Analizi.ipynb\" target=\"_parent\"><img src=\"https://colab.research.google.com/assets/colab-badge.svg\" alt=\"Open In Colab\"/></a>"
      ]
    },
    {
      "cell_type": "code",
      "execution_count": 1,
      "metadata": {
        "id": "LU5cAnBNcHRb",
        "colab": {
          "base_uri": "https://localhost:8080/"
        },
        "outputId": "024d9dd7-7311-4f3b-9ddc-fcbe072baf67"
      },
      "outputs": [
        {
          "output_type": "stream",
          "name": "stdout",
          "text": [
            "Mounted at /content/drive\n"
          ]
        }
      ],
      "source": [
        "from google.colab import drive\n",
        "drive.mount('/content/drive')"
      ]
    },
    {
      "cell_type": "code",
      "execution_count": 2,
      "metadata": {
        "id": "LSoVDJu-cuuu"
      },
      "outputs": [],
      "source": [
        "import pandas as pd\n",
        "import numpy as np"
      ]
    },
    {
      "cell_type": "code",
      "execution_count": 3,
      "metadata": {
        "id": "_plEN-hGczVo"
      },
      "outputs": [],
      "source": [
        "df = pd.read_csv(\"/content/drive/MyDrive/CSV UZANTILARIM/turkish_movie_sentiment_dataset.csv\")"
      ]
    },
    {
      "cell_type": "code",
      "execution_count": 4,
      "metadata": {
        "colab": {
          "base_uri": "https://localhost:8080/",
          "height": 206
        },
        "id": "cTtgrqPadGKy",
        "outputId": "774db56b-3ceb-423f-e93c-b0ddb6296947"
      },
      "outputs": [
        {
          "output_type": "execute_result",
          "data": {
            "text/plain": [
              "                                             comment      film_name point\n",
              "0  \\n                      Jean Reno denince zate...  Sevginin Gücü   5,0\n",
              "1  \\n                      Ekşın falan izlemek is...  Sevginin Gücü   5,0\n",
              "2  \\n                      Bu yapım hakkında öyle...  Sevginin Gücü   5,0\n",
              "3  \\n                      finali yeter... (sting...  Sevginin Gücü   5,0\n",
              "4  \\n                      Jean Reno..\\r\\nbu adam...  Sevginin Gücü   5,0"
            ],
            "text/html": [
              "\n",
              "  <div id=\"df-c3fcfb97-7168-444e-a072-480f8d6a2564\">\n",
              "    <div class=\"colab-df-container\">\n",
              "      <div>\n",
              "<style scoped>\n",
              "    .dataframe tbody tr th:only-of-type {\n",
              "        vertical-align: middle;\n",
              "    }\n",
              "\n",
              "    .dataframe tbody tr th {\n",
              "        vertical-align: top;\n",
              "    }\n",
              "\n",
              "    .dataframe thead th {\n",
              "        text-align: right;\n",
              "    }\n",
              "</style>\n",
              "<table border=\"1\" class=\"dataframe\">\n",
              "  <thead>\n",
              "    <tr style=\"text-align: right;\">\n",
              "      <th></th>\n",
              "      <th>comment</th>\n",
              "      <th>film_name</th>\n",
              "      <th>point</th>\n",
              "    </tr>\n",
              "  </thead>\n",
              "  <tbody>\n",
              "    <tr>\n",
              "      <th>0</th>\n",
              "      <td>\\n                      Jean Reno denince zate...</td>\n",
              "      <td>Sevginin Gücü</td>\n",
              "      <td>5,0</td>\n",
              "    </tr>\n",
              "    <tr>\n",
              "      <th>1</th>\n",
              "      <td>\\n                      Ekşın falan izlemek is...</td>\n",
              "      <td>Sevginin Gücü</td>\n",
              "      <td>5,0</td>\n",
              "    </tr>\n",
              "    <tr>\n",
              "      <th>2</th>\n",
              "      <td>\\n                      Bu yapım hakkında öyle...</td>\n",
              "      <td>Sevginin Gücü</td>\n",
              "      <td>5,0</td>\n",
              "    </tr>\n",
              "    <tr>\n",
              "      <th>3</th>\n",
              "      <td>\\n                      finali yeter... (sting...</td>\n",
              "      <td>Sevginin Gücü</td>\n",
              "      <td>5,0</td>\n",
              "    </tr>\n",
              "    <tr>\n",
              "      <th>4</th>\n",
              "      <td>\\n                      Jean Reno..\\r\\nbu adam...</td>\n",
              "      <td>Sevginin Gücü</td>\n",
              "      <td>5,0</td>\n",
              "    </tr>\n",
              "  </tbody>\n",
              "</table>\n",
              "</div>\n",
              "      <button class=\"colab-df-convert\" onclick=\"convertToInteractive('df-c3fcfb97-7168-444e-a072-480f8d6a2564')\"\n",
              "              title=\"Convert this dataframe to an interactive table.\"\n",
              "              style=\"display:none;\">\n",
              "        \n",
              "  <svg xmlns=\"http://www.w3.org/2000/svg\" height=\"24px\"viewBox=\"0 0 24 24\"\n",
              "       width=\"24px\">\n",
              "    <path d=\"M0 0h24v24H0V0z\" fill=\"none\"/>\n",
              "    <path d=\"M18.56 5.44l.94 2.06.94-2.06 2.06-.94-2.06-.94-.94-2.06-.94 2.06-2.06.94zm-11 1L8.5 8.5l.94-2.06 2.06-.94-2.06-.94L8.5 2.5l-.94 2.06-2.06.94zm10 10l.94 2.06.94-2.06 2.06-.94-2.06-.94-.94-2.06-.94 2.06-2.06.94z\"/><path d=\"M17.41 7.96l-1.37-1.37c-.4-.4-.92-.59-1.43-.59-.52 0-1.04.2-1.43.59L10.3 9.45l-7.72 7.72c-.78.78-.78 2.05 0 2.83L4 21.41c.39.39.9.59 1.41.59.51 0 1.02-.2 1.41-.59l7.78-7.78 2.81-2.81c.8-.78.8-2.07 0-2.86zM5.41 20L4 18.59l7.72-7.72 1.47 1.35L5.41 20z\"/>\n",
              "  </svg>\n",
              "      </button>\n",
              "      \n",
              "  <style>\n",
              "    .colab-df-container {\n",
              "      display:flex;\n",
              "      flex-wrap:wrap;\n",
              "      gap: 12px;\n",
              "    }\n",
              "\n",
              "    .colab-df-convert {\n",
              "      background-color: #E8F0FE;\n",
              "      border: none;\n",
              "      border-radius: 50%;\n",
              "      cursor: pointer;\n",
              "      display: none;\n",
              "      fill: #1967D2;\n",
              "      height: 32px;\n",
              "      padding: 0 0 0 0;\n",
              "      width: 32px;\n",
              "    }\n",
              "\n",
              "    .colab-df-convert:hover {\n",
              "      background-color: #E2EBFA;\n",
              "      box-shadow: 0px 1px 2px rgba(60, 64, 67, 0.3), 0px 1px 3px 1px rgba(60, 64, 67, 0.15);\n",
              "      fill: #174EA6;\n",
              "    }\n",
              "\n",
              "    [theme=dark] .colab-df-convert {\n",
              "      background-color: #3B4455;\n",
              "      fill: #D2E3FC;\n",
              "    }\n",
              "\n",
              "    [theme=dark] .colab-df-convert:hover {\n",
              "      background-color: #434B5C;\n",
              "      box-shadow: 0px 1px 3px 1px rgba(0, 0, 0, 0.15);\n",
              "      filter: drop-shadow(0px 1px 2px rgba(0, 0, 0, 0.3));\n",
              "      fill: #FFFFFF;\n",
              "    }\n",
              "  </style>\n",
              "\n",
              "      <script>\n",
              "        const buttonEl =\n",
              "          document.querySelector('#df-c3fcfb97-7168-444e-a072-480f8d6a2564 button.colab-df-convert');\n",
              "        buttonEl.style.display =\n",
              "          google.colab.kernel.accessAllowed ? 'block' : 'none';\n",
              "\n",
              "        async function convertToInteractive(key) {\n",
              "          const element = document.querySelector('#df-c3fcfb97-7168-444e-a072-480f8d6a2564');\n",
              "          const dataTable =\n",
              "            await google.colab.kernel.invokeFunction('convertToInteractive',\n",
              "                                                     [key], {});\n",
              "          if (!dataTable) return;\n",
              "\n",
              "          const docLinkHtml = 'Like what you see? Visit the ' +\n",
              "            '<a target=\"_blank\" href=https://colab.research.google.com/notebooks/data_table.ipynb>data table notebook</a>'\n",
              "            + ' to learn more about interactive tables.';\n",
              "          element.innerHTML = '';\n",
              "          dataTable['output_type'] = 'display_data';\n",
              "          await google.colab.output.renderOutput(dataTable, element);\n",
              "          const docLink = document.createElement('div');\n",
              "          docLink.innerHTML = docLinkHtml;\n",
              "          element.appendChild(docLink);\n",
              "        }\n",
              "      </script>\n",
              "    </div>\n",
              "  </div>\n",
              "  "
            ]
          },
          "metadata": {},
          "execution_count": 4
        }
      ],
      "source": [
        "df.head()"
      ]
    },
    {
      "cell_type": "code",
      "execution_count": 5,
      "metadata": {
        "colab": {
          "base_uri": "https://localhost:8080/",
          "height": 206
        },
        "id": "Jw6yUnuadOh5",
        "outputId": "1ce6a6d0-29cf-4022-c3be-602c54758c27"
      },
      "outputs": [
        {
          "output_type": "execute_result",
          "data": {
            "text/plain": [
              "                                                 comment  \\\n",
              "83222  \\n                      Böyle bi kadrodan, bçy...   \n",
              "83223  \\n                      yani bu kaar ii oyunca...   \n",
              "83224  \\n                      bugün dvd'sini alıp iz...   \n",
              "83225  \\n                      Klasik korku ve gerili...   \n",
              "83226  \\n                      Bence gereğinden fazla...   \n",
              "\n",
              "                          film_name point  \n",
              "83222                         Kabus   2,5  \n",
              "83223                         Kabus   2,5  \n",
              "83224                         Kabus   1,0  \n",
              "83225                         Kabus   4,0  \n",
              "83226  Bir Zamanlar... Hollywood'da   4,6  "
            ],
            "text/html": [
              "\n",
              "  <div id=\"df-c41c5d45-2243-4844-ba43-c5a9fd913e21\">\n",
              "    <div class=\"colab-df-container\">\n",
              "      <div>\n",
              "<style scoped>\n",
              "    .dataframe tbody tr th:only-of-type {\n",
              "        vertical-align: middle;\n",
              "    }\n",
              "\n",
              "    .dataframe tbody tr th {\n",
              "        vertical-align: top;\n",
              "    }\n",
              "\n",
              "    .dataframe thead th {\n",
              "        text-align: right;\n",
              "    }\n",
              "</style>\n",
              "<table border=\"1\" class=\"dataframe\">\n",
              "  <thead>\n",
              "    <tr style=\"text-align: right;\">\n",
              "      <th></th>\n",
              "      <th>comment</th>\n",
              "      <th>film_name</th>\n",
              "      <th>point</th>\n",
              "    </tr>\n",
              "  </thead>\n",
              "  <tbody>\n",
              "    <tr>\n",
              "      <th>83222</th>\n",
              "      <td>\\n                      Böyle bi kadrodan, bçy...</td>\n",
              "      <td>Kabus</td>\n",
              "      <td>2,5</td>\n",
              "    </tr>\n",
              "    <tr>\n",
              "      <th>83223</th>\n",
              "      <td>\\n                      yani bu kaar ii oyunca...</td>\n",
              "      <td>Kabus</td>\n",
              "      <td>2,5</td>\n",
              "    </tr>\n",
              "    <tr>\n",
              "      <th>83224</th>\n",
              "      <td>\\n                      bugün dvd'sini alıp iz...</td>\n",
              "      <td>Kabus</td>\n",
              "      <td>1,0</td>\n",
              "    </tr>\n",
              "    <tr>\n",
              "      <th>83225</th>\n",
              "      <td>\\n                      Klasik korku ve gerili...</td>\n",
              "      <td>Kabus</td>\n",
              "      <td>4,0</td>\n",
              "    </tr>\n",
              "    <tr>\n",
              "      <th>83226</th>\n",
              "      <td>\\n                      Bence gereğinden fazla...</td>\n",
              "      <td>Bir Zamanlar... Hollywood'da</td>\n",
              "      <td>4,6</td>\n",
              "    </tr>\n",
              "  </tbody>\n",
              "</table>\n",
              "</div>\n",
              "      <button class=\"colab-df-convert\" onclick=\"convertToInteractive('df-c41c5d45-2243-4844-ba43-c5a9fd913e21')\"\n",
              "              title=\"Convert this dataframe to an interactive table.\"\n",
              "              style=\"display:none;\">\n",
              "        \n",
              "  <svg xmlns=\"http://www.w3.org/2000/svg\" height=\"24px\"viewBox=\"0 0 24 24\"\n",
              "       width=\"24px\">\n",
              "    <path d=\"M0 0h24v24H0V0z\" fill=\"none\"/>\n",
              "    <path d=\"M18.56 5.44l.94 2.06.94-2.06 2.06-.94-2.06-.94-.94-2.06-.94 2.06-2.06.94zm-11 1L8.5 8.5l.94-2.06 2.06-.94-2.06-.94L8.5 2.5l-.94 2.06-2.06.94zm10 10l.94 2.06.94-2.06 2.06-.94-2.06-.94-.94-2.06-.94 2.06-2.06.94z\"/><path d=\"M17.41 7.96l-1.37-1.37c-.4-.4-.92-.59-1.43-.59-.52 0-1.04.2-1.43.59L10.3 9.45l-7.72 7.72c-.78.78-.78 2.05 0 2.83L4 21.41c.39.39.9.59 1.41.59.51 0 1.02-.2 1.41-.59l7.78-7.78 2.81-2.81c.8-.78.8-2.07 0-2.86zM5.41 20L4 18.59l7.72-7.72 1.47 1.35L5.41 20z\"/>\n",
              "  </svg>\n",
              "      </button>\n",
              "      \n",
              "  <style>\n",
              "    .colab-df-container {\n",
              "      display:flex;\n",
              "      flex-wrap:wrap;\n",
              "      gap: 12px;\n",
              "    }\n",
              "\n",
              "    .colab-df-convert {\n",
              "      background-color: #E8F0FE;\n",
              "      border: none;\n",
              "      border-radius: 50%;\n",
              "      cursor: pointer;\n",
              "      display: none;\n",
              "      fill: #1967D2;\n",
              "      height: 32px;\n",
              "      padding: 0 0 0 0;\n",
              "      width: 32px;\n",
              "    }\n",
              "\n",
              "    .colab-df-convert:hover {\n",
              "      background-color: #E2EBFA;\n",
              "      box-shadow: 0px 1px 2px rgba(60, 64, 67, 0.3), 0px 1px 3px 1px rgba(60, 64, 67, 0.15);\n",
              "      fill: #174EA6;\n",
              "    }\n",
              "\n",
              "    [theme=dark] .colab-df-convert {\n",
              "      background-color: #3B4455;\n",
              "      fill: #D2E3FC;\n",
              "    }\n",
              "\n",
              "    [theme=dark] .colab-df-convert:hover {\n",
              "      background-color: #434B5C;\n",
              "      box-shadow: 0px 1px 3px 1px rgba(0, 0, 0, 0.15);\n",
              "      filter: drop-shadow(0px 1px 2px rgba(0, 0, 0, 0.3));\n",
              "      fill: #FFFFFF;\n",
              "    }\n",
              "  </style>\n",
              "\n",
              "      <script>\n",
              "        const buttonEl =\n",
              "          document.querySelector('#df-c41c5d45-2243-4844-ba43-c5a9fd913e21 button.colab-df-convert');\n",
              "        buttonEl.style.display =\n",
              "          google.colab.kernel.accessAllowed ? 'block' : 'none';\n",
              "\n",
              "        async function convertToInteractive(key) {\n",
              "          const element = document.querySelector('#df-c41c5d45-2243-4844-ba43-c5a9fd913e21');\n",
              "          const dataTable =\n",
              "            await google.colab.kernel.invokeFunction('convertToInteractive',\n",
              "                                                     [key], {});\n",
              "          if (!dataTable) return;\n",
              "\n",
              "          const docLinkHtml = 'Like what you see? Visit the ' +\n",
              "            '<a target=\"_blank\" href=https://colab.research.google.com/notebooks/data_table.ipynb>data table notebook</a>'\n",
              "            + ' to learn more about interactive tables.';\n",
              "          element.innerHTML = '';\n",
              "          dataTable['output_type'] = 'display_data';\n",
              "          await google.colab.output.renderOutput(dataTable, element);\n",
              "          const docLink = document.createElement('div');\n",
              "          docLink.innerHTML = docLinkHtml;\n",
              "          element.appendChild(docLink);\n",
              "        }\n",
              "      </script>\n",
              "    </div>\n",
              "  </div>\n",
              "  "
            ]
          },
          "metadata": {},
          "execution_count": 5
        }
      ],
      "source": [
        "df.tail()"
      ]
    },
    {
      "cell_type": "code",
      "execution_count": 6,
      "metadata": {
        "colab": {
          "base_uri": "https://localhost:8080/"
        },
        "id": "W99SNG87dQlz",
        "outputId": "407a55d6-838d-404e-a1a5-3d770488f5fc"
      },
      "outputs": [
        {
          "output_type": "execute_result",
          "data": {
            "text/plain": [
              "(83227, 3)"
            ]
          },
          "metadata": {},
          "execution_count": 6
        }
      ],
      "source": [
        "df.shape"
      ]
    },
    {
      "cell_type": "code",
      "execution_count": 7,
      "metadata": {
        "colab": {
          "base_uri": "https://localhost:8080/"
        },
        "id": "s5fOeBDaii-k",
        "outputId": "80e65734-93ea-4ce6-d669-5d93607d3d28"
      },
      "outputs": [
        {
          "output_type": "stream",
          "name": "stdout",
          "text": [
            "<class 'pandas.core.frame.DataFrame'>\n",
            "RangeIndex: 83227 entries, 0 to 83226\n",
            "Data columns (total 3 columns):\n",
            " #   Column     Non-Null Count  Dtype \n",
            "---  ------     --------------  ----- \n",
            " 0   comment    83227 non-null  object\n",
            " 1   film_name  83227 non-null  object\n",
            " 2   point      83227 non-null  object\n",
            "dtypes: object(3)\n",
            "memory usage: 1.9+ MB\n"
          ]
        }
      ],
      "source": [
        "df.info()"
      ]
    },
    {
      "cell_type": "markdown",
      "metadata": {
        "id": "pIwyA6hCP8hE"
      },
      "source": [
        "**Yorum Sütununun Düzenlenmesi**"
      ]
    },
    {
      "cell_type": "code",
      "execution_count": 8,
      "metadata": {
        "colab": {
          "base_uri": "https://localhost:8080/",
          "height": 70
        },
        "id": "OkuFbJwadnqY",
        "outputId": "fd1871df-817f-4b1b-a5f7-a8756558db50"
      },
      "outputs": [
        {
          "output_type": "execute_result",
          "data": {
            "text/plain": [
              "'\\n                      Ekşın falan izlemek istiyorsanız eğer bunu izlemeyiin dostlarım keza ilk sahne hariç ekşın filmde yerini gittikçe duygusallığa bırakır.. Mathildanın Leonun evine geldiğinde ağladığı sahnede ben de ağlamış olabilirim.. Tamam olabilirim değil ağladım; ama sen de izle ağlarsın dostooom. \\r\\nEtkileyici bir film, sıkmıyor hiçbir salise boyunca sizi.\\r\\n\" Ben artık büyüdüm Leon, yaşlanıyorum. \"\\r\\n\" Hayat hep böyle zor mu, yoksa sadece çocukken mi? \"\\n        \\n            '"
            ],
            "application/vnd.google.colaboratory.intrinsic+json": {
              "type": "string"
            }
          },
          "metadata": {},
          "execution_count": 8
        }
      ],
      "source": [
        "df[\"comment\"][1]"
      ]
    },
    {
      "cell_type": "code",
      "execution_count": 9,
      "metadata": {
        "colab": {
          "base_uri": "https://localhost:8080/",
          "height": 35
        },
        "id": "-29qKawUfuBv",
        "outputId": "5b6e847f-b95d-4207-b0df-b6132f792639"
      },
      "outputs": [
        {
          "output_type": "execute_result",
          "data": {
            "text/plain": [
              "'\\n                      Jean Reno denince zaten leon filmi gelir akla izlemeyen kalmamıştır ama kaldıysada ee ne duruyorsun hemen izle :)\\n        \\n            '"
            ],
            "application/vnd.google.colaboratory.intrinsic+json": {
              "type": "string"
            }
          },
          "metadata": {},
          "execution_count": 9
        }
      ],
      "source": [
        "df[\"comment\"][0]"
      ]
    },
    {
      "cell_type": "code",
      "execution_count": 10,
      "metadata": {
        "colab": {
          "base_uri": "https://localhost:8080/"
        },
        "id": "TcHwL0Fffir5",
        "outputId": "3bbb4129-2539-4ec3-9cb5-e7a073f55eca"
      },
      "outputs": [
        {
          "output_type": "execute_result",
          "data": {
            "text/plain": [
              "0    Jean Reno denince zaten leon filmi gelir akla ...\n",
              "1    Ekşın falan izlemek istiyorsanız eğer bunu izl...\n",
              "2    Bu yapım hakkında öyle çok şey yazabilirim ki ...\n",
              "3    finali yeter... (sting - shape of my heart)\\r\\...\n",
              "4    Jean Reno..\\r\\nbu adam kusursuz biri..\\r\\nve o...\n",
              "Name: comment, dtype: object"
            ]
          },
          "metadata": {},
          "execution_count": 10
        }
      ],
      "source": [
        "## Yorumların başında 23 tane boşluk ve sonunda da 24 boşluk. \n",
        "## Baştaki 23 kararkteri atmak için 23 , sondaki 24 karakteri atmak için de -24 yazılır.\n",
        "\n",
        "comments = lambda x : x[23:-24]\n",
        "df[\"comment\"] = df[\"comment\"].apply(comments)\n",
        "df[\"comment\"].head()"
      ]
    },
    {
      "cell_type": "code",
      "execution_count": 11,
      "metadata": {
        "colab": {
          "base_uri": "https://localhost:8080/",
          "height": 53
        },
        "id": "-60tAFfGf-xq",
        "outputId": "010cd1ab-1bc6-46f9-a435-692b40bf9a7a"
      },
      "outputs": [
        {
          "output_type": "execute_result",
          "data": {
            "text/plain": [
              "'Ekşın falan izlemek istiyorsanız eğer bunu izlemeyiin dostlarım keza ilk sahne hariç ekşın filmde yerini gittikçe duygusallığa bırakır.. Mathildanın Leonun evine geldiğinde ağladığı sahnede ben de ağlamış olabilirim.. Tamam olabilirim değil ağladım; ama sen de izle ağlarsın dostooom. \\r\\nEtkileyici bir film, sıkmıyor hiçbir salise boyunca sizi.\\r\\n\" Ben artık büyüdüm Leon, yaşlanıyorum. \"\\r\\n\" Hayat hep böyle zor mu, yoksa sadece çocukken mi?'"
            ],
            "application/vnd.google.colaboratory.intrinsic+json": {
              "type": "string"
            }
          },
          "metadata": {},
          "execution_count": 11
        }
      ],
      "source": [
        "df[\"comment\"][1]"
      ]
    },
    {
      "cell_type": "code",
      "execution_count": 12,
      "metadata": {
        "colab": {
          "base_uri": "https://localhost:8080/",
          "height": 35
        },
        "id": "NBQsd98PgElR",
        "outputId": "e6883677-ed33-441a-e72c-b2ae498bbaf0"
      },
      "outputs": [
        {
          "output_type": "execute_result",
          "data": {
            "text/plain": [
              "'Jean Reno denince zaten leon filmi gelir akla izlemeyen kalmamıştır ama kaldıysada ee ne duruyorsun hemen izle '"
            ],
            "application/vnd.google.colaboratory.intrinsic+json": {
              "type": "string"
            }
          },
          "metadata": {},
          "execution_count": 12
        }
      ],
      "source": [
        "df['comment'][0]"
      ]
    },
    {
      "cell_type": "code",
      "execution_count": 13,
      "metadata": {
        "colab": {
          "base_uri": "https://localhost:8080/"
        },
        "id": "vi7sU9R5iyRx",
        "outputId": "f3810afc-0d1b-47c9-9615-481bd5ba8023"
      },
      "outputs": [
        {
          "output_type": "execute_result",
          "data": {
            "text/plain": [
              "0    jean reno denince zaten leon filmi gelir akla ...\n",
              "1    ekşın falan izlemek istiyorsanız eğer bunu izl...\n",
              "2    bu yapım hakkında öyle çok şey yazabilirim ki ...\n",
              "3    finali yeter... (sting - shape of my heart)\\r\\...\n",
              "4    jean reno..\\r\\nbu adam kusursuz biri..\\r\\nve o...\n",
              "Name: comment, dtype: object"
            ]
          },
          "metadata": {},
          "execution_count": 13
        }
      ],
      "source": [
        "df[\"comment\"] = df[\"comment\"].apply(lambda x: x.lower())\n",
        "df[\"comment\"].head()"
      ]
    },
    {
      "cell_type": "code",
      "execution_count": 14,
      "metadata": {
        "colab": {
          "base_uri": "https://localhost:8080/"
        },
        "id": "ShR4ZGoXiyOW",
        "outputId": "bf4d47a0-6750-43f8-9178-ffa5715ad99a"
      },
      "outputs": [
        {
          "output_type": "stream",
          "name": "stdout",
          "text": [
            "!\"#$%&'()*+,-./:;<=>?@[\\]^_`{|}~\n"
          ]
        }
      ],
      "source": [
        "import string\n",
        "print(string.punctuation)"
      ]
    },
    {
      "cell_type": "code",
      "execution_count": 15,
      "metadata": {
        "id": "ghtQDpiniyLQ"
      },
      "outputs": [],
      "source": [
        "## list1 = ['g','e','e','k', 's']\n",
        "## print(\"\".join(list1)) -> geeks\n",
        "\n",
        "    \n",
        "def remove_punctuation(text):\n",
        "    no_punc =  []\n",
        "    for words in text :                        ## words burada her bir karakteri simgeliyor (boşluklar da dahil)\n",
        "        if words not in string.punctuation :\n",
        "            no_punc.append(words)\n",
        "    word_wo_punc = \"\".join(no_punc)            ## no_punc array'i tekrardan bir string haline getiriliyor.\n",
        "    return word_wo_punc"
      ]
    },
    {
      "cell_type": "code",
      "execution_count": 16,
      "metadata": {
        "colab": {
          "base_uri": "https://localhost:8080/"
        },
        "id": "gsP4d_ZHiyGv",
        "outputId": "7e36ec37-1989-48e7-df06-315b78ce3d1c"
      },
      "outputs": [
        {
          "output_type": "execute_result",
          "data": {
            "text/plain": [
              "0    jean reno denince zaten leon filmi gelir akla ...\n",
              "1    ekşın falan izlemek istiyorsanız eğer bunu izl...\n",
              "2    bu yapım hakkında öyle çok şey yazabilirim ki ...\n",
              "3    finali yeter sting  shape of my heart\\r\\n\\r\\nb...\n",
              "4    jean reno\\r\\nbu adam kusursuz biri\\r\\nve oyunc...\n",
              "Name: comment, dtype: object"
            ]
          },
          "metadata": {},
          "execution_count": 16
        }
      ],
      "source": [
        "df[\"comment\"] = df[\"comment\"].apply(lambda x: remove_punctuation(x))\n",
        "df[\"comment\"].head()"
      ]
    },
    {
      "cell_type": "code",
      "execution_count": 17,
      "metadata": {
        "id": "ULfsitl_iyDV"
      },
      "outputs": [],
      "source": [
        "df[\"comment\"] = df[\"comment\"].apply(lambda x: x.replace(\"\\r\", \" \"))\n",
        "df[\"comment\"] = df[\"comment\"].apply(lambda x: x.replace(\"\\n\", \" \"))"
      ]
    },
    {
      "cell_type": "code",
      "execution_count": 18,
      "metadata": {
        "colab": {
          "base_uri": "https://localhost:8080/"
        },
        "id": "XlmaGaGpiyAO",
        "outputId": "68417541-e353-4668-cd1b-df2ab8142c9c"
      },
      "outputs": [
        {
          "output_type": "execute_result",
          "data": {
            "text/plain": [
              "0    jean reno denince zaten leon filmi gelir akla ...\n",
              "1    ekşın falan izlemek istiyorsanız eğer bunu izl...\n",
              "2    bu yapım hakkında öyle çok şey yazabilirim ki ...\n",
              "3    finali yeter sting  shape of my heart    bazıl...\n",
              "4    jean reno  bu adam kusursuz biri  ve oyunculug...\n",
              "Name: comment, dtype: object"
            ]
          },
          "metadata": {},
          "execution_count": 18
        }
      ],
      "source": [
        "df[\"comment\"].head()"
      ]
    },
    {
      "cell_type": "code",
      "execution_count": 19,
      "metadata": {
        "id": "P2sOM1TBNoQI"
      },
      "outputs": [],
      "source": [
        "def remove_numeric(text):\n",
        "    no_numeric =  []\n",
        "    for words in text :                        ## words burada her bir karakteri simgeliyor (boşluklar da dahil)\n",
        "        if  words.isdigit() == False :\n",
        "            no_numeric.append(words)\n",
        "    output = \"\".join(no_numeric)               ## no_numeric array'i tekrardan bir string haline getiriliyor.\n",
        "    return output"
      ]
    },
    {
      "cell_type": "code",
      "execution_count": 20,
      "metadata": {
        "colab": {
          "base_uri": "https://localhost:8080/",
          "height": 87
        },
        "id": "TihviG8vO204",
        "outputId": "cc782eaf-bb01-4de6-ae93-d2a102aa25da"
      },
      "outputs": [
        {
          "output_type": "execute_result",
          "data": {
            "text/plain": [
              "'bir tarafta ailesini sevmeyen ve kötü alışkanlıkarı olan 12 yaşında bir kız bir tarafta çok yalnız tek aktivitesi adam öldürüp evde spor yapmak olan cahil olduğu kadar da zeki ve karizmatik olan bir suikastçi  i̇zledikten sonra yaklaşık 1 gün boyunca etkisinden çıkamadığım her aklıma geldiğinde ne filmdi be diye iç geçirdiğim başyapıttır beğenmediğim pek bir tarafı yok  senaryonun orjinalinde mathildanın aşkına leon da karşılık veriyor ve sevgili oluyorlar ama kızın ailesi bu senaryoyu reddettikleri için değiştiriliyor senaryo değişmeseydi nasıl olurdu merak etmiyor değilim sübyancı bir leon bu kadar karizmatik olurmuydu acaba kız 12 değil 22 yaşında gibiydi oyunculuklar muhteşemdi leonun kızı eğitme sahneleride çok iyiydi kızın ailesinin ölümü üzerine leonun zilini çalıp lütfen aç diye sessizce ağlama sahnesinde heycanım zirve yapmıştı güzel bir filmdi izlemenizi tavsiye ederi'"
            ],
            "application/vnd.google.colaboratory.intrinsic+json": {
              "type": "string"
            }
          },
          "metadata": {},
          "execution_count": 20
        }
      ],
      "source": [
        "df[\"comment\"][12]"
      ]
    },
    {
      "cell_type": "code",
      "execution_count": 21,
      "metadata": {
        "colab": {
          "base_uri": "https://localhost:8080/",
          "height": 87
        },
        "id": "ih7lOD5vOP3W",
        "outputId": "b4c2a3cc-15f0-49a6-9363-a915c286b93d"
      },
      "outputs": [
        {
          "output_type": "execute_result",
          "data": {
            "text/plain": [
              "'bir tarafta ailesini sevmeyen ve kötü alışkanlıkarı olan  yaşında bir kız bir tarafta çok yalnız tek aktivitesi adam öldürüp evde spor yapmak olan cahil olduğu kadar da zeki ve karizmatik olan bir suikastçi  i̇zledikten sonra yaklaşık  gün boyunca etkisinden çıkamadığım her aklıma geldiğinde ne filmdi be diye iç geçirdiğim başyapıttır beğenmediğim pek bir tarafı yok  senaryonun orjinalinde mathildanın aşkına leon da karşılık veriyor ve sevgili oluyorlar ama kızın ailesi bu senaryoyu reddettikleri için değiştiriliyor senaryo değişmeseydi nasıl olurdu merak etmiyor değilim sübyancı bir leon bu kadar karizmatik olurmuydu acaba kız  değil  yaşında gibiydi oyunculuklar muhteşemdi leonun kızı eğitme sahneleride çok iyiydi kızın ailesinin ölümü üzerine leonun zilini çalıp lütfen aç diye sessizce ağlama sahnesinde heycanım zirve yapmıştı güzel bir filmdi izlemenizi tavsiye ederi'"
            ],
            "application/vnd.google.colaboratory.intrinsic+json": {
              "type": "string"
            }
          },
          "metadata": {},
          "execution_count": 21
        }
      ],
      "source": [
        "df[\"comment\"] = df[\"comment\"].apply(lambda x: remove_numeric(x)) \n",
        "df[\"comment\"][12]"
      ]
    },
    {
      "cell_type": "code",
      "source": [
        "df.comment.duplicated(keep=\"first\").value_counts()"
      ],
      "metadata": {
        "colab": {
          "base_uri": "https://localhost:8080/"
        },
        "id": "WX24sEY5zCOD",
        "outputId": "1c3801f1-48dc-49e3-de45-07055f8c474b"
      },
      "execution_count": 22,
      "outputs": [
        {
          "output_type": "execute_result",
          "data": {
            "text/plain": [
              "False    82275\n",
              "True       952\n",
              "Name: comment, dtype: int64"
            ]
          },
          "metadata": {},
          "execution_count": 22
        }
      ]
    },
    {
      "cell_type": "code",
      "source": [
        "## 952 tane aynı yorumu içeren satırlarımız olduğundan bunları silip yeniden index vereceğiz.\n",
        "\n",
        "df.drop_duplicates(subset=\"comment\",keep=\"first\",inplace=True,ignore_index=True)\n",
        "df.tail()"
      ],
      "metadata": {
        "colab": {
          "base_uri": "https://localhost:8080/",
          "height": 206
        },
        "id": "su3_tW-v0fqL",
        "outputId": "6c3b3d0d-89f6-4ca3-ddbe-9b2f9da9fe03"
      },
      "execution_count": 23,
      "outputs": [
        {
          "output_type": "execute_result",
          "data": {
            "text/plain": [
              "                                                 comment  \\\n",
              "82270  böyle bi kadrodan bçyle bi film ne denebilir k...   \n",
              "82271  yani bu kaar ii oyuncalrın ve yönetmenin  nası...   \n",
              "82272  bugün dvdsini alıp izledim ama inanılmaz kötü ...   \n",
              "82273                            klasik korku ve gerilim   \n",
              "82274  bence gereğinden fazla bir eleştiri aldığını d...   \n",
              "\n",
              "                          film_name point  \n",
              "82270                         Kabus   2,5  \n",
              "82271                         Kabus   2,5  \n",
              "82272                         Kabus   1,0  \n",
              "82273                         Kabus   4,0  \n",
              "82274  Bir Zamanlar... Hollywood'da   4,6  "
            ],
            "text/html": [
              "\n",
              "  <div id=\"df-1d8a3aae-e5a8-4c72-abf8-6f693664e421\">\n",
              "    <div class=\"colab-df-container\">\n",
              "      <div>\n",
              "<style scoped>\n",
              "    .dataframe tbody tr th:only-of-type {\n",
              "        vertical-align: middle;\n",
              "    }\n",
              "\n",
              "    .dataframe tbody tr th {\n",
              "        vertical-align: top;\n",
              "    }\n",
              "\n",
              "    .dataframe thead th {\n",
              "        text-align: right;\n",
              "    }\n",
              "</style>\n",
              "<table border=\"1\" class=\"dataframe\">\n",
              "  <thead>\n",
              "    <tr style=\"text-align: right;\">\n",
              "      <th></th>\n",
              "      <th>comment</th>\n",
              "      <th>film_name</th>\n",
              "      <th>point</th>\n",
              "    </tr>\n",
              "  </thead>\n",
              "  <tbody>\n",
              "    <tr>\n",
              "      <th>82270</th>\n",
              "      <td>böyle bi kadrodan bçyle bi film ne denebilir k...</td>\n",
              "      <td>Kabus</td>\n",
              "      <td>2,5</td>\n",
              "    </tr>\n",
              "    <tr>\n",
              "      <th>82271</th>\n",
              "      <td>yani bu kaar ii oyuncalrın ve yönetmenin  nası...</td>\n",
              "      <td>Kabus</td>\n",
              "      <td>2,5</td>\n",
              "    </tr>\n",
              "    <tr>\n",
              "      <th>82272</th>\n",
              "      <td>bugün dvdsini alıp izledim ama inanılmaz kötü ...</td>\n",
              "      <td>Kabus</td>\n",
              "      <td>1,0</td>\n",
              "    </tr>\n",
              "    <tr>\n",
              "      <th>82273</th>\n",
              "      <td>klasik korku ve gerilim</td>\n",
              "      <td>Kabus</td>\n",
              "      <td>4,0</td>\n",
              "    </tr>\n",
              "    <tr>\n",
              "      <th>82274</th>\n",
              "      <td>bence gereğinden fazla bir eleştiri aldığını d...</td>\n",
              "      <td>Bir Zamanlar... Hollywood'da</td>\n",
              "      <td>4,6</td>\n",
              "    </tr>\n",
              "  </tbody>\n",
              "</table>\n",
              "</div>\n",
              "      <button class=\"colab-df-convert\" onclick=\"convertToInteractive('df-1d8a3aae-e5a8-4c72-abf8-6f693664e421')\"\n",
              "              title=\"Convert this dataframe to an interactive table.\"\n",
              "              style=\"display:none;\">\n",
              "        \n",
              "  <svg xmlns=\"http://www.w3.org/2000/svg\" height=\"24px\"viewBox=\"0 0 24 24\"\n",
              "       width=\"24px\">\n",
              "    <path d=\"M0 0h24v24H0V0z\" fill=\"none\"/>\n",
              "    <path d=\"M18.56 5.44l.94 2.06.94-2.06 2.06-.94-2.06-.94-.94-2.06-.94 2.06-2.06.94zm-11 1L8.5 8.5l.94-2.06 2.06-.94-2.06-.94L8.5 2.5l-.94 2.06-2.06.94zm10 10l.94 2.06.94-2.06 2.06-.94-2.06-.94-.94-2.06-.94 2.06-2.06.94z\"/><path d=\"M17.41 7.96l-1.37-1.37c-.4-.4-.92-.59-1.43-.59-.52 0-1.04.2-1.43.59L10.3 9.45l-7.72 7.72c-.78.78-.78 2.05 0 2.83L4 21.41c.39.39.9.59 1.41.59.51 0 1.02-.2 1.41-.59l7.78-7.78 2.81-2.81c.8-.78.8-2.07 0-2.86zM5.41 20L4 18.59l7.72-7.72 1.47 1.35L5.41 20z\"/>\n",
              "  </svg>\n",
              "      </button>\n",
              "      \n",
              "  <style>\n",
              "    .colab-df-container {\n",
              "      display:flex;\n",
              "      flex-wrap:wrap;\n",
              "      gap: 12px;\n",
              "    }\n",
              "\n",
              "    .colab-df-convert {\n",
              "      background-color: #E8F0FE;\n",
              "      border: none;\n",
              "      border-radius: 50%;\n",
              "      cursor: pointer;\n",
              "      display: none;\n",
              "      fill: #1967D2;\n",
              "      height: 32px;\n",
              "      padding: 0 0 0 0;\n",
              "      width: 32px;\n",
              "    }\n",
              "\n",
              "    .colab-df-convert:hover {\n",
              "      background-color: #E2EBFA;\n",
              "      box-shadow: 0px 1px 2px rgba(60, 64, 67, 0.3), 0px 1px 3px 1px rgba(60, 64, 67, 0.15);\n",
              "      fill: #174EA6;\n",
              "    }\n",
              "\n",
              "    [theme=dark] .colab-df-convert {\n",
              "      background-color: #3B4455;\n",
              "      fill: #D2E3FC;\n",
              "    }\n",
              "\n",
              "    [theme=dark] .colab-df-convert:hover {\n",
              "      background-color: #434B5C;\n",
              "      box-shadow: 0px 1px 3px 1px rgba(0, 0, 0, 0.15);\n",
              "      filter: drop-shadow(0px 1px 2px rgba(0, 0, 0, 0.3));\n",
              "      fill: #FFFFFF;\n",
              "    }\n",
              "  </style>\n",
              "\n",
              "      <script>\n",
              "        const buttonEl =\n",
              "          document.querySelector('#df-1d8a3aae-e5a8-4c72-abf8-6f693664e421 button.colab-df-convert');\n",
              "        buttonEl.style.display =\n",
              "          google.colab.kernel.accessAllowed ? 'block' : 'none';\n",
              "\n",
              "        async function convertToInteractive(key) {\n",
              "          const element = document.querySelector('#df-1d8a3aae-e5a8-4c72-abf8-6f693664e421');\n",
              "          const dataTable =\n",
              "            await google.colab.kernel.invokeFunction('convertToInteractive',\n",
              "                                                     [key], {});\n",
              "          if (!dataTable) return;\n",
              "\n",
              "          const docLinkHtml = 'Like what you see? Visit the ' +\n",
              "            '<a target=\"_blank\" href=https://colab.research.google.com/notebooks/data_table.ipynb>data table notebook</a>'\n",
              "            + ' to learn more about interactive tables.';\n",
              "          element.innerHTML = '';\n",
              "          dataTable['output_type'] = 'display_data';\n",
              "          await google.colab.output.renderOutput(dataTable, element);\n",
              "          const docLink = document.createElement('div');\n",
              "          docLink.innerHTML = docLinkHtml;\n",
              "          element.appendChild(docLink);\n",
              "        }\n",
              "      </script>\n",
              "    </div>\n",
              "  </div>\n",
              "  "
            ]
          },
          "metadata": {},
          "execution_count": 23
        }
      ]
    },
    {
      "cell_type": "markdown",
      "metadata": {
        "id": "k_q0-KD5iiLF"
      },
      "source": [
        "**Puan Sütununun Düzenlenmesi**"
      ]
    },
    {
      "cell_type": "code",
      "execution_count": 24,
      "metadata": {
        "colab": {
          "base_uri": "https://localhost:8080/"
        },
        "id": "ywnk2YJyhiiV",
        "outputId": "b7fe72c0-eb35-4182-d53a-671b8d4e924c"
      },
      "outputs": [
        {
          "output_type": "execute_result",
          "data": {
            "text/plain": [
              "0    5,0\n",
              "1    5,0\n",
              "2    5,0\n",
              "3    5,0\n",
              "4    5,0\n",
              "Name: point, dtype: object"
            ]
          },
          "metadata": {},
          "execution_count": 24
        }
      ],
      "source": [
        "df[\"point\"].head()"
      ]
    },
    {
      "cell_type": "code",
      "execution_count": 25,
      "metadata": {
        "colab": {
          "base_uri": "https://localhost:8080/"
        },
        "id": "C4Oe5epjkWpT",
        "outputId": "320d3922-4712-4214-b386-d104d963fe8f"
      },
      "outputs": [
        {
          "output_type": "stream",
          "name": "stdout",
          "text": [
            ",\n"
          ]
        }
      ],
      "source": [
        "x_deneme = df[\"point\"][0]\n",
        "y = x_deneme[1]\n",
        "print(y)"
      ]
    },
    {
      "cell_type": "code",
      "execution_count": 26,
      "metadata": {
        "id": "2hu2c-NQoSCD"
      },
      "outputs": [],
      "source": [
        "## Puan kısmı x.0 değil yani sayı olarak algılamıyor bilgisiyar bu sütunu. df.info() komutunda da bu durum gözüküyor.\n",
        "## at = df[\"point\"][0][1]\n",
        "## print(at)  ##,\n",
        "## df[\"point\"][0] = df[\"point\"][0][0]+ df[\"point\"][0][2] \n",
        "## print(df[\"point\"][0]) ##50"
      ]
    },
    {
      "cell_type": "code",
      "execution_count": 27,
      "metadata": {
        "colab": {
          "base_uri": "https://localhost:8080/"
        },
        "id": "D99j2ea4h5Kr",
        "outputId": "b549f3b5-2531-4ddb-c9a9-080420230837"
      },
      "outputs": [
        {
          "output_type": "execute_result",
          "data": {
            "text/plain": [
              "0    50\n",
              "1    50\n",
              "2    50\n",
              "3    50\n",
              "4    50\n",
              "Name: point, dtype: object"
            ]
          },
          "metadata": {},
          "execution_count": 27
        }
      ],
      "source": [
        "## Puan kısmı x.0 değil yani sayı olarak algılamıyor bilgisiyar bu sütunu. df.info() komutunda da bu durum gözüküyor.\n",
        "get_rid_of_comma = lambda x : x[0]+x[2]\n",
        "df[\"point\"] = df[\"point\"].apply(get_rid_of_comma)\n",
        "df[\"point\"].head()"
      ]
    },
    {
      "cell_type": "code",
      "execution_count": 28,
      "metadata": {
        "colab": {
          "base_uri": "https://localhost:8080/"
        },
        "id": "6yM7TTAejFlE",
        "outputId": "d9132d1e-f07c-404c-8835-699356601711"
      },
      "outputs": [
        {
          "output_type": "execute_result",
          "data": {
            "text/plain": [
              "82270    25\n",
              "82271    25\n",
              "82272    10\n",
              "82273    40\n",
              "82274    46\n",
              "Name: point, dtype: object"
            ]
          },
          "metadata": {},
          "execution_count": 28
        }
      ],
      "source": [
        "df[\"point\"].tail()"
      ]
    },
    {
      "cell_type": "code",
      "execution_count": 29,
      "metadata": {
        "colab": {
          "base_uri": "https://localhost:8080/"
        },
        "id": "_g7cScFpqJ1f",
        "outputId": "b2b532f5-68e0-48b0-e017-c672999a9293"
      },
      "outputs": [
        {
          "output_type": "execute_result",
          "data": {
            "text/plain": [
              "82270    25.0\n",
              "82271    25.0\n",
              "82272    10.0\n",
              "82273    40.0\n",
              "82274    46.0\n",
              "Name: point, dtype: float64"
            ]
          },
          "metadata": {},
          "execution_count": 29
        }
      ],
      "source": [
        "integer = lambda x : float(x)\n",
        "df[\"point\"] = df[\"point\"].apply(integer)\n",
        "df[\"point\"].tail()"
      ]
    },
    {
      "cell_type": "code",
      "execution_count": 30,
      "metadata": {
        "colab": {
          "base_uri": "https://localhost:8080/"
        },
        "id": "Tn-s9U3Eqb_V",
        "outputId": "7974e1c0-35ea-47e5-c2da-9714657abbca"
      },
      "outputs": [
        {
          "output_type": "execute_result",
          "data": {
            "text/plain": [
              "82270    2.5\n",
              "82271    2.5\n",
              "82272    1.0\n",
              "82273    4.0\n",
              "82274    4.6\n",
              "Name: point, dtype: float64"
            ]
          },
          "metadata": {},
          "execution_count": 30
        }
      ],
      "source": [
        "back_to_real_value = lambda x : (x/10)\n",
        "df[\"point\"] = df[\"point\"].apply(back_to_real_value)\n",
        "df[\"point\"].tail()"
      ]
    },
    {
      "cell_type": "code",
      "execution_count": 31,
      "metadata": {
        "colab": {
          "base_uri": "https://localhost:8080/"
        },
        "id": "U83ZGs5uhaKL",
        "outputId": "e7ffab23-db5e-47d9-9368-fb608f052ed7"
      },
      "outputs": [
        {
          "output_type": "execute_result",
          "data": {
            "text/plain": [
              "array([5. , 3.5, 4.5, 2.5, 2. , 3. , 4. , 1.5, 0.5, 1. , 4.6, 3.9, 3.8,\n",
              "       3.7, 3.2, 3.1])"
            ]
          },
          "metadata": {},
          "execution_count": 31
        }
      ],
      "source": [
        "df[\"point\"].unique()"
      ]
    },
    {
      "cell_type": "code",
      "source": [
        "df[df[\"point\"]==0.5]"
      ],
      "metadata": {
        "colab": {
          "base_uri": "https://localhost:8080/",
          "height": 424
        },
        "id": "RVQCn4PSeCrI",
        "outputId": "94f5ea1f-667d-4654-9a51-966effe84166"
      },
      "execution_count": 32,
      "outputs": [
        {
          "output_type": "execute_result",
          "data": {
            "text/plain": [
              "                                                 comment  \\\n",
              "72     öncelikle bu filmi bu kadar abartanlara seslen...   \n",
              "73     basit bir senaryo kafa karıştırmaya yönelik re...   \n",
              "74     konu mükemmeloyunculuk iyigörsellik çok iyifil...   \n",
              "75     daha önceden yazdığım neden yayınlanmamış nede...   \n",
              "76     kral çıplaki̇yi bir kurgu ve sıradan bir film ...   \n",
              "...                                                  ...   \n",
              "82234  kadroya ve yönetmene aldanıp gittim dolandırıl...   \n",
              "82243  kötü filmgerçekten çok kötüyani öyle böyle değ...   \n",
              "82246  bu kadar vasat bir film olacağını tahmin etmiy...   \n",
              "82253  iğrenç bir film ortada ne olduğunu bile anlama...   \n",
              "82264  türkçe ismine yakışan kabus gibi bir filmdikor...   \n",
              "\n",
              "                          film_name  point  \n",
              "72                        Başlangıç    0.5  \n",
              "73                        Başlangıç    0.5  \n",
              "74                        Başlangıç    0.5  \n",
              "75                        Başlangıç    0.5  \n",
              "76                        Başlangıç    0.5  \n",
              "...                             ...    ...  \n",
              "82234  Bir Zamanlar... Hollywood'da    0.5  \n",
              "82243                  Ölüm Bekçisi    0.5  \n",
              "82246                  Ölüm Bekçisi    0.5  \n",
              "82253                  Ölüm Bekçisi    0.5  \n",
              "82264                         Kabus    0.5  \n",
              "\n",
              "[5052 rows x 3 columns]"
            ],
            "text/html": [
              "\n",
              "  <div id=\"df-2aad79dc-2f94-466d-943e-3d024f2995a5\">\n",
              "    <div class=\"colab-df-container\">\n",
              "      <div>\n",
              "<style scoped>\n",
              "    .dataframe tbody tr th:only-of-type {\n",
              "        vertical-align: middle;\n",
              "    }\n",
              "\n",
              "    .dataframe tbody tr th {\n",
              "        vertical-align: top;\n",
              "    }\n",
              "\n",
              "    .dataframe thead th {\n",
              "        text-align: right;\n",
              "    }\n",
              "</style>\n",
              "<table border=\"1\" class=\"dataframe\">\n",
              "  <thead>\n",
              "    <tr style=\"text-align: right;\">\n",
              "      <th></th>\n",
              "      <th>comment</th>\n",
              "      <th>film_name</th>\n",
              "      <th>point</th>\n",
              "    </tr>\n",
              "  </thead>\n",
              "  <tbody>\n",
              "    <tr>\n",
              "      <th>72</th>\n",
              "      <td>öncelikle bu filmi bu kadar abartanlara seslen...</td>\n",
              "      <td>Başlangıç</td>\n",
              "      <td>0.5</td>\n",
              "    </tr>\n",
              "    <tr>\n",
              "      <th>73</th>\n",
              "      <td>basit bir senaryo kafa karıştırmaya yönelik re...</td>\n",
              "      <td>Başlangıç</td>\n",
              "      <td>0.5</td>\n",
              "    </tr>\n",
              "    <tr>\n",
              "      <th>74</th>\n",
              "      <td>konu mükemmeloyunculuk iyigörsellik çok iyifil...</td>\n",
              "      <td>Başlangıç</td>\n",
              "      <td>0.5</td>\n",
              "    </tr>\n",
              "    <tr>\n",
              "      <th>75</th>\n",
              "      <td>daha önceden yazdığım neden yayınlanmamış nede...</td>\n",
              "      <td>Başlangıç</td>\n",
              "      <td>0.5</td>\n",
              "    </tr>\n",
              "    <tr>\n",
              "      <th>76</th>\n",
              "      <td>kral çıplaki̇yi bir kurgu ve sıradan bir film ...</td>\n",
              "      <td>Başlangıç</td>\n",
              "      <td>0.5</td>\n",
              "    </tr>\n",
              "    <tr>\n",
              "      <th>...</th>\n",
              "      <td>...</td>\n",
              "      <td>...</td>\n",
              "      <td>...</td>\n",
              "    </tr>\n",
              "    <tr>\n",
              "      <th>82234</th>\n",
              "      <td>kadroya ve yönetmene aldanıp gittim dolandırıl...</td>\n",
              "      <td>Bir Zamanlar... Hollywood'da</td>\n",
              "      <td>0.5</td>\n",
              "    </tr>\n",
              "    <tr>\n",
              "      <th>82243</th>\n",
              "      <td>kötü filmgerçekten çok kötüyani öyle böyle değ...</td>\n",
              "      <td>Ölüm Bekçisi</td>\n",
              "      <td>0.5</td>\n",
              "    </tr>\n",
              "    <tr>\n",
              "      <th>82246</th>\n",
              "      <td>bu kadar vasat bir film olacağını tahmin etmiy...</td>\n",
              "      <td>Ölüm Bekçisi</td>\n",
              "      <td>0.5</td>\n",
              "    </tr>\n",
              "    <tr>\n",
              "      <th>82253</th>\n",
              "      <td>iğrenç bir film ortada ne olduğunu bile anlama...</td>\n",
              "      <td>Ölüm Bekçisi</td>\n",
              "      <td>0.5</td>\n",
              "    </tr>\n",
              "    <tr>\n",
              "      <th>82264</th>\n",
              "      <td>türkçe ismine yakışan kabus gibi bir filmdikor...</td>\n",
              "      <td>Kabus</td>\n",
              "      <td>0.5</td>\n",
              "    </tr>\n",
              "  </tbody>\n",
              "</table>\n",
              "<p>5052 rows × 3 columns</p>\n",
              "</div>\n",
              "      <button class=\"colab-df-convert\" onclick=\"convertToInteractive('df-2aad79dc-2f94-466d-943e-3d024f2995a5')\"\n",
              "              title=\"Convert this dataframe to an interactive table.\"\n",
              "              style=\"display:none;\">\n",
              "        \n",
              "  <svg xmlns=\"http://www.w3.org/2000/svg\" height=\"24px\"viewBox=\"0 0 24 24\"\n",
              "       width=\"24px\">\n",
              "    <path d=\"M0 0h24v24H0V0z\" fill=\"none\"/>\n",
              "    <path d=\"M18.56 5.44l.94 2.06.94-2.06 2.06-.94-2.06-.94-.94-2.06-.94 2.06-2.06.94zm-11 1L8.5 8.5l.94-2.06 2.06-.94-2.06-.94L8.5 2.5l-.94 2.06-2.06.94zm10 10l.94 2.06.94-2.06 2.06-.94-2.06-.94-.94-2.06-.94 2.06-2.06.94z\"/><path d=\"M17.41 7.96l-1.37-1.37c-.4-.4-.92-.59-1.43-.59-.52 0-1.04.2-1.43.59L10.3 9.45l-7.72 7.72c-.78.78-.78 2.05 0 2.83L4 21.41c.39.39.9.59 1.41.59.51 0 1.02-.2 1.41-.59l7.78-7.78 2.81-2.81c.8-.78.8-2.07 0-2.86zM5.41 20L4 18.59l7.72-7.72 1.47 1.35L5.41 20z\"/>\n",
              "  </svg>\n",
              "      </button>\n",
              "      \n",
              "  <style>\n",
              "    .colab-df-container {\n",
              "      display:flex;\n",
              "      flex-wrap:wrap;\n",
              "      gap: 12px;\n",
              "    }\n",
              "\n",
              "    .colab-df-convert {\n",
              "      background-color: #E8F0FE;\n",
              "      border: none;\n",
              "      border-radius: 50%;\n",
              "      cursor: pointer;\n",
              "      display: none;\n",
              "      fill: #1967D2;\n",
              "      height: 32px;\n",
              "      padding: 0 0 0 0;\n",
              "      width: 32px;\n",
              "    }\n",
              "\n",
              "    .colab-df-convert:hover {\n",
              "      background-color: #E2EBFA;\n",
              "      box-shadow: 0px 1px 2px rgba(60, 64, 67, 0.3), 0px 1px 3px 1px rgba(60, 64, 67, 0.15);\n",
              "      fill: #174EA6;\n",
              "    }\n",
              "\n",
              "    [theme=dark] .colab-df-convert {\n",
              "      background-color: #3B4455;\n",
              "      fill: #D2E3FC;\n",
              "    }\n",
              "\n",
              "    [theme=dark] .colab-df-convert:hover {\n",
              "      background-color: #434B5C;\n",
              "      box-shadow: 0px 1px 3px 1px rgba(0, 0, 0, 0.15);\n",
              "      filter: drop-shadow(0px 1px 2px rgba(0, 0, 0, 0.3));\n",
              "      fill: #FFFFFF;\n",
              "    }\n",
              "  </style>\n",
              "\n",
              "      <script>\n",
              "        const buttonEl =\n",
              "          document.querySelector('#df-2aad79dc-2f94-466d-943e-3d024f2995a5 button.colab-df-convert');\n",
              "        buttonEl.style.display =\n",
              "          google.colab.kernel.accessAllowed ? 'block' : 'none';\n",
              "\n",
              "        async function convertToInteractive(key) {\n",
              "          const element = document.querySelector('#df-2aad79dc-2f94-466d-943e-3d024f2995a5');\n",
              "          const dataTable =\n",
              "            await google.colab.kernel.invokeFunction('convertToInteractive',\n",
              "                                                     [key], {});\n",
              "          if (!dataTable) return;\n",
              "\n",
              "          const docLinkHtml = 'Like what you see? Visit the ' +\n",
              "            '<a target=\"_blank\" href=https://colab.research.google.com/notebooks/data_table.ipynb>data table notebook</a>'\n",
              "            + ' to learn more about interactive tables.';\n",
              "          element.innerHTML = '';\n",
              "          dataTable['output_type'] = 'display_data';\n",
              "          await google.colab.output.renderOutput(dataTable, element);\n",
              "          const docLink = document.createElement('div');\n",
              "          docLink.innerHTML = docLinkHtml;\n",
              "          element.appendChild(docLink);\n",
              "        }\n",
              "      </script>\n",
              "    </div>\n",
              "  </div>\n",
              "  "
            ]
          },
          "metadata": {},
          "execution_count": 32
        }
      ]
    },
    {
      "cell_type": "code",
      "execution_count": 33,
      "metadata": {
        "colab": {
          "base_uri": "https://localhost:8080/"
        },
        "id": "ecLtru06iFYo",
        "outputId": "b37cc6b8-f69b-44fa-ab56-c63250750f60"
      },
      "outputs": [
        {
          "output_type": "execute_result",
          "data": {
            "text/plain": [
              "16"
            ]
          },
          "metadata": {},
          "execution_count": 33
        }
      ],
      "source": [
        "len(df[\"point\"].unique())"
      ]
    },
    {
      "cell_type": "markdown",
      "metadata": {
        "id": "trSkEqpgQA87"
      },
      "source": [
        "**Film Sütunu**"
      ]
    },
    {
      "cell_type": "code",
      "execution_count": 34,
      "metadata": {
        "colab": {
          "base_uri": "https://localhost:8080/"
        },
        "id": "2RxwUzzuiJlA",
        "outputId": "d4252f30-5245-4e65-cae8-a55c14def158"
      },
      "outputs": [
        {
          "output_type": "execute_result",
          "data": {
            "text/plain": [
              "array(['Sevginin Gücü', 'Teksas Katliamı 3D', 'Baba 3', ..., 'Marid',\n",
              "       \"Bir Zamanlar... Hollywood'da\", 'Ölüm Bekçisi'], dtype=object)"
            ]
          },
          "metadata": {},
          "execution_count": 34
        }
      ],
      "source": [
        "df[\"film_name\"].unique()"
      ]
    },
    {
      "cell_type": "code",
      "execution_count": 35,
      "metadata": {
        "colab": {
          "base_uri": "https://localhost:8080/"
        },
        "id": "YDlCCAdHQdLc",
        "outputId": "9f244318-bd93-4c38-a928-1b606c865eab"
      },
      "outputs": [
        {
          "output_type": "execute_result",
          "data": {
            "text/plain": [
              "7710"
            ]
          },
          "metadata": {},
          "execution_count": 35
        }
      ],
      "source": [
        "len(df[\"film_name\"].unique())"
      ]
    },
    {
      "cell_type": "code",
      "execution_count": 36,
      "metadata": {
        "colab": {
          "base_uri": "https://localhost:8080/"
        },
        "id": "-avYSloUYycB",
        "outputId": "4f463362-fa3c-44e7-e153-1dc4ce5750ee"
      },
      "outputs": [
        {
          "output_type": "execute_result",
          "data": {
            "text/plain": [
              "Kapan                  89\n",
              "Köstebek               76\n",
              "Cinnet                 63\n",
              "Deney                  60\n",
              "Şüphe                  53\n",
              "                       ..\n",
              "Me and Orson Welles     1\n",
              "Born In China           1\n",
              "Çinli Kız               1\n",
              "Kursk                   1\n",
              "Yeti Efsanesi           1\n",
              "Name: film_name, Length: 7710, dtype: int64"
            ]
          },
          "metadata": {},
          "execution_count": 36
        }
      ],
      "source": [
        "df.film_name.value_counts()"
      ]
    },
    {
      "cell_type": "code",
      "execution_count": 37,
      "metadata": {
        "colab": {
          "base_uri": "https://localhost:8080/",
          "height": 206
        },
        "id": "Lnf9mwxgTdvh",
        "outputId": "47125744-d986-441b-d46c-62f9abae0ab4"
      },
      "outputs": [
        {
          "output_type": "execute_result",
          "data": {
            "text/plain": [
              "                                             comment      film_name  point\n",
              "0  jean reno denince zaten leon filmi gelir akla ...  Sevginin Gücü    5.0\n",
              "1  ekşın falan izlemek istiyorsanız eğer bunu izl...  Sevginin Gücü    5.0\n",
              "2  bu yapım hakkında öyle çok şey yazabilirim ki ...  Sevginin Gücü    5.0\n",
              "3  finali yeter sting  shape of my heart    bazıl...  Sevginin Gücü    5.0\n",
              "4  jean reno  bu adam kusursuz biri  ve oyunculug...  Sevginin Gücü    5.0"
            ],
            "text/html": [
              "\n",
              "  <div id=\"df-7bd7bfe8-fc7a-4d2d-b3df-91cfbd744178\">\n",
              "    <div class=\"colab-df-container\">\n",
              "      <div>\n",
              "<style scoped>\n",
              "    .dataframe tbody tr th:only-of-type {\n",
              "        vertical-align: middle;\n",
              "    }\n",
              "\n",
              "    .dataframe tbody tr th {\n",
              "        vertical-align: top;\n",
              "    }\n",
              "\n",
              "    .dataframe thead th {\n",
              "        text-align: right;\n",
              "    }\n",
              "</style>\n",
              "<table border=\"1\" class=\"dataframe\">\n",
              "  <thead>\n",
              "    <tr style=\"text-align: right;\">\n",
              "      <th></th>\n",
              "      <th>comment</th>\n",
              "      <th>film_name</th>\n",
              "      <th>point</th>\n",
              "    </tr>\n",
              "  </thead>\n",
              "  <tbody>\n",
              "    <tr>\n",
              "      <th>0</th>\n",
              "      <td>jean reno denince zaten leon filmi gelir akla ...</td>\n",
              "      <td>Sevginin Gücü</td>\n",
              "      <td>5.0</td>\n",
              "    </tr>\n",
              "    <tr>\n",
              "      <th>1</th>\n",
              "      <td>ekşın falan izlemek istiyorsanız eğer bunu izl...</td>\n",
              "      <td>Sevginin Gücü</td>\n",
              "      <td>5.0</td>\n",
              "    </tr>\n",
              "    <tr>\n",
              "      <th>2</th>\n",
              "      <td>bu yapım hakkında öyle çok şey yazabilirim ki ...</td>\n",
              "      <td>Sevginin Gücü</td>\n",
              "      <td>5.0</td>\n",
              "    </tr>\n",
              "    <tr>\n",
              "      <th>3</th>\n",
              "      <td>finali yeter sting  shape of my heart    bazıl...</td>\n",
              "      <td>Sevginin Gücü</td>\n",
              "      <td>5.0</td>\n",
              "    </tr>\n",
              "    <tr>\n",
              "      <th>4</th>\n",
              "      <td>jean reno  bu adam kusursuz biri  ve oyunculug...</td>\n",
              "      <td>Sevginin Gücü</td>\n",
              "      <td>5.0</td>\n",
              "    </tr>\n",
              "  </tbody>\n",
              "</table>\n",
              "</div>\n",
              "      <button class=\"colab-df-convert\" onclick=\"convertToInteractive('df-7bd7bfe8-fc7a-4d2d-b3df-91cfbd744178')\"\n",
              "              title=\"Convert this dataframe to an interactive table.\"\n",
              "              style=\"display:none;\">\n",
              "        \n",
              "  <svg xmlns=\"http://www.w3.org/2000/svg\" height=\"24px\"viewBox=\"0 0 24 24\"\n",
              "       width=\"24px\">\n",
              "    <path d=\"M0 0h24v24H0V0z\" fill=\"none\"/>\n",
              "    <path d=\"M18.56 5.44l.94 2.06.94-2.06 2.06-.94-2.06-.94-.94-2.06-.94 2.06-2.06.94zm-11 1L8.5 8.5l.94-2.06 2.06-.94-2.06-.94L8.5 2.5l-.94 2.06-2.06.94zm10 10l.94 2.06.94-2.06 2.06-.94-2.06-.94-.94-2.06-.94 2.06-2.06.94z\"/><path d=\"M17.41 7.96l-1.37-1.37c-.4-.4-.92-.59-1.43-.59-.52 0-1.04.2-1.43.59L10.3 9.45l-7.72 7.72c-.78.78-.78 2.05 0 2.83L4 21.41c.39.39.9.59 1.41.59.51 0 1.02-.2 1.41-.59l7.78-7.78 2.81-2.81c.8-.78.8-2.07 0-2.86zM5.41 20L4 18.59l7.72-7.72 1.47 1.35L5.41 20z\"/>\n",
              "  </svg>\n",
              "      </button>\n",
              "      \n",
              "  <style>\n",
              "    .colab-df-container {\n",
              "      display:flex;\n",
              "      flex-wrap:wrap;\n",
              "      gap: 12px;\n",
              "    }\n",
              "\n",
              "    .colab-df-convert {\n",
              "      background-color: #E8F0FE;\n",
              "      border: none;\n",
              "      border-radius: 50%;\n",
              "      cursor: pointer;\n",
              "      display: none;\n",
              "      fill: #1967D2;\n",
              "      height: 32px;\n",
              "      padding: 0 0 0 0;\n",
              "      width: 32px;\n",
              "    }\n",
              "\n",
              "    .colab-df-convert:hover {\n",
              "      background-color: #E2EBFA;\n",
              "      box-shadow: 0px 1px 2px rgba(60, 64, 67, 0.3), 0px 1px 3px 1px rgba(60, 64, 67, 0.15);\n",
              "      fill: #174EA6;\n",
              "    }\n",
              "\n",
              "    [theme=dark] .colab-df-convert {\n",
              "      background-color: #3B4455;\n",
              "      fill: #D2E3FC;\n",
              "    }\n",
              "\n",
              "    [theme=dark] .colab-df-convert:hover {\n",
              "      background-color: #434B5C;\n",
              "      box-shadow: 0px 1px 3px 1px rgba(0, 0, 0, 0.15);\n",
              "      filter: drop-shadow(0px 1px 2px rgba(0, 0, 0, 0.3));\n",
              "      fill: #FFFFFF;\n",
              "    }\n",
              "  </style>\n",
              "\n",
              "      <script>\n",
              "        const buttonEl =\n",
              "          document.querySelector('#df-7bd7bfe8-fc7a-4d2d-b3df-91cfbd744178 button.colab-df-convert');\n",
              "        buttonEl.style.display =\n",
              "          google.colab.kernel.accessAllowed ? 'block' : 'none';\n",
              "\n",
              "        async function convertToInteractive(key) {\n",
              "          const element = document.querySelector('#df-7bd7bfe8-fc7a-4d2d-b3df-91cfbd744178');\n",
              "          const dataTable =\n",
              "            await google.colab.kernel.invokeFunction('convertToInteractive',\n",
              "                                                     [key], {});\n",
              "          if (!dataTable) return;\n",
              "\n",
              "          const docLinkHtml = 'Like what you see? Visit the ' +\n",
              "            '<a target=\"_blank\" href=https://colab.research.google.com/notebooks/data_table.ipynb>data table notebook</a>'\n",
              "            + ' to learn more about interactive tables.';\n",
              "          element.innerHTML = '';\n",
              "          dataTable['output_type'] = 'display_data';\n",
              "          await google.colab.output.renderOutput(dataTable, element);\n",
              "          const docLink = document.createElement('div');\n",
              "          docLink.innerHTML = docLinkHtml;\n",
              "          element.appendChild(docLink);\n",
              "        }\n",
              "      </script>\n",
              "    </div>\n",
              "  </div>\n",
              "  "
            ]
          },
          "metadata": {},
          "execution_count": 37
        }
      ],
      "source": [
        "df.head()"
      ]
    },
    {
      "cell_type": "code",
      "execution_count": 38,
      "metadata": {
        "colab": {
          "base_uri": "https://localhost:8080/"
        },
        "id": "Id-5QKeZTfyu",
        "outputId": "f574615b-6083-4a07-f9eb-647eaf41f264"
      },
      "outputs": [
        {
          "output_type": "stream",
          "name": "stdout",
          "text": [
            "<class 'pandas.core.frame.DataFrame'>\n",
            "RangeIndex: 82275 entries, 0 to 82274\n",
            "Data columns (total 3 columns):\n",
            " #   Column     Non-Null Count  Dtype  \n",
            "---  ------     --------------  -----  \n",
            " 0   comment    82275 non-null  object \n",
            " 1   film_name  82275 non-null  object \n",
            " 2   point      82275 non-null  float64\n",
            "dtypes: float64(1), object(2)\n",
            "memory usage: 1.9+ MB\n"
          ]
        }
      ],
      "source": [
        "df.info()"
      ]
    },
    {
      "cell_type": "code",
      "execution_count": 39,
      "metadata": {
        "colab": {
          "base_uri": "https://localhost:8080/"
        },
        "id": "GbxAzH0TYYcE",
        "outputId": "b35f45af-d42d-4d14-a648-18170dc1ea0f"
      },
      "outputs": [
        {
          "output_type": "execute_result",
          "data": {
            "text/plain": [
              "comment        object\n",
              "film_name    category\n",
              "point         float64\n",
              "dtype: object"
            ]
          },
          "metadata": {},
          "execution_count": 39
        }
      ],
      "source": [
        "df[\"film_name\"] = df[\"film_name\"].astype('category') #By converting an existing Series or column to a category dtype\n",
        "df.dtypes"
      ]
    },
    {
      "cell_type": "code",
      "execution_count": 40,
      "metadata": {
        "colab": {
          "base_uri": "https://localhost:8080/",
          "height": 206
        },
        "id": "bLJS0n76aaZO",
        "outputId": "e8cbd30a-9550-4139-b4a4-b375373f1860"
      },
      "outputs": [
        {
          "output_type": "execute_result",
          "data": {
            "text/plain": [
              "                                             comment      film_name  point  \\\n",
              "0  jean reno denince zaten leon filmi gelir akla ...  Sevginin Gücü    5.0   \n",
              "1  ekşın falan izlemek istiyorsanız eğer bunu izl...  Sevginin Gücü    5.0   \n",
              "2  bu yapım hakkında öyle çok şey yazabilirim ki ...  Sevginin Gücü    5.0   \n",
              "3  finali yeter sting  shape of my heart    bazıl...  Sevginin Gücü    5.0   \n",
              "4  jean reno  bu adam kusursuz biri  ve oyunculug...  Sevginin Gücü    5.0   \n",
              "\n",
              "   film_name_id  \n",
              "0          5458  \n",
              "1          5458  \n",
              "2          5458  \n",
              "3          5458  \n",
              "4          5458  "
            ],
            "text/html": [
              "\n",
              "  <div id=\"df-e5ca656b-93a7-4c5d-8e29-6752ae070419\">\n",
              "    <div class=\"colab-df-container\">\n",
              "      <div>\n",
              "<style scoped>\n",
              "    .dataframe tbody tr th:only-of-type {\n",
              "        vertical-align: middle;\n",
              "    }\n",
              "\n",
              "    .dataframe tbody tr th {\n",
              "        vertical-align: top;\n",
              "    }\n",
              "\n",
              "    .dataframe thead th {\n",
              "        text-align: right;\n",
              "    }\n",
              "</style>\n",
              "<table border=\"1\" class=\"dataframe\">\n",
              "  <thead>\n",
              "    <tr style=\"text-align: right;\">\n",
              "      <th></th>\n",
              "      <th>comment</th>\n",
              "      <th>film_name</th>\n",
              "      <th>point</th>\n",
              "      <th>film_name_id</th>\n",
              "    </tr>\n",
              "  </thead>\n",
              "  <tbody>\n",
              "    <tr>\n",
              "      <th>0</th>\n",
              "      <td>jean reno denince zaten leon filmi gelir akla ...</td>\n",
              "      <td>Sevginin Gücü</td>\n",
              "      <td>5.0</td>\n",
              "      <td>5458</td>\n",
              "    </tr>\n",
              "    <tr>\n",
              "      <th>1</th>\n",
              "      <td>ekşın falan izlemek istiyorsanız eğer bunu izl...</td>\n",
              "      <td>Sevginin Gücü</td>\n",
              "      <td>5.0</td>\n",
              "      <td>5458</td>\n",
              "    </tr>\n",
              "    <tr>\n",
              "      <th>2</th>\n",
              "      <td>bu yapım hakkında öyle çok şey yazabilirim ki ...</td>\n",
              "      <td>Sevginin Gücü</td>\n",
              "      <td>5.0</td>\n",
              "      <td>5458</td>\n",
              "    </tr>\n",
              "    <tr>\n",
              "      <th>3</th>\n",
              "      <td>finali yeter sting  shape of my heart    bazıl...</td>\n",
              "      <td>Sevginin Gücü</td>\n",
              "      <td>5.0</td>\n",
              "      <td>5458</td>\n",
              "    </tr>\n",
              "    <tr>\n",
              "      <th>4</th>\n",
              "      <td>jean reno  bu adam kusursuz biri  ve oyunculug...</td>\n",
              "      <td>Sevginin Gücü</td>\n",
              "      <td>5.0</td>\n",
              "      <td>5458</td>\n",
              "    </tr>\n",
              "  </tbody>\n",
              "</table>\n",
              "</div>\n",
              "      <button class=\"colab-df-convert\" onclick=\"convertToInteractive('df-e5ca656b-93a7-4c5d-8e29-6752ae070419')\"\n",
              "              title=\"Convert this dataframe to an interactive table.\"\n",
              "              style=\"display:none;\">\n",
              "        \n",
              "  <svg xmlns=\"http://www.w3.org/2000/svg\" height=\"24px\"viewBox=\"0 0 24 24\"\n",
              "       width=\"24px\">\n",
              "    <path d=\"M0 0h24v24H0V0z\" fill=\"none\"/>\n",
              "    <path d=\"M18.56 5.44l.94 2.06.94-2.06 2.06-.94-2.06-.94-.94-2.06-.94 2.06-2.06.94zm-11 1L8.5 8.5l.94-2.06 2.06-.94-2.06-.94L8.5 2.5l-.94 2.06-2.06.94zm10 10l.94 2.06.94-2.06 2.06-.94-2.06-.94-.94-2.06-.94 2.06-2.06.94z\"/><path d=\"M17.41 7.96l-1.37-1.37c-.4-.4-.92-.59-1.43-.59-.52 0-1.04.2-1.43.59L10.3 9.45l-7.72 7.72c-.78.78-.78 2.05 0 2.83L4 21.41c.39.39.9.59 1.41.59.51 0 1.02-.2 1.41-.59l7.78-7.78 2.81-2.81c.8-.78.8-2.07 0-2.86zM5.41 20L4 18.59l7.72-7.72 1.47 1.35L5.41 20z\"/>\n",
              "  </svg>\n",
              "      </button>\n",
              "      \n",
              "  <style>\n",
              "    .colab-df-container {\n",
              "      display:flex;\n",
              "      flex-wrap:wrap;\n",
              "      gap: 12px;\n",
              "    }\n",
              "\n",
              "    .colab-df-convert {\n",
              "      background-color: #E8F0FE;\n",
              "      border: none;\n",
              "      border-radius: 50%;\n",
              "      cursor: pointer;\n",
              "      display: none;\n",
              "      fill: #1967D2;\n",
              "      height: 32px;\n",
              "      padding: 0 0 0 0;\n",
              "      width: 32px;\n",
              "    }\n",
              "\n",
              "    .colab-df-convert:hover {\n",
              "      background-color: #E2EBFA;\n",
              "      box-shadow: 0px 1px 2px rgba(60, 64, 67, 0.3), 0px 1px 3px 1px rgba(60, 64, 67, 0.15);\n",
              "      fill: #174EA6;\n",
              "    }\n",
              "\n",
              "    [theme=dark] .colab-df-convert {\n",
              "      background-color: #3B4455;\n",
              "      fill: #D2E3FC;\n",
              "    }\n",
              "\n",
              "    [theme=dark] .colab-df-convert:hover {\n",
              "      background-color: #434B5C;\n",
              "      box-shadow: 0px 1px 3px 1px rgba(0, 0, 0, 0.15);\n",
              "      filter: drop-shadow(0px 1px 2px rgba(0, 0, 0, 0.3));\n",
              "      fill: #FFFFFF;\n",
              "    }\n",
              "  </style>\n",
              "\n",
              "      <script>\n",
              "        const buttonEl =\n",
              "          document.querySelector('#df-e5ca656b-93a7-4c5d-8e29-6752ae070419 button.colab-df-convert');\n",
              "        buttonEl.style.display =\n",
              "          google.colab.kernel.accessAllowed ? 'block' : 'none';\n",
              "\n",
              "        async function convertToInteractive(key) {\n",
              "          const element = document.querySelector('#df-e5ca656b-93a7-4c5d-8e29-6752ae070419');\n",
              "          const dataTable =\n",
              "            await google.colab.kernel.invokeFunction('convertToInteractive',\n",
              "                                                     [key], {});\n",
              "          if (!dataTable) return;\n",
              "\n",
              "          const docLinkHtml = 'Like what you see? Visit the ' +\n",
              "            '<a target=\"_blank\" href=https://colab.research.google.com/notebooks/data_table.ipynb>data table notebook</a>'\n",
              "            + ' to learn more about interactive tables.';\n",
              "          element.innerHTML = '';\n",
              "          dataTable['output_type'] = 'display_data';\n",
              "          await google.colab.output.renderOutput(dataTable, element);\n",
              "          const docLink = document.createElement('div');\n",
              "          docLink.innerHTML = docLinkHtml;\n",
              "          element.appendChild(docLink);\n",
              "        }\n",
              "      </script>\n",
              "    </div>\n",
              "  </div>\n",
              "  "
            ]
          },
          "metadata": {},
          "execution_count": 40
        }
      ],
      "source": [
        "df[\"film_name_id\"] = df[\"film_name\"].cat.codes\n",
        "df.head()"
      ]
    },
    {
      "cell_type": "code",
      "execution_count": 41,
      "metadata": {
        "colab": {
          "base_uri": "https://localhost:8080/",
          "height": 206
        },
        "id": "BrfTds3IaqBl",
        "outputId": "9bf504de-4058-4ea9-8296-d110fff5a2ff"
      },
      "outputs": [
        {
          "output_type": "execute_result",
          "data": {
            "text/plain": [
              "                                                 comment  \\\n",
              "82270  böyle bi kadrodan bçyle bi film ne denebilir k...   \n",
              "82271  yani bu kaar ii oyuncalrın ve yönetmenin  nası...   \n",
              "82272  bugün dvdsini alıp izledim ama inanılmaz kötü ...   \n",
              "82273                            klasik korku ve gerilim   \n",
              "82274  bence gereğinden fazla bir eleştiri aldığını d...   \n",
              "\n",
              "                          film_name  point  film_name_id  \n",
              "82270                         Kabus    2.5          3251  \n",
              "82271                         Kabus    2.5          3251  \n",
              "82272                         Kabus    1.0          3251  \n",
              "82273                         Kabus    4.0          3251  \n",
              "82274  Bir Zamanlar... Hollywood'da    4.6          1168  "
            ],
            "text/html": [
              "\n",
              "  <div id=\"df-d36cea3e-917d-4228-8d4e-6c8eaeaba89c\">\n",
              "    <div class=\"colab-df-container\">\n",
              "      <div>\n",
              "<style scoped>\n",
              "    .dataframe tbody tr th:only-of-type {\n",
              "        vertical-align: middle;\n",
              "    }\n",
              "\n",
              "    .dataframe tbody tr th {\n",
              "        vertical-align: top;\n",
              "    }\n",
              "\n",
              "    .dataframe thead th {\n",
              "        text-align: right;\n",
              "    }\n",
              "</style>\n",
              "<table border=\"1\" class=\"dataframe\">\n",
              "  <thead>\n",
              "    <tr style=\"text-align: right;\">\n",
              "      <th></th>\n",
              "      <th>comment</th>\n",
              "      <th>film_name</th>\n",
              "      <th>point</th>\n",
              "      <th>film_name_id</th>\n",
              "    </tr>\n",
              "  </thead>\n",
              "  <tbody>\n",
              "    <tr>\n",
              "      <th>82270</th>\n",
              "      <td>böyle bi kadrodan bçyle bi film ne denebilir k...</td>\n",
              "      <td>Kabus</td>\n",
              "      <td>2.5</td>\n",
              "      <td>3251</td>\n",
              "    </tr>\n",
              "    <tr>\n",
              "      <th>82271</th>\n",
              "      <td>yani bu kaar ii oyuncalrın ve yönetmenin  nası...</td>\n",
              "      <td>Kabus</td>\n",
              "      <td>2.5</td>\n",
              "      <td>3251</td>\n",
              "    </tr>\n",
              "    <tr>\n",
              "      <th>82272</th>\n",
              "      <td>bugün dvdsini alıp izledim ama inanılmaz kötü ...</td>\n",
              "      <td>Kabus</td>\n",
              "      <td>1.0</td>\n",
              "      <td>3251</td>\n",
              "    </tr>\n",
              "    <tr>\n",
              "      <th>82273</th>\n",
              "      <td>klasik korku ve gerilim</td>\n",
              "      <td>Kabus</td>\n",
              "      <td>4.0</td>\n",
              "      <td>3251</td>\n",
              "    </tr>\n",
              "    <tr>\n",
              "      <th>82274</th>\n",
              "      <td>bence gereğinden fazla bir eleştiri aldığını d...</td>\n",
              "      <td>Bir Zamanlar... Hollywood'da</td>\n",
              "      <td>4.6</td>\n",
              "      <td>1168</td>\n",
              "    </tr>\n",
              "  </tbody>\n",
              "</table>\n",
              "</div>\n",
              "      <button class=\"colab-df-convert\" onclick=\"convertToInteractive('df-d36cea3e-917d-4228-8d4e-6c8eaeaba89c')\"\n",
              "              title=\"Convert this dataframe to an interactive table.\"\n",
              "              style=\"display:none;\">\n",
              "        \n",
              "  <svg xmlns=\"http://www.w3.org/2000/svg\" height=\"24px\"viewBox=\"0 0 24 24\"\n",
              "       width=\"24px\">\n",
              "    <path d=\"M0 0h24v24H0V0z\" fill=\"none\"/>\n",
              "    <path d=\"M18.56 5.44l.94 2.06.94-2.06 2.06-.94-2.06-.94-.94-2.06-.94 2.06-2.06.94zm-11 1L8.5 8.5l.94-2.06 2.06-.94-2.06-.94L8.5 2.5l-.94 2.06-2.06.94zm10 10l.94 2.06.94-2.06 2.06-.94-2.06-.94-.94-2.06-.94 2.06-2.06.94z\"/><path d=\"M17.41 7.96l-1.37-1.37c-.4-.4-.92-.59-1.43-.59-.52 0-1.04.2-1.43.59L10.3 9.45l-7.72 7.72c-.78.78-.78 2.05 0 2.83L4 21.41c.39.39.9.59 1.41.59.51 0 1.02-.2 1.41-.59l7.78-7.78 2.81-2.81c.8-.78.8-2.07 0-2.86zM5.41 20L4 18.59l7.72-7.72 1.47 1.35L5.41 20z\"/>\n",
              "  </svg>\n",
              "      </button>\n",
              "      \n",
              "  <style>\n",
              "    .colab-df-container {\n",
              "      display:flex;\n",
              "      flex-wrap:wrap;\n",
              "      gap: 12px;\n",
              "    }\n",
              "\n",
              "    .colab-df-convert {\n",
              "      background-color: #E8F0FE;\n",
              "      border: none;\n",
              "      border-radius: 50%;\n",
              "      cursor: pointer;\n",
              "      display: none;\n",
              "      fill: #1967D2;\n",
              "      height: 32px;\n",
              "      padding: 0 0 0 0;\n",
              "      width: 32px;\n",
              "    }\n",
              "\n",
              "    .colab-df-convert:hover {\n",
              "      background-color: #E2EBFA;\n",
              "      box-shadow: 0px 1px 2px rgba(60, 64, 67, 0.3), 0px 1px 3px 1px rgba(60, 64, 67, 0.15);\n",
              "      fill: #174EA6;\n",
              "    }\n",
              "\n",
              "    [theme=dark] .colab-df-convert {\n",
              "      background-color: #3B4455;\n",
              "      fill: #D2E3FC;\n",
              "    }\n",
              "\n",
              "    [theme=dark] .colab-df-convert:hover {\n",
              "      background-color: #434B5C;\n",
              "      box-shadow: 0px 1px 3px 1px rgba(0, 0, 0, 0.15);\n",
              "      filter: drop-shadow(0px 1px 2px rgba(0, 0, 0, 0.3));\n",
              "      fill: #FFFFFF;\n",
              "    }\n",
              "  </style>\n",
              "\n",
              "      <script>\n",
              "        const buttonEl =\n",
              "          document.querySelector('#df-d36cea3e-917d-4228-8d4e-6c8eaeaba89c button.colab-df-convert');\n",
              "        buttonEl.style.display =\n",
              "          google.colab.kernel.accessAllowed ? 'block' : 'none';\n",
              "\n",
              "        async function convertToInteractive(key) {\n",
              "          const element = document.querySelector('#df-d36cea3e-917d-4228-8d4e-6c8eaeaba89c');\n",
              "          const dataTable =\n",
              "            await google.colab.kernel.invokeFunction('convertToInteractive',\n",
              "                                                     [key], {});\n",
              "          if (!dataTable) return;\n",
              "\n",
              "          const docLinkHtml = 'Like what you see? Visit the ' +\n",
              "            '<a target=\"_blank\" href=https://colab.research.google.com/notebooks/data_table.ipynb>data table notebook</a>'\n",
              "            + ' to learn more about interactive tables.';\n",
              "          element.innerHTML = '';\n",
              "          dataTable['output_type'] = 'display_data';\n",
              "          await google.colab.output.renderOutput(dataTable, element);\n",
              "          const docLink = document.createElement('div');\n",
              "          docLink.innerHTML = docLinkHtml;\n",
              "          element.appendChild(docLink);\n",
              "        }\n",
              "      </script>\n",
              "    </div>\n",
              "  </div>\n",
              "  "
            ]
          },
          "metadata": {},
          "execution_count": 41
        }
      ],
      "source": [
        "df.tail()"
      ]
    },
    {
      "cell_type": "code",
      "execution_count": 42,
      "metadata": {
        "colab": {
          "base_uri": "https://localhost:8080/"
        },
        "id": "mOcxz34ya9Xh",
        "outputId": "cab8f420-ef2c-45a1-d612-1513b7944e7b"
      },
      "outputs": [
        {
          "output_type": "execute_result",
          "data": {
            "text/plain": [
              "{5458: 'Sevginin Gücü',\n",
              " 6007: 'Teksas Katliamı 3D',\n",
              " 796: 'Baba 3',\n",
              " 2521: 'Geçmişin Gölgesinde',\n",
              " 940: 'Başlangıç',\n",
              " 7235: 'Ölü Ozanlar Derneği',\n",
              " 1590: 'Cinderella Man',\n",
              " 2833: 'Harry Potter ve Ateş Kadehi',\n",
              " 4690: 'Ocean’s Eleven',\n",
              " 3051: 'Hotel Rwanda',\n",
              " 3491: 'Karşı Pencere',\n",
              " 4329: 'Melekler  Şehri',\n",
              " 1040: 'Benimle Kal',\n",
              " 4477: 'Muhsin Bey',\n",
              " 6041: 'Terminal',\n",
              " 4276: 'Matrix Reloaded',\n",
              " 3867: 'Kutup Macerası',\n",
              " 7562: 'İçimdeki Deniz',\n",
              " 7448: 'İlk Korku',\n",
              " 6596: 'Vertigo',\n",
              " 4491: 'Mumya',\n",
              " 591: 'Avengers: Endgame',\n",
              " 2461: 'Gemide',\n",
              " 3903: 'Köstebek',\n",
              " 2357: 'Frekans',\n",
              " 5157: 'Rocky 4',\n",
              " 391: 'Anestezi',\n",
              " 1042: 'Benjamin Button’ın Tuhaf Hikayesi',\n",
              " 4268: 'Masumiyet',\n",
              " 3736: 'Korku Seansı 2',\n",
              " 3806: 'Kung Fu Panda',\n",
              " 999: 'Ben, Robot',\n",
              " 6158: 'The Imitation Game: Enigma',\n",
              " 3134: 'Indiana Jones: Kamçılı Adam',\n",
              " 6544: 'Vali',\n",
              " 1163: 'Bir Zamanlar Batıda',\n",
              " 1404: 'Büyülü Çift',\n",
              " 3428: 'Karanlıklar Ülkesi',\n",
              " 2611: 'Gran Torino',\n",
              " 4839: 'Pan’ın Labirenti',\n",
              " 4621: 'Next',\n",
              " 691: 'Aşk Her Yerde',\n",
              " 4403: 'Milyarder',\n",
              " 2187: 'Eurotrip',\n",
              " 1046: 'Benzersiz',\n",
              " 6770: 'Yarından Sonra',\n",
              " 6797: 'Yağmurdan Önce',\n",
              " 102: '60 Saniye',\n",
              " 5388: 'Sen Uyurken',\n",
              " 3256: 'Kader',\n",
              " 19: '12 Yıllık Esaret',\n",
              " 2717: 'Günah Şehri',\n",
              " 2580: 'Gizli Teşkilat',\n",
              " 1968: 'Duvar',\n",
              " 4954: \"Pi'nin Yaşamı\",\n",
              " 2064: 'Efsane Adam',\n",
              " 42: '1900 Efsanesi',\n",
              " 2065: 'Efsane Beşli',\n",
              " 4657: 'Norbit',\n",
              " 5395: 'Senden Nefret Etmemin 10 Sebebi',\n",
              " 437: 'Ant-Man ve Wasp',\n",
              " 506: 'Arı Filmi',\n",
              " 1692: 'Daima Lilya',\n",
              " 865: 'Banka İşi',\n",
              " 3102: 'Hızlı ve Öfkeli 5: Rio Soygunu',\n",
              " 3745: 'Korkunç Bir Film 3',\n",
              " 1381: 'Büyük Hazine',\n",
              " 2042: 'Düşler Ülkesi',\n",
              " 2721: 'Günahkar',\n",
              " 3592: 'Kehanet',\n",
              " 128: 'A Love Song for Bobby Long',\n",
              " 4873: 'Paris, Seni Seviyorum',\n",
              " 5678: 'Sonbahar',\n",
              " 1411: 'CM101MMXI FUNDAMENTALS',\n",
              " 2364: 'Full Metal Jacket',\n",
              " 3520: 'Kaya',\n",
              " 1319: 'Bu Çocuğun Hayatı',\n",
              " 6152: 'The Hateful Eight',\n",
              " 4575: 'Navaron’un Topları',\n",
              " 5057: 'Radio',\n",
              " 5848: 'Sürüsüne Bereket',\n",
              " 387: 'Anastasia',\n",
              " 7029: 'Zor Baba ve Dünür',\n",
              " 4236: 'Mançuryalı Aday',\n",
              " 3215: 'Judge Dredd',\n",
              " 5772: 'Su ve Ateş',\n",
              " 4638: 'Ninja Kaplumbağalar',\n",
              " 6082: 'The Angry Birds Movie',\n",
              " 5081: 'Rebecca',\n",
              " 4106: 'Lilo ve Stiç',\n",
              " 2393: 'Gandhi',\n",
              " 806: 'Babam',\n",
              " 2295: 'Fenomen',\n",
              " 2160: 'Erkekler Ağlamaz',\n",
              " 5402: 'Senin Adın',\n",
              " 2988: 'Herkesin Keyfi Yerinde',\n",
              " 6535: 'Vahşi Duygular',\n",
              " 938: 'Başkanın Adamları',\n",
              " 7609: 'Şarküteri',\n",
              " 2501: 'Gerçeğe Çağrı',\n",
              " 1161: \"Bir Zamanlar Anadolu'da\",\n",
              " 7251: 'Ölüm Günün Kutlu Olsun',\n",
              " 6844: 'Yenilmez',\n",
              " 6990: 'Zer',\n",
              " 1635: 'Cop Out',\n",
              " 5835: 'Süper Polis',\n",
              " 2244: 'Eğer Yaşarsam',\n",
              " 3446: 'Karate Kid',\n",
              " 4987: 'Pokémon Dedektif Pikachu',\n",
              " 4906: 'Paylaşılmayan Tutkular',\n",
              " 7010: 'Zirveye Çıkış',\n",
              " 1959: 'Dunkirk',\n",
              " 3132: 'In the Mouth of Madness',\n",
              " 7046: 'Zorro Efsanesi',\n",
              " 7179: 'Çılgın Marslılar',\n",
              " 6383: 'Tutku Nehri',\n",
              " 7374: 'Üç Harfliler: Beddua',\n",
              " 5616: 'Solace',\n",
              " 2286: 'Fedakar Kız',\n",
              " 4112: 'Liseli Polisler',\n",
              " 436: 'Ant-Man',\n",
              " 6843: 'Yeniden Sev Beni',\n",
              " 5524: 'Sideways',\n",
              " 6154: 'The Hitcher',\n",
              " 4898: 'Patron Bebek',\n",
              " 5061: 'Raising Arizona',\n",
              " 166: 'Acemi Prenses: Kraliyet Nişanı',\n",
              " 3288: 'Kahraman Pilotlar',\n",
              " 3779: 'Kral Şakir Oyun Zamanı',\n",
              " 4323: 'Meg: Derinlerdeki Dehşet',\n",
              " 6862: 'Yeşil Bölge',\n",
              " 5331: 'Savaş Sanatı',\n",
              " 923: 'Bağla Beni',\n",
              " 3730: 'Korku Kapanı',\n",
              " 2756: 'Güzel Dedektif',\n",
              " 4597: 'Nell',\n",
              " 1496: 'Cehenneme Bir Adım',\n",
              " 6146: 'The Graduate',\n",
              " 5226: 'Rüzgarlı Vadi',\n",
              " 7598: 'Şans Sende',\n",
              " 7533: 'İvan’ın Çocukluğu',\n",
              " 7455: 'İlkbahar, Yaz, Sonbahar, Kış... Ve İlkbahar',\n",
              " 2232: 'Eylül Fırtınası',\n",
              " 2311: 'Filler ve Çimen',\n",
              " 1903: 'Dolores',\n",
              " 4126: 'Lolita',\n",
              " 972: 'Beklenmeyen Şahit',\n",
              " 3467: 'Karga 2',\n",
              " 5532: 'Sihirli Dadı',\n",
              " 473: 'Aramızdaki Sarışın',\n",
              " 4499: 'Murat Kaptan UK2911 3D',\n",
              " 756: 'Aşkın (500) Günü',\n",
              " 5575: 'Siyah Giyen Adamlar 2',\n",
              " 4385: 'Michael Collins',\n",
              " 1864: 'Dila Hanım',\n",
              " 5576: 'Siyah Giyen Adamlar 3',\n",
              " 6687: 'Without a Paddle',\n",
              " 1400: 'Büyükler',\n",
              " 4953: 'Pi',\n",
              " 458: 'Arabalar 3',\n",
              " 334: 'Alvin ve Sincaplar: Eğlence Adası',\n",
              " 4166: 'Macera Adası',\n",
              " 1339: 'Bumblebee',\n",
              " 4061: 'Lanetliler Kraliçesi',\n",
              " 3120: 'Ice Princess',\n",
              " 3495: 'Kasaba',\n",
              " 3934: 'Küçük Cadı Kiki',\n",
              " 6879: 'Yol Arkadaşım',\n",
              " 6514: 'Uçuş',\n",
              " 4675: 'O Da Beni Seviyor',\n",
              " 510: 'Arınma Gecesi: Anarşi',\n",
              " 254: 'Akira',\n",
              " 4779: 'Osmosis Jones',\n",
              " 5285: 'Salaklar Sofrası',\n",
              " 6752: 'Yaramaz Harry',\n",
              " 503: 'Artist',\n",
              " 6819: 'Yedinci Kıta',\n",
              " 4208: 'Malta Şahini',\n",
              " 4002: 'Kızıl Ejder',\n",
              " 3137: 'Infernal Affairs',\n",
              " 2875: 'Hayalimdeki Aşk',\n",
              " 5445: 'Sevgili',\n",
              " 1017: 'Beni Unutma',\n",
              " 906: 'Batı Cephesinde Yeni Bir Şey Yok',\n",
              " 4332: 'Meleklerin Düş Yaşamı',\n",
              " 1770: 'Deha',\n",
              " 3626: 'Kick-Ass',\n",
              " 1211: 'Black',\n",
              " 6970: 'Zaman Ötesi',\n",
              " 6938: 'Yıldız Gemisi Askerleri',\n",
              " 3744: 'Korkunç Bir Film 2',\n",
              " 4147: 'Love, Simon',\n",
              " 4919: 'Pembe Panterin Dönüşü',\n",
              " 3147: 'Ip Man 3',\n",
              " 4001: 'Kızları Öp',\n",
              " 2655: 'Gölge Oyunu',\n",
              " 6094: 'The Boy in the Striped Pyjamas',\n",
              " 1768: 'Defiance',\n",
              " 7564: 'İçimdeki Ses',\n",
              " 1482: 'Cehennem Melekleri',\n",
              " 4801: 'Oyun',\n",
              " 4469: 'Mucize',\n",
              " 5382: 'Sen Benim Herşeyimsin',\n",
              " 3528: 'Kaynak',\n",
              " 2479: 'Gençlik Ateşi',\n",
              " 2020: 'Dünyanın Uzak Ucu',\n",
              " 4015: 'Kızımı Kurtarın',\n",
              " 181: 'Acımasız Hayat',\n",
              " 5760: 'Straight’in Hikayesi',\n",
              " 5793: 'Superman 2',\n",
              " 5134: 'Rio 2',\n",
              " 2510: 'Geyik Muhabbeti',\n",
              " 6017: 'Temel İçgüdü',\n",
              " 5574: 'Siyah Giyen Adamlar',\n",
              " 4156: 'Lütfen Beni Öldürme',\n",
              " 6968: 'Zaman Yolcusunun Karısı',\n",
              " 1165: 'Bir Zamanlar Meksika’da',\n",
              " 2578: 'Gizli Sayılar',\n",
              " 1729: 'Davacı',\n",
              " 4529: 'My Little Pony: Arkadaşlık Oyunları',\n",
              " 1106: 'Bin Dokuz Yüz Seksen Dört',\n",
              " 1367: 'Bülbülü Öldürmek',\n",
              " 6579: 'Ve Sonsuza Dek Mutlu Yaşadılar',\n",
              " 3283: 'Kahire’nin Mor Gülü',\n",
              " 4641: 'Ninja Kaplumbağalar 3D',\n",
              " 3672: 'Knockaround Guys',\n",
              " 1632: 'Contratiempo',\n",
              " 2384: 'G.D.O. KaraKedi',\n",
              " 3887: 'Köfte Yağmuru',\n",
              " 6608: 'Vidocq',\n",
              " 3291: 'Kahraman Şerif',\n",
              " 740: 'Aşka Yolculuk',\n",
              " 598: 'Avustralya',\n",
              " 4354: 'Merkez İstasyonu',\n",
              " 6137: 'The Fourth Kind',\n",
              " 5338: 'Savaşın Çiçekleri',\n",
              " 3368: 'Kaptan Phillips',\n",
              " 932: 'Başka Semtin Çocukları',\n",
              " 5298: 'Samurayın Gözyaşları',\n",
              " 5366: 'Seks Oyunları',\n",
              " 2995: 'Hesaplaşma',\n",
              " 7682: 'Şifre Merkür',\n",
              " 6734: 'Yalnız Kalpler',\n",
              " 2960: 'Hepsini Vur',\n",
              " 3753: 'Korkuyorum Anne',\n",
              " 593: 'Avrupa',\n",
              " 2345: 'Frankenstein',\n",
              " 6116: 'The Covenant',\n",
              " 5737: 'Star Trek Sonsuzluk',\n",
              " 7400: 'İftarlık Gazoz',\n",
              " 4177: 'Madalyon',\n",
              " 6534: 'Vahşi Doğa',\n",
              " 2897: 'Hayatım Yalan',\n",
              " 6470: 'Uygunsuz Gerçek',\n",
              " 4005: 'Kızıl Köşe',\n",
              " 1372: 'Büyük Açık',\n",
              " 5626: 'Somuncu Baba: Aşkın Sırrı',\n",
              " 7397: 'İbrahim Bey ve Kuran’ın Çiçekleri',\n",
              " 2367: 'Fur: An Imaginary Portrait of Diane Arbus',\n",
              " 1131: 'Bir Gün',\n",
              " 4058: 'Lanetli Tepe',\n",
              " 7429: 'İkinci Şans',\n",
              " 4033: 'Lady Vanishes, The',\n",
              " 918: 'Baykuş Krallığı Efsanesi',\n",
              " 3967: 'Kırık Ok',\n",
              " 1113: 'Bir Avuç Dolar',\n",
              " 5606: 'Sofra Sırları',\n",
              " 7590: 'Şampiyon',\n",
              " 2722: 'Günahkar Rahibeler',\n",
              " 7241: 'Ölülerin Şafağı',\n",
              " 6986: 'Zelig',\n",
              " 2889: 'Hayat Öpücüğü',\n",
              " 6290: 'Titus',\n",
              " 6640: 'Waking Life',\n",
              " 1068: 'Beyaz Saray Düştü',\n",
              " 6623: 'Vizontele Tuuba',\n",
              " 6384: 'Tutku Oyunları',\n",
              " 7121: 'Çit',\n",
              " 5489: 'Shazam! 6 Güç',\n",
              " 3838: 'Kurtuluş Son Durak',\n",
              " 4299: 'Maymunlar Cehennemi',\n",
              " 1103: 'Bill & Ted’s Bogus Journey',\n",
              " 75: '300: Bir İmparatorluğun Yükselişi',\n",
              " 3721: 'Kor',\n",
              " 96: '50 Cesur Kemancı',\n",
              " 6865: 'Yeşil Kart',\n",
              " 1244: 'Bolt',\n",
              " 3680: 'Kocan Kadar Konuş: Diriliş',\n",
              " 5531: 'Sihirbazın Çırağı',\n",
              " 2222: 'Ex Machina',\n",
              " 322: 'Altın Hazineleri',\n",
              " 1263: \"Bourne'un Mirası\",\n",
              " 362: 'Amerikan Pastası: Buluşma',\n",
              " 5821: 'Sylvia',\n",
              " 88: '47 Ronin',\n",
              " 5858: 'Sıkı Aynasızlar',\n",
              " 1647: 'Creed: Efsanenin Doğuşu',\n",
              " 870: 'Baran',\n",
              " 3399: 'Kara Yağmur',\n",
              " 7306: 'Ölümsüzler',\n",
              " 7470: 'İnci Küpeli Kız',\n",
              " 6300: 'Tomb Raider',\n",
              " 183: 'Ad1m Ad2m C3nayet',\n",
              " 939: 'Başkanın Tüm Adamları',\n",
              " 6965: 'Zaman Tükeniyor',\n",
              " 3220: 'Julie & Julia',\n",
              " 4559: 'Nadide Hayat',\n",
              " 1507: 'Cennet',\n",
              " 2783: 'Hadi İnşallah',\n",
              " 2443: 'Gel Git Ülkesi',\n",
              " 7201: 'Çıtır Kızlar',\n",
              " 5393: 'Senden Bana Kalan',\n",
              " 5955: 'Tatlı Yalanlar',\n",
              " 5664: 'Son Umut',\n",
              " 5871: 'Sınırsızlar Kulübü',\n",
              " 120: '9. Kapı',\n",
              " 7123: 'Çizmeli Kedi',\n",
              " 4018: 'Kışkırtma',\n",
              " 6800: 'Yaşam Kanıtı',\n",
              " 23: '13',\n",
              " 3774: 'Kral Arthur: Kılıç Efsanesi',\n",
              " 3199: 'John Rambo',\n",
              " 3575: 'Kaçış Yok',\n",
              " 1064: 'Beyaz Gezegen',\n",
              " 3317: 'Kan Borcu',\n",
              " 7385: 'Üç Sıradışı',\n",
              " 7472: 'İncir Reçeli 2',\n",
              " 735: 'Aşka Davet',\n",
              " 4132: 'Loraks',\n",
              " 5224: 'Rüzgarla Konuşanlar',\n",
              " 861: 'Bana Şans Dile',\n",
              " 4877: 'Paris’te Son Tango',\n",
              " 2049: 'Düşmanı Korurken',\n",
              " 1646: 'Creed II: Efsane Yükseliyor',\n",
              " 2040: 'Düşler Bahçesi',\n",
              " 1268: 'Boyun Eğmez',\n",
              " 4476: 'Muhbir',\n",
              " 5735: 'Stanley ve Iris',\n",
              " 3879: 'Kuşatma',\n",
              " 4573: 'Nasıl Yani',\n",
              " 6772: 'Yarının Dünyası',\n",
              " 3366: 'Kaptan Fantastik',\n",
              " 5740: 'Star Wars: Güç Uyanıyor',\n",
              " 1802: 'Deliormanlı',\n",
              " 888: 'Baskın',\n",
              " 29: '13. Cuma',\n",
              " 4325: 'Meksikalı',\n",
              " 6111: 'The Condemned',\n",
              " 5987: 'Tehlikeli Saatler',\n",
              " 4209: 'Mama',\n",
              " 285: 'Alev Kapanı',\n",
              " 4160: 'M.Ö. 10.000',\n",
              " 2089: 'El Dorado Yolu',\n",
              " 1892: 'Doktor Jivago',\n",
              " 1379: 'Büyük Günahlar',\n",
              " 7149: 'Çık Aramızdan',\n",
              " 7458: 'İmparatorlar Kulübü',\n",
              " 3889: 'Kök',\n",
              " 38: '17 Yeniden',\n",
              " 821: 'Bad Boys',\n",
              " 6364: 'Turist',\n",
              " 3895: 'Köpekler',\n",
              " 3711: 'Kong: Kafatası Adası',\n",
              " 5726: 'Spotlight',\n",
              " 5485: 'Seçilmiş',\n",
              " 4465: 'Mr. Smith Goes to Washington',\n",
              " 2576: 'Gizli Ortak',\n",
              " 5362: 'Sekiz Buçuk',\n",
              " 3722: 'Koralin ve Gizli Dünya',\n",
              " 4899: 'Patron Mutlu Son İstiyor',\n",
              " 3021: 'Hitman: Ajan 47',\n",
              " 3568: 'Kaçma Birader',\n",
              " 7024: 'Zoom',\n",
              " 3968: 'Kırık Çember',\n",
              " 2729: 'Günden Kalanlar',\n",
              " 4938: 'Persepolis',\n",
              " 1084: 'Beş Vakit',\n",
              " 7093: 'Çatlak Profesör',\n",
              " 2757: 'Güzel Dedektif 2: Silahlı ve Cazibeli',\n",
              " 7349: 'Özgürlük Savaşı',\n",
              " 7291: 'Ölümcül Oyunlar',\n",
              " 168: 'Acemi Öğrenci Avcı Öğretmen',\n",
              " 2209: 'Evim',\n",
              " 1288: 'Bridget Jones: Mantığın Sınırı',\n",
              " 6063: 'Testere 5',\n",
              " 6421: 'Ufuk Faciası',\n",
              " 7604: 'Şantaj',\n",
              " 7608: 'Şark Vaatleri',\n",
              " 5941: 'Tarzan',\n",
              " 7391: 'Üçüncü Adam',\n",
              " 6961: 'Zaman',\n",
              " 2304: 'Field of Dreams',\n",
              " 459: 'Arabesk',\n",
              " 2609: 'Goya’nın Hayaletleri',\n",
              " 4911: 'Pek Yakında',\n",
              " 2887: 'Hayat Treni',\n",
              " 5685: 'Sonsuz Sokaklar',\n",
              " 7110: 'Çifte Tazminat',\n",
              " 2439: 'Geceyarısı Kovboyu',\n",
              " 3087: 'Hükümet Kadın 2',\n",
              " 454: 'Aquamarine',\n",
              " 269: 'Alacakaranlık',\n",
              " 7514: 'İstanbul Kanatlarımın Altında',\n",
              " 3906: 'Kötü Eğitim',\n",
              " 7065: 'Çakallarla Dans 2 : Hastasıyız Dede',\n",
              " 1560: 'Chasing Liberty',\n",
              " 2814: 'Hangover 3: Felekten Bir Gece',\n",
              " 482: 'Arka Bahçe',\n",
              " 1584: 'Cinayet Gecesi',\n",
              " 4763: 'Organize İşler',\n",
              " 5517: 'Siccin 3: Cürmü Aşk',\n",
              " 4254: 'Martıların Efendisi',\n",
              " 4644: 'Ninja Turtles',\n",
              " 2376: 'Fırtına Anı',\n",
              " 1021: 'Benim Adım Joe',\n",
              " 4832: 'Pan',\n",
              " 484: 'Arka Sokaklar',\n",
              " 4537: 'Mükemmel Plan',\n",
              " 5082: 'Rebound',\n",
              " 833: 'Bak Şu Köpeğe',\n",
              " 3196: 'John Carter',\n",
              " 2043: 'Düşler, Tutkular & Suçlar',\n",
              " 5515: 'Siccin',\n",
              " 6039: 'Terkedilmiş',\n",
              " 3342: 'Kansız',\n",
              " 3069: 'Hugo',\n",
              " 7646: 'Şeytan Ruhlu İnsanlar',\n",
              " 4204: 'Malefiz: Kötülüğün Gücü',\n",
              " 7035: 'Zor Saatler',\n",
              " 1164: \"Bir Zamanlar Hindistan'da\",\n",
              " 2391: 'Galaksinin Koruyucuları 2',\n",
              " 3379: 'Kar Köpekleri',\n",
              " 3427: 'Karanlıklar Prensi',\n",
              " 5830: 'SüngerBob Kare Pantolon',\n",
              " 77: '39. Dosya',\n",
              " 307: 'All About Eve',\n",
              " 5092: 'Red 2',\n",
              " 875: 'Barda',\n",
              " 5692: 'Sonuna Kadar',\n",
              " 2144: \"Entelköy Efeköy'e Karşı\",\n",
              " 7651: 'Şeytan Çıkmazı',\n",
              " 4302: 'Maymunlar Cehennemi: Savaş',\n",
              " 2100: 'Elim Belim Bağlı',\n",
              " 4520: 'Mutluluk',\n",
              " 2016: 'Dünyanın Merkezine Yolculuk',\n",
              " 299: 'Alien Predator’e Karşı',\n",
              " 6839: 'Yeni Yıl Şarkısı',\n",
              " 6739: 'Yan Odadan Melodiler',\n",
              " 3899: 'Köprüüstü Aşıkları',\n",
              " 3344: 'Kanunsuzlar',\n",
              " 1513: 'Cenneti Beklerken',\n",
              " 6394: 'Two Brothers',\n",
              " 7599: 'Şansa Bak',\n",
              " 1125: 'Bir Erkek Hakkında',\n",
              " 1008: 'Beni Adınla Çağır',\n",
              " 1562: 'Che: Birinci Bölüm',\n",
              " 3185: 'Jeanne D’Arc',\n",
              " 5700: 'Sosyal Ağ',\n",
              " 4645: 'Ninja’nın İntikamı',\n",
              " 3660: 'Kirli Harry',\n",
              " 4718: 'Olimpo Garajı',\n",
              " 878: 'Baron Munchausen’in Maceraları',\n",
              " 7252: 'Ölüm Günün Kutlu Olsun 2',\n",
              " 4426: 'Missing, The',\n",
              " 457: 'Arabalar 2',\n",
              " 1790: 'Deli Deli Olma',\n",
              " 2495: 'Gerçek Masallar',\n",
              " 2689: 'Gözetleme Kulesi',\n",
              " 63: '28 Gün',\n",
              " 3356: 'Kapan',\n",
              " 365: 'Amerikan Sapığı',\n",
              " 5994: 'Tehlikeli Yürüyüş',\n",
              " 2627: 'Gridiron Gang',\n",
              " 3689: 'Kod Adı: U.N.C.L.E.',\n",
              " 6837: \"Yeni Nesil Ajan: Xander Cage'in Dönüşü\",\n",
              " 4646: 'Nisan Devrimi',\n",
              " 6858: 'Yetenekli Bay Ripley',\n",
              " 1895: 'Dokuz Buçuk Hafta',\n",
              " 6083: 'The Apartment',\n",
              " 1437: 'Canavarlar Yaratıklara Karşı',\n",
              " 896: 'Batman Beyond: Joker’in Dönüşü',\n",
              " 5619: 'Solino',\n",
              " 4639: 'Ninja Kaplumbağalar 2',\n",
              " 3585: 'Kediler ve Köpekler',\n",
              " 540: 'Asteriks & Oburiks Sezar’a Karşı',\n",
              " 3650: 'King of Comedy, The',\n",
              " 4630: 'Nick of Time',\n",
              " 961: 'Begin Again',\n",
              " 1571: 'Chungking Express',\n",
              " 3755: 'Korsan',\n",
              " 6167: 'The Karate Kid',\n",
              " 3801: 'Kumsal',\n",
              " 907: 'Batı Yakasının Hikayesi',\n",
              " 2385: 'G.I. Joe: Kobra’nın Yükselişi',\n",
              " 7066: 'Çakallarla Dans 3: Sıfır Sıkıntı',\n",
              " 5194: 'Ruhlar Evi',\n",
              " 7302: 'Ölümsüz',\n",
              " 3462: \"Kardeşim İçin Der'a\",\n",
              " 5027: 'Prime',\n",
              " 3659: 'Kirli Dans 2',\n",
              " 2272: \"Fantastik 4: Gümüş Sörfçü'nün Yükselişi\",\n",
              " 3707: 'Komşum Totoro',\n",
              " 3746: 'Korkunç Bir Film 4',\n",
              " 7706: 'Şövalye',\n",
              " 4970: 'Piyanist',\n",
              " 2844: 'Hasat Zamanı',\n",
              " 2203: 'Everest',\n",
              " 1440: 'Cani',\n",
              " 2045: 'Düşlerin Efendisi',\n",
              " 3866: 'Kutup Ekspresi',\n",
              " 2822: 'Hansel ve Gretel: Cadı Avcıları',\n",
              " 7099: 'Çayırın Sakinleri',\n",
              " 4917: 'Pembe Panter',\n",
              " 3723: \"Korkak Robert Ford'un Jesse James Suikastı\",\n",
              " 4913: 'Peki Şimdi Nereye?',\n",
              " 4371: 'Metropolis',\n",
              " 170: 'Across the Universe',\n",
              " 6225: 'The Soloist',\n",
              " 3136: 'Infamous',\n",
              " 7389: 'Üçkağıtçı Mortdecai',\n",
              " 6307: 'Top Gun',\n",
              " 4511: 'Mutlak Adalet',\n",
              " 411: 'Annabelle',\n",
              " 3497: 'Kasap',\n",
              " 6853: 'Yeryüzündeki Son Aşk',\n",
              " 700: 'Aşk Oyunu',\n",
              " 2992: 'Herkül: Özgürlük Savaşçısı',\n",
              " 3663: 'Kirli Tatlı Şeyler',\n",
              " 6309: 'Toprak Altında',\n",
              " 3484: 'Karınca Kapanı',\n",
              " 873: 'Barbershop',\n",
              " 5544: 'Silici',\n",
              " 6061: 'Testere 3D',\n",
              " 1329: 'Buhar Çocuk',\n",
              " 217: 'Afacanlar Yuvada',\n",
              " 2377: 'Fırtınalı Aşk',\n",
              " 1123: 'Bir Dilim Suç',\n",
              " 5569: 'Sis ve Gece',\n",
              " 3143: 'Invasion of the Body Snatchers',\n",
              " 4517: 'Mutlu Gilmore',\n",
              " 2805: 'Halloween 5: Michael Myers’ın İntikamı',\n",
              " 3306: 'Kalifornia',\n",
              " 5324: 'Satıcı',\n",
              " 6478: 'Uzak',\n",
              " 5734: 'Stalker',\n",
              " 709: 'Aşk Treni',\n",
              " 733: 'Aşk, Şimdi!',\n",
              " 1521: 'Cennetin Çocukları',\n",
              " 3025: 'Hiç Korkmuyorum',\n",
              " 4755: 'Operasyon: Argo',\n",
              " 5446: 'Sevgili Frankie',\n",
              " 7692: 'Şirinler 2',\n",
              " 245: 'Ailecek Şaşkınız',\n",
              " 1250: 'Bonnie ve Clyde',\n",
              " 2205: 'Everything Is Illuminated',\n",
              " 4040: 'Laleli’de Bir Azize',\n",
              " 3163: 'Jack Reacher',\n",
              " 4438: 'Modern Çağın Samurayları',\n",
              " 4705: 'Okuyucu',\n",
              " 4284: 'Mavi En Sıcak Renktir',\n",
              " 442: 'Antwone Fisher',\n",
              " 5510: 'Sibirya Berberi',\n",
              " 2798: 'Halka 2',\n",
              " 2280: 'Fasulye',\n",
              " 7694: 'Şirket',\n",
              " 83: '400 Darbe',\n",
              " 1220: 'Blade: Trinity',\n",
              " 4554: 'Mısır Prensi',\n",
              " 2777: 'Haberci',\n",
              " 1408: 'Bıçak Sırtı',\n",
              " 5123: 'Riddick',\n",
              " 3106: 'Hızlı ve Öfkeli: Hobbs ve Shaw',\n",
              " 1478: 'Cehennem',\n",
              " 1666: 'Cumhuriyet',\n",
              " 2312: 'Final Fantasy',\n",
              " 1942: 'Dr. No',\n",
              " 4944: 'Peter Pan',\n",
              " 4149: 'Loving Vincent',\n",
              " 1241: 'Boleyn Kızı',\n",
              " 178: 'Acı Tatlı Hayat',\n",
              " 5111: 'Rescue Dawn',\n",
              " 3171: 'Jackass: The Movie',\n",
              " 7077: 'Çalıntı Hayat',\n",
              " 7283: 'Ölümcül Dövüş',\n",
              " 22: '127 Saat',\n",
              " 1569: 'Christine',\n",
              " 7248: 'Ölüm Emri',\n",
              " 7566: 'İçimdeki Yangın',\n",
              " 6652: 'Wasabi',\n",
              " 2879: 'Hayalperest',\n",
              " 332: 'Alvin ve Sincaplar',\n",
              " 4265: 'Maskeli Kahraman Zorro',\n",
              " 33: '1408',\n",
              " 917: \"Bayan Peregrine'in Tuhaf Çocukları\",\n",
              " 2442: 'Gel Arkadaş Kalalım',\n",
              " 3047: 'Horton',\n",
              " 6358: 'Tuhaf Günler',\n",
              " 2072: 'Ejderha Dövmeli Kız',\n",
              " 3836: 'Kurtuluş Günü',\n",
              " 4466: 'Mrs. Doubtfire',\n",
              " 2153: 'Eragon',\n",
              " 6377: 'Tut Sözünü',\n",
              " 4888: 'Parçalanmış',\n",
              " 6330: 'Transformers 5: Son Şövalye',\n",
              " 1735: 'Davetsiz Çapkınlar',\n",
              " 4874: 'Paris, Texas',\n",
              " 5783: 'Sultan',\n",
              " 5869: 'Sınırları Aşmak',\n",
              " 6959: 'Zafere Hücum',\n",
              " 6855: 'Yerçekimi',\n",
              " 586: 'Avare',\n",
              " 406: 'Anlat İstanbul',\n",
              " 3743: 'Korkunç Bir Film',\n",
              " 1696: 'Dalgaları Aşmak',\n",
              " 7508: 'İskoçyalı',\n",
              " 2239: 'Eyyvah Eyvah',\n",
              " 5040: 'Protesto',\n",
              " 3773: 'Kral Arthur',\n",
              " 2674: 'Görevimiz Tehlike',\n",
              " 2567: 'Gizli Dünya',\n",
              " 1451: 'Captain Marvel',\n",
              " 407: 'Anlatamadım mı?',\n",
              " 4213: 'Man of Steel',\n",
              " 3808: 'Kung Fu Panda 3',\n",
              " 7355: 'Özgürlüğün Rengi',\n",
              " 6954: 'Zafer',\n",
              " 1732: 'Davetsiz',\n",
              " 7500: 'İnşaat',\n",
              " 6511: 'Uçurtma Avcısı',\n",
              " 6391: 'Tuzak',\n",
              " 5350: 'Scoop',\n",
              " 6504: 'Uzun Hikaye',\n",
              " 1290: 'Bridget Jones’un Günlüğü',\n",
              " 967: 'Being There',\n",
              " 6920: 'Yüreğinin Sesi',\n",
              " 676: 'Aşk',\n",
              " 7330: 'Öteki Taraf',\n",
              " 485: 'Arkadaş',\n",
              " 2399: 'Garfield',\n",
              " 2387: 'G.O.R.A.',\n",
              " 4485: 'Muhteşem Yedili',\n",
              " 5593: 'Skyfall',\n",
              " 3431: 'Karanlıklar Ülkesi: Lycanların Yükselişi',\n",
              " 696: 'Aşk Mektubu',\n",
              " 2631: 'Grinç',\n",
              " 5895: 'Takers',\n",
              " 2086: 'Ekşi Elmalar',\n",
              " 3382: 'Kara Bela',\n",
              " 4223: 'Mandıra Filozofu',\n",
              " 5100: 'Rehine',\n",
              " 759: 'Aşkın Büyüsü',\n",
              " 2217: 'Evrenin Askerleri',\n",
              " 5085: 'Rec: Ölüm Çığlığı',\n",
              " 273: 'Alacakaranlık Efsanesi: Şafak Vakti Bölüm 1',\n",
              " 1345: 'Burjuvazinin Gizemli Çekiciliği',\n",
              " 5901: 'Taksi',\n",
              " 814: 'Babamın Penguenleri',\n",
              " 7466: 'İnat Hikayeleri',\n",
              " 4610: 'New York Minute',\n",
              " 860: 'Bana Söz Ver',\n",
              " 731: 'Aşk Üçgeni',\n",
              " 2333: 'Fokus',\n",
              " 5004: 'Postacı Kapıyı İki Kere Çalar',\n",
              " 7338: 'Özel Tim',\n",
              " 2422: 'Gece Vurgunu',\n",
              " 6894: 'You Got Served',\n",
              " 3318: 'Kan Dökülecek',\n",
              " 6422: 'Ulak',\n",
              " 4480: 'Muhteşem Güzellik',\n",
              " 2806: 'Halloween: 20 Yıl Sonra',\n",
              " 2245: 'Eğer...',\n",
              " 3926: 'Küre',\n",
              " 2275: 'Fantastik Dörtlü',\n",
              " 6874: 'Yojimbo',\n",
              " 743: 'Aşka İki Hafta',\n",
              " 4109: 'Limonata',\n",
              " 1081: 'Beyza’nın Kadınları',\n",
              " 2948: 'Hellboy 2: Altın Ordu',\n",
              " 4682: 'O... Çocukları',\n",
              " 6363: 'Turbo',\n",
              " 5001: 'Poseidon’dan Kaçış',\n",
              " 1071: 'Beyaz Zakkum',\n",
              " 3818: 'Kurt',\n",
              " 4768: 'Orman Kaçkını',\n",
              " 5889: 'Tabanca',\n",
              " 4992: 'Polly Gelince',\n",
              " 3072: 'Hummingbird',\n",
              " 5184: 'Roxbury’de Bir Gece',\n",
              " 3550: 'Kayıp Çocuklar',\n",
              " 3041: 'Honey',\n",
              " 7120: 'Çirkin Ördek Yavrusu ile Farecik',\n",
              " 3475: 'Karmakarışık',\n",
              " 5666: 'Son Veda',\n",
              " 6369: 'Turist Ömer Dümenciler Kralı',\n",
              " 5970: 'Taş Mektep',\n",
              " 2500: 'Gerçek Öpücük',\n",
              " 2989: 'Herkül',\n",
              " 6402: 'Türev',\n",
              " 3656: 'Kiralık Sevgili',\n",
              " 7550: 'İz Peşinde',\n",
              " 3572: 'Kaçış Planı',\n",
              " 2687: 'Göz',\n",
              " 7076: 'Çalıntı Gözler',\n",
              " 1484: 'Cehennem Melekleri 3',\n",
              " 2789: 'Hain',\n",
              " 2369: 'Fury',\n",
              " 310: 'All the King’s Men',\n",
              " 3667: 'Kiss Kiss Bang Bang',\n",
              " 7095: 'Çatlak Yönetmen',\n",
              " 5279: 'Sakın Konuşma',\n",
              " 5333: 'Savaş Vadisi',\n",
              " 4549: 'Müzede Bir Gece 2',\n",
              " 4135: 'Lorenzo’nun Yağı',\n",
              " 4255: 'Marvin’in Odası',\n",
              " 2551: 'Gitarım ve Silahım',\n",
              " 748: 'Aşkta Her Şey Mümkün',\n",
              " 3237: \"Justin Bieber's Believe\",\n",
              " 2869: 'Hayalet Sürücü',\n",
              " 7153: 'Çılgın',\n",
              " 2622: 'Gremlinler',\n",
              " 5091: 'Red',\n",
              " 3459: 'Kardeşim Benim',\n",
              " 6045: 'Terminatör: Genisys',\n",
              " 5271: 'Saklambaç',\n",
              " 4730: 'Omuz Omuza',\n",
              " 992: 'Ben X',\n",
              " 786: 'Aşıklar Şehri',\n",
              " 2263: 'Fakülte',\n",
              " 1041: 'Benimle Oynar mısın?',\n",
              " 5691: 'Sonsuzluk ve Bir Gün',\n",
              " 1447: 'Canım Kardeşim',\n",
              " 1520: 'Cennetin Rengi',\n",
              " 1202: 'Bizi Hatırla',\n",
              " 3241: 'Jüri',\n",
              " 4587: 'Need For Speed: Hız Tutkusu',\n",
              " 4614: 'New York Çeteleri',\n",
              " 3233: 'Jurassic World: Yıkılmış Krallık',\n",
              " 5016: 'Prens ve Ben',\n",
              " 3590: 'Kefaret',\n",
              " 7521: 'İsyan',\n",
              " 3522: 'Kaybedenler',\n",
              " 4600: 'Nerdesin Be Birader?',\n",
              " 564: 'Ateşli Piliç',\n",
              " 1742: 'Dağ',\n",
              " 5064: 'Rambo 3',\n",
              " 329: 'Altına Hücum',\n",
              " 5570: 'Sisler Evi',\n",
              " 133: 'A Moment to Remember',\n",
              " 1395: 'Büyük Umutlar',\n",
              " 5553: 'Sinbad: Yedi Denizler Efsanesi',\n",
              " 1795: 'Delibal',\n",
              " 4169: 'Mad Max',\n",
              " 6678: 'Wimbledon',\n",
              " 300: 'Alis Harikalar Diyarında',\n",
              " 405: 'Anlat Bakalım',\n",
              " 6786: 'Yay',\n",
              " 4920: 'Pembe Panterin İntikamı',\n",
              " 6071: 'Tez',\n",
              " 6257: 'Thelma ve Louise',\n",
              " 4266: 'Maskeli Süvari',\n",
              " 1870: 'Dip huet seung hung',\n",
              " 165: 'Acemi Prenses',\n",
              " 3294: 'Kahvaltı Kulübü',\n",
              " 188: 'Adalet',\n",
              " 3655: 'Kiracı',\n",
              " 3079: \"Hz. Muhammed: Allah'ın Elçisi\",\n",
              " 5507: 'Shutter',\n",
              " 7528: 'İtiraf',\n",
              " 2077: 'Ejder’in Öpücüğü',\n",
              " 5177: 'Romeo Ölmeli',\n",
              " 6388: 'Tutsak',\n",
              " 5007: 'Powder',\n",
              " 1985: 'Dört Cesur Arkadaş',\n",
              " 7392: 'Üçüncü Göz',\n",
              " 3947: 'Küçük Prens',\n",
              " 7354: 'Özgürlüğün Elli Tonu',\n",
              " 6656: 'We Are Marshall',\n",
              " 2254: 'F Tipi Film',\n",
              " 3674: 'Kobra',\n",
              " 4774: 'Osama',\n",
              " 2118: 'Elysium : Yeni Cennet',\n",
              " 5771: 'Su Dünyası',\n",
              " 1469: 'Casuslar Köprüsü',\n",
              " 5314: 'Sarmaşık',\n",
              " 4881: 'Parlayan Hançerler',\n",
              " 6987: 'Zengin Avcısı',\n",
              " 5363: 'Sekizinci Gün',\n",
              " 719: 'Aşk Zamanı',\n",
              " 2425: 'Gece ve Gündüz',\n",
              " 2908: 'Hayatın Hakkını Ver',\n",
              " 7129: 'Çocuklar Sana Emanet',\n",
              " 1626: 'Conan 2',\n",
              " 5347: 'Schmidt Hakkında',\n",
              " 504: 'Arzunun Kanatları',\n",
              " 6838: 'Yeni Yıl',\n",
              " 7351: 'Özgürlük Yolu',\n",
              " 1334: 'Bulut Atlası',\n",
              " 886: 'Basit Bir Plan',\n",
              " 2164: 'Erkeğin Gözyaşları',\n",
              " 5140: 'Robinson Ailesi',\n",
              " 4379: 'Mezarını Derin Kaz',\n",
              " 3139: 'Innocence: Ghost in the shell 2',\n",
              " 247: 'Ajan',\n",
              " 6711: 'Y Tu Mamá También',\n",
              " 2947: 'Hellboy',\n",
              " 6151: 'The Hangover 2: Felekten Bir Gece Daha',\n",
              " 4187: 'Mahmut ile Meryem',\n",
              " 7510: 'İskoçya’nın Son Kralı',\n",
              " 5731: 'Stajyer',\n",
              " 3561: 'Kazara Zengin',\n",
              " 3845: 'Kusursuz Cinayet',\n",
              " 2818: 'Hannah ve Kız Kardeşleri',\n",
              " 2691: 'Gözlerindeki Sır',\n",
              " 2489: 'Germinal',\n",
              " 5808: 'Suç Çetesi',\n",
              " 7542: 'İyi Olan Kazansın',\n",
              " 4984: 'Point Break',\n",
              " 5190: 'Ruhlar Bölgesi',\n",
              " 6934: 'Yılanların Öcü',\n",
              " 5554: 'Sindirella',\n",
              " 6828: 'Yeni Başlayanlar İçin İtalyanca',\n",
              " 3981: 'Kıyamet Günü',\n",
              " 259: 'Akrep Kral',\n",
              " 4733: 'On Emir',\n",
              " 6367: 'Turist Ömer Arabistan’da',\n",
              " 5701: 'Sosyete Polisi',\n",
              " 4386: 'Michael Jackson’s This Is It',\n",
              " 1986: 'Dört Kardeş',\n",
              " 5053: 'R.V.',\n",
              " 3560: 'Kazanma Sanatı',\n",
              " 6288: 'Titanların Savaşı',\n",
              " 5947: 'Tatlı Bela',\n",
              " 6917: 'Yüreğimde Bir Delik',\n",
              " 4430: 'Mississipi Yanıyor',\n",
              " 562: 'Ateşli Geceler',\n",
              " 600: 'Ay',\n",
              " 3173: 'Jackie Brown',\n",
              " 1564: 'Cheaper by the Dozen 2',\n",
              " 6499: 'Uzaylı Arkadaşım',\n",
              " 2802: 'Halloween 2',\n",
              " 7264: 'Ölüm Sessizliği',\n",
              " 4522: 'Mutluluk Zamanı',\n",
              " 3159: 'Iwo Jima’dan Mektuplar',\n",
              " 5182: 'Rosemary’nin Bebeği',\n",
              " 2192: 'Evcil Hayvanların Gizli Yaşamı',\n",
              " 6057: 'Tess',\n",
              " 7471: 'İncir Reçeli',\n",
              " 5348: 'Scooby Doo 2: Canavarlar Kaçtı',\n",
              " 916: 'Bayan Daisy’nin Şoförü',\n",
              " 136: 'A Short Film About Love',\n",
              " 3430: 'Karanlıklar Ülkesi: Kan Savaşları',\n",
              " 828: 'Bahis',\n",
              " 5745: 'Stay Alive',\n",
              " 1801: \"Deliler Fatih'in Fermanı\",\n",
              " 5640: 'Son Durak 3',\n",
              " 3591: 'Kefernahum',\n",
              " 90: '4N1K',\n",
              " 4683: 'Oblivion',\n",
              " 570: 'Atları da Vururlar',\n",
              " 2550: 'Git Başımdan!',\n",
              " 4111: 'Lion',\n",
              " 3978: 'Kıyamet',\n",
              " 5427: 'Sessiz Tepe',\n",
              " 4972: 'Piyano',\n",
              " 4462: 'Mr. Brooks',\n",
              " 1765: 'Deepwater Horizon: Büyük Felaket',\n",
              " 1876: 'Direniş Karatay',\n",
              " 607: 'Aya Seyahat',\n",
              " 5405: 'Seninle Bir Ömür',\n",
              " 2265: 'Falling Down',\n",
              " 2983: 'Herkes Seni Seviyorum Der',\n",
              " 5907: 'Takva',\n",
              " 363: 'Amerikan Pastası: Düğün',\n",
              " 3597: 'Kelebeğin Rüyası',\n",
              " 2277: 'Fargo',\n",
              " 3388: 'Kara Gözlüm',\n",
              " 6758: 'Yaratık 3',\n",
              " 6607: 'Videodrome',\n",
              " 3013: 'Hiroşima Sevgilim',\n",
              " 2923: 'Hayvan',\n",
              " 669: 'Ağlayan Çayır',\n",
              " 2012: 'Dünyalı',\n",
              " 3551: 'Kayıp Çocuklar Şehri',\n",
              " 6432: 'Umut',\n",
              " 6991: 'Zerk',\n",
              " 6776: 'Yasak Bölge',\n",
              " 6481: 'Uzak Ülke',\n",
              " 3309: 'Kalpazanlar',\n",
              " 6461: 'Uptown Girls',\n",
              " 7394: 'Üçüncü Türden Yakınlaşmalar',\n",
              " 155: 'Abraham Lincoln:Vampir Avcısı',\n",
              " 556: 'Ateş ve Citroen',\n",
              " 2308: 'Fikrimin İnce Gülü-Sarı Mercedes',\n",
              " 1536: 'Cesur Civciv',\n",
              " 717: 'Aşk Yemini',\n",
              " 4635: 'Nikita',\n",
              " 6371: 'Turist Ömer Yamyamlar Arasında',\n",
              " 7325: 'Örümcek-Adam: Eve Dönüş',\n",
              " 533: 'Aslan Yürek',\n",
              " 6760: 'Yaratık: Diriliş',\n",
              " 6023: 'Tenacious D in the Pick of Destiny',\n",
              " 3565: 'Kaçak Gelin',\n",
              " 35: '15 Dakika',\n",
              " 422: 'Annemin Yarası',\n",
              " 5782: 'Sully',\n",
              " 4026: 'Labirent',\n",
              " 6554: 'Vampirler',\n",
              " 5112: 'Resident Evil 5: İntikam',\n",
              " 2919: 'Haydut',\n",
              " 4618: 'New York’ta Bir Sonbahar',\n",
              " 1703: 'Damdaki Kemancı',\n",
              " 6468: 'Utanç',\n",
              " 4089: 'Lego Filmi',\n",
              " 2328: 'Flawless',\n",
              " 5383: 'Sen Dünyaya Gelmeden',\n",
              " 335: 'Alvin ve Sincaplar: Yol Macerası',\n",
              " 3436: 'Karanlıktan Gelen',\n",
              " 248: 'Ajan Salt',\n",
              " 3959: 'Kırmızı Gezegen',\n",
              " 7138: 'Çok Şey Bilen Adam',\n",
              " 6953: 'Z',\n",
              " 7014: 'Zodiac',\n",
              " 3796: 'Kule Soygunu',\n",
              " 3200: 'John Tucker Must Die',\n",
              " 7412: 'İki Dil Bir Bavul',\n",
              " 3935: 'Küçük Deniz Kızı',\n",
              " 527: 'Asla Pes Etme',\n",
              " 4643: 'Ninja Scroll',\n",
              " 5807: 'Suç Unsuru',\n",
              " 2182: 'Esrar Bitti',\n",
              " 538: \"Assassin's Creed 3D\",\n",
              " 5278: 'Saksı Olmanın Faydaları',\n",
              " 6704: 'X-Men : Dark Phoenix',\n",
              " 7408: 'İhtiyarlara Yer Yok',\n",
              " 5233: 'Saatler',\n",
              " 3969: 'Kırılgan',\n",
              " 2900: 'Hayatımın Kadınısın',\n",
              " 7184: 'Çılgın Yabancı',\n",
              " 3346: 'Kanunun Ötesinde',\n",
              " 5958: 'Tavuklar Firarda',\n",
              " 6927: 'Yüzü Olmayan Adam',\n",
              " 2907: 'Hayatın Benim',\n",
              " 5294: \"Sammy'nin Maceraları 2\",\n",
              " 6047: 'Terminatör: Kurtuluş',\n",
              " 1224: 'Blitz',\n",
              " 7476: 'İnfazcı',\n",
              " 1994: 'Dövüşçü',\n",
              " 7301: 'Ölümlü Dünya',\n",
              " 7464: 'İnanılmaz Örümcek Adam',\n",
              " 2706: 'Gülün Adı',\n",
              " 3020: 'Hitman',\n",
              " 4887: 'Party, The',\n",
              " 3108: 'Hızlı ve Ölü',\n",
              " 5852: 'Sıcak Kalpler',\n",
              " 2358: 'Frida',\n",
              " 1097: 'Bilek Kesenler: Bir Aşk Hikâyesi',\n",
              " 3665: 'Kirli, Çürük ve Adi',\n",
              " 2031: 'Düğün Dernek',\n",
              " 3811: 'Kuraldışı',\n",
              " 4324: 'Megazeka 3D',\n",
              " 7125: 'Çiçero',\n",
              " 3559: 'Kazanma Hırsı',\n",
              " 6587: 'Venedik Taciri',\n",
              " 5612: 'Sokağın Kralları',\n",
              " 6037: 'Terabithia Köprüsü',\n",
              " 1028: 'Benim Dünyam',\n",
              " 1483: 'Cehennem Melekleri 2',\n",
              " 2300: 'Fever Pitch',\n",
              " 1636: 'Corelli’nin Mandolini',\n",
              " 1559: 'Charlotte Gray',\n",
              " 399: 'Ani Ölüm',\n",
              " 627: 'Ayı Kardeş',\n",
              " 7659: 'Şeytanı Gördüm',\n",
              " 4086: 'Leatherheads',\n",
              " 4377: 'Mezarına Tüküreceğim',\n",
              " 668: 'Ağlatan Oyun',\n",
              " 7511: 'İspanyol Pansiyonu',\n",
              " 1100: 'Bilinmeyen Kod',\n",
              " 2686: 'Göster Gününü 2',\n",
              " 6830: 'Yeni Bir Yaşam',\n",
              " 2645: 'Gökteki Kale',\n",
              " 4305: 'Maymunlar Cehenneminin Altında',\n",
              " 5649: 'Son Kalan',\n",
              " 6884: 'Yolcu',\n",
              " 7041: 'Zor Ölüm : Ölmek İçin Güzel Bir Gün',\n",
              " 3111: 'I Spy',\n",
              " 912: 'Bay Hiçkimse',\n",
              " 1057: 'Betty Blue',\n",
              " 4205: 'Malena',\n",
              " 2138: \"Ender's Game: Uzay Oyunları\",\n",
              " 4625: 'Neşeli Dalgalar',\n",
              " 2408: 'Gattaca',\n",
              " 114: '80 Günde Devr-i Alem',\n",
              " 4807: 'Oyunbozan Ralph',\n",
              " 6848: 'Yeraltı',\n",
              " 708: 'Aşk Tesadüfleri Sever',\n",
              " 5160: 'Rogue One: Bir Star Wars Hikayesi',\n",
              " 1460: 'Casanova',\n",
              " 3304: 'Kaldırım Serçesi',\n",
              " 4771: 'Orman Çocuğu',\n",
              " ...}"
            ]
          },
          "metadata": {},
          "execution_count": 42
        }
      ],
      "source": [
        "id_to_film_name = pd.Series(df.film_name.values,index=df.film_name_id).to_dict()\n",
        "id_to_film_name"
      ]
    },
    {
      "cell_type": "code",
      "execution_count": 43,
      "metadata": {
        "colab": {
          "base_uri": "https://localhost:8080/"
        },
        "id": "UxZkL9M1bm9B",
        "outputId": "92a8c88a-7c35-43e0-8c92-2a5da24b7f17"
      },
      "outputs": [
        {
          "output_type": "execute_result",
          "data": {
            "text/plain": [
              "{'Sevginin Gücü': 5458,\n",
              " 'Teksas Katliamı 3D': 6007,\n",
              " 'Baba 3': 796,\n",
              " 'Geçmişin Gölgesinde': 2521,\n",
              " 'Başlangıç': 940,\n",
              " 'Ölü Ozanlar Derneği': 7235,\n",
              " 'Cinderella Man': 1590,\n",
              " 'Harry Potter ve Ateş Kadehi': 2833,\n",
              " 'Ocean’s Eleven': 4690,\n",
              " 'Hotel Rwanda': 3051,\n",
              " 'Karşı Pencere': 3491,\n",
              " 'Melekler  Şehri': 4329,\n",
              " 'Benimle Kal': 1040,\n",
              " 'Muhsin Bey': 4477,\n",
              " 'Terminal': 6041,\n",
              " 'Matrix Reloaded': 4276,\n",
              " 'Kutup Macerası': 3867,\n",
              " 'İçimdeki Deniz': 7562,\n",
              " 'İlk Korku': 7448,\n",
              " 'Vertigo': 6596,\n",
              " 'Mumya': 4491,\n",
              " 'Avengers: Endgame': 591,\n",
              " 'Gemide': 2461,\n",
              " 'Köstebek': 3903,\n",
              " 'Frekans': 2357,\n",
              " 'Rocky 4': 5157,\n",
              " 'Anestezi': 391,\n",
              " 'Benjamin Button’ın Tuhaf Hikayesi': 1042,\n",
              " 'Masumiyet': 4268,\n",
              " 'Korku Seansı 2': 3736,\n",
              " 'Kung Fu Panda': 3806,\n",
              " 'Ben, Robot': 999,\n",
              " 'The Imitation Game: Enigma': 6158,\n",
              " 'Indiana Jones: Kamçılı Adam': 3134,\n",
              " 'Vali': 6544,\n",
              " 'Bir Zamanlar Batıda': 1163,\n",
              " 'Büyülü Çift': 1404,\n",
              " 'Karanlıklar Ülkesi': 3428,\n",
              " 'Gran Torino': 2611,\n",
              " 'Pan’ın Labirenti': 4839,\n",
              " 'Next': 4621,\n",
              " 'Aşk Her Yerde': 691,\n",
              " 'Milyarder': 4403,\n",
              " 'Eurotrip': 2187,\n",
              " 'Benzersiz': 1046,\n",
              " 'Yarından Sonra': 6770,\n",
              " 'Yağmurdan Önce': 6797,\n",
              " '60 Saniye': 102,\n",
              " 'Sen Uyurken': 5388,\n",
              " 'Kader': 3256,\n",
              " '12 Yıllık Esaret': 19,\n",
              " 'Günah Şehri': 2717,\n",
              " 'Gizli Teşkilat': 2580,\n",
              " 'Duvar': 1968,\n",
              " \"Pi'nin Yaşamı\": 4954,\n",
              " 'Efsane Adam': 2064,\n",
              " '1900 Efsanesi': 42,\n",
              " 'Efsane Beşli': 2065,\n",
              " 'Norbit': 4657,\n",
              " 'Senden Nefret Etmemin 10 Sebebi': 5395,\n",
              " 'Ant-Man ve Wasp': 437,\n",
              " 'Arı Filmi': 506,\n",
              " 'Daima Lilya': 1692,\n",
              " 'Banka İşi': 865,\n",
              " 'Hızlı ve Öfkeli 5: Rio Soygunu': 3102,\n",
              " 'Korkunç Bir Film 3': 3745,\n",
              " 'Büyük Hazine': 1381,\n",
              " 'Düşler Ülkesi': 2042,\n",
              " 'Günahkar': 2721,\n",
              " 'Kehanet': 3592,\n",
              " 'A Love Song for Bobby Long': 128,\n",
              " 'Paris, Seni Seviyorum': 4873,\n",
              " 'Sonbahar': 5678,\n",
              " 'CM101MMXI FUNDAMENTALS': 1411,\n",
              " 'Full Metal Jacket': 2364,\n",
              " 'Kaya': 3520,\n",
              " 'Bu Çocuğun Hayatı': 1319,\n",
              " 'The Hateful Eight': 6152,\n",
              " 'Navaron’un Topları': 4575,\n",
              " 'Radio': 5057,\n",
              " 'Sürüsüne Bereket': 5848,\n",
              " 'Anastasia': 387,\n",
              " 'Zor Baba ve Dünür': 7029,\n",
              " 'Mançuryalı Aday': 4236,\n",
              " 'Judge Dredd': 3215,\n",
              " 'Su ve Ateş': 5772,\n",
              " 'Ninja Kaplumbağalar': 4638,\n",
              " 'The Angry Birds Movie': 6082,\n",
              " 'Rebecca': 5081,\n",
              " 'Lilo ve Stiç': 4106,\n",
              " 'Gandhi': 2393,\n",
              " 'Babam': 806,\n",
              " 'Fenomen': 2295,\n",
              " 'Erkekler Ağlamaz': 2160,\n",
              " 'Senin Adın': 5402,\n",
              " 'Herkesin Keyfi Yerinde': 2988,\n",
              " 'Vahşi Duygular': 6535,\n",
              " 'Başkanın Adamları': 938,\n",
              " 'Şarküteri': 7609,\n",
              " 'Gerçeğe Çağrı': 2501,\n",
              " \"Bir Zamanlar Anadolu'da\": 1161,\n",
              " 'Ölüm Günün Kutlu Olsun': 7251,\n",
              " 'Yenilmez': 6844,\n",
              " 'Zer': 6990,\n",
              " 'Cop Out': 1635,\n",
              " 'Süper Polis': 5835,\n",
              " 'Eğer Yaşarsam': 2244,\n",
              " 'Karate Kid': 3446,\n",
              " 'Pokémon Dedektif Pikachu': 4987,\n",
              " 'Paylaşılmayan Tutkular': 4906,\n",
              " 'Zirveye Çıkış': 7010,\n",
              " 'Dunkirk': 1959,\n",
              " 'In the Mouth of Madness': 3132,\n",
              " 'Zorro Efsanesi': 7046,\n",
              " 'Çılgın Marslılar': 7179,\n",
              " 'Tutku Nehri': 6383,\n",
              " 'Üç Harfliler: Beddua': 7374,\n",
              " 'Solace': 5616,\n",
              " 'Fedakar Kız': 2286,\n",
              " 'Liseli Polisler': 4112,\n",
              " 'Ant-Man': 436,\n",
              " 'Yeniden Sev Beni': 6843,\n",
              " 'Sideways': 5524,\n",
              " 'The Hitcher': 6154,\n",
              " 'Patron Bebek': 4898,\n",
              " 'Raising Arizona': 5061,\n",
              " 'Acemi Prenses: Kraliyet Nişanı': 166,\n",
              " 'Kahraman Pilotlar': 3288,\n",
              " 'Kral Şakir Oyun Zamanı': 3779,\n",
              " 'Meg: Derinlerdeki Dehşet': 4323,\n",
              " 'Yeşil Bölge': 6862,\n",
              " 'Savaş Sanatı': 5331,\n",
              " 'Bağla Beni': 923,\n",
              " 'Korku Kapanı': 3730,\n",
              " 'Güzel Dedektif': 2756,\n",
              " 'Nell': 4597,\n",
              " 'Cehenneme Bir Adım': 1496,\n",
              " 'The Graduate': 6146,\n",
              " 'Rüzgarlı Vadi': 5226,\n",
              " 'Şans Sende': 7598,\n",
              " 'İvan’ın Çocukluğu': 7533,\n",
              " 'İlkbahar, Yaz, Sonbahar, Kış... Ve İlkbahar': 7455,\n",
              " 'Eylül Fırtınası': 2232,\n",
              " 'Filler ve Çimen': 2311,\n",
              " 'Dolores': 1903,\n",
              " 'Lolita': 4126,\n",
              " 'Beklenmeyen Şahit': 972,\n",
              " 'Karga 2': 3467,\n",
              " 'Sihirli Dadı': 5532,\n",
              " 'Aramızdaki Sarışın': 473,\n",
              " 'Murat Kaptan UK2911 3D': 4499,\n",
              " 'Aşkın (500) Günü': 756,\n",
              " 'Siyah Giyen Adamlar 2': 5575,\n",
              " 'Michael Collins': 4385,\n",
              " 'Dila Hanım': 1864,\n",
              " 'Siyah Giyen Adamlar 3': 5576,\n",
              " 'Without a Paddle': 6687,\n",
              " 'Büyükler': 1400,\n",
              " 'Pi': 4953,\n",
              " 'Arabalar 3': 458,\n",
              " 'Alvin ve Sincaplar: Eğlence Adası': 334,\n",
              " 'Macera Adası': 4166,\n",
              " 'Bumblebee': 1339,\n",
              " 'Lanetliler Kraliçesi': 4061,\n",
              " 'Ice Princess': 3120,\n",
              " 'Kasaba': 3495,\n",
              " 'Küçük Cadı Kiki': 3934,\n",
              " 'Yol Arkadaşım': 6879,\n",
              " 'Uçuş': 6514,\n",
              " 'O Da Beni Seviyor': 4675,\n",
              " 'Arınma Gecesi: Anarşi': 510,\n",
              " 'Akira': 254,\n",
              " 'Osmosis Jones': 4779,\n",
              " 'Salaklar Sofrası': 5285,\n",
              " 'Yaramaz Harry': 6752,\n",
              " 'Artist': 503,\n",
              " 'Yedinci Kıta': 6819,\n",
              " 'Malta Şahini': 4208,\n",
              " 'Kızıl Ejder': 4002,\n",
              " 'Infernal Affairs': 3137,\n",
              " 'Hayalimdeki Aşk': 2875,\n",
              " 'Sevgili': 5445,\n",
              " 'Beni Unutma': 1017,\n",
              " 'Batı Cephesinde Yeni Bir Şey Yok': 906,\n",
              " 'Meleklerin Düş Yaşamı': 4332,\n",
              " 'Deha': 1770,\n",
              " 'Kick-Ass': 3626,\n",
              " 'Black': 1211,\n",
              " 'Zaman Ötesi': 6970,\n",
              " 'Yıldız Gemisi Askerleri': 6938,\n",
              " 'Korkunç Bir Film 2': 3744,\n",
              " 'Love, Simon': 4147,\n",
              " 'Pembe Panterin Dönüşü': 4919,\n",
              " 'Ip Man 3': 3147,\n",
              " 'Kızları Öp': 4001,\n",
              " 'Gölge Oyunu': 2655,\n",
              " 'The Boy in the Striped Pyjamas': 6094,\n",
              " 'Defiance': 1768,\n",
              " 'İçimdeki Ses': 7564,\n",
              " 'Cehennem Melekleri': 1482,\n",
              " 'Oyun': 4801,\n",
              " 'Mucize': 4469,\n",
              " 'Sen Benim Herşeyimsin': 5382,\n",
              " 'Kaynak': 3528,\n",
              " 'Gençlik Ateşi': 2479,\n",
              " 'Dünyanın Uzak Ucu': 2020,\n",
              " 'Kızımı Kurtarın': 4015,\n",
              " 'Acımasız Hayat': 181,\n",
              " 'Straight’in Hikayesi': 5760,\n",
              " 'Superman 2': 5793,\n",
              " 'Rio 2': 5134,\n",
              " 'Geyik Muhabbeti': 2510,\n",
              " 'Temel İçgüdü': 6017,\n",
              " 'Siyah Giyen Adamlar': 5574,\n",
              " 'Lütfen Beni Öldürme': 4156,\n",
              " 'Zaman Yolcusunun Karısı': 6968,\n",
              " 'Bir Zamanlar Meksika’da': 1165,\n",
              " 'Gizli Sayılar': 2578,\n",
              " 'Davacı': 1729,\n",
              " 'My Little Pony: Arkadaşlık Oyunları': 4529,\n",
              " 'Bin Dokuz Yüz Seksen Dört': 1106,\n",
              " 'Bülbülü Öldürmek': 1367,\n",
              " 'Ve Sonsuza Dek Mutlu Yaşadılar': 6579,\n",
              " 'Kahire’nin Mor Gülü': 3283,\n",
              " 'Ninja Kaplumbağalar 3D': 4641,\n",
              " 'Knockaround Guys': 3672,\n",
              " 'Contratiempo': 1632,\n",
              " 'G.D.O. KaraKedi': 2384,\n",
              " 'Köfte Yağmuru': 3887,\n",
              " 'Vidocq': 6608,\n",
              " 'Kahraman Şerif': 3291,\n",
              " 'Aşka Yolculuk': 740,\n",
              " 'Avustralya': 598,\n",
              " 'Merkez İstasyonu': 4354,\n",
              " 'The Fourth Kind': 6137,\n",
              " 'Savaşın Çiçekleri': 5338,\n",
              " 'Kaptan Phillips': 3368,\n",
              " 'Başka Semtin Çocukları': 932,\n",
              " 'Samurayın Gözyaşları': 5298,\n",
              " 'Seks Oyunları': 5366,\n",
              " 'Hesaplaşma': 2995,\n",
              " 'Şifre Merkür': 7682,\n",
              " 'Yalnız Kalpler': 6734,\n",
              " 'Hepsini Vur': 2960,\n",
              " 'Korkuyorum Anne': 3753,\n",
              " 'Avrupa': 593,\n",
              " 'Frankenstein': 2345,\n",
              " 'The Covenant': 6116,\n",
              " 'Star Trek Sonsuzluk': 5737,\n",
              " 'İftarlık Gazoz': 7400,\n",
              " 'Madalyon': 4177,\n",
              " 'Vahşi Doğa': 6534,\n",
              " 'Hayatım Yalan': 2897,\n",
              " 'Uygunsuz Gerçek': 6470,\n",
              " 'Kızıl Köşe': 4005,\n",
              " 'Büyük Açık': 1372,\n",
              " 'Somuncu Baba: Aşkın Sırrı': 5626,\n",
              " 'İbrahim Bey ve Kuran’ın Çiçekleri': 7397,\n",
              " 'Fur: An Imaginary Portrait of Diane Arbus': 2367,\n",
              " 'Bir Gün': 1131,\n",
              " 'Lanetli Tepe': 4058,\n",
              " 'İkinci Şans': 7429,\n",
              " 'Lady Vanishes, The': 4033,\n",
              " 'Baykuş Krallığı Efsanesi': 918,\n",
              " 'Kırık Ok': 3967,\n",
              " 'Bir Avuç Dolar': 1113,\n",
              " 'Sofra Sırları': 5606,\n",
              " 'Şampiyon': 7590,\n",
              " 'Günahkar Rahibeler': 2722,\n",
              " 'Ölülerin Şafağı': 7241,\n",
              " 'Zelig': 6986,\n",
              " 'Hayat Öpücüğü': 2889,\n",
              " 'Titus': 6290,\n",
              " 'Waking Life': 6640,\n",
              " 'Beyaz Saray Düştü': 1068,\n",
              " 'Vizontele Tuuba': 6623,\n",
              " 'Tutku Oyunları': 6384,\n",
              " 'Çit': 7121,\n",
              " 'Shazam! 6 Güç': 5489,\n",
              " 'Kurtuluş Son Durak': 3838,\n",
              " 'Maymunlar Cehennemi': 4299,\n",
              " 'Bill & Ted’s Bogus Journey': 1103,\n",
              " '300: Bir İmparatorluğun Yükselişi': 75,\n",
              " 'Kor': 3721,\n",
              " '50 Cesur Kemancı': 96,\n",
              " 'Yeşil Kart': 6865,\n",
              " 'Bolt': 1244,\n",
              " 'Kocan Kadar Konuş: Diriliş': 3680,\n",
              " 'Sihirbazın Çırağı': 5531,\n",
              " 'Ex Machina': 2222,\n",
              " 'Altın Hazineleri': 322,\n",
              " \"Bourne'un Mirası\": 1263,\n",
              " 'Amerikan Pastası: Buluşma': 362,\n",
              " 'Sylvia': 5821,\n",
              " '47 Ronin': 88,\n",
              " 'Sıkı Aynasızlar': 5858,\n",
              " 'Creed: Efsanenin Doğuşu': 1647,\n",
              " 'Baran': 870,\n",
              " 'Kara Yağmur': 3399,\n",
              " 'Ölümsüzler': 7306,\n",
              " 'İnci Küpeli Kız': 7470,\n",
              " 'Tomb Raider': 6300,\n",
              " 'Ad1m Ad2m C3nayet': 183,\n",
              " 'Başkanın Tüm Adamları': 939,\n",
              " 'Zaman Tükeniyor': 6965,\n",
              " 'Julie & Julia': 3220,\n",
              " 'Nadide Hayat': 4559,\n",
              " 'Cennet': 1507,\n",
              " 'Hadi İnşallah': 2783,\n",
              " 'Gel Git Ülkesi': 2443,\n",
              " 'Çıtır Kızlar': 7201,\n",
              " 'Senden Bana Kalan': 5393,\n",
              " 'Tatlı Yalanlar': 5955,\n",
              " 'Son Umut': 5664,\n",
              " 'Sınırsızlar Kulübü': 5871,\n",
              " '9. Kapı': 120,\n",
              " 'Çizmeli Kedi': 7123,\n",
              " 'Kışkırtma': 4018,\n",
              " 'Yaşam Kanıtı': 6800,\n",
              " '13': 23,\n",
              " 'Kral Arthur: Kılıç Efsanesi': 3774,\n",
              " 'John Rambo': 3199,\n",
              " 'Kaçış Yok': 3575,\n",
              " 'Beyaz Gezegen': 1064,\n",
              " 'Kan Borcu': 3317,\n",
              " 'Üç Sıradışı': 7385,\n",
              " 'İncir Reçeli 2': 7472,\n",
              " 'Aşka Davet': 735,\n",
              " 'Loraks': 4132,\n",
              " 'Rüzgarla Konuşanlar': 5224,\n",
              " 'Bana Şans Dile': 861,\n",
              " 'Paris’te Son Tango': 4877,\n",
              " 'Düşmanı Korurken': 2049,\n",
              " 'Creed II: Efsane Yükseliyor': 1646,\n",
              " 'Düşler Bahçesi': 2040,\n",
              " 'Boyun Eğmez': 1268,\n",
              " 'Muhbir': 4476,\n",
              " 'Stanley ve Iris': 5735,\n",
              " 'Kuşatma': 3879,\n",
              " 'Nasıl Yani': 4573,\n",
              " 'Yarının Dünyası': 6772,\n",
              " 'Kaptan Fantastik': 3366,\n",
              " 'Star Wars: Güç Uyanıyor': 5740,\n",
              " 'Deliormanlı': 1802,\n",
              " 'Baskın': 888,\n",
              " '13. Cuma': 29,\n",
              " 'Meksikalı': 4325,\n",
              " 'The Condemned': 6111,\n",
              " 'Tehlikeli Saatler': 5987,\n",
              " 'Mama': 4209,\n",
              " 'Alev Kapanı': 285,\n",
              " 'M.Ö. 10.000': 4160,\n",
              " 'El Dorado Yolu': 2089,\n",
              " 'Doktor Jivago': 1892,\n",
              " 'Büyük Günahlar': 1379,\n",
              " 'Çık Aramızdan': 7149,\n",
              " 'İmparatorlar Kulübü': 7458,\n",
              " 'Kök': 3889,\n",
              " '17 Yeniden': 38,\n",
              " 'Bad Boys': 821,\n",
              " 'Turist': 6364,\n",
              " 'Köpekler': 3895,\n",
              " 'Kong: Kafatası Adası': 3711,\n",
              " 'Spotlight': 5726,\n",
              " 'Seçilmiş': 5485,\n",
              " 'Mr. Smith Goes to Washington': 4465,\n",
              " 'Gizli Ortak': 2576,\n",
              " 'Sekiz Buçuk': 5362,\n",
              " 'Koralin ve Gizli Dünya': 3722,\n",
              " 'Patron Mutlu Son İstiyor': 4899,\n",
              " 'Hitman: Ajan 47': 3021,\n",
              " 'Kaçma Birader': 3568,\n",
              " 'Zoom': 7024,\n",
              " 'Kırık Çember': 3968,\n",
              " 'Günden Kalanlar': 2729,\n",
              " 'Persepolis': 4938,\n",
              " 'Beş Vakit': 1084,\n",
              " 'Çatlak Profesör': 7093,\n",
              " 'Güzel Dedektif 2: Silahlı ve Cazibeli': 2757,\n",
              " 'Özgürlük Savaşı': 7349,\n",
              " 'Ölümcül Oyunlar': 7291,\n",
              " 'Acemi Öğrenci Avcı Öğretmen': 168,\n",
              " 'Evim': 2209,\n",
              " 'Bridget Jones: Mantığın Sınırı': 1288,\n",
              " 'Testere 5': 6063,\n",
              " 'Ufuk Faciası': 6421,\n",
              " 'Şantaj': 7604,\n",
              " 'Şark Vaatleri': 7608,\n",
              " 'Tarzan': 5941,\n",
              " 'Üçüncü Adam': 7391,\n",
              " 'Zaman': 6961,\n",
              " 'Field of Dreams': 2304,\n",
              " 'Arabesk': 459,\n",
              " 'Goya’nın Hayaletleri': 2609,\n",
              " 'Pek Yakında': 4911,\n",
              " 'Hayat Treni': 2887,\n",
              " 'Sonsuz Sokaklar': 5685,\n",
              " 'Çifte Tazminat': 7110,\n",
              " 'Geceyarısı Kovboyu': 2439,\n",
              " 'Hükümet Kadın 2': 3087,\n",
              " 'Aquamarine': 454,\n",
              " 'Alacakaranlık': 269,\n",
              " 'İstanbul Kanatlarımın Altında': 7514,\n",
              " 'Kötü Eğitim': 3906,\n",
              " 'Çakallarla Dans 2 : Hastasıyız Dede': 7065,\n",
              " 'Chasing Liberty': 1560,\n",
              " 'Hangover 3: Felekten Bir Gece': 2814,\n",
              " 'Arka Bahçe': 482,\n",
              " 'Cinayet Gecesi': 1584,\n",
              " 'Organize İşler': 4763,\n",
              " 'Siccin 3: Cürmü Aşk': 5517,\n",
              " 'Martıların Efendisi': 4254,\n",
              " 'Ninja Turtles': 4644,\n",
              " 'Fırtına Anı': 2376,\n",
              " 'Benim Adım Joe': 1021,\n",
              " 'Pan': 4832,\n",
              " 'Arka Sokaklar': 484,\n",
              " 'Mükemmel Plan': 4537,\n",
              " 'Rebound': 5082,\n",
              " 'Bak Şu Köpeğe': 833,\n",
              " 'John Carter': 3196,\n",
              " 'Düşler, Tutkular & Suçlar': 2043,\n",
              " 'Siccin': 5515,\n",
              " 'Terkedilmiş': 6039,\n",
              " 'Kansız': 3342,\n",
              " 'Hugo': 3069,\n",
              " 'Şeytan Ruhlu İnsanlar': 7646,\n",
              " 'Malefiz: Kötülüğün Gücü': 4204,\n",
              " 'Zor Saatler': 7035,\n",
              " \"Bir Zamanlar Hindistan'da\": 1164,\n",
              " 'Galaksinin Koruyucuları 2': 2391,\n",
              " 'Kar Köpekleri': 3379,\n",
              " 'Karanlıklar Prensi': 3427,\n",
              " 'SüngerBob Kare Pantolon': 5830,\n",
              " '39. Dosya': 77,\n",
              " 'All About Eve': 307,\n",
              " 'Red 2': 5092,\n",
              " 'Barda': 875,\n",
              " 'Sonuna Kadar': 5692,\n",
              " \"Entelköy Efeköy'e Karşı\": 2144,\n",
              " 'Şeytan Çıkmazı': 7651,\n",
              " 'Maymunlar Cehennemi: Savaş': 4302,\n",
              " 'Elim Belim Bağlı': 2100,\n",
              " 'Mutluluk': 4520,\n",
              " 'Dünyanın Merkezine Yolculuk': 2016,\n",
              " 'Alien Predator’e Karşı': 299,\n",
              " 'Yeni Yıl Şarkısı': 6839,\n",
              " 'Yan Odadan Melodiler': 6739,\n",
              " 'Köprüüstü Aşıkları': 3899,\n",
              " 'Kanunsuzlar': 3344,\n",
              " 'Cenneti Beklerken': 1513,\n",
              " 'Two Brothers': 6394,\n",
              " 'Şansa Bak': 7599,\n",
              " 'Bir Erkek Hakkında': 1125,\n",
              " 'Beni Adınla Çağır': 1008,\n",
              " 'Che: Birinci Bölüm': 1562,\n",
              " 'Jeanne D’Arc': 3185,\n",
              " 'Sosyal Ağ': 5700,\n",
              " 'Ninja’nın İntikamı': 4645,\n",
              " 'Kirli Harry': 3660,\n",
              " 'Olimpo Garajı': 4718,\n",
              " 'Baron Munchausen’in Maceraları': 878,\n",
              " 'Ölüm Günün Kutlu Olsun 2': 7252,\n",
              " 'Missing, The': 4426,\n",
              " 'Arabalar 2': 457,\n",
              " 'Deli Deli Olma': 1790,\n",
              " 'Gerçek Masallar': 2495,\n",
              " 'Gözetleme Kulesi': 2689,\n",
              " '28 Gün': 63,\n",
              " 'Kapan': 3356,\n",
              " 'Amerikan Sapığı': 365,\n",
              " 'Tehlikeli Yürüyüş': 5994,\n",
              " 'Gridiron Gang': 2627,\n",
              " 'Kod Adı: U.N.C.L.E.': 3689,\n",
              " \"Yeni Nesil Ajan: Xander Cage'in Dönüşü\": 6837,\n",
              " 'Nisan Devrimi': 4646,\n",
              " 'Yetenekli Bay Ripley': 6858,\n",
              " 'Dokuz Buçuk Hafta': 1895,\n",
              " 'The Apartment': 6083,\n",
              " 'Canavarlar Yaratıklara Karşı': 1437,\n",
              " 'Batman Beyond: Joker’in Dönüşü': 896,\n",
              " 'Solino': 5619,\n",
              " 'Ninja Kaplumbağalar 2': 4639,\n",
              " 'Kediler ve Köpekler': 3585,\n",
              " 'Asteriks & Oburiks Sezar’a Karşı': 540,\n",
              " 'King of Comedy, The': 3650,\n",
              " 'Nick of Time': 4630,\n",
              " 'Begin Again': 961,\n",
              " 'Chungking Express': 1571,\n",
              " 'Korsan': 3755,\n",
              " 'The Karate Kid': 6167,\n",
              " 'Kumsal': 3801,\n",
              " 'Batı Yakasının Hikayesi': 907,\n",
              " 'G.I. Joe: Kobra’nın Yükselişi': 2385,\n",
              " 'Çakallarla Dans 3: Sıfır Sıkıntı': 7066,\n",
              " 'Ruhlar Evi': 5194,\n",
              " 'Ölümsüz': 7302,\n",
              " \"Kardeşim İçin Der'a\": 3462,\n",
              " 'Prime': 5027,\n",
              " 'Kirli Dans 2': 3659,\n",
              " \"Fantastik 4: Gümüş Sörfçü'nün Yükselişi\": 2272,\n",
              " 'Komşum Totoro': 3707,\n",
              " 'Korkunç Bir Film 4': 3746,\n",
              " 'Şövalye': 7706,\n",
              " 'Piyanist': 4970,\n",
              " 'Hasat Zamanı': 2844,\n",
              " 'Everest': 2203,\n",
              " 'Cani': 1440,\n",
              " 'Düşlerin Efendisi': 2045,\n",
              " 'Kutup Ekspresi': 3866,\n",
              " 'Hansel ve Gretel: Cadı Avcıları': 2822,\n",
              " 'Çayırın Sakinleri': 7099,\n",
              " 'Pembe Panter': 4917,\n",
              " \"Korkak Robert Ford'un Jesse James Suikastı\": 3723,\n",
              " 'Peki Şimdi Nereye?': 4913,\n",
              " 'Metropolis': 4371,\n",
              " 'Across the Universe': 170,\n",
              " 'The Soloist': 6225,\n",
              " 'Infamous': 3136,\n",
              " 'Üçkağıtçı Mortdecai': 7389,\n",
              " 'Top Gun': 6307,\n",
              " 'Mutlak Adalet': 4511,\n",
              " 'Annabelle': 411,\n",
              " 'Kasap': 3497,\n",
              " 'Yeryüzündeki Son Aşk': 6853,\n",
              " 'Aşk Oyunu': 700,\n",
              " 'Herkül: Özgürlük Savaşçısı': 2992,\n",
              " 'Kirli Tatlı Şeyler': 3663,\n",
              " 'Toprak Altında': 6309,\n",
              " 'Karınca Kapanı': 3484,\n",
              " 'Barbershop': 873,\n",
              " 'Silici': 5544,\n",
              " 'Testere 3D': 6061,\n",
              " 'Buhar Çocuk': 1329,\n",
              " 'Afacanlar Yuvada': 217,\n",
              " 'Fırtınalı Aşk': 2377,\n",
              " 'Bir Dilim Suç': 1123,\n",
              " 'Sis ve Gece': 5569,\n",
              " 'Invasion of the Body Snatchers': 3143,\n",
              " 'Mutlu Gilmore': 4517,\n",
              " 'Halloween 5: Michael Myers’ın İntikamı': 2805,\n",
              " 'Kalifornia': 3306,\n",
              " 'Satıcı': 5324,\n",
              " 'Uzak': 6478,\n",
              " 'Stalker': 5734,\n",
              " 'Aşk Treni': 709,\n",
              " 'Aşk, Şimdi!': 733,\n",
              " 'Cennetin Çocukları': 1521,\n",
              " 'Hiç Korkmuyorum': 3025,\n",
              " 'Operasyon: Argo': 4755,\n",
              " 'Sevgili Frankie': 5446,\n",
              " 'Şirinler 2': 7692,\n",
              " 'Ailecek Şaşkınız': 245,\n",
              " 'Bonnie ve Clyde': 1250,\n",
              " 'Everything Is Illuminated': 2205,\n",
              " 'Laleli’de Bir Azize': 4040,\n",
              " 'Jack Reacher': 3163,\n",
              " 'Modern Çağın Samurayları': 4438,\n",
              " 'Okuyucu': 4705,\n",
              " 'Mavi En Sıcak Renktir': 4284,\n",
              " 'Antwone Fisher': 442,\n",
              " 'Sibirya Berberi': 5510,\n",
              " 'Halka 2': 2798,\n",
              " 'Fasulye': 2280,\n",
              " 'Şirket': 7694,\n",
              " '400 Darbe': 83,\n",
              " 'Blade: Trinity': 1220,\n",
              " 'Mısır Prensi': 4554,\n",
              " 'Haberci': 2777,\n",
              " 'Bıçak Sırtı': 1408,\n",
              " 'Riddick': 5123,\n",
              " 'Hızlı ve Öfkeli: Hobbs ve Shaw': 3106,\n",
              " 'Cehennem': 1478,\n",
              " 'Cumhuriyet': 1666,\n",
              " 'Final Fantasy': 2312,\n",
              " 'Dr. No': 1942,\n",
              " 'Peter Pan': 4944,\n",
              " 'Loving Vincent': 4149,\n",
              " 'Boleyn Kızı': 1241,\n",
              " 'Acı Tatlı Hayat': 178,\n",
              " 'Rescue Dawn': 5111,\n",
              " 'Jackass: The Movie': 3171,\n",
              " 'Çalıntı Hayat': 7077,\n",
              " 'Ölümcül Dövüş': 7283,\n",
              " '127 Saat': 22,\n",
              " 'Christine': 1569,\n",
              " 'Ölüm Emri': 7248,\n",
              " 'İçimdeki Yangın': 7566,\n",
              " 'Wasabi': 6652,\n",
              " 'Hayalperest': 2879,\n",
              " 'Alvin ve Sincaplar': 332,\n",
              " 'Maskeli Kahraman Zorro': 4265,\n",
              " '1408': 33,\n",
              " \"Bayan Peregrine'in Tuhaf Çocukları\": 917,\n",
              " 'Gel Arkadaş Kalalım': 2442,\n",
              " 'Horton': 3047,\n",
              " 'Tuhaf Günler': 6358,\n",
              " 'Ejderha Dövmeli Kız': 2072,\n",
              " 'Kurtuluş Günü': 3836,\n",
              " 'Mrs. Doubtfire': 4466,\n",
              " 'Eragon': 2153,\n",
              " 'Tut Sözünü': 6377,\n",
              " 'Parçalanmış': 4888,\n",
              " 'Transformers 5: Son Şövalye': 6330,\n",
              " 'Davetsiz Çapkınlar': 1735,\n",
              " 'Paris, Texas': 4874,\n",
              " 'Sultan': 5783,\n",
              " 'Sınırları Aşmak': 5869,\n",
              " 'Zafere Hücum': 6959,\n",
              " 'Yerçekimi': 6855,\n",
              " 'Avare': 586,\n",
              " 'Anlat İstanbul': 406,\n",
              " 'Korkunç Bir Film': 3743,\n",
              " 'Dalgaları Aşmak': 1696,\n",
              " 'İskoçyalı': 7508,\n",
              " 'Eyyvah Eyvah': 2239,\n",
              " 'Protesto': 5040,\n",
              " 'Kral Arthur': 3773,\n",
              " 'Görevimiz Tehlike': 2674,\n",
              " 'Gizli Dünya': 2567,\n",
              " 'Captain Marvel': 1451,\n",
              " 'Anlatamadım mı?': 407,\n",
              " 'Man of Steel': 4213,\n",
              " 'Kung Fu Panda 3': 3808,\n",
              " 'Özgürlüğün Rengi': 7355,\n",
              " 'Zafer': 6954,\n",
              " 'Davetsiz': 1732,\n",
              " 'İnşaat': 7500,\n",
              " 'Uçurtma Avcısı': 6511,\n",
              " 'Tuzak': 6391,\n",
              " 'Scoop': 5350,\n",
              " 'Uzun Hikaye': 6504,\n",
              " 'Bridget Jones’un Günlüğü': 1290,\n",
              " 'Being There': 967,\n",
              " 'Yüreğinin Sesi': 6920,\n",
              " 'Aşk': 676,\n",
              " 'Öteki Taraf': 7330,\n",
              " 'Arkadaş': 485,\n",
              " 'Garfield': 2399,\n",
              " 'G.O.R.A.': 2387,\n",
              " 'Muhteşem Yedili': 4485,\n",
              " 'Skyfall': 5593,\n",
              " 'Karanlıklar Ülkesi: Lycanların Yükselişi': 3431,\n",
              " 'Aşk Mektubu': 696,\n",
              " 'Grinç': 2631,\n",
              " 'Takers': 5895,\n",
              " 'Ekşi Elmalar': 2086,\n",
              " 'Kara Bela': 3382,\n",
              " 'Mandıra Filozofu': 4223,\n",
              " 'Rehine': 5100,\n",
              " 'Aşkın Büyüsü': 759,\n",
              " 'Evrenin Askerleri': 2217,\n",
              " 'Rec: Ölüm Çığlığı': 5085,\n",
              " 'Alacakaranlık Efsanesi: Şafak Vakti Bölüm 1': 273,\n",
              " 'Burjuvazinin Gizemli Çekiciliği': 1345,\n",
              " 'Taksi': 5901,\n",
              " 'Babamın Penguenleri': 814,\n",
              " 'İnat Hikayeleri': 7466,\n",
              " 'New York Minute': 4610,\n",
              " 'Bana Söz Ver': 860,\n",
              " 'Aşk Üçgeni': 731,\n",
              " 'Fokus': 2333,\n",
              " 'Postacı Kapıyı İki Kere Çalar': 5004,\n",
              " 'Özel Tim': 7338,\n",
              " 'Gece Vurgunu': 2422,\n",
              " 'You Got Served': 6894,\n",
              " 'Kan Dökülecek': 3318,\n",
              " 'Ulak': 6422,\n",
              " 'Muhteşem Güzellik': 4480,\n",
              " 'Halloween: 20 Yıl Sonra': 2806,\n",
              " 'Eğer...': 2245,\n",
              " 'Küre': 3926,\n",
              " 'Fantastik Dörtlü': 2275,\n",
              " 'Yojimbo': 6874,\n",
              " 'Aşka İki Hafta': 743,\n",
              " 'Limonata': 4109,\n",
              " 'Beyza’nın Kadınları': 1081,\n",
              " 'Hellboy 2: Altın Ordu': 2948,\n",
              " 'O... Çocukları': 4682,\n",
              " 'Turbo': 6363,\n",
              " 'Poseidon’dan Kaçış': 5001,\n",
              " 'Beyaz Zakkum': 1071,\n",
              " 'Kurt': 3818,\n",
              " 'Orman Kaçkını': 4768,\n",
              " 'Tabanca': 5889,\n",
              " 'Polly Gelince': 4992,\n",
              " 'Hummingbird': 3072,\n",
              " 'Roxbury’de Bir Gece': 5184,\n",
              " 'Kayıp Çocuklar': 3550,\n",
              " 'Honey': 3041,\n",
              " 'Çirkin Ördek Yavrusu ile Farecik': 7120,\n",
              " 'Karmakarışık': 3475,\n",
              " 'Son Veda': 5666,\n",
              " 'Turist Ömer Dümenciler Kralı': 6369,\n",
              " 'Taş Mektep': 5970,\n",
              " 'Gerçek Öpücük': 2500,\n",
              " 'Herkül': 2989,\n",
              " 'Türev': 6402,\n",
              " 'Kiralık Sevgili': 3656,\n",
              " 'İz Peşinde': 7550,\n",
              " 'Kaçış Planı': 3572,\n",
              " 'Göz': 2687,\n",
              " 'Çalıntı Gözler': 7076,\n",
              " 'Cehennem Melekleri 3': 1484,\n",
              " 'Hain': 2789,\n",
              " 'Fury': 2369,\n",
              " 'All the King’s Men': 310,\n",
              " 'Kiss Kiss Bang Bang': 3667,\n",
              " 'Çatlak Yönetmen': 7095,\n",
              " 'Sakın Konuşma': 5279,\n",
              " 'Savaş Vadisi': 5333,\n",
              " 'Müzede Bir Gece 2': 4549,\n",
              " 'Lorenzo’nun Yağı': 4135,\n",
              " 'Marvin’in Odası': 4255,\n",
              " 'Gitarım ve Silahım': 2551,\n",
              " 'Aşkta Her Şey Mümkün': 748,\n",
              " \"Justin Bieber's Believe\": 3237,\n",
              " 'Hayalet Sürücü': 2869,\n",
              " 'Çılgın': 7153,\n",
              " 'Gremlinler': 2622,\n",
              " 'Red': 5091,\n",
              " 'Kardeşim Benim': 3459,\n",
              " 'Terminatör: Genisys': 6045,\n",
              " 'Saklambaç': 5271,\n",
              " 'Omuz Omuza': 4730,\n",
              " 'Ben X': 992,\n",
              " 'Aşıklar Şehri': 786,\n",
              " 'Fakülte': 2263,\n",
              " 'Benimle Oynar mısın?': 1041,\n",
              " 'Sonsuzluk ve Bir Gün': 5691,\n",
              " 'Canım Kardeşim': 1447,\n",
              " 'Cennetin Rengi': 1520,\n",
              " 'Bizi Hatırla': 1202,\n",
              " 'Jüri': 3241,\n",
              " 'Need For Speed: Hız Tutkusu': 4587,\n",
              " 'New York Çeteleri': 4614,\n",
              " 'Jurassic World: Yıkılmış Krallık': 3233,\n",
              " 'Prens ve Ben': 5016,\n",
              " 'Kefaret': 3590,\n",
              " 'İsyan': 7521,\n",
              " 'Kaybedenler': 3522,\n",
              " 'Nerdesin Be Birader?': 4600,\n",
              " 'Ateşli Piliç': 564,\n",
              " 'Dağ': 1742,\n",
              " 'Rambo 3': 5064,\n",
              " 'Altına Hücum': 329,\n",
              " 'Sisler Evi': 5570,\n",
              " 'A Moment to Remember': 133,\n",
              " 'Büyük Umutlar': 1395,\n",
              " 'Sinbad: Yedi Denizler Efsanesi': 5553,\n",
              " 'Delibal': 1795,\n",
              " 'Mad Max': 4169,\n",
              " 'Wimbledon': 6678,\n",
              " 'Alis Harikalar Diyarında': 300,\n",
              " 'Anlat Bakalım': 405,\n",
              " 'Yay': 6786,\n",
              " 'Pembe Panterin İntikamı': 4920,\n",
              " 'Tez': 6071,\n",
              " 'Thelma ve Louise': 6257,\n",
              " 'Maskeli Süvari': 4266,\n",
              " 'Dip huet seung hung': 1870,\n",
              " 'Acemi Prenses': 165,\n",
              " 'Kahvaltı Kulübü': 3294,\n",
              " 'Adalet': 188,\n",
              " 'Kiracı': 3655,\n",
              " \"Hz. Muhammed: Allah'ın Elçisi\": 3079,\n",
              " 'Shutter': 5507,\n",
              " 'İtiraf': 7528,\n",
              " 'Ejder’in Öpücüğü': 2077,\n",
              " 'Romeo Ölmeli': 5177,\n",
              " 'Tutsak': 6388,\n",
              " 'Powder': 5007,\n",
              " 'Dört Cesur Arkadaş': 1985,\n",
              " 'Üçüncü Göz': 7392,\n",
              " 'Küçük Prens': 3947,\n",
              " 'Özgürlüğün Elli Tonu': 7354,\n",
              " 'We Are Marshall': 6656,\n",
              " 'F Tipi Film': 2254,\n",
              " 'Kobra': 3674,\n",
              " 'Osama': 4774,\n",
              " 'Elysium : Yeni Cennet': 2118,\n",
              " 'Su Dünyası': 5771,\n",
              " 'Casuslar Köprüsü': 1469,\n",
              " 'Sarmaşık': 5314,\n",
              " 'Parlayan Hançerler': 4881,\n",
              " 'Zengin Avcısı': 6987,\n",
              " 'Sekizinci Gün': 5363,\n",
              " 'Aşk Zamanı': 719,\n",
              " 'Gece ve Gündüz': 2425,\n",
              " 'Hayatın Hakkını Ver': 2908,\n",
              " 'Çocuklar Sana Emanet': 7129,\n",
              " 'Conan 2': 1626,\n",
              " 'Schmidt Hakkında': 5347,\n",
              " 'Arzunun Kanatları': 504,\n",
              " 'Yeni Yıl': 6838,\n",
              " 'Özgürlük Yolu': 7351,\n",
              " 'Bulut Atlası': 1334,\n",
              " 'Basit Bir Plan': 886,\n",
              " 'Erkeğin Gözyaşları': 2164,\n",
              " 'Robinson Ailesi': 5140,\n",
              " 'Mezarını Derin Kaz': 4379,\n",
              " 'Innocence: Ghost in the shell 2': 3139,\n",
              " 'Ajan': 247,\n",
              " 'Y Tu Mamá También': 6711,\n",
              " 'Hellboy': 2947,\n",
              " 'The Hangover 2: Felekten Bir Gece Daha': 6151,\n",
              " 'Mahmut ile Meryem': 4187,\n",
              " 'İskoçya’nın Son Kralı': 7510,\n",
              " 'Stajyer': 5731,\n",
              " 'Kazara Zengin': 3561,\n",
              " 'Kusursuz Cinayet': 3845,\n",
              " 'Hannah ve Kız Kardeşleri': 2818,\n",
              " 'Gözlerindeki Sır': 2691,\n",
              " 'Germinal': 2489,\n",
              " 'Suç Çetesi': 5808,\n",
              " 'İyi Olan Kazansın': 7542,\n",
              " 'Point Break': 4984,\n",
              " 'Ruhlar Bölgesi': 5190,\n",
              " 'Yılanların Öcü': 6934,\n",
              " 'Sindirella': 5554,\n",
              " 'Yeni Başlayanlar İçin İtalyanca': 6828,\n",
              " 'Kıyamet Günü': 3981,\n",
              " 'Akrep Kral': 259,\n",
              " 'On Emir': 4733,\n",
              " 'Turist Ömer Arabistan’da': 6367,\n",
              " 'Sosyete Polisi': 5701,\n",
              " 'Michael Jackson’s This Is It': 4386,\n",
              " 'Dört Kardeş': 1986,\n",
              " 'R.V.': 5053,\n",
              " 'Kazanma Sanatı': 3560,\n",
              " 'Titanların Savaşı': 6288,\n",
              " 'Tatlı Bela': 5947,\n",
              " 'Yüreğimde Bir Delik': 6917,\n",
              " 'Mississipi Yanıyor': 4430,\n",
              " 'Ateşli Geceler': 562,\n",
              " 'Ay': 600,\n",
              " 'Jackie Brown': 3173,\n",
              " 'Cheaper by the Dozen 2': 1564,\n",
              " 'Uzaylı Arkadaşım': 6499,\n",
              " 'Halloween 2': 2802,\n",
              " 'Ölüm Sessizliği': 7264,\n",
              " 'Mutluluk Zamanı': 4522,\n",
              " 'Iwo Jima’dan Mektuplar': 3159,\n",
              " 'Rosemary’nin Bebeği': 5182,\n",
              " 'Evcil Hayvanların Gizli Yaşamı': 2192,\n",
              " 'Tess': 6057,\n",
              " 'İncir Reçeli': 7471,\n",
              " 'Scooby Doo 2: Canavarlar Kaçtı': 5348,\n",
              " 'Bayan Daisy’nin Şoförü': 916,\n",
              " 'A Short Film About Love': 136,\n",
              " 'Karanlıklar Ülkesi: Kan Savaşları': 3430,\n",
              " 'Bahis': 828,\n",
              " 'Stay Alive': 5745,\n",
              " \"Deliler Fatih'in Fermanı\": 1801,\n",
              " 'Son Durak 3': 5640,\n",
              " 'Kefernahum': 3591,\n",
              " '4N1K': 90,\n",
              " 'Oblivion': 4683,\n",
              " 'Atları da Vururlar': 570,\n",
              " 'Git Başımdan!': 2550,\n",
              " 'Lion': 4111,\n",
              " 'Kıyamet': 3978,\n",
              " 'Sessiz Tepe': 5427,\n",
              " 'Piyano': 4972,\n",
              " 'Mr. Brooks': 4462,\n",
              " 'Deepwater Horizon: Büyük Felaket': 1765,\n",
              " 'Direniş Karatay': 1876,\n",
              " 'Aya Seyahat': 607,\n",
              " 'Seninle Bir Ömür': 5405,\n",
              " 'Falling Down': 2265,\n",
              " 'Herkes Seni Seviyorum Der': 2983,\n",
              " 'Takva': 5907,\n",
              " 'Amerikan Pastası: Düğün': 363,\n",
              " 'Kelebeğin Rüyası': 3597,\n",
              " 'Fargo': 2277,\n",
              " 'Kara Gözlüm': 3388,\n",
              " 'Yaratık 3': 6758,\n",
              " 'Videodrome': 6607,\n",
              " 'Hiroşima Sevgilim': 3013,\n",
              " 'Hayvan': 2923,\n",
              " 'Ağlayan Çayır': 669,\n",
              " 'Dünyalı': 2012,\n",
              " 'Kayıp Çocuklar Şehri': 3551,\n",
              " 'Umut': 6432,\n",
              " 'Zerk': 6991,\n",
              " 'Yasak Bölge': 6776,\n",
              " 'Uzak Ülke': 6481,\n",
              " 'Kalpazanlar': 3309,\n",
              " 'Uptown Girls': 6461,\n",
              " 'Üçüncü Türden Yakınlaşmalar': 7394,\n",
              " 'Abraham Lincoln:Vampir Avcısı': 155,\n",
              " 'Ateş ve Citroen': 556,\n",
              " 'Fikrimin İnce Gülü-Sarı Mercedes': 2308,\n",
              " 'Cesur Civciv': 1536,\n",
              " 'Aşk Yemini': 717,\n",
              " 'Nikita': 4635,\n",
              " 'Turist Ömer Yamyamlar Arasında': 6371,\n",
              " 'Örümcek-Adam: Eve Dönüş': 7325,\n",
              " 'Aslan Yürek': 533,\n",
              " 'Yaratık: Diriliş': 6760,\n",
              " 'Tenacious D in the Pick of Destiny': 6023,\n",
              " 'Kaçak Gelin': 3565,\n",
              " '15 Dakika': 35,\n",
              " 'Annemin Yarası': 422,\n",
              " 'Sully': 5782,\n",
              " 'Labirent': 4026,\n",
              " 'Vampirler': 6554,\n",
              " 'Resident Evil 5: İntikam': 5112,\n",
              " 'Haydut': 2919,\n",
              " 'New York’ta Bir Sonbahar': 4618,\n",
              " 'Damdaki Kemancı': 1703,\n",
              " 'Utanç': 6468,\n",
              " 'Lego Filmi': 4089,\n",
              " 'Flawless': 2328,\n",
              " 'Sen Dünyaya Gelmeden': 5383,\n",
              " 'Alvin ve Sincaplar: Yol Macerası': 335,\n",
              " 'Karanlıktan Gelen': 3436,\n",
              " 'Ajan Salt': 248,\n",
              " 'Kırmızı Gezegen': 3959,\n",
              " 'Çok Şey Bilen Adam': 7138,\n",
              " 'Z': 6953,\n",
              " 'Zodiac': 7014,\n",
              " 'Kule Soygunu': 3796,\n",
              " 'John Tucker Must Die': 3200,\n",
              " 'İki Dil Bir Bavul': 7412,\n",
              " 'Küçük Deniz Kızı': 3935,\n",
              " 'Asla Pes Etme': 527,\n",
              " 'Ninja Scroll': 4643,\n",
              " 'Suç Unsuru': 5807,\n",
              " 'Esrar Bitti': 2182,\n",
              " \"Assassin's Creed 3D\": 538,\n",
              " 'Saksı Olmanın Faydaları': 5278,\n",
              " 'X-Men : Dark Phoenix': 6704,\n",
              " 'İhtiyarlara Yer Yok': 7408,\n",
              " 'Saatler': 5233,\n",
              " 'Kırılgan': 3969,\n",
              " 'Hayatımın Kadınısın': 2900,\n",
              " 'Çılgın Yabancı': 7184,\n",
              " 'Kanunun Ötesinde': 3346,\n",
              " 'Tavuklar Firarda': 5958,\n",
              " 'Yüzü Olmayan Adam': 6927,\n",
              " 'Hayatın Benim': 2907,\n",
              " \"Sammy'nin Maceraları 2\": 5294,\n",
              " 'Terminatör: Kurtuluş': 6047,\n",
              " 'Blitz': 1224,\n",
              " 'İnfazcı': 7476,\n",
              " 'Dövüşçü': 1994,\n",
              " 'Ölümlü Dünya': 7301,\n",
              " 'İnanılmaz Örümcek Adam': 7464,\n",
              " 'Gülün Adı': 2706,\n",
              " 'Hitman': 3020,\n",
              " 'Party, The': 4887,\n",
              " 'Hızlı ve Ölü': 3108,\n",
              " 'Sıcak Kalpler': 5852,\n",
              " 'Frida': 2358,\n",
              " 'Bilek Kesenler: Bir Aşk Hikâyesi': 1097,\n",
              " 'Kirli, Çürük ve Adi': 3665,\n",
              " 'Düğün Dernek': 2031,\n",
              " 'Kuraldışı': 3811,\n",
              " 'Megazeka 3D': 4324,\n",
              " 'Çiçero': 7125,\n",
              " 'Kazanma Hırsı': 3559,\n",
              " 'Venedik Taciri': 6587,\n",
              " 'Sokağın Kralları': 5612,\n",
              " 'Terabithia Köprüsü': 6037,\n",
              " 'Benim Dünyam': 1028,\n",
              " 'Cehennem Melekleri 2': 1483,\n",
              " 'Fever Pitch': 2300,\n",
              " 'Corelli’nin Mandolini': 1636,\n",
              " 'Charlotte Gray': 1559,\n",
              " 'Ani Ölüm': 399,\n",
              " 'Ayı Kardeş': 627,\n",
              " 'Şeytanı Gördüm': 7659,\n",
              " 'Leatherheads': 4086,\n",
              " 'Mezarına Tüküreceğim': 4377,\n",
              " 'Ağlatan Oyun': 668,\n",
              " 'İspanyol Pansiyonu': 7511,\n",
              " 'Bilinmeyen Kod': 1100,\n",
              " 'Göster Gününü 2': 2686,\n",
              " 'Yeni Bir Yaşam': 6830,\n",
              " 'Gökteki Kale': 2645,\n",
              " 'Maymunlar Cehenneminin Altında': 4305,\n",
              " 'Son Kalan': 5649,\n",
              " 'Yolcu': 6884,\n",
              " 'Zor Ölüm : Ölmek İçin Güzel Bir Gün': 7041,\n",
              " 'I Spy': 3111,\n",
              " 'Bay Hiçkimse': 912,\n",
              " 'Betty Blue': 1057,\n",
              " 'Malena': 4205,\n",
              " \"Ender's Game: Uzay Oyunları\": 2138,\n",
              " 'Neşeli Dalgalar': 4625,\n",
              " 'Gattaca': 2408,\n",
              " '80 Günde Devr-i Alem': 114,\n",
              " 'Oyunbozan Ralph': 4807,\n",
              " 'Yeraltı': 6848,\n",
              " 'Aşk Tesadüfleri Sever': 708,\n",
              " 'Rogue One: Bir Star Wars Hikayesi': 5160,\n",
              " 'Casanova': 1460,\n",
              " 'Kaldırım Serçesi': 3304,\n",
              " 'Orman Çocuğu': 4771,\n",
              " ...}"
            ]
          },
          "metadata": {},
          "execution_count": 43
        }
      ],
      "source": [
        "film_name_to_id= {v:k for k,v in id_to_film_name.items()}\n",
        "film_name_to_id"
      ]
    },
    {
      "cell_type": "markdown",
      "metadata": {
        "id": "no84u1OTlVCX"
      },
      "source": [
        "**Stop Words and Tokenization**"
      ]
    },
    {
      "cell_type": "code",
      "execution_count": 44,
      "metadata": {
        "colab": {
          "base_uri": "https://localhost:8080/"
        },
        "id": "0KP5E415jY5M",
        "outputId": "8fb6f379-6ba4-42c9-c608-ec630f923d4b"
      },
      "outputs": [
        {
          "output_type": "stream",
          "name": "stderr",
          "text": [
            "[nltk_data] Downloading package stopwords to /root/nltk_data...\n",
            "[nltk_data]   Unzipping corpora/stopwords.zip.\n",
            "[nltk_data] Downloading package punkt to /root/nltk_data...\n",
            "[nltk_data]   Unzipping tokenizers/punkt.zip.\n",
            "[nltk_data] Error loading word_tokenize: Package 'word_tokenize' not\n",
            "[nltk_data]     found in index\n"
          ]
        }
      ],
      "source": [
        "import nltk\n",
        "nltk.download('stopwords')\n",
        "from nltk.corpus import stopwords\n",
        "\n",
        "nltk.download('punkt')\n",
        "import nltk.tokenize\n",
        "nltk.download(\"word_tokenize\")\n",
        "from nltk.tokenize import word_tokenize"
      ]
    },
    {
      "cell_type": "code",
      "execution_count": 45,
      "metadata": {
        "colab": {
          "base_uri": "https://localhost:8080/",
          "height": 35
        },
        "id": "nfKbrOH6nLo3",
        "outputId": "36b67f59-257e-4bd7-c003-2cc61f3bc8be"
      },
      "outputs": [
        {
          "output_type": "execute_result",
          "data": {
            "text/plain": [
              "'jean reno  bu adam kusursuz biri  ve oyunculugu müthiş  film ise başyapıt  '"
            ],
            "application/vnd.google.colaboratory.intrinsic+json": {
              "type": "string"
            }
          },
          "metadata": {},
          "execution_count": 45
        }
      ],
      "source": [
        "df[\"comment\"][4]"
      ]
    },
    {
      "cell_type": "code",
      "execution_count": 46,
      "metadata": {
        "id": "ncoCJzLHnv9c"
      },
      "outputs": [],
      "source": [
        "def remove_stopwords(text):\n",
        "    no_stopwords =  []\n",
        "    for words in word_tokenize(text) :                        ## words burada her bir token'ı simgeliyor\n",
        "        if words not in set(stopwords.words(\"turkish\")) :\n",
        "            no_stopwords.append(words)\n",
        "    word_wo_punc = \" \".join(no_stopwords)                     ## word_wo_punc array'i tekrardan bir string haline getiriliyor.\n",
        "    return word_wo_punc"
      ]
    },
    {
      "cell_type": "code",
      "execution_count": 47,
      "metadata": {
        "colab": {
          "base_uri": "https://localhost:8080/"
        },
        "id": "bgeaQM3cr8Lu",
        "outputId": "cd065b65-8597-4030-df08-ed9fac5e8e90"
      },
      "outputs": [
        {
          "output_type": "execute_result",
          "data": {
            "text/plain": [
              "0    jean reno denince zaten leon filmi gelir akla ...\n",
              "1    ekşın falan izlemek istiyorsanız bunu izlemeyi...\n",
              "2    yapım hakkında öyle yazabilirim kitap olur yüz...\n",
              "3    finali yeter sting shape of my heart bazıları ...\n",
              "4    jean reno adam kusursuz oyunculugu müthiş film...\n",
              "Name: comment, dtype: object"
            ]
          },
          "metadata": {},
          "execution_count": 47
        }
      ],
      "source": [
        "df[\"comment\"] = df[\"comment\"].apply(lambda x: remove_stopwords(x))\n",
        "df[\"comment\"].head()"
      ]
    },
    {
      "cell_type": "markdown",
      "metadata": {
        "id": "p8GxW9pWwqf2"
      },
      "source": [
        "**Lemmatization**"
      ]
    },
    {
      "cell_type": "code",
      "execution_count": 48,
      "metadata": {
        "colab": {
          "base_uri": "https://localhost:8080/"
        },
        "id": "i331lBEovS7m",
        "outputId": "c04f3053-ce9c-46ff-b27a-cb1dc2680372"
      },
      "outputs": [
        {
          "output_type": "stream",
          "name": "stdout",
          "text": [
            "Looking in indexes: https://pypi.org/simple, https://us-python.pkg.dev/colab-wheels/public/simple/\n",
            "Collecting simplemma\n",
            "  Downloading simplemma-0.7.0-py3-none-any.whl (73.4 MB)\n",
            "\u001b[K     |████████████████████████████████| 73.4 MB 1.2 MB/s \n",
            "\u001b[?25hInstalling collected packages: simplemma\n",
            "Successfully installed simplemma-0.7.0\n"
          ]
        }
      ],
      "source": [
        "!pip install simplemma\n",
        "import simplemma\n",
        "#langdata = simplemma.load_data('tr')"
      ]
    },
    {
      "cell_type": "code",
      "execution_count": 49,
      "metadata": {
        "colab": {
          "base_uri": "https://localhost:8080/"
        },
        "id": "6b_Kcvk1w-QJ",
        "outputId": "96bf77d0-05cd-4862-d3b7-ae850550ce7d"
      },
      "outputs": [
        {
          "output_type": "stream",
          "name": "stdout",
          "text": [
            "yap\n"
          ]
        }
      ],
      "source": [
        "print(simplemma.lemmatize(\"Yapmış\",lang='tr'))"
      ]
    },
    {
      "cell_type": "code",
      "execution_count": 50,
      "metadata": {
        "colab": {
          "base_uri": "https://localhost:8080/",
          "height": 35
        },
        "id": "eLVnQ1KMxYI9",
        "outputId": "dbb8f760-5829-444e-e755-392a2299cc4a"
      },
      "outputs": [
        {
          "output_type": "execute_result",
          "data": {
            "text/plain": [
              "'film güzel abartıldığını düşünüyorum öyle yorumlar varki izlemeden önce hayatımın filmi olacağını sanmıştım izlerken hafiften sıkıldım bile bence büyük beklentiyle izlemey'"
            ],
            "application/vnd.google.colaboratory.intrinsic+json": {
              "type": "string"
            }
          },
          "metadata": {},
          "execution_count": 50
        }
      ],
      "source": [
        "df[\"comment\"][8]"
      ]
    },
    {
      "cell_type": "code",
      "execution_count": 51,
      "metadata": {
        "colab": {
          "base_uri": "https://localhost:8080/"
        },
        "id": "RyST4O39xPAl",
        "outputId": "31d3f741-61eb-4f0a-8a0e-175aa6ff2f95"
      },
      "outputs": [
        {
          "output_type": "stream",
          "name": "stdout",
          "text": [
            "film\n",
            "güzel\n",
            "abart\n",
            "düşün\n",
            "öyle\n",
            "yorum\n",
            "varki\n",
            "izle\n",
            "önce\n",
            "hayat\n",
            "film\n",
            "ol\n",
            "san\n",
            "izle\n",
            "hafiften\n",
            "sıkıl\n",
            "bile\n",
            "ben\n",
            "büyük\n",
            "beklenti\n",
            "izlemey\n"
          ]
        }
      ],
      "source": [
        "for i in word_tokenize(df[\"comment\"][8]):\n",
        "    print(simplemma.lemmatize(i,lang='tr'))"
      ]
    },
    {
      "cell_type": "code",
      "execution_count": 52,
      "metadata": {
        "colab": {
          "base_uri": "https://localhost:8080/"
        },
        "id": "ElwbetGfyR99",
        "outputId": "22671fde-25db-421c-cd2b-f1bcf3ec46eb"
      },
      "outputs": [
        {
          "output_type": "stream",
          "name": "stdout",
          "text": [
            "['film']\n",
            "['güzel']\n",
            "['abart']\n",
            "['düşün']\n",
            "['öyle']\n",
            "['yorum']\n",
            "['varki']\n",
            "['izle']\n",
            "['önce']\n",
            "['hayat']\n",
            "['film']\n",
            "['ol']\n",
            "['san']\n",
            "['izle']\n",
            "['hafiften']\n",
            "['sıkıl']\n",
            "['bile']\n",
            "['ben']\n",
            "['büyük']\n",
            "['beklenti']\n",
            "['izlemey']\n"
          ]
        }
      ],
      "source": [
        "for i in word_tokenize(df[\"comment\"][8]):\n",
        "    new_array = []\n",
        "    new_array.append(simplemma.lemmatize(i,lang='tr'))    \n",
        "    print(new_array)"
      ]
    },
    {
      "cell_type": "code",
      "execution_count": 53,
      "metadata": {
        "id": "rUkj3uMYz6f6"
      },
      "outputs": [],
      "source": [
        "def lemmatizing(text):\n",
        "    temp_list = nltk.word_tokenize(text)\n",
        "    temp_object = []\n",
        "    for words in temp_list:\n",
        "        temp_object.append(simplemma.lemmatize(words,lang='tr'))\n",
        "    lemmatized_string = ' '.join(temp_object)    \n",
        "    return lemmatized_string"
      ]
    },
    {
      "cell_type": "code",
      "source": [
        "df[\"comment\"] = df[\"comment\"].apply(lambda x: lemmatizing(x))\n",
        "df[\"comment\"].head()"
      ],
      "metadata": {
        "colab": {
          "base_uri": "https://localhost:8080/"
        },
        "id": "5_B8f_o4mQT4",
        "outputId": "579540ba-1a8e-4839-e7d0-6250270e7422"
      },
      "execution_count": 54,
      "outputs": [
        {
          "output_type": "execute_result",
          "data": {
            "text/plain": [
              "0    jean reno de zaten leon film gelir akıl izle k...\n",
              "1    ekşın falan izle iste bu izlemeyiin dost keza ...\n",
              "2    yapım hak öyle yaz kitap ol yüz kısa kes lazım...\n",
              "3    final yeter sting shape of my heart bazı film ...\n",
              "4    jean reno adam kusur oyunculugu müthiş film ba...\n",
              "Name: comment, dtype: object"
            ]
          },
          "metadata": {},
          "execution_count": 54
        }
      ]
    },
    {
      "cell_type": "code",
      "source": [
        "df.tail()"
      ],
      "metadata": {
        "colab": {
          "base_uri": "https://localhost:8080/",
          "height": 206
        },
        "id": "FkzrzkylKcTS",
        "outputId": "43027445-8319-48a2-80fb-53c5a033dba5"
      },
      "execution_count": 55,
      "outputs": [
        {
          "output_type": "execute_result",
          "data": {
            "text/plain": [
              "                                                 comment  \\\n",
              "82270           böyle bi kadro bçyle bi film de gereksi̇   \n",
              "82271  kaar ii oyuncalrın yönetmen harcandıgını göste...   \n",
              "82272  bugün dvdsini al izle inanılmaz kötü bir korku...   \n",
              "82273                               klasik korku gerilim   \n",
              "82274  ben gerek fazla bir eleştiri al düşün kötü anl...   \n",
              "\n",
              "                          film_name  point  film_name_id  \n",
              "82270                         Kabus    2.5          3251  \n",
              "82271                         Kabus    2.5          3251  \n",
              "82272                         Kabus    1.0          3251  \n",
              "82273                         Kabus    4.0          3251  \n",
              "82274  Bir Zamanlar... Hollywood'da    4.6          1168  "
            ],
            "text/html": [
              "\n",
              "  <div id=\"df-56dfeaa9-d277-4966-8c60-0a5f5d742954\">\n",
              "    <div class=\"colab-df-container\">\n",
              "      <div>\n",
              "<style scoped>\n",
              "    .dataframe tbody tr th:only-of-type {\n",
              "        vertical-align: middle;\n",
              "    }\n",
              "\n",
              "    .dataframe tbody tr th {\n",
              "        vertical-align: top;\n",
              "    }\n",
              "\n",
              "    .dataframe thead th {\n",
              "        text-align: right;\n",
              "    }\n",
              "</style>\n",
              "<table border=\"1\" class=\"dataframe\">\n",
              "  <thead>\n",
              "    <tr style=\"text-align: right;\">\n",
              "      <th></th>\n",
              "      <th>comment</th>\n",
              "      <th>film_name</th>\n",
              "      <th>point</th>\n",
              "      <th>film_name_id</th>\n",
              "    </tr>\n",
              "  </thead>\n",
              "  <tbody>\n",
              "    <tr>\n",
              "      <th>82270</th>\n",
              "      <td>böyle bi kadro bçyle bi film de gereksi̇</td>\n",
              "      <td>Kabus</td>\n",
              "      <td>2.5</td>\n",
              "      <td>3251</td>\n",
              "    </tr>\n",
              "    <tr>\n",
              "      <th>82271</th>\n",
              "      <td>kaar ii oyuncalrın yönetmen harcandıgını göste...</td>\n",
              "      <td>Kabus</td>\n",
              "      <td>2.5</td>\n",
              "      <td>3251</td>\n",
              "    </tr>\n",
              "    <tr>\n",
              "      <th>82272</th>\n",
              "      <td>bugün dvdsini al izle inanılmaz kötü bir korku...</td>\n",
              "      <td>Kabus</td>\n",
              "      <td>1.0</td>\n",
              "      <td>3251</td>\n",
              "    </tr>\n",
              "    <tr>\n",
              "      <th>82273</th>\n",
              "      <td>klasik korku gerilim</td>\n",
              "      <td>Kabus</td>\n",
              "      <td>4.0</td>\n",
              "      <td>3251</td>\n",
              "    </tr>\n",
              "    <tr>\n",
              "      <th>82274</th>\n",
              "      <td>ben gerek fazla bir eleştiri al düşün kötü anl...</td>\n",
              "      <td>Bir Zamanlar... Hollywood'da</td>\n",
              "      <td>4.6</td>\n",
              "      <td>1168</td>\n",
              "    </tr>\n",
              "  </tbody>\n",
              "</table>\n",
              "</div>\n",
              "      <button class=\"colab-df-convert\" onclick=\"convertToInteractive('df-56dfeaa9-d277-4966-8c60-0a5f5d742954')\"\n",
              "              title=\"Convert this dataframe to an interactive table.\"\n",
              "              style=\"display:none;\">\n",
              "        \n",
              "  <svg xmlns=\"http://www.w3.org/2000/svg\" height=\"24px\"viewBox=\"0 0 24 24\"\n",
              "       width=\"24px\">\n",
              "    <path d=\"M0 0h24v24H0V0z\" fill=\"none\"/>\n",
              "    <path d=\"M18.56 5.44l.94 2.06.94-2.06 2.06-.94-2.06-.94-.94-2.06-.94 2.06-2.06.94zm-11 1L8.5 8.5l.94-2.06 2.06-.94-2.06-.94L8.5 2.5l-.94 2.06-2.06.94zm10 10l.94 2.06.94-2.06 2.06-.94-2.06-.94-.94-2.06-.94 2.06-2.06.94z\"/><path d=\"M17.41 7.96l-1.37-1.37c-.4-.4-.92-.59-1.43-.59-.52 0-1.04.2-1.43.59L10.3 9.45l-7.72 7.72c-.78.78-.78 2.05 0 2.83L4 21.41c.39.39.9.59 1.41.59.51 0 1.02-.2 1.41-.59l7.78-7.78 2.81-2.81c.8-.78.8-2.07 0-2.86zM5.41 20L4 18.59l7.72-7.72 1.47 1.35L5.41 20z\"/>\n",
              "  </svg>\n",
              "      </button>\n",
              "      \n",
              "  <style>\n",
              "    .colab-df-container {\n",
              "      display:flex;\n",
              "      flex-wrap:wrap;\n",
              "      gap: 12px;\n",
              "    }\n",
              "\n",
              "    .colab-df-convert {\n",
              "      background-color: #E8F0FE;\n",
              "      border: none;\n",
              "      border-radius: 50%;\n",
              "      cursor: pointer;\n",
              "      display: none;\n",
              "      fill: #1967D2;\n",
              "      height: 32px;\n",
              "      padding: 0 0 0 0;\n",
              "      width: 32px;\n",
              "    }\n",
              "\n",
              "    .colab-df-convert:hover {\n",
              "      background-color: #E2EBFA;\n",
              "      box-shadow: 0px 1px 2px rgba(60, 64, 67, 0.3), 0px 1px 3px 1px rgba(60, 64, 67, 0.15);\n",
              "      fill: #174EA6;\n",
              "    }\n",
              "\n",
              "    [theme=dark] .colab-df-convert {\n",
              "      background-color: #3B4455;\n",
              "      fill: #D2E3FC;\n",
              "    }\n",
              "\n",
              "    [theme=dark] .colab-df-convert:hover {\n",
              "      background-color: #434B5C;\n",
              "      box-shadow: 0px 1px 3px 1px rgba(0, 0, 0, 0.15);\n",
              "      filter: drop-shadow(0px 1px 2px rgba(0, 0, 0, 0.3));\n",
              "      fill: #FFFFFF;\n",
              "    }\n",
              "  </style>\n",
              "\n",
              "      <script>\n",
              "        const buttonEl =\n",
              "          document.querySelector('#df-56dfeaa9-d277-4966-8c60-0a5f5d742954 button.colab-df-convert');\n",
              "        buttonEl.style.display =\n",
              "          google.colab.kernel.accessAllowed ? 'block' : 'none';\n",
              "\n",
              "        async function convertToInteractive(key) {\n",
              "          const element = document.querySelector('#df-56dfeaa9-d277-4966-8c60-0a5f5d742954');\n",
              "          const dataTable =\n",
              "            await google.colab.kernel.invokeFunction('convertToInteractive',\n",
              "                                                     [key], {});\n",
              "          if (!dataTable) return;\n",
              "\n",
              "          const docLinkHtml = 'Like what you see? Visit the ' +\n",
              "            '<a target=\"_blank\" href=https://colab.research.google.com/notebooks/data_table.ipynb>data table notebook</a>'\n",
              "            + ' to learn more about interactive tables.';\n",
              "          element.innerHTML = '';\n",
              "          dataTable['output_type'] = 'display_data';\n",
              "          await google.colab.output.renderOutput(dataTable, element);\n",
              "          const docLink = document.createElement('div');\n",
              "          docLink.innerHTML = docLinkHtml;\n",
              "          element.appendChild(docLink);\n",
              "        }\n",
              "      </script>\n",
              "    </div>\n",
              "  </div>\n",
              "  "
            ]
          },
          "metadata": {},
          "execution_count": 55
        }
      ]
    },
    {
      "cell_type": "code",
      "source": [
        "def get_rid_of_extras(text):\n",
        "    no_extras =  []\n",
        "    for words in word_tokenize(text) :                        ## words burada her bir token'ı simgeliyor\n",
        "        if len(words) >2 and len(words)<10 :\n",
        "            no_extras.append(words)\n",
        "    word_no_extra = \" \".join(no_extras)                     ## word_wo_punc array'i tekrardan bir string haline getiriliyor.\n",
        "    return word_no_extra"
      ],
      "metadata": {
        "id": "XJj-V0m6B6BX"
      },
      "execution_count": 56,
      "outputs": []
    },
    {
      "cell_type": "code",
      "source": [
        "df[\"comment\"] = df[\"comment\"].apply(lambda x: get_rid_of_extras(x))\n",
        "df.head()"
      ],
      "metadata": {
        "colab": {
          "base_uri": "https://localhost:8080/",
          "height": 206
        },
        "id": "ULteY76dDAqa",
        "outputId": "5edc70a0-ab3f-41de-ac52-161e18288e74"
      },
      "execution_count": 57,
      "outputs": [
        {
          "output_type": "execute_result",
          "data": {
            "text/plain": [
              "                                             comment      film_name  point  \\\n",
              "0  jean reno zaten leon film gelir akıl izle kal ...  Sevginin Gücü    5.0   \n",
              "1  ekşın falan izle iste dost keza ilk sahne hari...  Sevginin Gücü    5.0   \n",
              "2  yapım hak öyle yaz kitap yüz kısa kes lazım bi...  Sevginin Gücü    5.0   \n",
              "3  final yeter sting shape heart bazı film ilgili...  Sevginin Gücü    5.0   \n",
              "4          jean reno adam kusur müthiş film başyapıt  Sevginin Gücü    5.0   \n",
              "\n",
              "   film_name_id  \n",
              "0          5458  \n",
              "1          5458  \n",
              "2          5458  \n",
              "3          5458  \n",
              "4          5458  "
            ],
            "text/html": [
              "\n",
              "  <div id=\"df-df8f5f04-f9b0-4f3a-8378-c8a01149eac1\">\n",
              "    <div class=\"colab-df-container\">\n",
              "      <div>\n",
              "<style scoped>\n",
              "    .dataframe tbody tr th:only-of-type {\n",
              "        vertical-align: middle;\n",
              "    }\n",
              "\n",
              "    .dataframe tbody tr th {\n",
              "        vertical-align: top;\n",
              "    }\n",
              "\n",
              "    .dataframe thead th {\n",
              "        text-align: right;\n",
              "    }\n",
              "</style>\n",
              "<table border=\"1\" class=\"dataframe\">\n",
              "  <thead>\n",
              "    <tr style=\"text-align: right;\">\n",
              "      <th></th>\n",
              "      <th>comment</th>\n",
              "      <th>film_name</th>\n",
              "      <th>point</th>\n",
              "      <th>film_name_id</th>\n",
              "    </tr>\n",
              "  </thead>\n",
              "  <tbody>\n",
              "    <tr>\n",
              "      <th>0</th>\n",
              "      <td>jean reno zaten leon film gelir akıl izle kal ...</td>\n",
              "      <td>Sevginin Gücü</td>\n",
              "      <td>5.0</td>\n",
              "      <td>5458</td>\n",
              "    </tr>\n",
              "    <tr>\n",
              "      <th>1</th>\n",
              "      <td>ekşın falan izle iste dost keza ilk sahne hari...</td>\n",
              "      <td>Sevginin Gücü</td>\n",
              "      <td>5.0</td>\n",
              "      <td>5458</td>\n",
              "    </tr>\n",
              "    <tr>\n",
              "      <th>2</th>\n",
              "      <td>yapım hak öyle yaz kitap yüz kısa kes lazım bi...</td>\n",
              "      <td>Sevginin Gücü</td>\n",
              "      <td>5.0</td>\n",
              "      <td>5458</td>\n",
              "    </tr>\n",
              "    <tr>\n",
              "      <th>3</th>\n",
              "      <td>final yeter sting shape heart bazı film ilgili...</td>\n",
              "      <td>Sevginin Gücü</td>\n",
              "      <td>5.0</td>\n",
              "      <td>5458</td>\n",
              "    </tr>\n",
              "    <tr>\n",
              "      <th>4</th>\n",
              "      <td>jean reno adam kusur müthiş film başyapıt</td>\n",
              "      <td>Sevginin Gücü</td>\n",
              "      <td>5.0</td>\n",
              "      <td>5458</td>\n",
              "    </tr>\n",
              "  </tbody>\n",
              "</table>\n",
              "</div>\n",
              "      <button class=\"colab-df-convert\" onclick=\"convertToInteractive('df-df8f5f04-f9b0-4f3a-8378-c8a01149eac1')\"\n",
              "              title=\"Convert this dataframe to an interactive table.\"\n",
              "              style=\"display:none;\">\n",
              "        \n",
              "  <svg xmlns=\"http://www.w3.org/2000/svg\" height=\"24px\"viewBox=\"0 0 24 24\"\n",
              "       width=\"24px\">\n",
              "    <path d=\"M0 0h24v24H0V0z\" fill=\"none\"/>\n",
              "    <path d=\"M18.56 5.44l.94 2.06.94-2.06 2.06-.94-2.06-.94-.94-2.06-.94 2.06-2.06.94zm-11 1L8.5 8.5l.94-2.06 2.06-.94-2.06-.94L8.5 2.5l-.94 2.06-2.06.94zm10 10l.94 2.06.94-2.06 2.06-.94-2.06-.94-.94-2.06-.94 2.06-2.06.94z\"/><path d=\"M17.41 7.96l-1.37-1.37c-.4-.4-.92-.59-1.43-.59-.52 0-1.04.2-1.43.59L10.3 9.45l-7.72 7.72c-.78.78-.78 2.05 0 2.83L4 21.41c.39.39.9.59 1.41.59.51 0 1.02-.2 1.41-.59l7.78-7.78 2.81-2.81c.8-.78.8-2.07 0-2.86zM5.41 20L4 18.59l7.72-7.72 1.47 1.35L5.41 20z\"/>\n",
              "  </svg>\n",
              "      </button>\n",
              "      \n",
              "  <style>\n",
              "    .colab-df-container {\n",
              "      display:flex;\n",
              "      flex-wrap:wrap;\n",
              "      gap: 12px;\n",
              "    }\n",
              "\n",
              "    .colab-df-convert {\n",
              "      background-color: #E8F0FE;\n",
              "      border: none;\n",
              "      border-radius: 50%;\n",
              "      cursor: pointer;\n",
              "      display: none;\n",
              "      fill: #1967D2;\n",
              "      height: 32px;\n",
              "      padding: 0 0 0 0;\n",
              "      width: 32px;\n",
              "    }\n",
              "\n",
              "    .colab-df-convert:hover {\n",
              "      background-color: #E2EBFA;\n",
              "      box-shadow: 0px 1px 2px rgba(60, 64, 67, 0.3), 0px 1px 3px 1px rgba(60, 64, 67, 0.15);\n",
              "      fill: #174EA6;\n",
              "    }\n",
              "\n",
              "    [theme=dark] .colab-df-convert {\n",
              "      background-color: #3B4455;\n",
              "      fill: #D2E3FC;\n",
              "    }\n",
              "\n",
              "    [theme=dark] .colab-df-convert:hover {\n",
              "      background-color: #434B5C;\n",
              "      box-shadow: 0px 1px 3px 1px rgba(0, 0, 0, 0.15);\n",
              "      filter: drop-shadow(0px 1px 2px rgba(0, 0, 0, 0.3));\n",
              "      fill: #FFFFFF;\n",
              "    }\n",
              "  </style>\n",
              "\n",
              "      <script>\n",
              "        const buttonEl =\n",
              "          document.querySelector('#df-df8f5f04-f9b0-4f3a-8378-c8a01149eac1 button.colab-df-convert');\n",
              "        buttonEl.style.display =\n",
              "          google.colab.kernel.accessAllowed ? 'block' : 'none';\n",
              "\n",
              "        async function convertToInteractive(key) {\n",
              "          const element = document.querySelector('#df-df8f5f04-f9b0-4f3a-8378-c8a01149eac1');\n",
              "          const dataTable =\n",
              "            await google.colab.kernel.invokeFunction('convertToInteractive',\n",
              "                                                     [key], {});\n",
              "          if (!dataTable) return;\n",
              "\n",
              "          const docLinkHtml = 'Like what you see? Visit the ' +\n",
              "            '<a target=\"_blank\" href=https://colab.research.google.com/notebooks/data_table.ipynb>data table notebook</a>'\n",
              "            + ' to learn more about interactive tables.';\n",
              "          element.innerHTML = '';\n",
              "          dataTable['output_type'] = 'display_data';\n",
              "          await google.colab.output.renderOutput(dataTable, element);\n",
              "          const docLink = document.createElement('div');\n",
              "          docLink.innerHTML = docLinkHtml;\n",
              "          element.appendChild(docLink);\n",
              "        }\n",
              "      </script>\n",
              "    </div>\n",
              "  </div>\n",
              "  "
            ]
          },
          "metadata": {},
          "execution_count": 57
        }
      ]
    },
    {
      "cell_type": "code",
      "source": [
        "df[\"comment\"][12]"
      ],
      "metadata": {
        "id": "X-VMIUZiEbq4",
        "outputId": "26434e36-742a-4c31-80d9-0816dc296908",
        "colab": {
          "base_uri": "https://localhost:8080/",
          "height": 70
        }
      },
      "execution_count": 58,
      "outputs": [
        {
          "output_type": "execute_result",
          "data": {
            "text/plain": [
              "'bir taraf aile sev kötü yaş bir kız bir taraf yalnız tek aktivite adam spor yap cahil kadar zeki bir suikastçi sonra yaklaşık gün boyunca etki çık akıl gel film geçir başyapıt beğen pek bir taraf yok senaryo aşk leon karşılık ver sevgili kız aile senaryo reddet değiş senaryo değiş merak değil sübyan bir leon kadar olurmuydu kız değil yaş gibi oyun muhteşem leon kız eğit iyi kız aile ölüm üzer leon zil çal lütfen sessizce ağla sahne heycanım zirve yap güzel bir film izle tavsiye eder'"
            ],
            "application/vnd.google.colaboratory.intrinsic+json": {
              "type": "string"
            }
          },
          "metadata": {},
          "execution_count": 58
        }
      ]
    },
    {
      "cell_type": "markdown",
      "source": [
        "**Her kategori için en çok kullanılan kelimeler**"
      ],
      "metadata": {
        "id": "yg1TDF_sKTAb"
      }
    },
    {
      "cell_type": "code",
      "source": [
        "df2 = df.sample(10000,random_state=1).copy()"
      ],
      "metadata": {
        "id": "2oGdAREWLC69"
      },
      "execution_count": 59,
      "outputs": []
    },
    {
      "cell_type": "code",
      "source": [
        "# Term frequency-inverse document frequency ( TF-IDF) gives a measure that takes the importance of a word into consideration depending on how frequently it occurs in a document and a corpus.\n",
        "\n",
        "from sklearn.feature_extraction.text import TfidfVectorizer\n",
        "tfidf = TfidfVectorizer(sublinear_tf=True, min_df=5, ngram_range=(1,1))\n",
        "\n",
        "# an ngram_range of (1, 1) means only unigrams, (1, 2) means unigrams and bigrams, and (2, 2) means only bigrams.\n",
        "# ignore terms that have a document frequency strictly lower than the given threshold\n",
        "# Apply sublinear tf scaling,"
      ],
      "metadata": {
        "id": "7ZURRPWKLHsM"
      },
      "execution_count": 60,
      "outputs": []
    },
    {
      "cell_type": "code",
      "source": [
        "df2_features = tfidf.fit_transform(df2.comment).toarray()\n",
        "df2_labels = df2.film_name_id"
      ],
      "metadata": {
        "id": "L7vBRLV3LzK_"
      },
      "execution_count": 61,
      "outputs": []
    },
    {
      "cell_type": "code",
      "source": [
        "print(df2_features.shape)\n",
        "df2_features"
      ],
      "metadata": {
        "colab": {
          "base_uri": "https://localhost:8080/"
        },
        "id": "Sgr1JQ2xNlmM",
        "outputId": "92baf344-53e3-4cfe-a2c5-e88faf06a109"
      },
      "execution_count": 62,
      "outputs": [
        {
          "output_type": "stream",
          "name": "stdout",
          "text": [
            "(10000, 4027)\n"
          ]
        },
        {
          "output_type": "execute_result",
          "data": {
            "text/plain": [
              "array([[0., 0., 0., ..., 0., 0., 0.],\n",
              "       [0., 0., 0., ..., 0., 0., 0.],\n",
              "       [0., 0., 0., ..., 0., 0., 0.],\n",
              "       ...,\n",
              "       [0., 0., 0., ..., 0., 0., 0.],\n",
              "       [0., 0., 0., ..., 0., 0., 0.],\n",
              "       [0., 0., 0., ..., 0., 0., 0.]])"
            ]
          },
          "metadata": {},
          "execution_count": 62
        }
      ]
    },
    {
      "cell_type": "code",
      "source": [
        "print(\"Each of the %d reviews is represented by %d features (TF-IDF score of unigrams and bigrams)\" %(df2_features.shape))"
      ],
      "metadata": {
        "colab": {
          "base_uri": "https://localhost:8080/"
        },
        "id": "t0yOoJWNNGkB",
        "outputId": "5e20b52f-b5e7-49b6-a657-0ffcd3784503"
      },
      "execution_count": 63,
      "outputs": [
        {
          "output_type": "stream",
          "name": "stdout",
          "text": [
            "Each of the 10000 reviews is represented by 4027 features (TF-IDF score of unigrams and bigrams)\n"
          ]
        }
      ]
    },
    {
      "cell_type": "code",
      "source": [
        "dict_items = sorted(film_name_to_id.items())\n",
        "first_twenty = list(dict_items)[:20]\n",
        "first_twenty"
      ],
      "metadata": {
        "colab": {
          "base_uri": "https://localhost:8080/"
        },
        "id": "Z37tadOLSbNN",
        "outputId": "9536e989-509f-4c0a-ebed-ec838f6d6ba8"
      },
      "execution_count": 64,
      "outputs": [
        {
          "output_type": "execute_result",
          "data": {
            "text/plain": [
              "[('$9.99', 0),\n",
              " (\"'71\", 1),\n",
              " ('(Q)üfür', 2),\n",
              " ('...Büyülü Konakta Ruh Çağıran Gençlerin Hazin Hikayesi', 3),\n",
              " ('1 Kezban 1 Mahmut: Adana Yollarında', 4),\n",
              " ('10', 5),\n",
              " ('10. Köy Teyatora', 6),\n",
              " ('100 Yılın İtirafları', 7),\n",
              " ('101 Dalmaçyalı', 8),\n",
              " ('101 Yaşında Hesabı Ödemeden Kaçıp Ortadan Kaybolan Adam', 9),\n",
              " ('102 Dalmaçyalı', 10),\n",
              " ('11', 11),\n",
              " ('11 Eylül', 12),\n",
              " ('11:14', 13),\n",
              " ('11’e 10 Kala', 14),\n",
              " ('12 Kahraman Haydut', 15),\n",
              " ('12 Maymun', 16),\n",
              " ('12 Savaşçı', 17),\n",
              " ('12 Tuzak', 18),\n",
              " ('12 Yıllık Esaret', 19)]"
            ]
          },
          "metadata": {},
          "execution_count": 64
        }
      ]
    },
    {
      "cell_type": "code",
      "source": [
        "# Finding the three most correlated terms with each of the categories\n",
        "from sklearn.feature_selection import chi2\n",
        "N = 20\n",
        "for film_name, film_name_id in first_twenty:\n",
        "  features_chi2 = chi2(df2_features, df2_labels == film_name_id)\n",
        "  indices = np.argsort(features_chi2[0])\n",
        "  feature_names = np.array(tfidf.get_feature_names())[indices]\n",
        "  unigrams = [v for v in feature_names if len(v.split(' ')) == 1]\n",
        "  print(\"\\n==> %s:\" %(film_name))\n",
        "  print(\"  * Most Correlated Unigrams are: %s\" %(', '.join(unigrams[-N:])))\n",
        "  print(\"  * Less Correlated Unigrams are: %s\" %(', '.join(unigrams[:N])))"
      ],
      "metadata": {
        "colab": {
          "base_uri": "https://localhost:8080/"
        },
        "id": "PiRqmH-0G_jS",
        "outputId": "0dc0cb9a-599f-4526-95c5-f682ed774be4"
      },
      "execution_count": 65,
      "outputs": [
        {
          "output_type": "stream",
          "name": "stderr",
          "text": [
            "/usr/local/lib/python3.7/dist-packages/sklearn/utils/deprecation.py:87: FutureWarning: Function get_feature_names is deprecated; get_feature_names is deprecated in 1.0 and will be removed in 1.2. Please use get_feature_names_out instead.\n",
            "  warnings.warn(msg, category=FutureWarning)\n",
            "/usr/local/lib/python3.7/dist-packages/sklearn/utils/deprecation.py:87: FutureWarning: Function get_feature_names is deprecated; get_feature_names is deprecated in 1.0 and will be removed in 1.2. Please use get_feature_names_out instead.\n",
            "  warnings.warn(msg, category=FutureWarning)\n"
          ]
        },
        {
          "output_type": "stream",
          "name": "stdout",
          "text": [
            "\n",
            "==> $9.99:\n",
            "  * Most Correlated Unigrams are: girl, git, gitmey, ghost, gittikçe, giyim, gizem, gizle, gizli, gizlice, gişe, gladyatör, godzilla, gol, good, gore, gormedim, gorsel, giy, şık\n",
            "  * Less Correlated Unigrams are: aaa, penelope, penn, perde, perfect, peri, perçinle, pes, peter, peygamber, peş, philip, phoenix, pierce, pilot, pis, pisman, pitt, pittin, pixar\n",
            "\n",
            "==> '71:\n",
            "  * Most Correlated Unigrams are: festival, dahil, mücadele, atmosfer, hep, süreç, takip, çatış, yalnızca, pay, siyasi, tanık, övgü, yağmur, ngiliz, hafif, sokak, pencere, çetin, doku\n",
            "  * Less Correlated Unigrams are: evril, komünist, unvan, benlik, kilometre, küresel, müddet, avrupada, bap, maharet, dürtü, louis, basa, gecik, kazı, çarpış, puanim, perçinle, yaralı, ansızın\n"
          ]
        },
        {
          "output_type": "stream",
          "name": "stderr",
          "text": [
            "/usr/local/lib/python3.7/dist-packages/sklearn/utils/deprecation.py:87: FutureWarning: Function get_feature_names is deprecated; get_feature_names is deprecated in 1.0 and will be removed in 1.2. Please use get_feature_names_out instead.\n",
            "  warnings.warn(msg, category=FutureWarning)\n",
            "/usr/local/lib/python3.7/dist-packages/sklearn/utils/deprecation.py:87: FutureWarning: Function get_feature_names is deprecated; get_feature_names is deprecated in 1.0 and will be removed in 1.2. Please use get_feature_names_out instead.\n",
            "  warnings.warn(msg, category=FutureWarning)\n"
          ]
        },
        {
          "output_type": "stream",
          "name": "stdout",
          "text": [
            "\n",
            "==> (Q)üfür:\n",
            "  * Most Correlated Unigrams are: girl, git, gitmey, ghost, gittikçe, giyim, gizem, gizle, gizli, gizlice, gişe, gladyatör, godzilla, gol, good, gore, gormedim, gorsel, giy, şık\n",
            "  * Less Correlated Unigrams are: aaa, penelope, penn, perde, perfect, peri, perçinle, pes, peter, peygamber, peş, philip, phoenix, pierce, pilot, pis, pisman, pitt, pittin, pixar\n",
            "\n",
            "==> ...Büyülü Konakta Ruh Çağıran Gençlerin Hazin Hikayesi:\n",
            "  * Most Correlated Unigrams are: gerek, kötü, sahne, git, konu, zaman, yap, son, oyun, kadar, iyi, ben, güzel, izle, bir, var, yok, tek, diğer, şehir\n",
            "  * Less Correlated Unigrams are: film, evril, komünist, unvan, benlik, kilometre, küresel, müddet, avrupada, bap, maharet, dürtü, louis, basa, gecik, kazı, çarpış, puanim, perçinle, yaralı\n"
          ]
        },
        {
          "output_type": "stream",
          "name": "stderr",
          "text": [
            "/usr/local/lib/python3.7/dist-packages/sklearn/utils/deprecation.py:87: FutureWarning: Function get_feature_names is deprecated; get_feature_names is deprecated in 1.0 and will be removed in 1.2. Please use get_feature_names_out instead.\n",
            "  warnings.warn(msg, category=FutureWarning)\n"
          ]
        },
        {
          "output_type": "stream",
          "name": "stdout",
          "text": [
            "\n",
            "==> 1 Kezban 1 Mahmut: Adana Yollarında:\n",
            "  * Most Correlated Unigrams are: gerçek, vakit, berbat, açı, git, mutlaka, emek, gece, efsane, tamamen, bugün, dizi, izledigim, kot, doğal, kop, hayatimda, izlemey, igrenc, kurgusal\n",
            "  * Less Correlated Unigrams are: evril, komünist, unvan, benlik, kilometre, küresel, müddet, avrupada, bap, maharet, dürtü, louis, basa, gecik, kazı, çarpış, puanim, perçinle, yaralı, ansızın\n"
          ]
        },
        {
          "output_type": "stream",
          "name": "stderr",
          "text": [
            "/usr/local/lib/python3.7/dist-packages/sklearn/utils/deprecation.py:87: FutureWarning: Function get_feature_names is deprecated; get_feature_names is deprecated in 1.0 and will be removed in 1.2. Please use get_feature_names_out instead.\n",
            "  warnings.warn(msg, category=FutureWarning)\n"
          ]
        },
        {
          "output_type": "stream",
          "name": "stdout",
          "text": [
            "\n",
            "==> 10:\n",
            "  * Most Correlated Unigrams are: girl, git, gitmey, ghost, gittikçe, giyim, gizem, gizle, gizli, gizlice, gişe, gladyatör, godzilla, gol, good, gore, gormedim, gorsel, giy, şık\n",
            "  * Less Correlated Unigrams are: aaa, penelope, penn, perde, perfect, peri, perçinle, pes, peter, peygamber, peş, philip, phoenix, pierce, pilot, pis, pisman, pitt, pittin, pixar\n"
          ]
        },
        {
          "output_type": "stream",
          "name": "stderr",
          "text": [
            "/usr/local/lib/python3.7/dist-packages/sklearn/utils/deprecation.py:87: FutureWarning: Function get_feature_names is deprecated; get_feature_names is deprecated in 1.0 and will be removed in 1.2. Please use get_feature_names_out instead.\n",
            "  warnings.warn(msg, category=FutureWarning)\n"
          ]
        },
        {
          "output_type": "stream",
          "name": "stdout",
          "text": [
            "\n",
            "==> 10. Köy Teyatora:\n",
            "  * Most Correlated Unigrams are: girl, git, gitmey, ghost, gittikçe, giyim, gizem, gizle, gizli, gizlice, gişe, gladyatör, godzilla, gol, good, gore, gormedim, gorsel, giy, şık\n",
            "  * Less Correlated Unigrams are: aaa, penelope, penn, perde, perfect, peri, perçinle, pes, peter, peygamber, peş, philip, phoenix, pierce, pilot, pis, pisman, pitt, pittin, pixar\n"
          ]
        },
        {
          "output_type": "stream",
          "name": "stderr",
          "text": [
            "/usr/local/lib/python3.7/dist-packages/sklearn/utils/deprecation.py:87: FutureWarning: Function get_feature_names is deprecated; get_feature_names is deprecated in 1.0 and will be removed in 1.2. Please use get_feature_names_out instead.\n",
            "  warnings.warn(msg, category=FutureWarning)\n"
          ]
        },
        {
          "output_type": "stream",
          "name": "stdout",
          "text": [
            "\n",
            "==> 100 Yılın İtirafları:\n",
            "  * Most Correlated Unigrams are: girl, git, gitmey, ghost, gittikçe, giyim, gizem, gizle, gizli, gizlice, gişe, gladyatör, godzilla, gol, good, gore, gormedim, gorsel, giy, şık\n",
            "  * Less Correlated Unigrams are: aaa, penelope, penn, perde, perfect, peri, perçinle, pes, peter, peygamber, peş, philip, phoenix, pierce, pilot, pis, pisman, pitt, pittin, pixar\n"
          ]
        },
        {
          "output_type": "stream",
          "name": "stderr",
          "text": [
            "/usr/local/lib/python3.7/dist-packages/sklearn/utils/deprecation.py:87: FutureWarning: Function get_feature_names is deprecated; get_feature_names is deprecated in 1.0 and will be removed in 1.2. Please use get_feature_names_out instead.\n",
            "  warnings.warn(msg, category=FutureWarning)\n"
          ]
        },
        {
          "output_type": "stream",
          "name": "stdout",
          "text": [
            "\n",
            "==> 101 Dalmaçyalı:\n",
            "  * Most Correlated Unigrams are: girl, git, gitmey, ghost, gittikçe, giyim, gizem, gizle, gizli, gizlice, gişe, gladyatör, godzilla, gol, good, gore, gormedim, gorsel, giy, şık\n",
            "  * Less Correlated Unigrams are: aaa, penelope, penn, perde, perfect, peri, perçinle, pes, peter, peygamber, peş, philip, phoenix, pierce, pilot, pis, pisman, pitt, pittin, pixar\n"
          ]
        },
        {
          "output_type": "stream",
          "name": "stderr",
          "text": [
            "/usr/local/lib/python3.7/dist-packages/sklearn/utils/deprecation.py:87: FutureWarning: Function get_feature_names is deprecated; get_feature_names is deprecated in 1.0 and will be removed in 1.2. Please use get_feature_names_out instead.\n",
            "  warnings.warn(msg, category=FutureWarning)\n",
            "/usr/local/lib/python3.7/dist-packages/sklearn/utils/deprecation.py:87: FutureWarning: Function get_feature_names is deprecated; get_feature_names is deprecated in 1.0 and will be removed in 1.2. Please use get_feature_names_out instead.\n",
            "  warnings.warn(msg, category=FutureWarning)\n"
          ]
        },
        {
          "output_type": "stream",
          "name": "stdout",
          "text": [
            "\n",
            "==> 101 Yaşında Hesabı Ödemeden Kaçıp Ortadan Kaybolan Adam:\n",
            "  * Most Correlated Unigrams are: girl, git, gitmey, ghost, gittikçe, giyim, gizem, gizle, gizli, gizlice, gişe, gladyatör, godzilla, gol, good, gore, gormedim, gorsel, giy, şık\n",
            "  * Less Correlated Unigrams are: aaa, penelope, penn, perde, perfect, peri, perçinle, pes, peter, peygamber, peş, philip, phoenix, pierce, pilot, pis, pisman, pitt, pittin, pixar\n",
            "\n",
            "==> 102 Dalmaçyalı:\n",
            "  * Most Correlated Unigrams are: gerek, kötü, sahne, git, konu, zaman, var, yap, son, oyun, bir, iyi, ben, güzel, izle, kadar, eğlence, aile, lki, disney\n",
            "  * Less Correlated Unigrams are: evril, komünist, unvan, benlik, kilometre, küresel, müddet, avrupada, bap, maharet, dürtü, louis, basa, gecik, kazı, çarpış, puanim, perçinle, yaralı, ansızın\n"
          ]
        },
        {
          "output_type": "stream",
          "name": "stderr",
          "text": [
            "/usr/local/lib/python3.7/dist-packages/sklearn/utils/deprecation.py:87: FutureWarning: Function get_feature_names is deprecated; get_feature_names is deprecated in 1.0 and will be removed in 1.2. Please use get_feature_names_out instead.\n",
            "  warnings.warn(msg, category=FutureWarning)\n"
          ]
        },
        {
          "output_type": "stream",
          "name": "stdout",
          "text": [
            "\n",
            "==> 11:\n",
            "  * Most Correlated Unigrams are: izle, ben, var, zaman, git, kadar, gerçekten, hayat, sıkıcı, kişi, saat, yakın, kimse, iğrenç, salon, çal, kaldır, terk, koskoca, devre\n",
            "  * Less Correlated Unigrams are: evril, komünist, unvan, benlik, kilometre, küresel, müddet, avrupada, bap, maharet, dürtü, louis, basa, gecik, kazı, çarpış, puanim, perçinle, yaralı, ansızın\n"
          ]
        },
        {
          "output_type": "stream",
          "name": "stderr",
          "text": [
            "/usr/local/lib/python3.7/dist-packages/sklearn/utils/deprecation.py:87: FutureWarning: Function get_feature_names is deprecated; get_feature_names is deprecated in 1.0 and will be removed in 1.2. Please use get_feature_names_out instead.\n",
            "  warnings.warn(msg, category=FutureWarning)\n",
            "/usr/local/lib/python3.7/dist-packages/sklearn/utils/deprecation.py:87: FutureWarning: Function get_feature_names is deprecated; get_feature_names is deprecated in 1.0 and will be removed in 1.2. Please use get_feature_names_out instead.\n",
            "  warnings.warn(msg, category=FutureWarning)\n"
          ]
        },
        {
          "output_type": "stream",
          "name": "stdout",
          "text": [
            "\n",
            "==> 11 Eylül:\n",
            "  * Most Correlated Unigrams are: oyun, iyi, ben, izle, bir, güzel, kadar, yap, böyle, yaz, kere, eleştiri, evet, kişi, can, lm, herhalde, penn, yönet, balta\n",
            "  * Less Correlated Unigrams are: evril, komünist, unvan, benlik, kilometre, küresel, müddet, avrupada, bap, maharet, dürtü, louis, basa, gecik, kazı, çarpış, puanim, perçinle, yaralı, ansızın\n",
            "\n",
            "==> 11:14:\n",
            "  * Most Correlated Unigrams are: zeki, takdir, tip, senarist, artı, ilginç, köpek, kurgu, adım, itibari, nolan, birbiri, bağımsız, netice, kaza, hilary, görede, bağlantı, swank, gram\n",
            "  * Less Correlated Unigrams are: evril, komünist, ver, unvan, benlik, kilometre, küresel, müddet, avrupada, bap, maharet, dürtü, louis, basa, gecik, kazı, çarpış, puanim, perçinle, yaralı\n"
          ]
        },
        {
          "output_type": "stream",
          "name": "stderr",
          "text": [
            "/usr/local/lib/python3.7/dist-packages/sklearn/utils/deprecation.py:87: FutureWarning: Function get_feature_names is deprecated; get_feature_names is deprecated in 1.0 and will be removed in 1.2. Please use get_feature_names_out instead.\n",
            "  warnings.warn(msg, category=FutureWarning)\n"
          ]
        },
        {
          "output_type": "stream",
          "name": "stdout",
          "text": [
            "\n",
            "==> 11’e 10 Kala:\n",
            "  * Most Correlated Unigrams are: kadar, izle, iyi, ben, güzel, var, yok, hayat, fakat, geçen, görsel, ikinci, güç, anne, sınıf, afiş, kopya, tak, boğaz, istanbul\n",
            "  * Less Correlated Unigrams are: evril, komünist, unvan, benlik, kilometre, küresel, müddet, avrupada, bap, maharet, dürtü, louis, basa, gecik, kazı, çarpış, puanim, perçinle, yaralı, ansızın\n"
          ]
        },
        {
          "output_type": "stream",
          "name": "stderr",
          "text": [
            "/usr/local/lib/python3.7/dist-packages/sklearn/utils/deprecation.py:87: FutureWarning: Function get_feature_names is deprecated; get_feature_names is deprecated in 1.0 and will be removed in 1.2. Please use get_feature_names_out instead.\n",
            "  warnings.warn(msg, category=FutureWarning)\n"
          ]
        },
        {
          "output_type": "stream",
          "name": "stdout",
          "text": [
            "\n",
            "==> 12 Kahraman Haydut:\n",
            "  * Most Correlated Unigrams are: girl, git, gitmey, ghost, gittikçe, giyim, gizem, gizle, gizli, gizlice, gişe, gladyatör, godzilla, gol, good, gore, gormedim, gorsel, giy, şık\n",
            "  * Less Correlated Unigrams are: aaa, penelope, penn, perde, perfect, peri, perçinle, pes, peter, peygamber, peş, philip, phoenix, pierce, pilot, pis, pisman, pitt, pittin, pixar\n"
          ]
        },
        {
          "output_type": "stream",
          "name": "stderr",
          "text": [
            "/usr/local/lib/python3.7/dist-packages/sklearn/utils/deprecation.py:87: FutureWarning: Function get_feature_names is deprecated; get_feature_names is deprecated in 1.0 and will be removed in 1.2. Please use get_feature_names_out instead.\n",
            "  warnings.warn(msg, category=FutureWarning)\n"
          ]
        },
        {
          "output_type": "stream",
          "name": "stdout",
          "text": [
            "\n",
            "==> 12 Maymun:\n",
            "  * Most Correlated Unigrams are: yan, sıra, hayran, pek, süper, dur, görüntü, tarih, saygı, lk, kült, ters, koca, has, hitchcock, yaaa, çoğunluk, terry, brad, pitt\n",
            "  * Less Correlated Unigrams are: bir, evril, komünist, unvan, benlik, kilometre, küresel, müddet, avrupada, bap, maharet, dürtü, louis, basa, gecik, kazı, çarpış, puanim, perçinle, yaralı\n"
          ]
        },
        {
          "output_type": "stream",
          "name": "stderr",
          "text": [
            "/usr/local/lib/python3.7/dist-packages/sklearn/utils/deprecation.py:87: FutureWarning: Function get_feature_names is deprecated; get_feature_names is deprecated in 1.0 and will be removed in 1.2. Please use get_feature_names_out instead.\n",
            "  warnings.warn(msg, category=FutureWarning)\n",
            "/usr/local/lib/python3.7/dist-packages/sklearn/utils/deprecation.py:87: FutureWarning: Function get_feature_names is deprecated; get_feature_names is deprecated in 1.0 and will be removed in 1.2. Please use get_feature_names_out instead.\n",
            "  warnings.warn(msg, category=FutureWarning)\n"
          ]
        },
        {
          "output_type": "stream",
          "name": "stdout",
          "text": [
            "\n",
            "==> 12 Savaşçı:\n",
            "  * Most Correlated Unigrams are: kuvvet, nefes, lider, vadi, işgal, aksi, düşman, tabikide, saldırı, amerikayı, dayalı, vatan, coğrafya, kuzey, eylül, çeki, sahi, sağolsun, len, hemsworth\n",
            "  * Less Correlated Unigrams are: evril, komünist, unvan, benlik, kilometre, küresel, müddet, avrupada, bap, maharet, dürtü, louis, basa, gecik, kazı, çarpış, puanim, perçinle, yaralı, ansızın\n",
            "\n",
            "==> 12 Tuzak:\n",
            "  * Most Correlated Unigrams are: tanı, birlikte, tarz, imza, olumsuz, dvd, ölüm, hoşlan, oldugunu, rezil, geçmiş, daniel, ziyade, kas, gösteri, fikri, etm, kac, salla, birkez\n",
            "  * Less Correlated Unigrams are: evril, komünist, unvan, benlik, kilometre, küresel, müddet, avrupada, bap, maharet, dürtü, louis, basa, gecik, kazı, çarpış, puanim, perçinle, yaralı, ansızın\n",
            "\n",
            "==> 12 Yıllık Esaret:\n",
            "  * Most Correlated Unigrams are: altın, özgür, esinle, yoğun, tokat, hakkaten, çıplak, amerikada, steve, nasıl, don, oran, rakip, ayrım, utanç, yanıt, kaçın, yıllık, küre, esaret\n",
            "  * Less Correlated Unigrams are: film, var, evril, komünist, unvan, benlik, kilometre, küresel, müddet, avrupada, bap, maharet, dürtü, louis, basa, gecik, kazı, çarpış, puanim, perçinle\n"
          ]
        },
        {
          "output_type": "stream",
          "name": "stderr",
          "text": [
            "/usr/local/lib/python3.7/dist-packages/sklearn/utils/deprecation.py:87: FutureWarning: Function get_feature_names is deprecated; get_feature_names is deprecated in 1.0 and will be removed in 1.2. Please use get_feature_names_out instead.\n",
            "  warnings.warn(msg, category=FutureWarning)\n"
          ]
        }
      ]
    },
    {
      "cell_type": "code",
      "source": [
        "df[\"comment\"][df[\"film_name\"]==\"12 Yıllık Esaret\"]"
      ],
      "metadata": {
        "colab": {
          "base_uri": "https://localhost:8080/"
        },
        "id": "WsjnQAcZUJTc",
        "outputId": "89ae624b-9625-474e-9a4a-5103efc8dbcd"
      },
      "execution_count": 66,
      "outputs": [
        {
          "output_type": "execute_result",
          "data": {
            "text/plain": [
              "977    ben hayat kal ben yaşa hunger shame çarp film ...\n",
              "980    öncelik belir iste amerikada hala sür ayrım gü...\n",
              "981    oğruysa solomon arkadaş ancak bir film hikaye ...\n",
              "982                  gerçekten muhteşem bir izle tavsiye\n",
              "983     gerçek bir utanç öykü ekran yansı güzel bir film\n",
              "984    izle kot film biri gece izle rağmen film olums...\n",
              "985    tek kelime başyapı yoğun oyun film özgün yer ç...\n",
              "986    kölelik acı gerçekten yaşa hikaye etkile bir ş...\n",
              "987    herkes izle gerek muhteşem bir anlaş filmimn s...\n",
              "988    film gerçekten güzel mutlaka izle film gerçek ...\n",
              "989    amerikan tarih sil leke kölelik mevzun arka pl...\n",
              "990    yıllık esaret fragman izle kaptan phillips ber...\n",
              "991                               iyi film ödül hak izle\n",
              "992    kölelik film ayrı bir etkile insan yaşa gerçek...\n",
              "993    gerçek bir yaşam öykü konu edin film izle ben ...\n",
              "994    akademi ödül nin büyük favori years slave amer...\n",
              "995    son dönem film dikkat çek yada ben öyle gel bi...\n",
              "996    yıl amerika nın kuzey new yorkta yaşa müzisyen...\n",
              "997    vurucuçok sarsıcı tüy diken diken bir siyah ır...\n",
              "998    film iyi hoş ben gerek uza aynı konu kısa süre...\n",
              "999    oyun gerçek bir anlatım başarı yıllık esaret ö...\n",
              "Name: comment, dtype: object"
            ]
          },
          "metadata": {},
          "execution_count": 66
        }
      ]
    },
    {
      "cell_type": "code",
      "source": [
        "df[\"comment\"][977]"
      ],
      "metadata": {
        "colab": {
          "base_uri": "https://localhost:8080/",
          "height": 87
        },
        "id": "ikVv5ZFQUoMl",
        "outputId": "89ec5019-4fce-4bf7-8172-8d24eb72894b"
      },
      "execution_count": 67,
      "outputs": [
        {
          "output_type": "execute_result",
          "data": {
            "text/plain": [
              "'ben hayat kal ben yaşa hunger shame çarp film yönetmen steve mcqueenin üçüncü film years slave solomon northupın kendi hayat hikaye anlat kitap sinema uyarla hal yıl amerikan siyahi üzer kur insan uzak politika bir birey üzer anlat gerçek göz ser bir film imza steve mcqueen hatta kendi siyahi i̇ngiliz yönetmen etkile hayat hikaye sinema taşı siyahi maruz kal zulüm bir kırbaç beyaz yüz vur baş rol chiwetel ejioforun yardımcı oyun michael oyun saye kölelik konu birçok iyi film ara film yer başar ben göz iki oyun sergile kusur alt tekrar çiz iste resmen göz oyun ayrıca film bir rol rağmen brad pitt film ver iste mesaj başarı bir şekil özetle ana kadar festival onlarca ödül topla film hak değer oscar ödül gör oscarda görmez gel şaşır hikaye oyun çekim teknik müzik unut dev bir film yıllık esaret adaleti̇ var hak bi̇r tarafi'"
            ],
            "application/vnd.google.colaboratory.intrinsic+json": {
              "type": "string"
            }
          },
          "metadata": {},
          "execution_count": 67
        }
      ]
    },
    {
      "cell_type": "markdown",
      "source": [
        "**TF-IDF**"
      ],
      "metadata": {
        "id": "SoqVnBYKo_CS"
      }
    },
    {
      "cell_type": "code",
      "source": [
        "from sklearn.model_selection import train_test_split\n",
        "X_train, X_test, y_train, y_test = train_test_split(df.comment, df.point ,train_size=0.75)\n",
        "print(X_train)"
      ],
      "metadata": {
        "colab": {
          "base_uri": "https://localhost:8080/"
        },
        "id": "Oy1sash7pCQr",
        "outputId": "0dfa2ddd-4949-4d3a-c7af-a042786140ea"
      },
      "execution_count": 68,
      "outputs": [
        {
          "output_type": "stream",
          "name": "stdout",
          "text": [
            "70638    mak büyük çaba bekle pasif kal çabuk ben hayal...\n",
            "28997    hayat rezil mesaj ver kadar mesaj verecegim ye...\n",
            "38072    bladebu film ben aksiyon güzel bir film vampir...\n",
            "1769     ailecek izle son derece güzel bir film sahne a...\n",
            "43564    hayat izle saçma aptalca film oyun berbat ses ...\n",
            "                               ...                        \n",
            "44229    ben film izle izle bil bir film bir perde tims...\n",
            "75278       film izle sinema katkı git kendi sinir kat gel\n",
            "76168    tek kelime berbat fil amerikan pasta benze çlı...\n",
            "50359    hayalet yumruk oyle bir sahne gelir hayalet se...\n",
            "5815     yazık böylesi bir film sadece yorum sinemdan a...\n",
            "Name: comment, Length: 61706, dtype: object\n"
          ]
        }
      ]
    },
    {
      "cell_type": "code",
      "source": [
        "from sklearn.feature_extraction.text import TfidfVectorizer\n",
        "vect = TfidfVectorizer().fit(X_train)\n",
        "len(vect.get_feature_names())"
      ],
      "metadata": {
        "colab": {
          "base_uri": "https://localhost:8080/"
        },
        "id": "KAVpV26JpO0X",
        "outputId": "d88c12e6-45fc-4247-ed87-a70504e1ff4b"
      },
      "execution_count": 69,
      "outputs": [
        {
          "output_type": "stream",
          "name": "stderr",
          "text": [
            "/usr/local/lib/python3.7/dist-packages/sklearn/utils/deprecation.py:87: FutureWarning: Function get_feature_names is deprecated; get_feature_names is deprecated in 1.0 and will be removed in 1.2. Please use get_feature_names_out instead.\n",
            "  warnings.warn(msg, category=FutureWarning)\n"
          ]
        },
        {
          "output_type": "execute_result",
          "data": {
            "text/plain": [
              "75015"
            ]
          },
          "metadata": {},
          "execution_count": 69
        }
      ]
    },
    {
      "cell_type": "code",
      "source": [
        "X_train_vectorized = vect.transform(X_train)"
      ],
      "metadata": {
        "id": "tF3OzWbAphQV"
      },
      "execution_count": 70,
      "outputs": []
    },
    {
      "cell_type": "code",
      "source": [
        "X_test_vectorized =vect.transform(X_test)"
      ],
      "metadata": {
        "id": "EFe9h0kyw2gT"
      },
      "execution_count": 71,
      "outputs": []
    },
    {
      "cell_type": "code",
      "source": [
        "from sklearn.linear_model import LinearRegression\n",
        "reg = LinearRegression()\n",
        "model_linreg_tfıdf = reg.fit(X_train_vectorized, y_train)"
      ],
      "metadata": {
        "id": "ADRFFAtwpmwJ"
      },
      "execution_count": 72,
      "outputs": []
    },
    {
      "cell_type": "code",
      "source": [
        "model_linreg_tfıdf.score(X_test_vectorized,y_test)"
      ],
      "metadata": {
        "colab": {
          "base_uri": "https://localhost:8080/"
        },
        "id": "YerYGufSsp9K",
        "outputId": "06b69857-320a-410f-a6cc-e29bcc448c4c"
      },
      "execution_count": 73,
      "outputs": [
        {
          "output_type": "execute_result",
          "data": {
            "text/plain": [
              "-1.0519966671885004"
            ]
          },
          "metadata": {},
          "execution_count": 73
        }
      ]
    },
    {
      "cell_type": "code",
      "source": [
        "predictions = model_linreg_tfıdf.predict(vect.transform(X_test))\n",
        "predictions"
      ],
      "metadata": {
        "colab": {
          "base_uri": "https://localhost:8080/"
        },
        "id": "KvkZ6do12mIb",
        "outputId": "4ac68b9a-15cb-4173-a675-0175f37f557a"
      },
      "execution_count": 74,
      "outputs": [
        {
          "output_type": "execute_result",
          "data": {
            "text/plain": [
              "array([3.93899976, 2.65375905, 0.34174494, ..., 2.52526586, 2.31370218,\n",
              "       4.05255466])"
            ]
          },
          "metadata": {},
          "execution_count": 74
        }
      ]
    },
    {
      "cell_type": "code",
      "source": [
        "y_test"
      ],
      "metadata": {
        "id": "4lonPj4E233u",
        "outputId": "6c3b83fb-99d6-46c4-bbd6-3db20b3c233c",
        "colab": {
          "base_uri": "https://localhost:8080/"
        }
      },
      "execution_count": 75,
      "outputs": [
        {
          "output_type": "execute_result",
          "data": {
            "text/plain": [
              "41470    5.0\n",
              "55496    2.5\n",
              "69112    4.0\n",
              "1404     1.0\n",
              "51872    5.0\n",
              "        ... \n",
              "72275    5.0\n",
              "6346     4.0\n",
              "25182    4.5\n",
              "79225    0.5\n",
              "47612    4.0\n",
              "Name: point, Length: 20569, dtype: float64"
            ]
          },
          "metadata": {},
          "execution_count": 75
        }
      ]
    },
    {
      "cell_type": "markdown",
      "source": [
        "**Word2Vec**"
      ],
      "metadata": {
        "id": "5xcfWlyuhVIA"
      }
    },
    {
      "cell_type": "code",
      "source": [
        "import gensim"
      ],
      "metadata": {
        "id": "LZswu7rZ_T-0"
      },
      "execution_count": 76,
      "outputs": []
    },
    {
      "cell_type": "code",
      "source": [
        "tokenized_review = df['comment'].apply(lambda x: x.split())\n",
        "tokenized_review"
      ],
      "metadata": {
        "colab": {
          "base_uri": "https://localhost:8080/"
        },
        "id": "qdmug8vOH-Xa",
        "outputId": "23bc4b9e-2594-4fbf-8042-e975833b5dd6"
      },
      "execution_count": 77,
      "outputs": [
        {
          "output_type": "execute_result",
          "data": {
            "text/plain": [
              "0        [jean, reno, zaten, leon, film, gelir, akıl, i...\n",
              "1        [ekşın, falan, izle, iste, dost, keza, ilk, sa...\n",
              "2        [yapım, hak, öyle, yaz, kitap, yüz, kısa, kes,...\n",
              "3        [final, yeter, sting, shape, heart, bazı, film...\n",
              "4        [jean, reno, adam, kusur, müthiş, film, başyapıt]\n",
              "                               ...                        \n",
              "82270                [böyle, kadro, bçyle, film, gereksi̇]\n",
              "82271    [kaar, yönetmen, göster, bir, film, sharon, st...\n",
              "82272    [bugün, dvdsini, izle, inanılmaz, kötü, bir, k...\n",
              "82273                             [klasik, korku, gerilim]\n",
              "82274    [ben, gerek, fazla, bir, eleştiri, düşün, kötü...\n",
              "Name: comment, Length: 82275, dtype: object"
            ]
          },
          "metadata": {},
          "execution_count": 77
        }
      ]
    },
    {
      "cell_type": "code",
      "source": [
        "model_w2v = gensim.models.Word2Vec(\n",
        "            tokenized_review,\n",
        "            size=200, # desired no. of features/independent variables\n",
        "            window=10, # context window size\n",
        "            min_count=2, # Ignores all words with total frequency lower than 2.                                  \n",
        "            sg = 2, # 1 for skip-gram model\n",
        "          #  hs = 0,\n",
        "            negative = 10, # for negative sampling\n",
        "            workers= 32, # no.of cores\n",
        "            seed = 34\n",
        ") \n",
        "\n",
        "model_w2v.train(tokenized_review, total_examples= len(df['comment']), epochs=20)"
      ],
      "metadata": {
        "id": "fDiq3TFwbPlI",
        "colab": {
          "base_uri": "https://localhost:8080/"
        },
        "outputId": "187d1d9b-4155-44eb-e782-2e8e1c6d1b7a"
      },
      "execution_count": 78,
      "outputs": [
        {
          "output_type": "execute_result",
          "data": {
            "text/plain": [
              "(41299133, 51317240)"
            ]
          },
          "metadata": {},
          "execution_count": 78
        }
      ]
    },
    {
      "cell_type": "code",
      "source": [
        "len(model_w2v['film'])"
      ],
      "metadata": {
        "id": "yE1Tls1yfI6x",
        "colab": {
          "base_uri": "https://localhost:8080/"
        },
        "outputId": "eea86255-e7d6-49df-dada-250b4bcfb858"
      },
      "execution_count": 79,
      "outputs": [
        {
          "output_type": "stream",
          "name": "stderr",
          "text": [
            "/usr/local/lib/python3.7/dist-packages/ipykernel_launcher.py:1: DeprecationWarning: Call to deprecated `__getitem__` (Method will be removed in 4.0.0, use self.wv.__getitem__() instead).\n",
            "  \"\"\"Entry point for launching an IPython kernel.\n"
          ]
        },
        {
          "output_type": "execute_result",
          "data": {
            "text/plain": [
              "200"
            ]
          },
          "metadata": {},
          "execution_count": 79
        }
      ]
    },
    {
      "cell_type": "code",
      "source": [
        "def word_vector(tokens, size):\n",
        "    vec = np.zeros(size).reshape((1, size))   # np.zeros() ise bu boyutlarda ve sıfırlardan oluşan bir dizin üretir. [0 0 0 ............ 0]\n",
        "    count = 0\n",
        "    for word in tokens:\n",
        "        try:\n",
        "            vec += model_w2v[word].reshape((1, size))  # Örnek = += np.array([10 ,1]).reshape((1, 2))  +=np.array([100 ,1]).reshape((1, 2))   ---------> [110,2]\n",
        "            count += 1.\n",
        "        except KeyError:  # handling the case where the token is not in vocabulary\n",
        "            continue\n",
        "    if count != 0:\n",
        "        vec /= count  # Örnek [110 , 2] bölü 4 [27.5 ,0.5] \n",
        "    return vec"
      ],
      "metadata": {
        "id": "UPbBg7XsIC5B"
      },
      "execution_count": 80,
      "outputs": []
    },
    {
      "cell_type": "code",
      "source": [
        "wordvec_arrays = np.zeros((len(tokenized_review), 200)) \n",
        "for i in range(len(tokenized_review)):\n",
        "    wordvec_arrays[i,:] = word_vector(tokenized_review[i], 200)\n",
        "wordvec_df = pd.DataFrame(wordvec_arrays)\n",
        "wordvec_df.shape"
      ],
      "metadata": {
        "colab": {
          "base_uri": "https://localhost:8080/"
        },
        "id": "SoZeeWKfIKaA",
        "outputId": "d3b6bf27-5cb0-4c72-855f-5c982cb0e521"
      },
      "execution_count": 81,
      "outputs": [
        {
          "output_type": "stream",
          "name": "stderr",
          "text": [
            "/usr/local/lib/python3.7/dist-packages/ipykernel_launcher.py:6: DeprecationWarning: Call to deprecated `__getitem__` (Method will be removed in 4.0.0, use self.wv.__getitem__() instead).\n",
            "  \n"
          ]
        },
        {
          "output_type": "execute_result",
          "data": {
            "text/plain": [
              "(82275, 200)"
            ]
          },
          "metadata": {},
          "execution_count": 81
        }
      ]
    },
    {
      "cell_type": "code",
      "source": [
        "from sklearn.model_selection import train_test_split\n",
        "xtrain_w2v , xtest_w2v, y_train, y_test = train_test_split(wordvec_df , df.point , train_size=0.75)"
      ],
      "metadata": {
        "id": "9iDk7FZIINJX"
      },
      "execution_count": 82,
      "outputs": []
    },
    {
      "cell_type": "code",
      "source": [
        "df"
      ],
      "metadata": {
        "colab": {
          "base_uri": "https://localhost:8080/",
          "height": 424
        },
        "id": "GBnv5kBRMfhC",
        "outputId": "43b6c683-afef-4ea3-915a-1702ad622d35"
      },
      "execution_count": 83,
      "outputs": [
        {
          "output_type": "execute_result",
          "data": {
            "text/plain": [
              "                                                 comment  \\\n",
              "0      jean reno zaten leon film gelir akıl izle kal ...   \n",
              "1      ekşın falan izle iste dost keza ilk sahne hari...   \n",
              "2      yapım hak öyle yaz kitap yüz kısa kes lazım bi...   \n",
              "3      final yeter sting shape heart bazı film ilgili...   \n",
              "4              jean reno adam kusur müthiş film başyapıt   \n",
              "...                                                  ...   \n",
              "82270                    böyle kadro bçyle film gereksi̇   \n",
              "82271  kaar yönetmen göster bir film sharon stone hat...   \n",
              "82272  bugün dvdsini izle inanılmaz kötü bir korku be...   \n",
              "82273                               klasik korku gerilim   \n",
              "82274  ben gerek fazla bir eleştiri düşün kötü anlam ...   \n",
              "\n",
              "                          film_name  point  film_name_id  \n",
              "0                     Sevginin Gücü    5.0          5458  \n",
              "1                     Sevginin Gücü    5.0          5458  \n",
              "2                     Sevginin Gücü    5.0          5458  \n",
              "3                     Sevginin Gücü    5.0          5458  \n",
              "4                     Sevginin Gücü    5.0          5458  \n",
              "...                             ...    ...           ...  \n",
              "82270                         Kabus    2.5          3251  \n",
              "82271                         Kabus    2.5          3251  \n",
              "82272                         Kabus    1.0          3251  \n",
              "82273                         Kabus    4.0          3251  \n",
              "82274  Bir Zamanlar... Hollywood'da    4.6          1168  \n",
              "\n",
              "[82275 rows x 4 columns]"
            ],
            "text/html": [
              "\n",
              "  <div id=\"df-c6a6fb3a-8901-4ce7-b25d-accb3535fbda\">\n",
              "    <div class=\"colab-df-container\">\n",
              "      <div>\n",
              "<style scoped>\n",
              "    .dataframe tbody tr th:only-of-type {\n",
              "        vertical-align: middle;\n",
              "    }\n",
              "\n",
              "    .dataframe tbody tr th {\n",
              "        vertical-align: top;\n",
              "    }\n",
              "\n",
              "    .dataframe thead th {\n",
              "        text-align: right;\n",
              "    }\n",
              "</style>\n",
              "<table border=\"1\" class=\"dataframe\">\n",
              "  <thead>\n",
              "    <tr style=\"text-align: right;\">\n",
              "      <th></th>\n",
              "      <th>comment</th>\n",
              "      <th>film_name</th>\n",
              "      <th>point</th>\n",
              "      <th>film_name_id</th>\n",
              "    </tr>\n",
              "  </thead>\n",
              "  <tbody>\n",
              "    <tr>\n",
              "      <th>0</th>\n",
              "      <td>jean reno zaten leon film gelir akıl izle kal ...</td>\n",
              "      <td>Sevginin Gücü</td>\n",
              "      <td>5.0</td>\n",
              "      <td>5458</td>\n",
              "    </tr>\n",
              "    <tr>\n",
              "      <th>1</th>\n",
              "      <td>ekşın falan izle iste dost keza ilk sahne hari...</td>\n",
              "      <td>Sevginin Gücü</td>\n",
              "      <td>5.0</td>\n",
              "      <td>5458</td>\n",
              "    </tr>\n",
              "    <tr>\n",
              "      <th>2</th>\n",
              "      <td>yapım hak öyle yaz kitap yüz kısa kes lazım bi...</td>\n",
              "      <td>Sevginin Gücü</td>\n",
              "      <td>5.0</td>\n",
              "      <td>5458</td>\n",
              "    </tr>\n",
              "    <tr>\n",
              "      <th>3</th>\n",
              "      <td>final yeter sting shape heart bazı film ilgili...</td>\n",
              "      <td>Sevginin Gücü</td>\n",
              "      <td>5.0</td>\n",
              "      <td>5458</td>\n",
              "    </tr>\n",
              "    <tr>\n",
              "      <th>4</th>\n",
              "      <td>jean reno adam kusur müthiş film başyapıt</td>\n",
              "      <td>Sevginin Gücü</td>\n",
              "      <td>5.0</td>\n",
              "      <td>5458</td>\n",
              "    </tr>\n",
              "    <tr>\n",
              "      <th>...</th>\n",
              "      <td>...</td>\n",
              "      <td>...</td>\n",
              "      <td>...</td>\n",
              "      <td>...</td>\n",
              "    </tr>\n",
              "    <tr>\n",
              "      <th>82270</th>\n",
              "      <td>böyle kadro bçyle film gereksi̇</td>\n",
              "      <td>Kabus</td>\n",
              "      <td>2.5</td>\n",
              "      <td>3251</td>\n",
              "    </tr>\n",
              "    <tr>\n",
              "      <th>82271</th>\n",
              "      <td>kaar yönetmen göster bir film sharon stone hat...</td>\n",
              "      <td>Kabus</td>\n",
              "      <td>2.5</td>\n",
              "      <td>3251</td>\n",
              "    </tr>\n",
              "    <tr>\n",
              "      <th>82272</th>\n",
              "      <td>bugün dvdsini izle inanılmaz kötü bir korku be...</td>\n",
              "      <td>Kabus</td>\n",
              "      <td>1.0</td>\n",
              "      <td>3251</td>\n",
              "    </tr>\n",
              "    <tr>\n",
              "      <th>82273</th>\n",
              "      <td>klasik korku gerilim</td>\n",
              "      <td>Kabus</td>\n",
              "      <td>4.0</td>\n",
              "      <td>3251</td>\n",
              "    </tr>\n",
              "    <tr>\n",
              "      <th>82274</th>\n",
              "      <td>ben gerek fazla bir eleştiri düşün kötü anlam ...</td>\n",
              "      <td>Bir Zamanlar... Hollywood'da</td>\n",
              "      <td>4.6</td>\n",
              "      <td>1168</td>\n",
              "    </tr>\n",
              "  </tbody>\n",
              "</table>\n",
              "<p>82275 rows × 4 columns</p>\n",
              "</div>\n",
              "      <button class=\"colab-df-convert\" onclick=\"convertToInteractive('df-c6a6fb3a-8901-4ce7-b25d-accb3535fbda')\"\n",
              "              title=\"Convert this dataframe to an interactive table.\"\n",
              "              style=\"display:none;\">\n",
              "        \n",
              "  <svg xmlns=\"http://www.w3.org/2000/svg\" height=\"24px\"viewBox=\"0 0 24 24\"\n",
              "       width=\"24px\">\n",
              "    <path d=\"M0 0h24v24H0V0z\" fill=\"none\"/>\n",
              "    <path d=\"M18.56 5.44l.94 2.06.94-2.06 2.06-.94-2.06-.94-.94-2.06-.94 2.06-2.06.94zm-11 1L8.5 8.5l.94-2.06 2.06-.94-2.06-.94L8.5 2.5l-.94 2.06-2.06.94zm10 10l.94 2.06.94-2.06 2.06-.94-2.06-.94-.94-2.06-.94 2.06-2.06.94z\"/><path d=\"M17.41 7.96l-1.37-1.37c-.4-.4-.92-.59-1.43-.59-.52 0-1.04.2-1.43.59L10.3 9.45l-7.72 7.72c-.78.78-.78 2.05 0 2.83L4 21.41c.39.39.9.59 1.41.59.51 0 1.02-.2 1.41-.59l7.78-7.78 2.81-2.81c.8-.78.8-2.07 0-2.86zM5.41 20L4 18.59l7.72-7.72 1.47 1.35L5.41 20z\"/>\n",
              "  </svg>\n",
              "      </button>\n",
              "      \n",
              "  <style>\n",
              "    .colab-df-container {\n",
              "      display:flex;\n",
              "      flex-wrap:wrap;\n",
              "      gap: 12px;\n",
              "    }\n",
              "\n",
              "    .colab-df-convert {\n",
              "      background-color: #E8F0FE;\n",
              "      border: none;\n",
              "      border-radius: 50%;\n",
              "      cursor: pointer;\n",
              "      display: none;\n",
              "      fill: #1967D2;\n",
              "      height: 32px;\n",
              "      padding: 0 0 0 0;\n",
              "      width: 32px;\n",
              "    }\n",
              "\n",
              "    .colab-df-convert:hover {\n",
              "      background-color: #E2EBFA;\n",
              "      box-shadow: 0px 1px 2px rgba(60, 64, 67, 0.3), 0px 1px 3px 1px rgba(60, 64, 67, 0.15);\n",
              "      fill: #174EA6;\n",
              "    }\n",
              "\n",
              "    [theme=dark] .colab-df-convert {\n",
              "      background-color: #3B4455;\n",
              "      fill: #D2E3FC;\n",
              "    }\n",
              "\n",
              "    [theme=dark] .colab-df-convert:hover {\n",
              "      background-color: #434B5C;\n",
              "      box-shadow: 0px 1px 3px 1px rgba(0, 0, 0, 0.15);\n",
              "      filter: drop-shadow(0px 1px 2px rgba(0, 0, 0, 0.3));\n",
              "      fill: #FFFFFF;\n",
              "    }\n",
              "  </style>\n",
              "\n",
              "      <script>\n",
              "        const buttonEl =\n",
              "          document.querySelector('#df-c6a6fb3a-8901-4ce7-b25d-accb3535fbda button.colab-df-convert');\n",
              "        buttonEl.style.display =\n",
              "          google.colab.kernel.accessAllowed ? 'block' : 'none';\n",
              "\n",
              "        async function convertToInteractive(key) {\n",
              "          const element = document.querySelector('#df-c6a6fb3a-8901-4ce7-b25d-accb3535fbda');\n",
              "          const dataTable =\n",
              "            await google.colab.kernel.invokeFunction('convertToInteractive',\n",
              "                                                     [key], {});\n",
              "          if (!dataTable) return;\n",
              "\n",
              "          const docLinkHtml = 'Like what you see? Visit the ' +\n",
              "            '<a target=\"_blank\" href=https://colab.research.google.com/notebooks/data_table.ipynb>data table notebook</a>'\n",
              "            + ' to learn more about interactive tables.';\n",
              "          element.innerHTML = '';\n",
              "          dataTable['output_type'] = 'display_data';\n",
              "          await google.colab.output.renderOutput(dataTable, element);\n",
              "          const docLink = document.createElement('div');\n",
              "          docLink.innerHTML = docLinkHtml;\n",
              "          element.appendChild(docLink);\n",
              "        }\n",
              "      </script>\n",
              "    </div>\n",
              "  </div>\n",
              "  "
            ]
          },
          "metadata": {},
          "execution_count": 83
        }
      ]
    },
    {
      "cell_type": "code",
      "source": [
        "from sklearn.linear_model import LinearRegression\n",
        "reg = LinearRegression()\n",
        "model_linreg_word2vec = reg.fit(xtrain_w2v,y_train)"
      ],
      "metadata": {
        "id": "OwMmQ0gdITxo"
      },
      "execution_count": 84,
      "outputs": []
    },
    {
      "cell_type": "code",
      "source": [
        "print(model_linreg_word2vec.score(xtest_w2v,y_test))"
      ],
      "metadata": {
        "colab": {
          "base_uri": "https://localhost:8080/"
        },
        "id": "OmiHSDqIIWIt",
        "outputId": "ef3c4f99-d2fe-4c19-9cbe-ce8f42ebd84c"
      },
      "execution_count": 85,
      "outputs": [
        {
          "output_type": "stream",
          "name": "stdout",
          "text": [
            "0.2839696099545922\n"
          ]
        }
      ]
    },
    {
      "cell_type": "markdown",
      "source": [
        "**Bert**"
      ],
      "metadata": {
        "id": "S556sw4_cF5A"
      }
    },
    {
      "cell_type": "code",
      "source": [
        "!pip install transformers\n",
        "import transformers"
      ],
      "metadata": {
        "colab": {
          "base_uri": "https://localhost:8080/"
        },
        "id": "pF4dp6gDcJIZ",
        "outputId": "72877643-be2a-4fdc-9417-2f68c7bcfba9"
      },
      "execution_count": 86,
      "outputs": [
        {
          "output_type": "stream",
          "name": "stdout",
          "text": [
            "Looking in indexes: https://pypi.org/simple, https://us-python.pkg.dev/colab-wheels/public/simple/\n",
            "Collecting transformers\n",
            "  Downloading transformers-4.20.1-py3-none-any.whl (4.4 MB)\n",
            "\u001b[K     |████████████████████████████████| 4.4 MB 6.7 MB/s \n",
            "\u001b[?25hRequirement already satisfied: importlib-metadata in /usr/local/lib/python3.7/dist-packages (from transformers) (4.11.4)\n",
            "Requirement already satisfied: numpy>=1.17 in /usr/local/lib/python3.7/dist-packages (from transformers) (1.21.6)\n",
            "Collecting huggingface-hub<1.0,>=0.1.0\n",
            "  Downloading huggingface_hub-0.8.1-py3-none-any.whl (101 kB)\n",
            "\u001b[K     |████████████████████████████████| 101 kB 13.4 MB/s \n",
            "\u001b[?25hRequirement already satisfied: tqdm>=4.27 in /usr/local/lib/python3.7/dist-packages (from transformers) (4.64.0)\n",
            "Requirement already satisfied: requests in /usr/local/lib/python3.7/dist-packages (from transformers) (2.23.0)\n",
            "Requirement already satisfied: regex!=2019.12.17 in /usr/local/lib/python3.7/dist-packages (from transformers) (2022.6.2)\n",
            "Collecting pyyaml>=5.1\n",
            "  Downloading PyYAML-6.0-cp37-cp37m-manylinux_2_5_x86_64.manylinux1_x86_64.manylinux_2_12_x86_64.manylinux2010_x86_64.whl (596 kB)\n",
            "\u001b[K     |████████████████████████████████| 596 kB 72.6 MB/s \n",
            "\u001b[?25hRequirement already satisfied: filelock in /usr/local/lib/python3.7/dist-packages (from transformers) (3.7.1)\n",
            "Collecting tokenizers!=0.11.3,<0.13,>=0.11.1\n",
            "  Downloading tokenizers-0.12.1-cp37-cp37m-manylinux_2_12_x86_64.manylinux2010_x86_64.whl (6.6 MB)\n",
            "\u001b[K     |████████████████████████████████| 6.6 MB 51.5 MB/s \n",
            "\u001b[?25hRequirement already satisfied: packaging>=20.0 in /usr/local/lib/python3.7/dist-packages (from transformers) (21.3)\n",
            "Requirement already satisfied: typing-extensions>=3.7.4.3 in /usr/local/lib/python3.7/dist-packages (from huggingface-hub<1.0,>=0.1.0->transformers) (4.1.1)\n",
            "Requirement already satisfied: pyparsing!=3.0.5,>=2.0.2 in /usr/local/lib/python3.7/dist-packages (from packaging>=20.0->transformers) (3.0.9)\n",
            "Requirement already satisfied: zipp>=0.5 in /usr/local/lib/python3.7/dist-packages (from importlib-metadata->transformers) (3.8.0)\n",
            "Requirement already satisfied: urllib3!=1.25.0,!=1.25.1,<1.26,>=1.21.1 in /usr/local/lib/python3.7/dist-packages (from requests->transformers) (1.24.3)\n",
            "Requirement already satisfied: certifi>=2017.4.17 in /usr/local/lib/python3.7/dist-packages (from requests->transformers) (2022.6.15)\n",
            "Requirement already satisfied: chardet<4,>=3.0.2 in /usr/local/lib/python3.7/dist-packages (from requests->transformers) (3.0.4)\n",
            "Requirement already satisfied: idna<3,>=2.5 in /usr/local/lib/python3.7/dist-packages (from requests->transformers) (2.10)\n",
            "Installing collected packages: pyyaml, tokenizers, huggingface-hub, transformers\n",
            "  Attempting uninstall: pyyaml\n",
            "    Found existing installation: PyYAML 3.13\n",
            "    Uninstalling PyYAML-3.13:\n",
            "      Successfully uninstalled PyYAML-3.13\n",
            "Successfully installed huggingface-hub-0.8.1 pyyaml-6.0 tokenizers-0.12.1 transformers-4.20.1\n"
          ]
        }
      ]
    },
    {
      "cell_type": "code",
      "source": [
        "from transformers import AutoTokenizer,TFBertModel\n",
        "tokenizer = AutoTokenizer.from_pretrained('bert-base-cased')\n",
        "bert = TFBertModel.from_pretrained('bert-base-cased')"
      ],
      "metadata": {
        "colab": {
          "base_uri": "https://localhost:8080/",
          "height": 264,
          "referenced_widgets": [
            "28c052468f4142b38b8c69e521c1e709",
            "e515150d1e914a71968cb3fb0a4f24a9",
            "8c47bee8d4584c22b1d1ed010934bfaf",
            "01a53d58f3ce4402b82e0fa0e5bcaedd",
            "c6088ab2e1bd42f48c41f75e71400b07",
            "3fc14d8eb9394c5f91f179e7032098e4",
            "ac59600ab1244462a807a25885aa8aa8",
            "d07a530d2edc48b996cbafa6c03c99e7",
            "e44bc1c8ee524df1ae4aa364fae6e101",
            "aebee421106c44599b3f885d1d0838fe",
            "09dc3dcd771f439898af55403e135ef0",
            "74182b9b2789478f990e5ca9e752f35a",
            "a73a217563dd4ee3b8b4a43647f2c6bc",
            "c250ac87f0334940b739e1976abe11ab",
            "7c9ebfa325b24754a44dd09a940085c9",
            "f429e8b5ce8a4ed58120370303753949",
            "e0f755b6597844ae8d1bb02e7f51ef03",
            "969d27e492744177b7a07216e566f06e",
            "0a5375e5581040edabf8f8538f4fe0de",
            "662761c74add437388856ffd093d4feb",
            "a4d66678bb7b4627b806e8010cfb8bcf",
            "9d239fb2221a4181b09d1f7c51bce297",
            "bf3c760ef0434f25a7c5fee98abcd74c",
            "c1ee25114d9644ddbba51a5de8ca9731",
            "3d8fe2533a9d4a5c830fb634597aad77",
            "79456da8df2d48f59be190bd61a5db5e",
            "740def6837bd4cd6b70a47143246d766",
            "fc8c05d88fb744c2b5524c3c6d71b63e",
            "71ace7b2bfd7478d954dccc69ab0a577",
            "d8e29e274d9f4964a8d7771d71ebe643",
            "b4efe1df1fc64bf989fb63d85cc2583c",
            "e5e4944087224cf099147a0ff0120bb0",
            "e47e1e089a6d4d88b0c4aca1e34d2e40",
            "0155bfe9731c41b6ba76469e49e7371f",
            "a5f3d628448c46079d508016f50d970d",
            "8f3df2d2ff61446e872a1cdafc4bbd76",
            "5954d957ff8146ebac5ab2f7218f01ec",
            "4f8c19151d234f4e9a0e045765e4c40a",
            "e4a7f163ba6f4edf891c3de0e8897ffa",
            "fcfa868c7d4a42ff9edfde4f30a7cd4e",
            "262ab39a118b4dd88e1d32ac56831dbc",
            "60bdb639bb574386a331f2bf51011271",
            "41e6868a134a42d189b8906185ddf24a",
            "6cab8e3895ee447b8407b727452eadde",
            "23f7282082684e68b10b3df3c8dee3ee",
            "d1d56f210cd74d64a76e40225f9ddb9e",
            "148c4bfb89374b229081faa5534011c1",
            "69cc8c446aad41beb065ec8193c89341",
            "ae7ca6c274034cc1a7304bd920f8b3b1",
            "129b9910893f47e685cee757800ef564",
            "ca0b23e391304f679f762e126e42923e",
            "564aebc0f71b451ab805028d9fb61aa4",
            "144a8f17113c412597ddea9611614776",
            "1347c499e9c2411d8e770c87de3fedd1",
            "c03d8ea05ba540a6983981442d11ac7d"
          ]
        },
        "id": "_ASjhtkEcPWi",
        "outputId": "f137019d-5fd4-459b-dcc8-40ae002dbc23"
      },
      "execution_count": 87,
      "outputs": [
        {
          "output_type": "display_data",
          "data": {
            "text/plain": [
              "Downloading:   0%|          | 0.00/29.0 [00:00<?, ?B/s]"
            ],
            "application/vnd.jupyter.widget-view+json": {
              "version_major": 2,
              "version_minor": 0,
              "model_id": "28c052468f4142b38b8c69e521c1e709"
            }
          },
          "metadata": {}
        },
        {
          "output_type": "display_data",
          "data": {
            "text/plain": [
              "Downloading:   0%|          | 0.00/570 [00:00<?, ?B/s]"
            ],
            "application/vnd.jupyter.widget-view+json": {
              "version_major": 2,
              "version_minor": 0,
              "model_id": "74182b9b2789478f990e5ca9e752f35a"
            }
          },
          "metadata": {}
        },
        {
          "output_type": "display_data",
          "data": {
            "text/plain": [
              "Downloading:   0%|          | 0.00/208k [00:00<?, ?B/s]"
            ],
            "application/vnd.jupyter.widget-view+json": {
              "version_major": 2,
              "version_minor": 0,
              "model_id": "bf3c760ef0434f25a7c5fee98abcd74c"
            }
          },
          "metadata": {}
        },
        {
          "output_type": "display_data",
          "data": {
            "text/plain": [
              "Downloading:   0%|          | 0.00/426k [00:00<?, ?B/s]"
            ],
            "application/vnd.jupyter.widget-view+json": {
              "version_major": 2,
              "version_minor": 0,
              "model_id": "0155bfe9731c41b6ba76469e49e7371f"
            }
          },
          "metadata": {}
        },
        {
          "output_type": "display_data",
          "data": {
            "text/plain": [
              "Downloading:   0%|          | 0.00/502M [00:00<?, ?B/s]"
            ],
            "application/vnd.jupyter.widget-view+json": {
              "version_major": 2,
              "version_minor": 0,
              "model_id": "23f7282082684e68b10b3df3c8dee3ee"
            }
          },
          "metadata": {}
        },
        {
          "output_type": "stream",
          "name": "stderr",
          "text": [
            "Some layers from the model checkpoint at bert-base-cased were not used when initializing TFBertModel: ['nsp___cls', 'mlm___cls']\n",
            "- This IS expected if you are initializing TFBertModel from the checkpoint of a model trained on another task or with another architecture (e.g. initializing a BertForSequenceClassification model from a BertForPreTraining model).\n",
            "- This IS NOT expected if you are initializing TFBertModel from the checkpoint of a model that you expect to be exactly identical (initializing a BertForSequenceClassification model from a BertForSequenceClassification model).\n",
            "All the layers of TFBertModel were initialized from the model checkpoint at bert-base-cased.\n",
            "If your task is similar to the task the model of the checkpoint was trained on, you can already use TFBertModel for predictions without further training.\n"
          ]
        }
      ]
    },
    {
      "cell_type": "code",
      "source": [
        "from transformers import AutoModel, AutoTokenizer\n",
        "\n",
        "tokenizer = AutoTokenizer.from_pretrained(\"dbmdz/bert-base-turkish-cased\")\n",
        "bert_model = TFBertModel.from_pretrained(\"dbmdz/bert-base-turkish-cased\")"
      ],
      "metadata": {
        "colab": {
          "base_uri": "https://localhost:8080/",
          "height": 232,
          "referenced_widgets": [
            "c45aa4b4810c42b9a4d76c416726ab89",
            "14a5bd1de3f641d18501395afb8a7f3e",
            "59e90d01f5ed4cffaa84b3cd15d849a7",
            "d9ed3f833d5c4f0e839fa9c85cc91d34",
            "865162f291ce4edcaa5617bb1ba64bcc",
            "85f14a96d01d484e9042a33669716c84",
            "3aafaefe24be408a9d03f04306435160",
            "2c8213c8a3ad47c8ad5cbe5b3720b937",
            "23726852c4f94325b158939b08f37517",
            "22447f826f8146c78a2828e3d332da7b",
            "56523a34dff2441ea4aab5e954c134e8",
            "0133ad6ce3894a1daa586ee134af0886",
            "19fd83c06aef481e847ca7b552d2c49c",
            "90f4a3dc44c946dcb5c27abfd98dd319",
            "a6834f49193c438493d48ff36546cff2",
            "3dd169f86cc545b39beda3d8fc0d67a8",
            "4dab64120bec4ec08683f6b0a8669797",
            "885b88a4efc5485f906014dcd685957a",
            "c145a3441bba4f48a205ff7037aefdb7",
            "a229853e1700429fbb3f187aa74be2bc",
            "5918138038aa4593a20b1a690b8b771f",
            "ce24105710ab4ee4bb9d73976b173592",
            "f17aa40beb724f92afc3f940c0aca084",
            "708bd7a20dfd4b11955ed985cfb715a4",
            "2ea8c782645148e084a6945757284da5",
            "78fa7496c28f4ebebd0f6f5838812999",
            "c0e39bc588b94b439a67681be6773e88",
            "a27221a0fc844efbad34371cff0054e8",
            "846a065891364c63a8b19db8fa68279a",
            "4dcd2671e4604ac8ac6efa3ed8bce6b7",
            "3bf49be9f2224f42b507c07ec5bad47c",
            "1b6c8435078848c3886d26f301166d37",
            "b3296d2d44a9458abe2f6eb547b65382",
            "7864c37817df450b886be2f1dadb12da",
            "c6e3ea5ddde84412b3bc9ec1aa257c80",
            "41f28cdb606a45e19095204f050a939e",
            "bec7edd5d3484fd6b7212bce87152efc",
            "abbf9ba091974aa1a876ad9a7d7e3eb2",
            "15be85de7bc34524970a87446672972d",
            "aa15c243005949d6aa2de3dd4e2f5a98",
            "d999102e488a486d8441aa5130cd05cb",
            "c7ce45f27b1641febd700b2fae9f0662",
            "2a1ee2854b934e3bbcb5690740beab8c",
            "60a10d9497844ec495e4246240bbda9f"
          ]
        },
        "id": "Ku8yWwBRdLvl",
        "outputId": "673b681a-eea4-450c-9a13-ec32b9267089"
      },
      "execution_count": 88,
      "outputs": [
        {
          "output_type": "display_data",
          "data": {
            "text/plain": [
              "Downloading:   0%|          | 0.00/60.0 [00:00<?, ?B/s]"
            ],
            "application/vnd.jupyter.widget-view+json": {
              "version_major": 2,
              "version_minor": 0,
              "model_id": "c45aa4b4810c42b9a4d76c416726ab89"
            }
          },
          "metadata": {}
        },
        {
          "output_type": "display_data",
          "data": {
            "text/plain": [
              "Downloading:   0%|          | 0.00/385 [00:00<?, ?B/s]"
            ],
            "application/vnd.jupyter.widget-view+json": {
              "version_major": 2,
              "version_minor": 0,
              "model_id": "0133ad6ce3894a1daa586ee134af0886"
            }
          },
          "metadata": {}
        },
        {
          "output_type": "display_data",
          "data": {
            "text/plain": [
              "Downloading:   0%|          | 0.00/245k [00:00<?, ?B/s]"
            ],
            "application/vnd.jupyter.widget-view+json": {
              "version_major": 2,
              "version_minor": 0,
              "model_id": "f17aa40beb724f92afc3f940c0aca084"
            }
          },
          "metadata": {}
        },
        {
          "output_type": "display_data",
          "data": {
            "text/plain": [
              "Downloading:   0%|          | 0.00/520M [00:00<?, ?B/s]"
            ],
            "application/vnd.jupyter.widget-view+json": {
              "version_major": 2,
              "version_minor": 0,
              "model_id": "7864c37817df450b886be2f1dadb12da"
            }
          },
          "metadata": {}
        },
        {
          "output_type": "stream",
          "name": "stderr",
          "text": [
            "Some layers from the model checkpoint at dbmdz/bert-base-turkish-cased were not used when initializing TFBertModel: ['nsp___cls', 'mlm___cls']\n",
            "- This IS expected if you are initializing TFBertModel from the checkpoint of a model trained on another task or with another architecture (e.g. initializing a BertForSequenceClassification model from a BertForPreTraining model).\n",
            "- This IS NOT expected if you are initializing TFBertModel from the checkpoint of a model that you expect to be exactly identical (initializing a BertForSequenceClassification model from a BertForSequenceClassification model).\n",
            "All the layers of TFBertModel were initialized from the model checkpoint at dbmdz/bert-base-turkish-cased.\n",
            "If your task is similar to the task the model of the checkpoint was trained on, you can already use TFBertModel for predictions without further training.\n"
          ]
        }
      ]
    },
    {
      "cell_type": "code",
      "source": [
        "from sklearn.model_selection import train_test_split\n",
        "df_train, df_test = train_test_split(df, test_size=0.25)"
      ],
      "metadata": {
        "id": "NsnTunD3cSHp"
      },
      "execution_count": 89,
      "outputs": []
    },
    {
      "cell_type": "code",
      "source": [
        "df_train"
      ],
      "metadata": {
        "colab": {
          "base_uri": "https://localhost:8080/",
          "height": 424
        },
        "id": "I9LHH7LscdOL",
        "outputId": "52967ebd-b101-4868-af35-4fe8df3dfa78"
      },
      "execution_count": 90,
      "outputs": [
        {
          "output_type": "execute_result",
          "data": {
            "text/plain": [
              "                                                 comment  \\\n",
              "51947  böceğibu film iyi halen seyret hasta herbie se...   \n",
              "32892  iki harika murphy martin güzel bölüm ben maç g...   \n",
              "53611  güzel film şahsen karakol uyu söyle asker söyl...   \n",
              "32008  film izle önce düşünce film düşünce fakat izle...   \n",
              "74259      film bit yaz papaz imam aynı adam oyna ilginç   \n",
              "...                                                  ...   \n",
              "66232  gerçekten ilk baş klasik cinsel şaka üst git g...   \n",
              "52981                     çocukluk dair keyif bir disney   \n",
              "78673  izle kötü film boy heyecan gerilim dair bişey ...   \n",
              "73413  ağır bir film senaryo bay karışık fakat kurgu ...   \n",
              "60970  yazık ara genç yaş ayır ömer kavur iyi film bi...   \n",
              "\n",
              "                  film_name  point  film_name_id  \n",
              "51947   Herbie Goes Bananas    1.0          2973  \n",
              "32892       Müebbet Kuşları    4.0          4532  \n",
              "53611                Patton    4.0          4903  \n",
              "32008              Cellular    3.5          1502  \n",
              "74259                 Orada    3.0          4756  \n",
              "...                     ...    ...           ...  \n",
              "66232      Çılgın Doğumgünü    4.0          7166  \n",
              "52981              Alaaddin    5.0           268  \n",
              "78673                 Onlar    2.0          4745  \n",
              "73413  Where the Truth Lies    3.5          6667  \n",
              "60970           Yatık Emine    4.0          6783  \n",
              "\n",
              "[61706 rows x 4 columns]"
            ],
            "text/html": [
              "\n",
              "  <div id=\"df-92ab995a-010d-4a8d-9b41-3e7a2244f94c\">\n",
              "    <div class=\"colab-df-container\">\n",
              "      <div>\n",
              "<style scoped>\n",
              "    .dataframe tbody tr th:only-of-type {\n",
              "        vertical-align: middle;\n",
              "    }\n",
              "\n",
              "    .dataframe tbody tr th {\n",
              "        vertical-align: top;\n",
              "    }\n",
              "\n",
              "    .dataframe thead th {\n",
              "        text-align: right;\n",
              "    }\n",
              "</style>\n",
              "<table border=\"1\" class=\"dataframe\">\n",
              "  <thead>\n",
              "    <tr style=\"text-align: right;\">\n",
              "      <th></th>\n",
              "      <th>comment</th>\n",
              "      <th>film_name</th>\n",
              "      <th>point</th>\n",
              "      <th>film_name_id</th>\n",
              "    </tr>\n",
              "  </thead>\n",
              "  <tbody>\n",
              "    <tr>\n",
              "      <th>51947</th>\n",
              "      <td>böceğibu film iyi halen seyret hasta herbie se...</td>\n",
              "      <td>Herbie Goes Bananas</td>\n",
              "      <td>1.0</td>\n",
              "      <td>2973</td>\n",
              "    </tr>\n",
              "    <tr>\n",
              "      <th>32892</th>\n",
              "      <td>iki harika murphy martin güzel bölüm ben maç g...</td>\n",
              "      <td>Müebbet Kuşları</td>\n",
              "      <td>4.0</td>\n",
              "      <td>4532</td>\n",
              "    </tr>\n",
              "    <tr>\n",
              "      <th>53611</th>\n",
              "      <td>güzel film şahsen karakol uyu söyle asker söyl...</td>\n",
              "      <td>Patton</td>\n",
              "      <td>4.0</td>\n",
              "      <td>4903</td>\n",
              "    </tr>\n",
              "    <tr>\n",
              "      <th>32008</th>\n",
              "      <td>film izle önce düşünce film düşünce fakat izle...</td>\n",
              "      <td>Cellular</td>\n",
              "      <td>3.5</td>\n",
              "      <td>1502</td>\n",
              "    </tr>\n",
              "    <tr>\n",
              "      <th>74259</th>\n",
              "      <td>film bit yaz papaz imam aynı adam oyna ilginç</td>\n",
              "      <td>Orada</td>\n",
              "      <td>3.0</td>\n",
              "      <td>4756</td>\n",
              "    </tr>\n",
              "    <tr>\n",
              "      <th>...</th>\n",
              "      <td>...</td>\n",
              "      <td>...</td>\n",
              "      <td>...</td>\n",
              "      <td>...</td>\n",
              "    </tr>\n",
              "    <tr>\n",
              "      <th>66232</th>\n",
              "      <td>gerçekten ilk baş klasik cinsel şaka üst git g...</td>\n",
              "      <td>Çılgın Doğumgünü</td>\n",
              "      <td>4.0</td>\n",
              "      <td>7166</td>\n",
              "    </tr>\n",
              "    <tr>\n",
              "      <th>52981</th>\n",
              "      <td>çocukluk dair keyif bir disney</td>\n",
              "      <td>Alaaddin</td>\n",
              "      <td>5.0</td>\n",
              "      <td>268</td>\n",
              "    </tr>\n",
              "    <tr>\n",
              "      <th>78673</th>\n",
              "      <td>izle kötü film boy heyecan gerilim dair bişey ...</td>\n",
              "      <td>Onlar</td>\n",
              "      <td>2.0</td>\n",
              "      <td>4745</td>\n",
              "    </tr>\n",
              "    <tr>\n",
              "      <th>73413</th>\n",
              "      <td>ağır bir film senaryo bay karışık fakat kurgu ...</td>\n",
              "      <td>Where the Truth Lies</td>\n",
              "      <td>3.5</td>\n",
              "      <td>6667</td>\n",
              "    </tr>\n",
              "    <tr>\n",
              "      <th>60970</th>\n",
              "      <td>yazık ara genç yaş ayır ömer kavur iyi film bi...</td>\n",
              "      <td>Yatık Emine</td>\n",
              "      <td>4.0</td>\n",
              "      <td>6783</td>\n",
              "    </tr>\n",
              "  </tbody>\n",
              "</table>\n",
              "<p>61706 rows × 4 columns</p>\n",
              "</div>\n",
              "      <button class=\"colab-df-convert\" onclick=\"convertToInteractive('df-92ab995a-010d-4a8d-9b41-3e7a2244f94c')\"\n",
              "              title=\"Convert this dataframe to an interactive table.\"\n",
              "              style=\"display:none;\">\n",
              "        \n",
              "  <svg xmlns=\"http://www.w3.org/2000/svg\" height=\"24px\"viewBox=\"0 0 24 24\"\n",
              "       width=\"24px\">\n",
              "    <path d=\"M0 0h24v24H0V0z\" fill=\"none\"/>\n",
              "    <path d=\"M18.56 5.44l.94 2.06.94-2.06 2.06-.94-2.06-.94-.94-2.06-.94 2.06-2.06.94zm-11 1L8.5 8.5l.94-2.06 2.06-.94-2.06-.94L8.5 2.5l-.94 2.06-2.06.94zm10 10l.94 2.06.94-2.06 2.06-.94-2.06-.94-.94-2.06-.94 2.06-2.06.94z\"/><path d=\"M17.41 7.96l-1.37-1.37c-.4-.4-.92-.59-1.43-.59-.52 0-1.04.2-1.43.59L10.3 9.45l-7.72 7.72c-.78.78-.78 2.05 0 2.83L4 21.41c.39.39.9.59 1.41.59.51 0 1.02-.2 1.41-.59l7.78-7.78 2.81-2.81c.8-.78.8-2.07 0-2.86zM5.41 20L4 18.59l7.72-7.72 1.47 1.35L5.41 20z\"/>\n",
              "  </svg>\n",
              "      </button>\n",
              "      \n",
              "  <style>\n",
              "    .colab-df-container {\n",
              "      display:flex;\n",
              "      flex-wrap:wrap;\n",
              "      gap: 12px;\n",
              "    }\n",
              "\n",
              "    .colab-df-convert {\n",
              "      background-color: #E8F0FE;\n",
              "      border: none;\n",
              "      border-radius: 50%;\n",
              "      cursor: pointer;\n",
              "      display: none;\n",
              "      fill: #1967D2;\n",
              "      height: 32px;\n",
              "      padding: 0 0 0 0;\n",
              "      width: 32px;\n",
              "    }\n",
              "\n",
              "    .colab-df-convert:hover {\n",
              "      background-color: #E2EBFA;\n",
              "      box-shadow: 0px 1px 2px rgba(60, 64, 67, 0.3), 0px 1px 3px 1px rgba(60, 64, 67, 0.15);\n",
              "      fill: #174EA6;\n",
              "    }\n",
              "\n",
              "    [theme=dark] .colab-df-convert {\n",
              "      background-color: #3B4455;\n",
              "      fill: #D2E3FC;\n",
              "    }\n",
              "\n",
              "    [theme=dark] .colab-df-convert:hover {\n",
              "      background-color: #434B5C;\n",
              "      box-shadow: 0px 1px 3px 1px rgba(0, 0, 0, 0.15);\n",
              "      filter: drop-shadow(0px 1px 2px rgba(0, 0, 0, 0.3));\n",
              "      fill: #FFFFFF;\n",
              "    }\n",
              "  </style>\n",
              "\n",
              "      <script>\n",
              "        const buttonEl =\n",
              "          document.querySelector('#df-92ab995a-010d-4a8d-9b41-3e7a2244f94c button.colab-df-convert');\n",
              "        buttonEl.style.display =\n",
              "          google.colab.kernel.accessAllowed ? 'block' : 'none';\n",
              "\n",
              "        async function convertToInteractive(key) {\n",
              "          const element = document.querySelector('#df-92ab995a-010d-4a8d-9b41-3e7a2244f94c');\n",
              "          const dataTable =\n",
              "            await google.colab.kernel.invokeFunction('convertToInteractive',\n",
              "                                                     [key], {});\n",
              "          if (!dataTable) return;\n",
              "\n",
              "          const docLinkHtml = 'Like what you see? Visit the ' +\n",
              "            '<a target=\"_blank\" href=https://colab.research.google.com/notebooks/data_table.ipynb>data table notebook</a>'\n",
              "            + ' to learn more about interactive tables.';\n",
              "          element.innerHTML = '';\n",
              "          dataTable['output_type'] = 'display_data';\n",
              "          await google.colab.output.renderOutput(dataTable, element);\n",
              "          const docLink = document.createElement('div');\n",
              "          docLink.innerHTML = docLinkHtml;\n",
              "          element.appendChild(docLink);\n",
              "        }\n",
              "      </script>\n",
              "    </div>\n",
              "  </div>\n",
              "  "
            ]
          },
          "metadata": {},
          "execution_count": 90
        }
      ]
    },
    {
      "cell_type": "code",
      "source": [
        "from tensorflow.keras.utils import to_categorical\n",
        "y_train = to_categorical(df_train.point)\n",
        "y_test = to_categorical(df_test.point)\n",
        "y_train"
      ],
      "metadata": {
        "colab": {
          "base_uri": "https://localhost:8080/"
        },
        "id": "HyEh1xZMceJk",
        "outputId": "e57ce424-e1a1-4b6c-c530-ac5c90d53b74"
      },
      "execution_count": 91,
      "outputs": [
        {
          "output_type": "execute_result",
          "data": {
            "text/plain": [
              "array([[0., 1., 0., 0., 0., 0.],\n",
              "       [0., 0., 0., 0., 1., 0.],\n",
              "       [0., 0., 0., 0., 1., 0.],\n",
              "       ...,\n",
              "       [0., 0., 1., 0., 0., 0.],\n",
              "       [0., 0., 0., 1., 0., 0.],\n",
              "       [0., 0., 0., 0., 1., 0.]], dtype=float32)"
            ]
          },
          "metadata": {},
          "execution_count": 91
        }
      ]
    },
    {
      "cell_type": "code",
      "source": [
        "x_train = tokenizer(\n",
        "    text=df_train.comment.tolist(),\n",
        "    add_special_tokens=True,\n",
        "    max_length=70,\n",
        "    truncation=True,\n",
        "    padding=True, \n",
        "    return_tensors='tf',\n",
        "    return_token_type_ids = False,\n",
        "    return_attention_mask = True,\n",
        "    verbose = True)\n",
        "x_test = tokenizer(\n",
        "    text=df_test.comment.tolist(),\n",
        "    add_special_tokens=True,\n",
        "    max_length=70,\n",
        "    truncation=True,\n",
        "    padding=True, \n",
        "    return_tensors='tf',\n",
        "    return_token_type_ids = False,\n",
        "    return_attention_mask = True,\n",
        "    verbose = True)"
      ],
      "metadata": {
        "id": "4gZKQHvjckRn"
      },
      "execution_count": 92,
      "outputs": []
    },
    {
      "cell_type": "code",
      "source": [
        "x_train"
      ],
      "metadata": {
        "colab": {
          "base_uri": "https://localhost:8080/"
        },
        "id": "o2yCX9kGcqTn",
        "outputId": "0a8487ae-a03a-4879-c09e-b28c381321e2"
      },
      "execution_count": 93,
      "outputs": [
        {
          "output_type": "execute_result",
          "data": {
            "text/plain": [
              "{'input_ids': <tf.Tensor: shape=(61706, 70), dtype=int32, numpy=\n",
              "array([[    2, 29448,  3432, ...,     0,     0,     0],\n",
              "       [    2,  2550,  5412, ...,     0,     0,     0],\n",
              "       [    2,  2639,  2960, ...,     0,     0,     0],\n",
              "       ...,\n",
              "       [    2,  3906,  3641, ...,     0,     0,     0],\n",
              "       [    2,  3489,  1996, ...,     0,     0,     0],\n",
              "       [    2,  7762,  2819, ...,     0,     0,     0]], dtype=int32)>, 'attention_mask': <tf.Tensor: shape=(61706, 70), dtype=int32, numpy=\n",
              "array([[1, 1, 1, ..., 0, 0, 0],\n",
              "       [1, 1, 1, ..., 0, 0, 0],\n",
              "       [1, 1, 1, ..., 0, 0, 0],\n",
              "       ...,\n",
              "       [1, 1, 1, ..., 0, 0, 0],\n",
              "       [1, 1, 1, ..., 0, 0, 0],\n",
              "       [1, 1, 1, ..., 0, 0, 0]], dtype=int32)>}"
            ]
          },
          "metadata": {},
          "execution_count": 93
        }
      ]
    },
    {
      "cell_type": "code",
      "source": [
        "input_ids = x_train['input_ids']\n",
        "attention_mask = x_train['attention_mask']"
      ],
      "metadata": {
        "id": "P2x-DDFLctoU"
      },
      "execution_count": 94,
      "outputs": []
    },
    {
      "cell_type": "code",
      "source": [
        "import tensorflow as tf\n",
        "from tensorflow.keras.optimizers import Adam\n",
        "from tensorflow.keras.callbacks import EarlyStopping\n",
        "from tensorflow.keras.initializers import TruncatedNormal\n",
        "from tensorflow.keras.losses import CategoricalCrossentropy\n",
        "from tensorflow.keras.metrics import CategoricalAccuracy\n",
        "from tensorflow.keras.utils import to_categorical\n",
        "from tensorflow.keras.layers import Input, Dense"
      ],
      "metadata": {
        "id": "MF4lQLulcwak"
      },
      "execution_count": 95,
      "outputs": []
    },
    {
      "cell_type": "code",
      "source": [
        "max_len = 70\n",
        "input_ids = Input(shape=(max_len,), dtype=tf.int32, name=\"input_ids\")\n",
        "input_mask = Input(shape=(max_len,), dtype=tf.int32, name=\"attention_mask\")\n",
        "embeddings = bert_model(input_ids,attention_mask = input_mask)[0] \n",
        "out = tf.keras.layers.GlobalMaxPool1D()(embeddings)\n",
        "out = Dense(128, activation='relu')(out)\n",
        "out = tf.keras.layers.Dropout(0.1)(out)\n",
        "out = Dense(32,activation = 'relu')(out)\n",
        "y = Dense(6,activation = 'sigmoid')(out)\n",
        "model = tf.keras.Model(inputs=[input_ids, input_mask], outputs=y)\n",
        "model.layers[2].trainable = True"
      ],
      "metadata": {
        "id": "h-b65TJNc3o6"
      },
      "execution_count": 96,
      "outputs": []
    },
    {
      "cell_type": "code",
      "source": [
        "optimizer = Adam(\n",
        "    learning_rate=5e-05, # this learning rate is for bert model , taken from huggingface website \n",
        "    epsilon=1e-08,\n",
        "    decay=0.01,\n",
        "    clipnorm=1.0)\n",
        "# Set loss and metrics\n",
        "loss =CategoricalCrossentropy(from_logits = True)\n",
        "metric = CategoricalAccuracy('balanced_accuracy'),\n",
        "# Compile the model\n",
        "model.compile(\n",
        "    optimizer = optimizer,\n",
        "    loss = loss, \n",
        "    metrics = metric)"
      ],
      "metadata": {
        "id": "tUkbt_Rkc4MW"
      },
      "execution_count": 97,
      "outputs": []
    },
    {
      "cell_type": "code",
      "source": [
        "train_history = model.fit(\n",
        "    x ={'input_ids':x_train['input_ids'],'attention_mask':x_train['attention_mask']} ,\n",
        "    y = y_train,\n",
        "    validation_data = (\n",
        "    {'input_ids':x_test['input_ids'],'attention_mask':x_test['attention_mask']}, y_test\n",
        "    ),\n",
        "  epochs=1,\n",
        "    batch_size=36\n",
        ")"
      ],
      "metadata": {
        "colab": {
          "base_uri": "https://localhost:8080/"
        },
        "id": "Y2Qtp_9qc6wn",
        "outputId": "4756a39b-db36-4820-f602-dee686a71137"
      },
      "execution_count": 98,
      "outputs": [
        {
          "output_type": "stream",
          "name": "stderr",
          "text": [
            "/usr/local/lib/python3.7/dist-packages/tensorflow/python/util/dispatch.py:1082: UserWarning: \"`categorical_crossentropy` received `from_logits=True`, but the `output` argument was produced by a sigmoid or softmax activation and thus does not represent logits. Was this intended?\"\n",
            "  return dispatch_target(*args, **kwargs)\n"
          ]
        },
        {
          "output_type": "stream",
          "name": "stdout",
          "text": [
            "WARNING:tensorflow:Gradients do not exist for variables ['tf_bert_model_1/bert/pooler/dense/kernel:0', 'tf_bert_model_1/bert/pooler/dense/bias:0'] when minimizing the loss. If you're using `model.compile()`, did you forget to provide a `loss`argument?\n",
            "WARNING:tensorflow:Gradients do not exist for variables ['tf_bert_model_1/bert/pooler/dense/kernel:0', 'tf_bert_model_1/bert/pooler/dense/bias:0'] when minimizing the loss. If you're using `model.compile()`, did you forget to provide a `loss`argument?\n",
            "1715/1715 [==============================] - 1042s 595ms/step - loss: 1.4420 - balanced_accuracy: 0.3864 - val_loss: 1.3753 - val_balanced_accuracy: 0.4062\n"
          ]
        }
      ]
    },
    {
      "cell_type": "code",
      "source": [
        "predicted_raw = model.predict({'input_ids':x_test['input_ids'],'attention_mask':x_test['attention_mask']})\n",
        "predicted_raw[0]"
      ],
      "metadata": {
        "colab": {
          "base_uri": "https://localhost:8080/"
        },
        "id": "8iN2CmJpc86_",
        "outputId": "e26d4400-c0f6-4ab6-d3ed-c7084552a1ba"
      },
      "execution_count": 99,
      "outputs": [
        {
          "output_type": "execute_result",
          "data": {
            "text/plain": [
              "array([0.53973585, 0.6172682 , 0.7477661 , 0.60835594, 0.6735175 ,\n",
              "       0.5868374 ], dtype=float32)"
            ]
          },
          "metadata": {},
          "execution_count": 99
        }
      ]
    },
    {
      "cell_type": "code",
      "source": [
        "df[\"point\"][72]"
      ],
      "metadata": {
        "colab": {
          "base_uri": "https://localhost:8080/"
        },
        "id": "UW2uRAJKk-yp",
        "outputId": "f66dc59f-44a6-4cae-93c0-894a1db9f972"
      },
      "execution_count": 100,
      "outputs": [
        {
          "output_type": "execute_result",
          "data": {
            "text/plain": [
              "0.5"
            ]
          },
          "metadata": {},
          "execution_count": 100
        }
      ]
    },
    {
      "cell_type": "code",
      "source": [
        "from math import ceil\n",
        "ceil(df[\"point\"][72])"
      ],
      "metadata": {
        "colab": {
          "base_uri": "https://localhost:8080/"
        },
        "id": "ySxF42DJlt8B",
        "outputId": "549ee6a6-bbd9-403a-8799-84812717a033"
      },
      "execution_count": 101,
      "outputs": [
        {
          "output_type": "execute_result",
          "data": {
            "text/plain": [
              "1"
            ]
          },
          "metadata": {},
          "execution_count": 101
        }
      ]
    },
    {
      "cell_type": "code",
      "source": [
        "def ceil_points(point):\n",
        "    output = ceil(point)\n",
        "    return output"
      ],
      "metadata": {
        "id": "o9CyptHgmtz8"
      },
      "execution_count": 102,
      "outputs": []
    },
    {
      "cell_type": "code",
      "source": [
        "y_predicted = np.argmax(predicted_raw, axis = 1)\n",
        "\n",
        "y_true = df_test.point.apply(lambda x: ceil_points(x)) "
      ],
      "metadata": {
        "id": "vplKTQ1uc-1i"
      },
      "execution_count": 103,
      "outputs": []
    },
    {
      "cell_type": "code",
      "source": [
        "y_true.unique()"
      ],
      "metadata": {
        "colab": {
          "base_uri": "https://localhost:8080/"
        },
        "id": "QPVWpQdGJ4lh",
        "outputId": "a267d240-ac2c-433b-f053-7f7435cb6add"
      },
      "execution_count": 106,
      "outputs": [
        {
          "output_type": "execute_result",
          "data": {
            "text/plain": [
              "array([1, 4, 3, 2, 5])"
            ]
          },
          "metadata": {},
          "execution_count": 106
        }
      ]
    },
    {
      "cell_type": "code",
      "source": [
        "from sklearn.metrics import classification_report\n",
        "print(classification_report(y_true, y_predicted))"
      ],
      "metadata": {
        "colab": {
          "base_uri": "https://localhost:8080/"
        },
        "id": "QcxLaCBRdB33",
        "outputId": "3f7181ae-c33f-4898-9e5b-ff3c98deda21"
      },
      "execution_count": 104,
      "outputs": [
        {
          "output_type": "stream",
          "name": "stdout",
          "text": [
            "              precision    recall  f1-score   support\n",
            "\n",
            "           0       0.00      0.00      0.00         0\n",
            "           1       0.31      0.02      0.04      2416\n",
            "           2       0.11      0.31      0.16       934\n",
            "           3       0.37      0.24      0.29      4245\n",
            "           4       0.45      0.60      0.51      7164\n",
            "           5       0.57      0.31      0.40      5810\n",
            "\n",
            "    accuracy                           0.36     20569\n",
            "   macro avg       0.30      0.25      0.23     20569\n",
            "weighted avg       0.43      0.36      0.36     20569\n",
            "\n"
          ]
        },
        {
          "output_type": "stream",
          "name": "stderr",
          "text": [
            "/usr/local/lib/python3.7/dist-packages/sklearn/metrics/_classification.py:1318: UndefinedMetricWarning: Recall and F-score are ill-defined and being set to 0.0 in labels with no true samples. Use `zero_division` parameter to control this behavior.\n",
            "  _warn_prf(average, modifier, msg_start, len(result))\n",
            "/usr/local/lib/python3.7/dist-packages/sklearn/metrics/_classification.py:1318: UndefinedMetricWarning: Recall and F-score are ill-defined and being set to 0.0 in labels with no true samples. Use `zero_division` parameter to control this behavior.\n",
            "  _warn_prf(average, modifier, msg_start, len(result))\n",
            "/usr/local/lib/python3.7/dist-packages/sklearn/metrics/_classification.py:1318: UndefinedMetricWarning: Recall and F-score are ill-defined and being set to 0.0 in labels with no true samples. Use `zero_division` parameter to control this behavior.\n",
            "  _warn_prf(average, modifier, msg_start, len(result))\n"
          ]
        }
      ]
    }
  ],
  "metadata": {
    "colab": {
      "collapsed_sections": [],
      "name": "Film Yorumlarının Duygu Analizi.ipynb",
      "provenance": [],
      "authorship_tag": "ABX9TyPsGybrO6wGbp1bjbGrZ+O/",
      "include_colab_link": true
    },
    "kernelspec": {
      "display_name": "Python 3",
      "name": "python3"
    },
    "language_info": {
      "name": "python"
    },
    "accelerator": "GPU",
    "gpuClass": "standard",
    "widgets": {
      "application/vnd.jupyter.widget-state+json": {
        "28c052468f4142b38b8c69e521c1e709": {
          "model_module": "@jupyter-widgets/controls",
          "model_name": "HBoxModel",
          "model_module_version": "1.5.0",
          "state": {
            "_dom_classes": [],
            "_model_module": "@jupyter-widgets/controls",
            "_model_module_version": "1.5.0",
            "_model_name": "HBoxModel",
            "_view_count": null,
            "_view_module": "@jupyter-widgets/controls",
            "_view_module_version": "1.5.0",
            "_view_name": "HBoxView",
            "box_style": "",
            "children": [
              "IPY_MODEL_e515150d1e914a71968cb3fb0a4f24a9",
              "IPY_MODEL_8c47bee8d4584c22b1d1ed010934bfaf",
              "IPY_MODEL_01a53d58f3ce4402b82e0fa0e5bcaedd"
            ],
            "layout": "IPY_MODEL_c6088ab2e1bd42f48c41f75e71400b07"
          }
        },
        "e515150d1e914a71968cb3fb0a4f24a9": {
          "model_module": "@jupyter-widgets/controls",
          "model_name": "HTMLModel",
          "model_module_version": "1.5.0",
          "state": {
            "_dom_classes": [],
            "_model_module": "@jupyter-widgets/controls",
            "_model_module_version": "1.5.0",
            "_model_name": "HTMLModel",
            "_view_count": null,
            "_view_module": "@jupyter-widgets/controls",
            "_view_module_version": "1.5.0",
            "_view_name": "HTMLView",
            "description": "",
            "description_tooltip": null,
            "layout": "IPY_MODEL_3fc14d8eb9394c5f91f179e7032098e4",
            "placeholder": "​",
            "style": "IPY_MODEL_ac59600ab1244462a807a25885aa8aa8",
            "value": "Downloading: 100%"
          }
        },
        "8c47bee8d4584c22b1d1ed010934bfaf": {
          "model_module": "@jupyter-widgets/controls",
          "model_name": "FloatProgressModel",
          "model_module_version": "1.5.0",
          "state": {
            "_dom_classes": [],
            "_model_module": "@jupyter-widgets/controls",
            "_model_module_version": "1.5.0",
            "_model_name": "FloatProgressModel",
            "_view_count": null,
            "_view_module": "@jupyter-widgets/controls",
            "_view_module_version": "1.5.0",
            "_view_name": "ProgressView",
            "bar_style": "success",
            "description": "",
            "description_tooltip": null,
            "layout": "IPY_MODEL_d07a530d2edc48b996cbafa6c03c99e7",
            "max": 29,
            "min": 0,
            "orientation": "horizontal",
            "style": "IPY_MODEL_e44bc1c8ee524df1ae4aa364fae6e101",
            "value": 29
          }
        },
        "01a53d58f3ce4402b82e0fa0e5bcaedd": {
          "model_module": "@jupyter-widgets/controls",
          "model_name": "HTMLModel",
          "model_module_version": "1.5.0",
          "state": {
            "_dom_classes": [],
            "_model_module": "@jupyter-widgets/controls",
            "_model_module_version": "1.5.0",
            "_model_name": "HTMLModel",
            "_view_count": null,
            "_view_module": "@jupyter-widgets/controls",
            "_view_module_version": "1.5.0",
            "_view_name": "HTMLView",
            "description": "",
            "description_tooltip": null,
            "layout": "IPY_MODEL_aebee421106c44599b3f885d1d0838fe",
            "placeholder": "​",
            "style": "IPY_MODEL_09dc3dcd771f439898af55403e135ef0",
            "value": " 29.0/29.0 [00:00&lt;00:00, 246B/s]"
          }
        },
        "c6088ab2e1bd42f48c41f75e71400b07": {
          "model_module": "@jupyter-widgets/base",
          "model_name": "LayoutModel",
          "model_module_version": "1.2.0",
          "state": {
            "_model_module": "@jupyter-widgets/base",
            "_model_module_version": "1.2.0",
            "_model_name": "LayoutModel",
            "_view_count": null,
            "_view_module": "@jupyter-widgets/base",
            "_view_module_version": "1.2.0",
            "_view_name": "LayoutView",
            "align_content": null,
            "align_items": null,
            "align_self": null,
            "border": null,
            "bottom": null,
            "display": null,
            "flex": null,
            "flex_flow": null,
            "grid_area": null,
            "grid_auto_columns": null,
            "grid_auto_flow": null,
            "grid_auto_rows": null,
            "grid_column": null,
            "grid_gap": null,
            "grid_row": null,
            "grid_template_areas": null,
            "grid_template_columns": null,
            "grid_template_rows": null,
            "height": null,
            "justify_content": null,
            "justify_items": null,
            "left": null,
            "margin": null,
            "max_height": null,
            "max_width": null,
            "min_height": null,
            "min_width": null,
            "object_fit": null,
            "object_position": null,
            "order": null,
            "overflow": null,
            "overflow_x": null,
            "overflow_y": null,
            "padding": null,
            "right": null,
            "top": null,
            "visibility": null,
            "width": null
          }
        },
        "3fc14d8eb9394c5f91f179e7032098e4": {
          "model_module": "@jupyter-widgets/base",
          "model_name": "LayoutModel",
          "model_module_version": "1.2.0",
          "state": {
            "_model_module": "@jupyter-widgets/base",
            "_model_module_version": "1.2.0",
            "_model_name": "LayoutModel",
            "_view_count": null,
            "_view_module": "@jupyter-widgets/base",
            "_view_module_version": "1.2.0",
            "_view_name": "LayoutView",
            "align_content": null,
            "align_items": null,
            "align_self": null,
            "border": null,
            "bottom": null,
            "display": null,
            "flex": null,
            "flex_flow": null,
            "grid_area": null,
            "grid_auto_columns": null,
            "grid_auto_flow": null,
            "grid_auto_rows": null,
            "grid_column": null,
            "grid_gap": null,
            "grid_row": null,
            "grid_template_areas": null,
            "grid_template_columns": null,
            "grid_template_rows": null,
            "height": null,
            "justify_content": null,
            "justify_items": null,
            "left": null,
            "margin": null,
            "max_height": null,
            "max_width": null,
            "min_height": null,
            "min_width": null,
            "object_fit": null,
            "object_position": null,
            "order": null,
            "overflow": null,
            "overflow_x": null,
            "overflow_y": null,
            "padding": null,
            "right": null,
            "top": null,
            "visibility": null,
            "width": null
          }
        },
        "ac59600ab1244462a807a25885aa8aa8": {
          "model_module": "@jupyter-widgets/controls",
          "model_name": "DescriptionStyleModel",
          "model_module_version": "1.5.0",
          "state": {
            "_model_module": "@jupyter-widgets/controls",
            "_model_module_version": "1.5.0",
            "_model_name": "DescriptionStyleModel",
            "_view_count": null,
            "_view_module": "@jupyter-widgets/base",
            "_view_module_version": "1.2.0",
            "_view_name": "StyleView",
            "description_width": ""
          }
        },
        "d07a530d2edc48b996cbafa6c03c99e7": {
          "model_module": "@jupyter-widgets/base",
          "model_name": "LayoutModel",
          "model_module_version": "1.2.0",
          "state": {
            "_model_module": "@jupyter-widgets/base",
            "_model_module_version": "1.2.0",
            "_model_name": "LayoutModel",
            "_view_count": null,
            "_view_module": "@jupyter-widgets/base",
            "_view_module_version": "1.2.0",
            "_view_name": "LayoutView",
            "align_content": null,
            "align_items": null,
            "align_self": null,
            "border": null,
            "bottom": null,
            "display": null,
            "flex": null,
            "flex_flow": null,
            "grid_area": null,
            "grid_auto_columns": null,
            "grid_auto_flow": null,
            "grid_auto_rows": null,
            "grid_column": null,
            "grid_gap": null,
            "grid_row": null,
            "grid_template_areas": null,
            "grid_template_columns": null,
            "grid_template_rows": null,
            "height": null,
            "justify_content": null,
            "justify_items": null,
            "left": null,
            "margin": null,
            "max_height": null,
            "max_width": null,
            "min_height": null,
            "min_width": null,
            "object_fit": null,
            "object_position": null,
            "order": null,
            "overflow": null,
            "overflow_x": null,
            "overflow_y": null,
            "padding": null,
            "right": null,
            "top": null,
            "visibility": null,
            "width": null
          }
        },
        "e44bc1c8ee524df1ae4aa364fae6e101": {
          "model_module": "@jupyter-widgets/controls",
          "model_name": "ProgressStyleModel",
          "model_module_version": "1.5.0",
          "state": {
            "_model_module": "@jupyter-widgets/controls",
            "_model_module_version": "1.5.0",
            "_model_name": "ProgressStyleModel",
            "_view_count": null,
            "_view_module": "@jupyter-widgets/base",
            "_view_module_version": "1.2.0",
            "_view_name": "StyleView",
            "bar_color": null,
            "description_width": ""
          }
        },
        "aebee421106c44599b3f885d1d0838fe": {
          "model_module": "@jupyter-widgets/base",
          "model_name": "LayoutModel",
          "model_module_version": "1.2.0",
          "state": {
            "_model_module": "@jupyter-widgets/base",
            "_model_module_version": "1.2.0",
            "_model_name": "LayoutModel",
            "_view_count": null,
            "_view_module": "@jupyter-widgets/base",
            "_view_module_version": "1.2.0",
            "_view_name": "LayoutView",
            "align_content": null,
            "align_items": null,
            "align_self": null,
            "border": null,
            "bottom": null,
            "display": null,
            "flex": null,
            "flex_flow": null,
            "grid_area": null,
            "grid_auto_columns": null,
            "grid_auto_flow": null,
            "grid_auto_rows": null,
            "grid_column": null,
            "grid_gap": null,
            "grid_row": null,
            "grid_template_areas": null,
            "grid_template_columns": null,
            "grid_template_rows": null,
            "height": null,
            "justify_content": null,
            "justify_items": null,
            "left": null,
            "margin": null,
            "max_height": null,
            "max_width": null,
            "min_height": null,
            "min_width": null,
            "object_fit": null,
            "object_position": null,
            "order": null,
            "overflow": null,
            "overflow_x": null,
            "overflow_y": null,
            "padding": null,
            "right": null,
            "top": null,
            "visibility": null,
            "width": null
          }
        },
        "09dc3dcd771f439898af55403e135ef0": {
          "model_module": "@jupyter-widgets/controls",
          "model_name": "DescriptionStyleModel",
          "model_module_version": "1.5.0",
          "state": {
            "_model_module": "@jupyter-widgets/controls",
            "_model_module_version": "1.5.0",
            "_model_name": "DescriptionStyleModel",
            "_view_count": null,
            "_view_module": "@jupyter-widgets/base",
            "_view_module_version": "1.2.0",
            "_view_name": "StyleView",
            "description_width": ""
          }
        },
        "74182b9b2789478f990e5ca9e752f35a": {
          "model_module": "@jupyter-widgets/controls",
          "model_name": "HBoxModel",
          "model_module_version": "1.5.0",
          "state": {
            "_dom_classes": [],
            "_model_module": "@jupyter-widgets/controls",
            "_model_module_version": "1.5.0",
            "_model_name": "HBoxModel",
            "_view_count": null,
            "_view_module": "@jupyter-widgets/controls",
            "_view_module_version": "1.5.0",
            "_view_name": "HBoxView",
            "box_style": "",
            "children": [
              "IPY_MODEL_a73a217563dd4ee3b8b4a43647f2c6bc",
              "IPY_MODEL_c250ac87f0334940b739e1976abe11ab",
              "IPY_MODEL_7c9ebfa325b24754a44dd09a940085c9"
            ],
            "layout": "IPY_MODEL_f429e8b5ce8a4ed58120370303753949"
          }
        },
        "a73a217563dd4ee3b8b4a43647f2c6bc": {
          "model_module": "@jupyter-widgets/controls",
          "model_name": "HTMLModel",
          "model_module_version": "1.5.0",
          "state": {
            "_dom_classes": [],
            "_model_module": "@jupyter-widgets/controls",
            "_model_module_version": "1.5.0",
            "_model_name": "HTMLModel",
            "_view_count": null,
            "_view_module": "@jupyter-widgets/controls",
            "_view_module_version": "1.5.0",
            "_view_name": "HTMLView",
            "description": "",
            "description_tooltip": null,
            "layout": "IPY_MODEL_e0f755b6597844ae8d1bb02e7f51ef03",
            "placeholder": "​",
            "style": "IPY_MODEL_969d27e492744177b7a07216e566f06e",
            "value": "Downloading: 100%"
          }
        },
        "c250ac87f0334940b739e1976abe11ab": {
          "model_module": "@jupyter-widgets/controls",
          "model_name": "FloatProgressModel",
          "model_module_version": "1.5.0",
          "state": {
            "_dom_classes": [],
            "_model_module": "@jupyter-widgets/controls",
            "_model_module_version": "1.5.0",
            "_model_name": "FloatProgressModel",
            "_view_count": null,
            "_view_module": "@jupyter-widgets/controls",
            "_view_module_version": "1.5.0",
            "_view_name": "ProgressView",
            "bar_style": "success",
            "description": "",
            "description_tooltip": null,
            "layout": "IPY_MODEL_0a5375e5581040edabf8f8538f4fe0de",
            "max": 570,
            "min": 0,
            "orientation": "horizontal",
            "style": "IPY_MODEL_662761c74add437388856ffd093d4feb",
            "value": 570
          }
        },
        "7c9ebfa325b24754a44dd09a940085c9": {
          "model_module": "@jupyter-widgets/controls",
          "model_name": "HTMLModel",
          "model_module_version": "1.5.0",
          "state": {
            "_dom_classes": [],
            "_model_module": "@jupyter-widgets/controls",
            "_model_module_version": "1.5.0",
            "_model_name": "HTMLModel",
            "_view_count": null,
            "_view_module": "@jupyter-widgets/controls",
            "_view_module_version": "1.5.0",
            "_view_name": "HTMLView",
            "description": "",
            "description_tooltip": null,
            "layout": "IPY_MODEL_a4d66678bb7b4627b806e8010cfb8bcf",
            "placeholder": "​",
            "style": "IPY_MODEL_9d239fb2221a4181b09d1f7c51bce297",
            "value": " 570/570 [00:00&lt;00:00, 4.07kB/s]"
          }
        },
        "f429e8b5ce8a4ed58120370303753949": {
          "model_module": "@jupyter-widgets/base",
          "model_name": "LayoutModel",
          "model_module_version": "1.2.0",
          "state": {
            "_model_module": "@jupyter-widgets/base",
            "_model_module_version": "1.2.0",
            "_model_name": "LayoutModel",
            "_view_count": null,
            "_view_module": "@jupyter-widgets/base",
            "_view_module_version": "1.2.0",
            "_view_name": "LayoutView",
            "align_content": null,
            "align_items": null,
            "align_self": null,
            "border": null,
            "bottom": null,
            "display": null,
            "flex": null,
            "flex_flow": null,
            "grid_area": null,
            "grid_auto_columns": null,
            "grid_auto_flow": null,
            "grid_auto_rows": null,
            "grid_column": null,
            "grid_gap": null,
            "grid_row": null,
            "grid_template_areas": null,
            "grid_template_columns": null,
            "grid_template_rows": null,
            "height": null,
            "justify_content": null,
            "justify_items": null,
            "left": null,
            "margin": null,
            "max_height": null,
            "max_width": null,
            "min_height": null,
            "min_width": null,
            "object_fit": null,
            "object_position": null,
            "order": null,
            "overflow": null,
            "overflow_x": null,
            "overflow_y": null,
            "padding": null,
            "right": null,
            "top": null,
            "visibility": null,
            "width": null
          }
        },
        "e0f755b6597844ae8d1bb02e7f51ef03": {
          "model_module": "@jupyter-widgets/base",
          "model_name": "LayoutModel",
          "model_module_version": "1.2.0",
          "state": {
            "_model_module": "@jupyter-widgets/base",
            "_model_module_version": "1.2.0",
            "_model_name": "LayoutModel",
            "_view_count": null,
            "_view_module": "@jupyter-widgets/base",
            "_view_module_version": "1.2.0",
            "_view_name": "LayoutView",
            "align_content": null,
            "align_items": null,
            "align_self": null,
            "border": null,
            "bottom": null,
            "display": null,
            "flex": null,
            "flex_flow": null,
            "grid_area": null,
            "grid_auto_columns": null,
            "grid_auto_flow": null,
            "grid_auto_rows": null,
            "grid_column": null,
            "grid_gap": null,
            "grid_row": null,
            "grid_template_areas": null,
            "grid_template_columns": null,
            "grid_template_rows": null,
            "height": null,
            "justify_content": null,
            "justify_items": null,
            "left": null,
            "margin": null,
            "max_height": null,
            "max_width": null,
            "min_height": null,
            "min_width": null,
            "object_fit": null,
            "object_position": null,
            "order": null,
            "overflow": null,
            "overflow_x": null,
            "overflow_y": null,
            "padding": null,
            "right": null,
            "top": null,
            "visibility": null,
            "width": null
          }
        },
        "969d27e492744177b7a07216e566f06e": {
          "model_module": "@jupyter-widgets/controls",
          "model_name": "DescriptionStyleModel",
          "model_module_version": "1.5.0",
          "state": {
            "_model_module": "@jupyter-widgets/controls",
            "_model_module_version": "1.5.0",
            "_model_name": "DescriptionStyleModel",
            "_view_count": null,
            "_view_module": "@jupyter-widgets/base",
            "_view_module_version": "1.2.0",
            "_view_name": "StyleView",
            "description_width": ""
          }
        },
        "0a5375e5581040edabf8f8538f4fe0de": {
          "model_module": "@jupyter-widgets/base",
          "model_name": "LayoutModel",
          "model_module_version": "1.2.0",
          "state": {
            "_model_module": "@jupyter-widgets/base",
            "_model_module_version": "1.2.0",
            "_model_name": "LayoutModel",
            "_view_count": null,
            "_view_module": "@jupyter-widgets/base",
            "_view_module_version": "1.2.0",
            "_view_name": "LayoutView",
            "align_content": null,
            "align_items": null,
            "align_self": null,
            "border": null,
            "bottom": null,
            "display": null,
            "flex": null,
            "flex_flow": null,
            "grid_area": null,
            "grid_auto_columns": null,
            "grid_auto_flow": null,
            "grid_auto_rows": null,
            "grid_column": null,
            "grid_gap": null,
            "grid_row": null,
            "grid_template_areas": null,
            "grid_template_columns": null,
            "grid_template_rows": null,
            "height": null,
            "justify_content": null,
            "justify_items": null,
            "left": null,
            "margin": null,
            "max_height": null,
            "max_width": null,
            "min_height": null,
            "min_width": null,
            "object_fit": null,
            "object_position": null,
            "order": null,
            "overflow": null,
            "overflow_x": null,
            "overflow_y": null,
            "padding": null,
            "right": null,
            "top": null,
            "visibility": null,
            "width": null
          }
        },
        "662761c74add437388856ffd093d4feb": {
          "model_module": "@jupyter-widgets/controls",
          "model_name": "ProgressStyleModel",
          "model_module_version": "1.5.0",
          "state": {
            "_model_module": "@jupyter-widgets/controls",
            "_model_module_version": "1.5.0",
            "_model_name": "ProgressStyleModel",
            "_view_count": null,
            "_view_module": "@jupyter-widgets/base",
            "_view_module_version": "1.2.0",
            "_view_name": "StyleView",
            "bar_color": null,
            "description_width": ""
          }
        },
        "a4d66678bb7b4627b806e8010cfb8bcf": {
          "model_module": "@jupyter-widgets/base",
          "model_name": "LayoutModel",
          "model_module_version": "1.2.0",
          "state": {
            "_model_module": "@jupyter-widgets/base",
            "_model_module_version": "1.2.0",
            "_model_name": "LayoutModel",
            "_view_count": null,
            "_view_module": "@jupyter-widgets/base",
            "_view_module_version": "1.2.0",
            "_view_name": "LayoutView",
            "align_content": null,
            "align_items": null,
            "align_self": null,
            "border": null,
            "bottom": null,
            "display": null,
            "flex": null,
            "flex_flow": null,
            "grid_area": null,
            "grid_auto_columns": null,
            "grid_auto_flow": null,
            "grid_auto_rows": null,
            "grid_column": null,
            "grid_gap": null,
            "grid_row": null,
            "grid_template_areas": null,
            "grid_template_columns": null,
            "grid_template_rows": null,
            "height": null,
            "justify_content": null,
            "justify_items": null,
            "left": null,
            "margin": null,
            "max_height": null,
            "max_width": null,
            "min_height": null,
            "min_width": null,
            "object_fit": null,
            "object_position": null,
            "order": null,
            "overflow": null,
            "overflow_x": null,
            "overflow_y": null,
            "padding": null,
            "right": null,
            "top": null,
            "visibility": null,
            "width": null
          }
        },
        "9d239fb2221a4181b09d1f7c51bce297": {
          "model_module": "@jupyter-widgets/controls",
          "model_name": "DescriptionStyleModel",
          "model_module_version": "1.5.0",
          "state": {
            "_model_module": "@jupyter-widgets/controls",
            "_model_module_version": "1.5.0",
            "_model_name": "DescriptionStyleModel",
            "_view_count": null,
            "_view_module": "@jupyter-widgets/base",
            "_view_module_version": "1.2.0",
            "_view_name": "StyleView",
            "description_width": ""
          }
        },
        "bf3c760ef0434f25a7c5fee98abcd74c": {
          "model_module": "@jupyter-widgets/controls",
          "model_name": "HBoxModel",
          "model_module_version": "1.5.0",
          "state": {
            "_dom_classes": [],
            "_model_module": "@jupyter-widgets/controls",
            "_model_module_version": "1.5.0",
            "_model_name": "HBoxModel",
            "_view_count": null,
            "_view_module": "@jupyter-widgets/controls",
            "_view_module_version": "1.5.0",
            "_view_name": "HBoxView",
            "box_style": "",
            "children": [
              "IPY_MODEL_c1ee25114d9644ddbba51a5de8ca9731",
              "IPY_MODEL_3d8fe2533a9d4a5c830fb634597aad77",
              "IPY_MODEL_79456da8df2d48f59be190bd61a5db5e"
            ],
            "layout": "IPY_MODEL_740def6837bd4cd6b70a47143246d766"
          }
        },
        "c1ee25114d9644ddbba51a5de8ca9731": {
          "model_module": "@jupyter-widgets/controls",
          "model_name": "HTMLModel",
          "model_module_version": "1.5.0",
          "state": {
            "_dom_classes": [],
            "_model_module": "@jupyter-widgets/controls",
            "_model_module_version": "1.5.0",
            "_model_name": "HTMLModel",
            "_view_count": null,
            "_view_module": "@jupyter-widgets/controls",
            "_view_module_version": "1.5.0",
            "_view_name": "HTMLView",
            "description": "",
            "description_tooltip": null,
            "layout": "IPY_MODEL_fc8c05d88fb744c2b5524c3c6d71b63e",
            "placeholder": "​",
            "style": "IPY_MODEL_71ace7b2bfd7478d954dccc69ab0a577",
            "value": "Downloading: 100%"
          }
        },
        "3d8fe2533a9d4a5c830fb634597aad77": {
          "model_module": "@jupyter-widgets/controls",
          "model_name": "FloatProgressModel",
          "model_module_version": "1.5.0",
          "state": {
            "_dom_classes": [],
            "_model_module": "@jupyter-widgets/controls",
            "_model_module_version": "1.5.0",
            "_model_name": "FloatProgressModel",
            "_view_count": null,
            "_view_module": "@jupyter-widgets/controls",
            "_view_module_version": "1.5.0",
            "_view_name": "ProgressView",
            "bar_style": "success",
            "description": "",
            "description_tooltip": null,
            "layout": "IPY_MODEL_d8e29e274d9f4964a8d7771d71ebe643",
            "max": 213450,
            "min": 0,
            "orientation": "horizontal",
            "style": "IPY_MODEL_b4efe1df1fc64bf989fb63d85cc2583c",
            "value": 213450
          }
        },
        "79456da8df2d48f59be190bd61a5db5e": {
          "model_module": "@jupyter-widgets/controls",
          "model_name": "HTMLModel",
          "model_module_version": "1.5.0",
          "state": {
            "_dom_classes": [],
            "_model_module": "@jupyter-widgets/controls",
            "_model_module_version": "1.5.0",
            "_model_name": "HTMLModel",
            "_view_count": null,
            "_view_module": "@jupyter-widgets/controls",
            "_view_module_version": "1.5.0",
            "_view_name": "HTMLView",
            "description": "",
            "description_tooltip": null,
            "layout": "IPY_MODEL_e5e4944087224cf099147a0ff0120bb0",
            "placeholder": "​",
            "style": "IPY_MODEL_e47e1e089a6d4d88b0c4aca1e34d2e40",
            "value": " 208k/208k [00:00&lt;00:00, 566kB/s]"
          }
        },
        "740def6837bd4cd6b70a47143246d766": {
          "model_module": "@jupyter-widgets/base",
          "model_name": "LayoutModel",
          "model_module_version": "1.2.0",
          "state": {
            "_model_module": "@jupyter-widgets/base",
            "_model_module_version": "1.2.0",
            "_model_name": "LayoutModel",
            "_view_count": null,
            "_view_module": "@jupyter-widgets/base",
            "_view_module_version": "1.2.0",
            "_view_name": "LayoutView",
            "align_content": null,
            "align_items": null,
            "align_self": null,
            "border": null,
            "bottom": null,
            "display": null,
            "flex": null,
            "flex_flow": null,
            "grid_area": null,
            "grid_auto_columns": null,
            "grid_auto_flow": null,
            "grid_auto_rows": null,
            "grid_column": null,
            "grid_gap": null,
            "grid_row": null,
            "grid_template_areas": null,
            "grid_template_columns": null,
            "grid_template_rows": null,
            "height": null,
            "justify_content": null,
            "justify_items": null,
            "left": null,
            "margin": null,
            "max_height": null,
            "max_width": null,
            "min_height": null,
            "min_width": null,
            "object_fit": null,
            "object_position": null,
            "order": null,
            "overflow": null,
            "overflow_x": null,
            "overflow_y": null,
            "padding": null,
            "right": null,
            "top": null,
            "visibility": null,
            "width": null
          }
        },
        "fc8c05d88fb744c2b5524c3c6d71b63e": {
          "model_module": "@jupyter-widgets/base",
          "model_name": "LayoutModel",
          "model_module_version": "1.2.0",
          "state": {
            "_model_module": "@jupyter-widgets/base",
            "_model_module_version": "1.2.0",
            "_model_name": "LayoutModel",
            "_view_count": null,
            "_view_module": "@jupyter-widgets/base",
            "_view_module_version": "1.2.0",
            "_view_name": "LayoutView",
            "align_content": null,
            "align_items": null,
            "align_self": null,
            "border": null,
            "bottom": null,
            "display": null,
            "flex": null,
            "flex_flow": null,
            "grid_area": null,
            "grid_auto_columns": null,
            "grid_auto_flow": null,
            "grid_auto_rows": null,
            "grid_column": null,
            "grid_gap": null,
            "grid_row": null,
            "grid_template_areas": null,
            "grid_template_columns": null,
            "grid_template_rows": null,
            "height": null,
            "justify_content": null,
            "justify_items": null,
            "left": null,
            "margin": null,
            "max_height": null,
            "max_width": null,
            "min_height": null,
            "min_width": null,
            "object_fit": null,
            "object_position": null,
            "order": null,
            "overflow": null,
            "overflow_x": null,
            "overflow_y": null,
            "padding": null,
            "right": null,
            "top": null,
            "visibility": null,
            "width": null
          }
        },
        "71ace7b2bfd7478d954dccc69ab0a577": {
          "model_module": "@jupyter-widgets/controls",
          "model_name": "DescriptionStyleModel",
          "model_module_version": "1.5.0",
          "state": {
            "_model_module": "@jupyter-widgets/controls",
            "_model_module_version": "1.5.0",
            "_model_name": "DescriptionStyleModel",
            "_view_count": null,
            "_view_module": "@jupyter-widgets/base",
            "_view_module_version": "1.2.0",
            "_view_name": "StyleView",
            "description_width": ""
          }
        },
        "d8e29e274d9f4964a8d7771d71ebe643": {
          "model_module": "@jupyter-widgets/base",
          "model_name": "LayoutModel",
          "model_module_version": "1.2.0",
          "state": {
            "_model_module": "@jupyter-widgets/base",
            "_model_module_version": "1.2.0",
            "_model_name": "LayoutModel",
            "_view_count": null,
            "_view_module": "@jupyter-widgets/base",
            "_view_module_version": "1.2.0",
            "_view_name": "LayoutView",
            "align_content": null,
            "align_items": null,
            "align_self": null,
            "border": null,
            "bottom": null,
            "display": null,
            "flex": null,
            "flex_flow": null,
            "grid_area": null,
            "grid_auto_columns": null,
            "grid_auto_flow": null,
            "grid_auto_rows": null,
            "grid_column": null,
            "grid_gap": null,
            "grid_row": null,
            "grid_template_areas": null,
            "grid_template_columns": null,
            "grid_template_rows": null,
            "height": null,
            "justify_content": null,
            "justify_items": null,
            "left": null,
            "margin": null,
            "max_height": null,
            "max_width": null,
            "min_height": null,
            "min_width": null,
            "object_fit": null,
            "object_position": null,
            "order": null,
            "overflow": null,
            "overflow_x": null,
            "overflow_y": null,
            "padding": null,
            "right": null,
            "top": null,
            "visibility": null,
            "width": null
          }
        },
        "b4efe1df1fc64bf989fb63d85cc2583c": {
          "model_module": "@jupyter-widgets/controls",
          "model_name": "ProgressStyleModel",
          "model_module_version": "1.5.0",
          "state": {
            "_model_module": "@jupyter-widgets/controls",
            "_model_module_version": "1.5.0",
            "_model_name": "ProgressStyleModel",
            "_view_count": null,
            "_view_module": "@jupyter-widgets/base",
            "_view_module_version": "1.2.0",
            "_view_name": "StyleView",
            "bar_color": null,
            "description_width": ""
          }
        },
        "e5e4944087224cf099147a0ff0120bb0": {
          "model_module": "@jupyter-widgets/base",
          "model_name": "LayoutModel",
          "model_module_version": "1.2.0",
          "state": {
            "_model_module": "@jupyter-widgets/base",
            "_model_module_version": "1.2.0",
            "_model_name": "LayoutModel",
            "_view_count": null,
            "_view_module": "@jupyter-widgets/base",
            "_view_module_version": "1.2.0",
            "_view_name": "LayoutView",
            "align_content": null,
            "align_items": null,
            "align_self": null,
            "border": null,
            "bottom": null,
            "display": null,
            "flex": null,
            "flex_flow": null,
            "grid_area": null,
            "grid_auto_columns": null,
            "grid_auto_flow": null,
            "grid_auto_rows": null,
            "grid_column": null,
            "grid_gap": null,
            "grid_row": null,
            "grid_template_areas": null,
            "grid_template_columns": null,
            "grid_template_rows": null,
            "height": null,
            "justify_content": null,
            "justify_items": null,
            "left": null,
            "margin": null,
            "max_height": null,
            "max_width": null,
            "min_height": null,
            "min_width": null,
            "object_fit": null,
            "object_position": null,
            "order": null,
            "overflow": null,
            "overflow_x": null,
            "overflow_y": null,
            "padding": null,
            "right": null,
            "top": null,
            "visibility": null,
            "width": null
          }
        },
        "e47e1e089a6d4d88b0c4aca1e34d2e40": {
          "model_module": "@jupyter-widgets/controls",
          "model_name": "DescriptionStyleModel",
          "model_module_version": "1.5.0",
          "state": {
            "_model_module": "@jupyter-widgets/controls",
            "_model_module_version": "1.5.0",
            "_model_name": "DescriptionStyleModel",
            "_view_count": null,
            "_view_module": "@jupyter-widgets/base",
            "_view_module_version": "1.2.0",
            "_view_name": "StyleView",
            "description_width": ""
          }
        },
        "0155bfe9731c41b6ba76469e49e7371f": {
          "model_module": "@jupyter-widgets/controls",
          "model_name": "HBoxModel",
          "model_module_version": "1.5.0",
          "state": {
            "_dom_classes": [],
            "_model_module": "@jupyter-widgets/controls",
            "_model_module_version": "1.5.0",
            "_model_name": "HBoxModel",
            "_view_count": null,
            "_view_module": "@jupyter-widgets/controls",
            "_view_module_version": "1.5.0",
            "_view_name": "HBoxView",
            "box_style": "",
            "children": [
              "IPY_MODEL_a5f3d628448c46079d508016f50d970d",
              "IPY_MODEL_8f3df2d2ff61446e872a1cdafc4bbd76",
              "IPY_MODEL_5954d957ff8146ebac5ab2f7218f01ec"
            ],
            "layout": "IPY_MODEL_4f8c19151d234f4e9a0e045765e4c40a"
          }
        },
        "a5f3d628448c46079d508016f50d970d": {
          "model_module": "@jupyter-widgets/controls",
          "model_name": "HTMLModel",
          "model_module_version": "1.5.0",
          "state": {
            "_dom_classes": [],
            "_model_module": "@jupyter-widgets/controls",
            "_model_module_version": "1.5.0",
            "_model_name": "HTMLModel",
            "_view_count": null,
            "_view_module": "@jupyter-widgets/controls",
            "_view_module_version": "1.5.0",
            "_view_name": "HTMLView",
            "description": "",
            "description_tooltip": null,
            "layout": "IPY_MODEL_e4a7f163ba6f4edf891c3de0e8897ffa",
            "placeholder": "​",
            "style": "IPY_MODEL_fcfa868c7d4a42ff9edfde4f30a7cd4e",
            "value": "Downloading: 100%"
          }
        },
        "8f3df2d2ff61446e872a1cdafc4bbd76": {
          "model_module": "@jupyter-widgets/controls",
          "model_name": "FloatProgressModel",
          "model_module_version": "1.5.0",
          "state": {
            "_dom_classes": [],
            "_model_module": "@jupyter-widgets/controls",
            "_model_module_version": "1.5.0",
            "_model_name": "FloatProgressModel",
            "_view_count": null,
            "_view_module": "@jupyter-widgets/controls",
            "_view_module_version": "1.5.0",
            "_view_name": "ProgressView",
            "bar_style": "success",
            "description": "",
            "description_tooltip": null,
            "layout": "IPY_MODEL_262ab39a118b4dd88e1d32ac56831dbc",
            "max": 435797,
            "min": 0,
            "orientation": "horizontal",
            "style": "IPY_MODEL_60bdb639bb574386a331f2bf51011271",
            "value": 435797
          }
        },
        "5954d957ff8146ebac5ab2f7218f01ec": {
          "model_module": "@jupyter-widgets/controls",
          "model_name": "HTMLModel",
          "model_module_version": "1.5.0",
          "state": {
            "_dom_classes": [],
            "_model_module": "@jupyter-widgets/controls",
            "_model_module_version": "1.5.0",
            "_model_name": "HTMLModel",
            "_view_count": null,
            "_view_module": "@jupyter-widgets/controls",
            "_view_module_version": "1.5.0",
            "_view_name": "HTMLView",
            "description": "",
            "description_tooltip": null,
            "layout": "IPY_MODEL_41e6868a134a42d189b8906185ddf24a",
            "placeholder": "​",
            "style": "IPY_MODEL_6cab8e3895ee447b8407b727452eadde",
            "value": " 426k/426k [00:00&lt;00:00, 604kB/s]"
          }
        },
        "4f8c19151d234f4e9a0e045765e4c40a": {
          "model_module": "@jupyter-widgets/base",
          "model_name": "LayoutModel",
          "model_module_version": "1.2.0",
          "state": {
            "_model_module": "@jupyter-widgets/base",
            "_model_module_version": "1.2.0",
            "_model_name": "LayoutModel",
            "_view_count": null,
            "_view_module": "@jupyter-widgets/base",
            "_view_module_version": "1.2.0",
            "_view_name": "LayoutView",
            "align_content": null,
            "align_items": null,
            "align_self": null,
            "border": null,
            "bottom": null,
            "display": null,
            "flex": null,
            "flex_flow": null,
            "grid_area": null,
            "grid_auto_columns": null,
            "grid_auto_flow": null,
            "grid_auto_rows": null,
            "grid_column": null,
            "grid_gap": null,
            "grid_row": null,
            "grid_template_areas": null,
            "grid_template_columns": null,
            "grid_template_rows": null,
            "height": null,
            "justify_content": null,
            "justify_items": null,
            "left": null,
            "margin": null,
            "max_height": null,
            "max_width": null,
            "min_height": null,
            "min_width": null,
            "object_fit": null,
            "object_position": null,
            "order": null,
            "overflow": null,
            "overflow_x": null,
            "overflow_y": null,
            "padding": null,
            "right": null,
            "top": null,
            "visibility": null,
            "width": null
          }
        },
        "e4a7f163ba6f4edf891c3de0e8897ffa": {
          "model_module": "@jupyter-widgets/base",
          "model_name": "LayoutModel",
          "model_module_version": "1.2.0",
          "state": {
            "_model_module": "@jupyter-widgets/base",
            "_model_module_version": "1.2.0",
            "_model_name": "LayoutModel",
            "_view_count": null,
            "_view_module": "@jupyter-widgets/base",
            "_view_module_version": "1.2.0",
            "_view_name": "LayoutView",
            "align_content": null,
            "align_items": null,
            "align_self": null,
            "border": null,
            "bottom": null,
            "display": null,
            "flex": null,
            "flex_flow": null,
            "grid_area": null,
            "grid_auto_columns": null,
            "grid_auto_flow": null,
            "grid_auto_rows": null,
            "grid_column": null,
            "grid_gap": null,
            "grid_row": null,
            "grid_template_areas": null,
            "grid_template_columns": null,
            "grid_template_rows": null,
            "height": null,
            "justify_content": null,
            "justify_items": null,
            "left": null,
            "margin": null,
            "max_height": null,
            "max_width": null,
            "min_height": null,
            "min_width": null,
            "object_fit": null,
            "object_position": null,
            "order": null,
            "overflow": null,
            "overflow_x": null,
            "overflow_y": null,
            "padding": null,
            "right": null,
            "top": null,
            "visibility": null,
            "width": null
          }
        },
        "fcfa868c7d4a42ff9edfde4f30a7cd4e": {
          "model_module": "@jupyter-widgets/controls",
          "model_name": "DescriptionStyleModel",
          "model_module_version": "1.5.0",
          "state": {
            "_model_module": "@jupyter-widgets/controls",
            "_model_module_version": "1.5.0",
            "_model_name": "DescriptionStyleModel",
            "_view_count": null,
            "_view_module": "@jupyter-widgets/base",
            "_view_module_version": "1.2.0",
            "_view_name": "StyleView",
            "description_width": ""
          }
        },
        "262ab39a118b4dd88e1d32ac56831dbc": {
          "model_module": "@jupyter-widgets/base",
          "model_name": "LayoutModel",
          "model_module_version": "1.2.0",
          "state": {
            "_model_module": "@jupyter-widgets/base",
            "_model_module_version": "1.2.0",
            "_model_name": "LayoutModel",
            "_view_count": null,
            "_view_module": "@jupyter-widgets/base",
            "_view_module_version": "1.2.0",
            "_view_name": "LayoutView",
            "align_content": null,
            "align_items": null,
            "align_self": null,
            "border": null,
            "bottom": null,
            "display": null,
            "flex": null,
            "flex_flow": null,
            "grid_area": null,
            "grid_auto_columns": null,
            "grid_auto_flow": null,
            "grid_auto_rows": null,
            "grid_column": null,
            "grid_gap": null,
            "grid_row": null,
            "grid_template_areas": null,
            "grid_template_columns": null,
            "grid_template_rows": null,
            "height": null,
            "justify_content": null,
            "justify_items": null,
            "left": null,
            "margin": null,
            "max_height": null,
            "max_width": null,
            "min_height": null,
            "min_width": null,
            "object_fit": null,
            "object_position": null,
            "order": null,
            "overflow": null,
            "overflow_x": null,
            "overflow_y": null,
            "padding": null,
            "right": null,
            "top": null,
            "visibility": null,
            "width": null
          }
        },
        "60bdb639bb574386a331f2bf51011271": {
          "model_module": "@jupyter-widgets/controls",
          "model_name": "ProgressStyleModel",
          "model_module_version": "1.5.0",
          "state": {
            "_model_module": "@jupyter-widgets/controls",
            "_model_module_version": "1.5.0",
            "_model_name": "ProgressStyleModel",
            "_view_count": null,
            "_view_module": "@jupyter-widgets/base",
            "_view_module_version": "1.2.0",
            "_view_name": "StyleView",
            "bar_color": null,
            "description_width": ""
          }
        },
        "41e6868a134a42d189b8906185ddf24a": {
          "model_module": "@jupyter-widgets/base",
          "model_name": "LayoutModel",
          "model_module_version": "1.2.0",
          "state": {
            "_model_module": "@jupyter-widgets/base",
            "_model_module_version": "1.2.0",
            "_model_name": "LayoutModel",
            "_view_count": null,
            "_view_module": "@jupyter-widgets/base",
            "_view_module_version": "1.2.0",
            "_view_name": "LayoutView",
            "align_content": null,
            "align_items": null,
            "align_self": null,
            "border": null,
            "bottom": null,
            "display": null,
            "flex": null,
            "flex_flow": null,
            "grid_area": null,
            "grid_auto_columns": null,
            "grid_auto_flow": null,
            "grid_auto_rows": null,
            "grid_column": null,
            "grid_gap": null,
            "grid_row": null,
            "grid_template_areas": null,
            "grid_template_columns": null,
            "grid_template_rows": null,
            "height": null,
            "justify_content": null,
            "justify_items": null,
            "left": null,
            "margin": null,
            "max_height": null,
            "max_width": null,
            "min_height": null,
            "min_width": null,
            "object_fit": null,
            "object_position": null,
            "order": null,
            "overflow": null,
            "overflow_x": null,
            "overflow_y": null,
            "padding": null,
            "right": null,
            "top": null,
            "visibility": null,
            "width": null
          }
        },
        "6cab8e3895ee447b8407b727452eadde": {
          "model_module": "@jupyter-widgets/controls",
          "model_name": "DescriptionStyleModel",
          "model_module_version": "1.5.0",
          "state": {
            "_model_module": "@jupyter-widgets/controls",
            "_model_module_version": "1.5.0",
            "_model_name": "DescriptionStyleModel",
            "_view_count": null,
            "_view_module": "@jupyter-widgets/base",
            "_view_module_version": "1.2.0",
            "_view_name": "StyleView",
            "description_width": ""
          }
        },
        "23f7282082684e68b10b3df3c8dee3ee": {
          "model_module": "@jupyter-widgets/controls",
          "model_name": "HBoxModel",
          "model_module_version": "1.5.0",
          "state": {
            "_dom_classes": [],
            "_model_module": "@jupyter-widgets/controls",
            "_model_module_version": "1.5.0",
            "_model_name": "HBoxModel",
            "_view_count": null,
            "_view_module": "@jupyter-widgets/controls",
            "_view_module_version": "1.5.0",
            "_view_name": "HBoxView",
            "box_style": "",
            "children": [
              "IPY_MODEL_d1d56f210cd74d64a76e40225f9ddb9e",
              "IPY_MODEL_148c4bfb89374b229081faa5534011c1",
              "IPY_MODEL_69cc8c446aad41beb065ec8193c89341"
            ],
            "layout": "IPY_MODEL_ae7ca6c274034cc1a7304bd920f8b3b1"
          }
        },
        "d1d56f210cd74d64a76e40225f9ddb9e": {
          "model_module": "@jupyter-widgets/controls",
          "model_name": "HTMLModel",
          "model_module_version": "1.5.0",
          "state": {
            "_dom_classes": [],
            "_model_module": "@jupyter-widgets/controls",
            "_model_module_version": "1.5.0",
            "_model_name": "HTMLModel",
            "_view_count": null,
            "_view_module": "@jupyter-widgets/controls",
            "_view_module_version": "1.5.0",
            "_view_name": "HTMLView",
            "description": "",
            "description_tooltip": null,
            "layout": "IPY_MODEL_129b9910893f47e685cee757800ef564",
            "placeholder": "​",
            "style": "IPY_MODEL_ca0b23e391304f679f762e126e42923e",
            "value": "Downloading: 100%"
          }
        },
        "148c4bfb89374b229081faa5534011c1": {
          "model_module": "@jupyter-widgets/controls",
          "model_name": "FloatProgressModel",
          "model_module_version": "1.5.0",
          "state": {
            "_dom_classes": [],
            "_model_module": "@jupyter-widgets/controls",
            "_model_module_version": "1.5.0",
            "_model_name": "FloatProgressModel",
            "_view_count": null,
            "_view_module": "@jupyter-widgets/controls",
            "_view_module_version": "1.5.0",
            "_view_name": "ProgressView",
            "bar_style": "success",
            "description": "",
            "description_tooltip": null,
            "layout": "IPY_MODEL_564aebc0f71b451ab805028d9fb61aa4",
            "max": 526681800,
            "min": 0,
            "orientation": "horizontal",
            "style": "IPY_MODEL_144a8f17113c412597ddea9611614776",
            "value": 526681800
          }
        },
        "69cc8c446aad41beb065ec8193c89341": {
          "model_module": "@jupyter-widgets/controls",
          "model_name": "HTMLModel",
          "model_module_version": "1.5.0",
          "state": {
            "_dom_classes": [],
            "_model_module": "@jupyter-widgets/controls",
            "_model_module_version": "1.5.0",
            "_model_name": "HTMLModel",
            "_view_count": null,
            "_view_module": "@jupyter-widgets/controls",
            "_view_module_version": "1.5.0",
            "_view_name": "HTMLView",
            "description": "",
            "description_tooltip": null,
            "layout": "IPY_MODEL_1347c499e9c2411d8e770c87de3fedd1",
            "placeholder": "​",
            "style": "IPY_MODEL_c03d8ea05ba540a6983981442d11ac7d",
            "value": " 502M/502M [00:17&lt;00:00, 59.8MB/s]"
          }
        },
        "ae7ca6c274034cc1a7304bd920f8b3b1": {
          "model_module": "@jupyter-widgets/base",
          "model_name": "LayoutModel",
          "model_module_version": "1.2.0",
          "state": {
            "_model_module": "@jupyter-widgets/base",
            "_model_module_version": "1.2.0",
            "_model_name": "LayoutModel",
            "_view_count": null,
            "_view_module": "@jupyter-widgets/base",
            "_view_module_version": "1.2.0",
            "_view_name": "LayoutView",
            "align_content": null,
            "align_items": null,
            "align_self": null,
            "border": null,
            "bottom": null,
            "display": null,
            "flex": null,
            "flex_flow": null,
            "grid_area": null,
            "grid_auto_columns": null,
            "grid_auto_flow": null,
            "grid_auto_rows": null,
            "grid_column": null,
            "grid_gap": null,
            "grid_row": null,
            "grid_template_areas": null,
            "grid_template_columns": null,
            "grid_template_rows": null,
            "height": null,
            "justify_content": null,
            "justify_items": null,
            "left": null,
            "margin": null,
            "max_height": null,
            "max_width": null,
            "min_height": null,
            "min_width": null,
            "object_fit": null,
            "object_position": null,
            "order": null,
            "overflow": null,
            "overflow_x": null,
            "overflow_y": null,
            "padding": null,
            "right": null,
            "top": null,
            "visibility": null,
            "width": null
          }
        },
        "129b9910893f47e685cee757800ef564": {
          "model_module": "@jupyter-widgets/base",
          "model_name": "LayoutModel",
          "model_module_version": "1.2.0",
          "state": {
            "_model_module": "@jupyter-widgets/base",
            "_model_module_version": "1.2.0",
            "_model_name": "LayoutModel",
            "_view_count": null,
            "_view_module": "@jupyter-widgets/base",
            "_view_module_version": "1.2.0",
            "_view_name": "LayoutView",
            "align_content": null,
            "align_items": null,
            "align_self": null,
            "border": null,
            "bottom": null,
            "display": null,
            "flex": null,
            "flex_flow": null,
            "grid_area": null,
            "grid_auto_columns": null,
            "grid_auto_flow": null,
            "grid_auto_rows": null,
            "grid_column": null,
            "grid_gap": null,
            "grid_row": null,
            "grid_template_areas": null,
            "grid_template_columns": null,
            "grid_template_rows": null,
            "height": null,
            "justify_content": null,
            "justify_items": null,
            "left": null,
            "margin": null,
            "max_height": null,
            "max_width": null,
            "min_height": null,
            "min_width": null,
            "object_fit": null,
            "object_position": null,
            "order": null,
            "overflow": null,
            "overflow_x": null,
            "overflow_y": null,
            "padding": null,
            "right": null,
            "top": null,
            "visibility": null,
            "width": null
          }
        },
        "ca0b23e391304f679f762e126e42923e": {
          "model_module": "@jupyter-widgets/controls",
          "model_name": "DescriptionStyleModel",
          "model_module_version": "1.5.0",
          "state": {
            "_model_module": "@jupyter-widgets/controls",
            "_model_module_version": "1.5.0",
            "_model_name": "DescriptionStyleModel",
            "_view_count": null,
            "_view_module": "@jupyter-widgets/base",
            "_view_module_version": "1.2.0",
            "_view_name": "StyleView",
            "description_width": ""
          }
        },
        "564aebc0f71b451ab805028d9fb61aa4": {
          "model_module": "@jupyter-widgets/base",
          "model_name": "LayoutModel",
          "model_module_version": "1.2.0",
          "state": {
            "_model_module": "@jupyter-widgets/base",
            "_model_module_version": "1.2.0",
            "_model_name": "LayoutModel",
            "_view_count": null,
            "_view_module": "@jupyter-widgets/base",
            "_view_module_version": "1.2.0",
            "_view_name": "LayoutView",
            "align_content": null,
            "align_items": null,
            "align_self": null,
            "border": null,
            "bottom": null,
            "display": null,
            "flex": null,
            "flex_flow": null,
            "grid_area": null,
            "grid_auto_columns": null,
            "grid_auto_flow": null,
            "grid_auto_rows": null,
            "grid_column": null,
            "grid_gap": null,
            "grid_row": null,
            "grid_template_areas": null,
            "grid_template_columns": null,
            "grid_template_rows": null,
            "height": null,
            "justify_content": null,
            "justify_items": null,
            "left": null,
            "margin": null,
            "max_height": null,
            "max_width": null,
            "min_height": null,
            "min_width": null,
            "object_fit": null,
            "object_position": null,
            "order": null,
            "overflow": null,
            "overflow_x": null,
            "overflow_y": null,
            "padding": null,
            "right": null,
            "top": null,
            "visibility": null,
            "width": null
          }
        },
        "144a8f17113c412597ddea9611614776": {
          "model_module": "@jupyter-widgets/controls",
          "model_name": "ProgressStyleModel",
          "model_module_version": "1.5.0",
          "state": {
            "_model_module": "@jupyter-widgets/controls",
            "_model_module_version": "1.5.0",
            "_model_name": "ProgressStyleModel",
            "_view_count": null,
            "_view_module": "@jupyter-widgets/base",
            "_view_module_version": "1.2.0",
            "_view_name": "StyleView",
            "bar_color": null,
            "description_width": ""
          }
        },
        "1347c499e9c2411d8e770c87de3fedd1": {
          "model_module": "@jupyter-widgets/base",
          "model_name": "LayoutModel",
          "model_module_version": "1.2.0",
          "state": {
            "_model_module": "@jupyter-widgets/base",
            "_model_module_version": "1.2.0",
            "_model_name": "LayoutModel",
            "_view_count": null,
            "_view_module": "@jupyter-widgets/base",
            "_view_module_version": "1.2.0",
            "_view_name": "LayoutView",
            "align_content": null,
            "align_items": null,
            "align_self": null,
            "border": null,
            "bottom": null,
            "display": null,
            "flex": null,
            "flex_flow": null,
            "grid_area": null,
            "grid_auto_columns": null,
            "grid_auto_flow": null,
            "grid_auto_rows": null,
            "grid_column": null,
            "grid_gap": null,
            "grid_row": null,
            "grid_template_areas": null,
            "grid_template_columns": null,
            "grid_template_rows": null,
            "height": null,
            "justify_content": null,
            "justify_items": null,
            "left": null,
            "margin": null,
            "max_height": null,
            "max_width": null,
            "min_height": null,
            "min_width": null,
            "object_fit": null,
            "object_position": null,
            "order": null,
            "overflow": null,
            "overflow_x": null,
            "overflow_y": null,
            "padding": null,
            "right": null,
            "top": null,
            "visibility": null,
            "width": null
          }
        },
        "c03d8ea05ba540a6983981442d11ac7d": {
          "model_module": "@jupyter-widgets/controls",
          "model_name": "DescriptionStyleModel",
          "model_module_version": "1.5.0",
          "state": {
            "_model_module": "@jupyter-widgets/controls",
            "_model_module_version": "1.5.0",
            "_model_name": "DescriptionStyleModel",
            "_view_count": null,
            "_view_module": "@jupyter-widgets/base",
            "_view_module_version": "1.2.0",
            "_view_name": "StyleView",
            "description_width": ""
          }
        },
        "c45aa4b4810c42b9a4d76c416726ab89": {
          "model_module": "@jupyter-widgets/controls",
          "model_name": "HBoxModel",
          "model_module_version": "1.5.0",
          "state": {
            "_dom_classes": [],
            "_model_module": "@jupyter-widgets/controls",
            "_model_module_version": "1.5.0",
            "_model_name": "HBoxModel",
            "_view_count": null,
            "_view_module": "@jupyter-widgets/controls",
            "_view_module_version": "1.5.0",
            "_view_name": "HBoxView",
            "box_style": "",
            "children": [
              "IPY_MODEL_14a5bd1de3f641d18501395afb8a7f3e",
              "IPY_MODEL_59e90d01f5ed4cffaa84b3cd15d849a7",
              "IPY_MODEL_d9ed3f833d5c4f0e839fa9c85cc91d34"
            ],
            "layout": "IPY_MODEL_865162f291ce4edcaa5617bb1ba64bcc"
          }
        },
        "14a5bd1de3f641d18501395afb8a7f3e": {
          "model_module": "@jupyter-widgets/controls",
          "model_name": "HTMLModel",
          "model_module_version": "1.5.0",
          "state": {
            "_dom_classes": [],
            "_model_module": "@jupyter-widgets/controls",
            "_model_module_version": "1.5.0",
            "_model_name": "HTMLModel",
            "_view_count": null,
            "_view_module": "@jupyter-widgets/controls",
            "_view_module_version": "1.5.0",
            "_view_name": "HTMLView",
            "description": "",
            "description_tooltip": null,
            "layout": "IPY_MODEL_85f14a96d01d484e9042a33669716c84",
            "placeholder": "​",
            "style": "IPY_MODEL_3aafaefe24be408a9d03f04306435160",
            "value": "Downloading: 100%"
          }
        },
        "59e90d01f5ed4cffaa84b3cd15d849a7": {
          "model_module": "@jupyter-widgets/controls",
          "model_name": "FloatProgressModel",
          "model_module_version": "1.5.0",
          "state": {
            "_dom_classes": [],
            "_model_module": "@jupyter-widgets/controls",
            "_model_module_version": "1.5.0",
            "_model_name": "FloatProgressModel",
            "_view_count": null,
            "_view_module": "@jupyter-widgets/controls",
            "_view_module_version": "1.5.0",
            "_view_name": "ProgressView",
            "bar_style": "success",
            "description": "",
            "description_tooltip": null,
            "layout": "IPY_MODEL_2c8213c8a3ad47c8ad5cbe5b3720b937",
            "max": 60,
            "min": 0,
            "orientation": "horizontal",
            "style": "IPY_MODEL_23726852c4f94325b158939b08f37517",
            "value": 60
          }
        },
        "d9ed3f833d5c4f0e839fa9c85cc91d34": {
          "model_module": "@jupyter-widgets/controls",
          "model_name": "HTMLModel",
          "model_module_version": "1.5.0",
          "state": {
            "_dom_classes": [],
            "_model_module": "@jupyter-widgets/controls",
            "_model_module_version": "1.5.0",
            "_model_name": "HTMLModel",
            "_view_count": null,
            "_view_module": "@jupyter-widgets/controls",
            "_view_module_version": "1.5.0",
            "_view_name": "HTMLView",
            "description": "",
            "description_tooltip": null,
            "layout": "IPY_MODEL_22447f826f8146c78a2828e3d332da7b",
            "placeholder": "​",
            "style": "IPY_MODEL_56523a34dff2441ea4aab5e954c134e8",
            "value": " 60.0/60.0 [00:00&lt;00:00, 1.84kB/s]"
          }
        },
        "865162f291ce4edcaa5617bb1ba64bcc": {
          "model_module": "@jupyter-widgets/base",
          "model_name": "LayoutModel",
          "model_module_version": "1.2.0",
          "state": {
            "_model_module": "@jupyter-widgets/base",
            "_model_module_version": "1.2.0",
            "_model_name": "LayoutModel",
            "_view_count": null,
            "_view_module": "@jupyter-widgets/base",
            "_view_module_version": "1.2.0",
            "_view_name": "LayoutView",
            "align_content": null,
            "align_items": null,
            "align_self": null,
            "border": null,
            "bottom": null,
            "display": null,
            "flex": null,
            "flex_flow": null,
            "grid_area": null,
            "grid_auto_columns": null,
            "grid_auto_flow": null,
            "grid_auto_rows": null,
            "grid_column": null,
            "grid_gap": null,
            "grid_row": null,
            "grid_template_areas": null,
            "grid_template_columns": null,
            "grid_template_rows": null,
            "height": null,
            "justify_content": null,
            "justify_items": null,
            "left": null,
            "margin": null,
            "max_height": null,
            "max_width": null,
            "min_height": null,
            "min_width": null,
            "object_fit": null,
            "object_position": null,
            "order": null,
            "overflow": null,
            "overflow_x": null,
            "overflow_y": null,
            "padding": null,
            "right": null,
            "top": null,
            "visibility": null,
            "width": null
          }
        },
        "85f14a96d01d484e9042a33669716c84": {
          "model_module": "@jupyter-widgets/base",
          "model_name": "LayoutModel",
          "model_module_version": "1.2.0",
          "state": {
            "_model_module": "@jupyter-widgets/base",
            "_model_module_version": "1.2.0",
            "_model_name": "LayoutModel",
            "_view_count": null,
            "_view_module": "@jupyter-widgets/base",
            "_view_module_version": "1.2.0",
            "_view_name": "LayoutView",
            "align_content": null,
            "align_items": null,
            "align_self": null,
            "border": null,
            "bottom": null,
            "display": null,
            "flex": null,
            "flex_flow": null,
            "grid_area": null,
            "grid_auto_columns": null,
            "grid_auto_flow": null,
            "grid_auto_rows": null,
            "grid_column": null,
            "grid_gap": null,
            "grid_row": null,
            "grid_template_areas": null,
            "grid_template_columns": null,
            "grid_template_rows": null,
            "height": null,
            "justify_content": null,
            "justify_items": null,
            "left": null,
            "margin": null,
            "max_height": null,
            "max_width": null,
            "min_height": null,
            "min_width": null,
            "object_fit": null,
            "object_position": null,
            "order": null,
            "overflow": null,
            "overflow_x": null,
            "overflow_y": null,
            "padding": null,
            "right": null,
            "top": null,
            "visibility": null,
            "width": null
          }
        },
        "3aafaefe24be408a9d03f04306435160": {
          "model_module": "@jupyter-widgets/controls",
          "model_name": "DescriptionStyleModel",
          "model_module_version": "1.5.0",
          "state": {
            "_model_module": "@jupyter-widgets/controls",
            "_model_module_version": "1.5.0",
            "_model_name": "DescriptionStyleModel",
            "_view_count": null,
            "_view_module": "@jupyter-widgets/base",
            "_view_module_version": "1.2.0",
            "_view_name": "StyleView",
            "description_width": ""
          }
        },
        "2c8213c8a3ad47c8ad5cbe5b3720b937": {
          "model_module": "@jupyter-widgets/base",
          "model_name": "LayoutModel",
          "model_module_version": "1.2.0",
          "state": {
            "_model_module": "@jupyter-widgets/base",
            "_model_module_version": "1.2.0",
            "_model_name": "LayoutModel",
            "_view_count": null,
            "_view_module": "@jupyter-widgets/base",
            "_view_module_version": "1.2.0",
            "_view_name": "LayoutView",
            "align_content": null,
            "align_items": null,
            "align_self": null,
            "border": null,
            "bottom": null,
            "display": null,
            "flex": null,
            "flex_flow": null,
            "grid_area": null,
            "grid_auto_columns": null,
            "grid_auto_flow": null,
            "grid_auto_rows": null,
            "grid_column": null,
            "grid_gap": null,
            "grid_row": null,
            "grid_template_areas": null,
            "grid_template_columns": null,
            "grid_template_rows": null,
            "height": null,
            "justify_content": null,
            "justify_items": null,
            "left": null,
            "margin": null,
            "max_height": null,
            "max_width": null,
            "min_height": null,
            "min_width": null,
            "object_fit": null,
            "object_position": null,
            "order": null,
            "overflow": null,
            "overflow_x": null,
            "overflow_y": null,
            "padding": null,
            "right": null,
            "top": null,
            "visibility": null,
            "width": null
          }
        },
        "23726852c4f94325b158939b08f37517": {
          "model_module": "@jupyter-widgets/controls",
          "model_name": "ProgressStyleModel",
          "model_module_version": "1.5.0",
          "state": {
            "_model_module": "@jupyter-widgets/controls",
            "_model_module_version": "1.5.0",
            "_model_name": "ProgressStyleModel",
            "_view_count": null,
            "_view_module": "@jupyter-widgets/base",
            "_view_module_version": "1.2.0",
            "_view_name": "StyleView",
            "bar_color": null,
            "description_width": ""
          }
        },
        "22447f826f8146c78a2828e3d332da7b": {
          "model_module": "@jupyter-widgets/base",
          "model_name": "LayoutModel",
          "model_module_version": "1.2.0",
          "state": {
            "_model_module": "@jupyter-widgets/base",
            "_model_module_version": "1.2.0",
            "_model_name": "LayoutModel",
            "_view_count": null,
            "_view_module": "@jupyter-widgets/base",
            "_view_module_version": "1.2.0",
            "_view_name": "LayoutView",
            "align_content": null,
            "align_items": null,
            "align_self": null,
            "border": null,
            "bottom": null,
            "display": null,
            "flex": null,
            "flex_flow": null,
            "grid_area": null,
            "grid_auto_columns": null,
            "grid_auto_flow": null,
            "grid_auto_rows": null,
            "grid_column": null,
            "grid_gap": null,
            "grid_row": null,
            "grid_template_areas": null,
            "grid_template_columns": null,
            "grid_template_rows": null,
            "height": null,
            "justify_content": null,
            "justify_items": null,
            "left": null,
            "margin": null,
            "max_height": null,
            "max_width": null,
            "min_height": null,
            "min_width": null,
            "object_fit": null,
            "object_position": null,
            "order": null,
            "overflow": null,
            "overflow_x": null,
            "overflow_y": null,
            "padding": null,
            "right": null,
            "top": null,
            "visibility": null,
            "width": null
          }
        },
        "56523a34dff2441ea4aab5e954c134e8": {
          "model_module": "@jupyter-widgets/controls",
          "model_name": "DescriptionStyleModel",
          "model_module_version": "1.5.0",
          "state": {
            "_model_module": "@jupyter-widgets/controls",
            "_model_module_version": "1.5.0",
            "_model_name": "DescriptionStyleModel",
            "_view_count": null,
            "_view_module": "@jupyter-widgets/base",
            "_view_module_version": "1.2.0",
            "_view_name": "StyleView",
            "description_width": ""
          }
        },
        "0133ad6ce3894a1daa586ee134af0886": {
          "model_module": "@jupyter-widgets/controls",
          "model_name": "HBoxModel",
          "model_module_version": "1.5.0",
          "state": {
            "_dom_classes": [],
            "_model_module": "@jupyter-widgets/controls",
            "_model_module_version": "1.5.0",
            "_model_name": "HBoxModel",
            "_view_count": null,
            "_view_module": "@jupyter-widgets/controls",
            "_view_module_version": "1.5.0",
            "_view_name": "HBoxView",
            "box_style": "",
            "children": [
              "IPY_MODEL_19fd83c06aef481e847ca7b552d2c49c",
              "IPY_MODEL_90f4a3dc44c946dcb5c27abfd98dd319",
              "IPY_MODEL_a6834f49193c438493d48ff36546cff2"
            ],
            "layout": "IPY_MODEL_3dd169f86cc545b39beda3d8fc0d67a8"
          }
        },
        "19fd83c06aef481e847ca7b552d2c49c": {
          "model_module": "@jupyter-widgets/controls",
          "model_name": "HTMLModel",
          "model_module_version": "1.5.0",
          "state": {
            "_dom_classes": [],
            "_model_module": "@jupyter-widgets/controls",
            "_model_module_version": "1.5.0",
            "_model_name": "HTMLModel",
            "_view_count": null,
            "_view_module": "@jupyter-widgets/controls",
            "_view_module_version": "1.5.0",
            "_view_name": "HTMLView",
            "description": "",
            "description_tooltip": null,
            "layout": "IPY_MODEL_4dab64120bec4ec08683f6b0a8669797",
            "placeholder": "​",
            "style": "IPY_MODEL_885b88a4efc5485f906014dcd685957a",
            "value": "Downloading: 100%"
          }
        },
        "90f4a3dc44c946dcb5c27abfd98dd319": {
          "model_module": "@jupyter-widgets/controls",
          "model_name": "FloatProgressModel",
          "model_module_version": "1.5.0",
          "state": {
            "_dom_classes": [],
            "_model_module": "@jupyter-widgets/controls",
            "_model_module_version": "1.5.0",
            "_model_name": "FloatProgressModel",
            "_view_count": null,
            "_view_module": "@jupyter-widgets/controls",
            "_view_module_version": "1.5.0",
            "_view_name": "ProgressView",
            "bar_style": "success",
            "description": "",
            "description_tooltip": null,
            "layout": "IPY_MODEL_c145a3441bba4f48a205ff7037aefdb7",
            "max": 385,
            "min": 0,
            "orientation": "horizontal",
            "style": "IPY_MODEL_a229853e1700429fbb3f187aa74be2bc",
            "value": 385
          }
        },
        "a6834f49193c438493d48ff36546cff2": {
          "model_module": "@jupyter-widgets/controls",
          "model_name": "HTMLModel",
          "model_module_version": "1.5.0",
          "state": {
            "_dom_classes": [],
            "_model_module": "@jupyter-widgets/controls",
            "_model_module_version": "1.5.0",
            "_model_name": "HTMLModel",
            "_view_count": null,
            "_view_module": "@jupyter-widgets/controls",
            "_view_module_version": "1.5.0",
            "_view_name": "HTMLView",
            "description": "",
            "description_tooltip": null,
            "layout": "IPY_MODEL_5918138038aa4593a20b1a690b8b771f",
            "placeholder": "​",
            "style": "IPY_MODEL_ce24105710ab4ee4bb9d73976b173592",
            "value": " 385/385 [00:00&lt;00:00, 10.5kB/s]"
          }
        },
        "3dd169f86cc545b39beda3d8fc0d67a8": {
          "model_module": "@jupyter-widgets/base",
          "model_name": "LayoutModel",
          "model_module_version": "1.2.0",
          "state": {
            "_model_module": "@jupyter-widgets/base",
            "_model_module_version": "1.2.0",
            "_model_name": "LayoutModel",
            "_view_count": null,
            "_view_module": "@jupyter-widgets/base",
            "_view_module_version": "1.2.0",
            "_view_name": "LayoutView",
            "align_content": null,
            "align_items": null,
            "align_self": null,
            "border": null,
            "bottom": null,
            "display": null,
            "flex": null,
            "flex_flow": null,
            "grid_area": null,
            "grid_auto_columns": null,
            "grid_auto_flow": null,
            "grid_auto_rows": null,
            "grid_column": null,
            "grid_gap": null,
            "grid_row": null,
            "grid_template_areas": null,
            "grid_template_columns": null,
            "grid_template_rows": null,
            "height": null,
            "justify_content": null,
            "justify_items": null,
            "left": null,
            "margin": null,
            "max_height": null,
            "max_width": null,
            "min_height": null,
            "min_width": null,
            "object_fit": null,
            "object_position": null,
            "order": null,
            "overflow": null,
            "overflow_x": null,
            "overflow_y": null,
            "padding": null,
            "right": null,
            "top": null,
            "visibility": null,
            "width": null
          }
        },
        "4dab64120bec4ec08683f6b0a8669797": {
          "model_module": "@jupyter-widgets/base",
          "model_name": "LayoutModel",
          "model_module_version": "1.2.0",
          "state": {
            "_model_module": "@jupyter-widgets/base",
            "_model_module_version": "1.2.0",
            "_model_name": "LayoutModel",
            "_view_count": null,
            "_view_module": "@jupyter-widgets/base",
            "_view_module_version": "1.2.0",
            "_view_name": "LayoutView",
            "align_content": null,
            "align_items": null,
            "align_self": null,
            "border": null,
            "bottom": null,
            "display": null,
            "flex": null,
            "flex_flow": null,
            "grid_area": null,
            "grid_auto_columns": null,
            "grid_auto_flow": null,
            "grid_auto_rows": null,
            "grid_column": null,
            "grid_gap": null,
            "grid_row": null,
            "grid_template_areas": null,
            "grid_template_columns": null,
            "grid_template_rows": null,
            "height": null,
            "justify_content": null,
            "justify_items": null,
            "left": null,
            "margin": null,
            "max_height": null,
            "max_width": null,
            "min_height": null,
            "min_width": null,
            "object_fit": null,
            "object_position": null,
            "order": null,
            "overflow": null,
            "overflow_x": null,
            "overflow_y": null,
            "padding": null,
            "right": null,
            "top": null,
            "visibility": null,
            "width": null
          }
        },
        "885b88a4efc5485f906014dcd685957a": {
          "model_module": "@jupyter-widgets/controls",
          "model_name": "DescriptionStyleModel",
          "model_module_version": "1.5.0",
          "state": {
            "_model_module": "@jupyter-widgets/controls",
            "_model_module_version": "1.5.0",
            "_model_name": "DescriptionStyleModel",
            "_view_count": null,
            "_view_module": "@jupyter-widgets/base",
            "_view_module_version": "1.2.0",
            "_view_name": "StyleView",
            "description_width": ""
          }
        },
        "c145a3441bba4f48a205ff7037aefdb7": {
          "model_module": "@jupyter-widgets/base",
          "model_name": "LayoutModel",
          "model_module_version": "1.2.0",
          "state": {
            "_model_module": "@jupyter-widgets/base",
            "_model_module_version": "1.2.0",
            "_model_name": "LayoutModel",
            "_view_count": null,
            "_view_module": "@jupyter-widgets/base",
            "_view_module_version": "1.2.0",
            "_view_name": "LayoutView",
            "align_content": null,
            "align_items": null,
            "align_self": null,
            "border": null,
            "bottom": null,
            "display": null,
            "flex": null,
            "flex_flow": null,
            "grid_area": null,
            "grid_auto_columns": null,
            "grid_auto_flow": null,
            "grid_auto_rows": null,
            "grid_column": null,
            "grid_gap": null,
            "grid_row": null,
            "grid_template_areas": null,
            "grid_template_columns": null,
            "grid_template_rows": null,
            "height": null,
            "justify_content": null,
            "justify_items": null,
            "left": null,
            "margin": null,
            "max_height": null,
            "max_width": null,
            "min_height": null,
            "min_width": null,
            "object_fit": null,
            "object_position": null,
            "order": null,
            "overflow": null,
            "overflow_x": null,
            "overflow_y": null,
            "padding": null,
            "right": null,
            "top": null,
            "visibility": null,
            "width": null
          }
        },
        "a229853e1700429fbb3f187aa74be2bc": {
          "model_module": "@jupyter-widgets/controls",
          "model_name": "ProgressStyleModel",
          "model_module_version": "1.5.0",
          "state": {
            "_model_module": "@jupyter-widgets/controls",
            "_model_module_version": "1.5.0",
            "_model_name": "ProgressStyleModel",
            "_view_count": null,
            "_view_module": "@jupyter-widgets/base",
            "_view_module_version": "1.2.0",
            "_view_name": "StyleView",
            "bar_color": null,
            "description_width": ""
          }
        },
        "5918138038aa4593a20b1a690b8b771f": {
          "model_module": "@jupyter-widgets/base",
          "model_name": "LayoutModel",
          "model_module_version": "1.2.0",
          "state": {
            "_model_module": "@jupyter-widgets/base",
            "_model_module_version": "1.2.0",
            "_model_name": "LayoutModel",
            "_view_count": null,
            "_view_module": "@jupyter-widgets/base",
            "_view_module_version": "1.2.0",
            "_view_name": "LayoutView",
            "align_content": null,
            "align_items": null,
            "align_self": null,
            "border": null,
            "bottom": null,
            "display": null,
            "flex": null,
            "flex_flow": null,
            "grid_area": null,
            "grid_auto_columns": null,
            "grid_auto_flow": null,
            "grid_auto_rows": null,
            "grid_column": null,
            "grid_gap": null,
            "grid_row": null,
            "grid_template_areas": null,
            "grid_template_columns": null,
            "grid_template_rows": null,
            "height": null,
            "justify_content": null,
            "justify_items": null,
            "left": null,
            "margin": null,
            "max_height": null,
            "max_width": null,
            "min_height": null,
            "min_width": null,
            "object_fit": null,
            "object_position": null,
            "order": null,
            "overflow": null,
            "overflow_x": null,
            "overflow_y": null,
            "padding": null,
            "right": null,
            "top": null,
            "visibility": null,
            "width": null
          }
        },
        "ce24105710ab4ee4bb9d73976b173592": {
          "model_module": "@jupyter-widgets/controls",
          "model_name": "DescriptionStyleModel",
          "model_module_version": "1.5.0",
          "state": {
            "_model_module": "@jupyter-widgets/controls",
            "_model_module_version": "1.5.0",
            "_model_name": "DescriptionStyleModel",
            "_view_count": null,
            "_view_module": "@jupyter-widgets/base",
            "_view_module_version": "1.2.0",
            "_view_name": "StyleView",
            "description_width": ""
          }
        },
        "f17aa40beb724f92afc3f940c0aca084": {
          "model_module": "@jupyter-widgets/controls",
          "model_name": "HBoxModel",
          "model_module_version": "1.5.0",
          "state": {
            "_dom_classes": [],
            "_model_module": "@jupyter-widgets/controls",
            "_model_module_version": "1.5.0",
            "_model_name": "HBoxModel",
            "_view_count": null,
            "_view_module": "@jupyter-widgets/controls",
            "_view_module_version": "1.5.0",
            "_view_name": "HBoxView",
            "box_style": "",
            "children": [
              "IPY_MODEL_708bd7a20dfd4b11955ed985cfb715a4",
              "IPY_MODEL_2ea8c782645148e084a6945757284da5",
              "IPY_MODEL_78fa7496c28f4ebebd0f6f5838812999"
            ],
            "layout": "IPY_MODEL_c0e39bc588b94b439a67681be6773e88"
          }
        },
        "708bd7a20dfd4b11955ed985cfb715a4": {
          "model_module": "@jupyter-widgets/controls",
          "model_name": "HTMLModel",
          "model_module_version": "1.5.0",
          "state": {
            "_dom_classes": [],
            "_model_module": "@jupyter-widgets/controls",
            "_model_module_version": "1.5.0",
            "_model_name": "HTMLModel",
            "_view_count": null,
            "_view_module": "@jupyter-widgets/controls",
            "_view_module_version": "1.5.0",
            "_view_name": "HTMLView",
            "description": "",
            "description_tooltip": null,
            "layout": "IPY_MODEL_a27221a0fc844efbad34371cff0054e8",
            "placeholder": "​",
            "style": "IPY_MODEL_846a065891364c63a8b19db8fa68279a",
            "value": "Downloading: 100%"
          }
        },
        "2ea8c782645148e084a6945757284da5": {
          "model_module": "@jupyter-widgets/controls",
          "model_name": "FloatProgressModel",
          "model_module_version": "1.5.0",
          "state": {
            "_dom_classes": [],
            "_model_module": "@jupyter-widgets/controls",
            "_model_module_version": "1.5.0",
            "_model_name": "FloatProgressModel",
            "_view_count": null,
            "_view_module": "@jupyter-widgets/controls",
            "_view_module_version": "1.5.0",
            "_view_name": "ProgressView",
            "bar_style": "success",
            "description": "",
            "description_tooltip": null,
            "layout": "IPY_MODEL_4dcd2671e4604ac8ac6efa3ed8bce6b7",
            "max": 251003,
            "min": 0,
            "orientation": "horizontal",
            "style": "IPY_MODEL_3bf49be9f2224f42b507c07ec5bad47c",
            "value": 251003
          }
        },
        "78fa7496c28f4ebebd0f6f5838812999": {
          "model_module": "@jupyter-widgets/controls",
          "model_name": "HTMLModel",
          "model_module_version": "1.5.0",
          "state": {
            "_dom_classes": [],
            "_model_module": "@jupyter-widgets/controls",
            "_model_module_version": "1.5.0",
            "_model_name": "HTMLModel",
            "_view_count": null,
            "_view_module": "@jupyter-widgets/controls",
            "_view_module_version": "1.5.0",
            "_view_name": "HTMLView",
            "description": "",
            "description_tooltip": null,
            "layout": "IPY_MODEL_1b6c8435078848c3886d26f301166d37",
            "placeholder": "​",
            "style": "IPY_MODEL_b3296d2d44a9458abe2f6eb547b65382",
            "value": " 245k/245k [00:00&lt;00:00, 838kB/s]"
          }
        },
        "c0e39bc588b94b439a67681be6773e88": {
          "model_module": "@jupyter-widgets/base",
          "model_name": "LayoutModel",
          "model_module_version": "1.2.0",
          "state": {
            "_model_module": "@jupyter-widgets/base",
            "_model_module_version": "1.2.0",
            "_model_name": "LayoutModel",
            "_view_count": null,
            "_view_module": "@jupyter-widgets/base",
            "_view_module_version": "1.2.0",
            "_view_name": "LayoutView",
            "align_content": null,
            "align_items": null,
            "align_self": null,
            "border": null,
            "bottom": null,
            "display": null,
            "flex": null,
            "flex_flow": null,
            "grid_area": null,
            "grid_auto_columns": null,
            "grid_auto_flow": null,
            "grid_auto_rows": null,
            "grid_column": null,
            "grid_gap": null,
            "grid_row": null,
            "grid_template_areas": null,
            "grid_template_columns": null,
            "grid_template_rows": null,
            "height": null,
            "justify_content": null,
            "justify_items": null,
            "left": null,
            "margin": null,
            "max_height": null,
            "max_width": null,
            "min_height": null,
            "min_width": null,
            "object_fit": null,
            "object_position": null,
            "order": null,
            "overflow": null,
            "overflow_x": null,
            "overflow_y": null,
            "padding": null,
            "right": null,
            "top": null,
            "visibility": null,
            "width": null
          }
        },
        "a27221a0fc844efbad34371cff0054e8": {
          "model_module": "@jupyter-widgets/base",
          "model_name": "LayoutModel",
          "model_module_version": "1.2.0",
          "state": {
            "_model_module": "@jupyter-widgets/base",
            "_model_module_version": "1.2.0",
            "_model_name": "LayoutModel",
            "_view_count": null,
            "_view_module": "@jupyter-widgets/base",
            "_view_module_version": "1.2.0",
            "_view_name": "LayoutView",
            "align_content": null,
            "align_items": null,
            "align_self": null,
            "border": null,
            "bottom": null,
            "display": null,
            "flex": null,
            "flex_flow": null,
            "grid_area": null,
            "grid_auto_columns": null,
            "grid_auto_flow": null,
            "grid_auto_rows": null,
            "grid_column": null,
            "grid_gap": null,
            "grid_row": null,
            "grid_template_areas": null,
            "grid_template_columns": null,
            "grid_template_rows": null,
            "height": null,
            "justify_content": null,
            "justify_items": null,
            "left": null,
            "margin": null,
            "max_height": null,
            "max_width": null,
            "min_height": null,
            "min_width": null,
            "object_fit": null,
            "object_position": null,
            "order": null,
            "overflow": null,
            "overflow_x": null,
            "overflow_y": null,
            "padding": null,
            "right": null,
            "top": null,
            "visibility": null,
            "width": null
          }
        },
        "846a065891364c63a8b19db8fa68279a": {
          "model_module": "@jupyter-widgets/controls",
          "model_name": "DescriptionStyleModel",
          "model_module_version": "1.5.0",
          "state": {
            "_model_module": "@jupyter-widgets/controls",
            "_model_module_version": "1.5.0",
            "_model_name": "DescriptionStyleModel",
            "_view_count": null,
            "_view_module": "@jupyter-widgets/base",
            "_view_module_version": "1.2.0",
            "_view_name": "StyleView",
            "description_width": ""
          }
        },
        "4dcd2671e4604ac8ac6efa3ed8bce6b7": {
          "model_module": "@jupyter-widgets/base",
          "model_name": "LayoutModel",
          "model_module_version": "1.2.0",
          "state": {
            "_model_module": "@jupyter-widgets/base",
            "_model_module_version": "1.2.0",
            "_model_name": "LayoutModel",
            "_view_count": null,
            "_view_module": "@jupyter-widgets/base",
            "_view_module_version": "1.2.0",
            "_view_name": "LayoutView",
            "align_content": null,
            "align_items": null,
            "align_self": null,
            "border": null,
            "bottom": null,
            "display": null,
            "flex": null,
            "flex_flow": null,
            "grid_area": null,
            "grid_auto_columns": null,
            "grid_auto_flow": null,
            "grid_auto_rows": null,
            "grid_column": null,
            "grid_gap": null,
            "grid_row": null,
            "grid_template_areas": null,
            "grid_template_columns": null,
            "grid_template_rows": null,
            "height": null,
            "justify_content": null,
            "justify_items": null,
            "left": null,
            "margin": null,
            "max_height": null,
            "max_width": null,
            "min_height": null,
            "min_width": null,
            "object_fit": null,
            "object_position": null,
            "order": null,
            "overflow": null,
            "overflow_x": null,
            "overflow_y": null,
            "padding": null,
            "right": null,
            "top": null,
            "visibility": null,
            "width": null
          }
        },
        "3bf49be9f2224f42b507c07ec5bad47c": {
          "model_module": "@jupyter-widgets/controls",
          "model_name": "ProgressStyleModel",
          "model_module_version": "1.5.0",
          "state": {
            "_model_module": "@jupyter-widgets/controls",
            "_model_module_version": "1.5.0",
            "_model_name": "ProgressStyleModel",
            "_view_count": null,
            "_view_module": "@jupyter-widgets/base",
            "_view_module_version": "1.2.0",
            "_view_name": "StyleView",
            "bar_color": null,
            "description_width": ""
          }
        },
        "1b6c8435078848c3886d26f301166d37": {
          "model_module": "@jupyter-widgets/base",
          "model_name": "LayoutModel",
          "model_module_version": "1.2.0",
          "state": {
            "_model_module": "@jupyter-widgets/base",
            "_model_module_version": "1.2.0",
            "_model_name": "LayoutModel",
            "_view_count": null,
            "_view_module": "@jupyter-widgets/base",
            "_view_module_version": "1.2.0",
            "_view_name": "LayoutView",
            "align_content": null,
            "align_items": null,
            "align_self": null,
            "border": null,
            "bottom": null,
            "display": null,
            "flex": null,
            "flex_flow": null,
            "grid_area": null,
            "grid_auto_columns": null,
            "grid_auto_flow": null,
            "grid_auto_rows": null,
            "grid_column": null,
            "grid_gap": null,
            "grid_row": null,
            "grid_template_areas": null,
            "grid_template_columns": null,
            "grid_template_rows": null,
            "height": null,
            "justify_content": null,
            "justify_items": null,
            "left": null,
            "margin": null,
            "max_height": null,
            "max_width": null,
            "min_height": null,
            "min_width": null,
            "object_fit": null,
            "object_position": null,
            "order": null,
            "overflow": null,
            "overflow_x": null,
            "overflow_y": null,
            "padding": null,
            "right": null,
            "top": null,
            "visibility": null,
            "width": null
          }
        },
        "b3296d2d44a9458abe2f6eb547b65382": {
          "model_module": "@jupyter-widgets/controls",
          "model_name": "DescriptionStyleModel",
          "model_module_version": "1.5.0",
          "state": {
            "_model_module": "@jupyter-widgets/controls",
            "_model_module_version": "1.5.0",
            "_model_name": "DescriptionStyleModel",
            "_view_count": null,
            "_view_module": "@jupyter-widgets/base",
            "_view_module_version": "1.2.0",
            "_view_name": "StyleView",
            "description_width": ""
          }
        },
        "7864c37817df450b886be2f1dadb12da": {
          "model_module": "@jupyter-widgets/controls",
          "model_name": "HBoxModel",
          "model_module_version": "1.5.0",
          "state": {
            "_dom_classes": [],
            "_model_module": "@jupyter-widgets/controls",
            "_model_module_version": "1.5.0",
            "_model_name": "HBoxModel",
            "_view_count": null,
            "_view_module": "@jupyter-widgets/controls",
            "_view_module_version": "1.5.0",
            "_view_name": "HBoxView",
            "box_style": "",
            "children": [
              "IPY_MODEL_c6e3ea5ddde84412b3bc9ec1aa257c80",
              "IPY_MODEL_41f28cdb606a45e19095204f050a939e",
              "IPY_MODEL_bec7edd5d3484fd6b7212bce87152efc"
            ],
            "layout": "IPY_MODEL_abbf9ba091974aa1a876ad9a7d7e3eb2"
          }
        },
        "c6e3ea5ddde84412b3bc9ec1aa257c80": {
          "model_module": "@jupyter-widgets/controls",
          "model_name": "HTMLModel",
          "model_module_version": "1.5.0",
          "state": {
            "_dom_classes": [],
            "_model_module": "@jupyter-widgets/controls",
            "_model_module_version": "1.5.0",
            "_model_name": "HTMLModel",
            "_view_count": null,
            "_view_module": "@jupyter-widgets/controls",
            "_view_module_version": "1.5.0",
            "_view_name": "HTMLView",
            "description": "",
            "description_tooltip": null,
            "layout": "IPY_MODEL_15be85de7bc34524970a87446672972d",
            "placeholder": "​",
            "style": "IPY_MODEL_aa15c243005949d6aa2de3dd4e2f5a98",
            "value": "Downloading: 100%"
          }
        },
        "41f28cdb606a45e19095204f050a939e": {
          "model_module": "@jupyter-widgets/controls",
          "model_name": "FloatProgressModel",
          "model_module_version": "1.5.0",
          "state": {
            "_dom_classes": [],
            "_model_module": "@jupyter-widgets/controls",
            "_model_module_version": "1.5.0",
            "_model_name": "FloatProgressModel",
            "_view_count": null,
            "_view_module": "@jupyter-widgets/controls",
            "_view_module_version": "1.5.0",
            "_view_name": "ProgressView",
            "bar_style": "success",
            "description": "",
            "description_tooltip": null,
            "layout": "IPY_MODEL_d999102e488a486d8441aa5130cd05cb",
            "max": 545150592,
            "min": 0,
            "orientation": "horizontal",
            "style": "IPY_MODEL_c7ce45f27b1641febd700b2fae9f0662",
            "value": 545150592
          }
        },
        "bec7edd5d3484fd6b7212bce87152efc": {
          "model_module": "@jupyter-widgets/controls",
          "model_name": "HTMLModel",
          "model_module_version": "1.5.0",
          "state": {
            "_dom_classes": [],
            "_model_module": "@jupyter-widgets/controls",
            "_model_module_version": "1.5.0",
            "_model_name": "HTMLModel",
            "_view_count": null,
            "_view_module": "@jupyter-widgets/controls",
            "_view_module_version": "1.5.0",
            "_view_name": "HTMLView",
            "description": "",
            "description_tooltip": null,
            "layout": "IPY_MODEL_2a1ee2854b934e3bbcb5690740beab8c",
            "placeholder": "​",
            "style": "IPY_MODEL_60a10d9497844ec495e4246240bbda9f",
            "value": " 520M/520M [00:22&lt;00:00, 24.9MB/s]"
          }
        },
        "abbf9ba091974aa1a876ad9a7d7e3eb2": {
          "model_module": "@jupyter-widgets/base",
          "model_name": "LayoutModel",
          "model_module_version": "1.2.0",
          "state": {
            "_model_module": "@jupyter-widgets/base",
            "_model_module_version": "1.2.0",
            "_model_name": "LayoutModel",
            "_view_count": null,
            "_view_module": "@jupyter-widgets/base",
            "_view_module_version": "1.2.0",
            "_view_name": "LayoutView",
            "align_content": null,
            "align_items": null,
            "align_self": null,
            "border": null,
            "bottom": null,
            "display": null,
            "flex": null,
            "flex_flow": null,
            "grid_area": null,
            "grid_auto_columns": null,
            "grid_auto_flow": null,
            "grid_auto_rows": null,
            "grid_column": null,
            "grid_gap": null,
            "grid_row": null,
            "grid_template_areas": null,
            "grid_template_columns": null,
            "grid_template_rows": null,
            "height": null,
            "justify_content": null,
            "justify_items": null,
            "left": null,
            "margin": null,
            "max_height": null,
            "max_width": null,
            "min_height": null,
            "min_width": null,
            "object_fit": null,
            "object_position": null,
            "order": null,
            "overflow": null,
            "overflow_x": null,
            "overflow_y": null,
            "padding": null,
            "right": null,
            "top": null,
            "visibility": null,
            "width": null
          }
        },
        "15be85de7bc34524970a87446672972d": {
          "model_module": "@jupyter-widgets/base",
          "model_name": "LayoutModel",
          "model_module_version": "1.2.0",
          "state": {
            "_model_module": "@jupyter-widgets/base",
            "_model_module_version": "1.2.0",
            "_model_name": "LayoutModel",
            "_view_count": null,
            "_view_module": "@jupyter-widgets/base",
            "_view_module_version": "1.2.0",
            "_view_name": "LayoutView",
            "align_content": null,
            "align_items": null,
            "align_self": null,
            "border": null,
            "bottom": null,
            "display": null,
            "flex": null,
            "flex_flow": null,
            "grid_area": null,
            "grid_auto_columns": null,
            "grid_auto_flow": null,
            "grid_auto_rows": null,
            "grid_column": null,
            "grid_gap": null,
            "grid_row": null,
            "grid_template_areas": null,
            "grid_template_columns": null,
            "grid_template_rows": null,
            "height": null,
            "justify_content": null,
            "justify_items": null,
            "left": null,
            "margin": null,
            "max_height": null,
            "max_width": null,
            "min_height": null,
            "min_width": null,
            "object_fit": null,
            "object_position": null,
            "order": null,
            "overflow": null,
            "overflow_x": null,
            "overflow_y": null,
            "padding": null,
            "right": null,
            "top": null,
            "visibility": null,
            "width": null
          }
        },
        "aa15c243005949d6aa2de3dd4e2f5a98": {
          "model_module": "@jupyter-widgets/controls",
          "model_name": "DescriptionStyleModel",
          "model_module_version": "1.5.0",
          "state": {
            "_model_module": "@jupyter-widgets/controls",
            "_model_module_version": "1.5.0",
            "_model_name": "DescriptionStyleModel",
            "_view_count": null,
            "_view_module": "@jupyter-widgets/base",
            "_view_module_version": "1.2.0",
            "_view_name": "StyleView",
            "description_width": ""
          }
        },
        "d999102e488a486d8441aa5130cd05cb": {
          "model_module": "@jupyter-widgets/base",
          "model_name": "LayoutModel",
          "model_module_version": "1.2.0",
          "state": {
            "_model_module": "@jupyter-widgets/base",
            "_model_module_version": "1.2.0",
            "_model_name": "LayoutModel",
            "_view_count": null,
            "_view_module": "@jupyter-widgets/base",
            "_view_module_version": "1.2.0",
            "_view_name": "LayoutView",
            "align_content": null,
            "align_items": null,
            "align_self": null,
            "border": null,
            "bottom": null,
            "display": null,
            "flex": null,
            "flex_flow": null,
            "grid_area": null,
            "grid_auto_columns": null,
            "grid_auto_flow": null,
            "grid_auto_rows": null,
            "grid_column": null,
            "grid_gap": null,
            "grid_row": null,
            "grid_template_areas": null,
            "grid_template_columns": null,
            "grid_template_rows": null,
            "height": null,
            "justify_content": null,
            "justify_items": null,
            "left": null,
            "margin": null,
            "max_height": null,
            "max_width": null,
            "min_height": null,
            "min_width": null,
            "object_fit": null,
            "object_position": null,
            "order": null,
            "overflow": null,
            "overflow_x": null,
            "overflow_y": null,
            "padding": null,
            "right": null,
            "top": null,
            "visibility": null,
            "width": null
          }
        },
        "c7ce45f27b1641febd700b2fae9f0662": {
          "model_module": "@jupyter-widgets/controls",
          "model_name": "ProgressStyleModel",
          "model_module_version": "1.5.0",
          "state": {
            "_model_module": "@jupyter-widgets/controls",
            "_model_module_version": "1.5.0",
            "_model_name": "ProgressStyleModel",
            "_view_count": null,
            "_view_module": "@jupyter-widgets/base",
            "_view_module_version": "1.2.0",
            "_view_name": "StyleView",
            "bar_color": null,
            "description_width": ""
          }
        },
        "2a1ee2854b934e3bbcb5690740beab8c": {
          "model_module": "@jupyter-widgets/base",
          "model_name": "LayoutModel",
          "model_module_version": "1.2.0",
          "state": {
            "_model_module": "@jupyter-widgets/base",
            "_model_module_version": "1.2.0",
            "_model_name": "LayoutModel",
            "_view_count": null,
            "_view_module": "@jupyter-widgets/base",
            "_view_module_version": "1.2.0",
            "_view_name": "LayoutView",
            "align_content": null,
            "align_items": null,
            "align_self": null,
            "border": null,
            "bottom": null,
            "display": null,
            "flex": null,
            "flex_flow": null,
            "grid_area": null,
            "grid_auto_columns": null,
            "grid_auto_flow": null,
            "grid_auto_rows": null,
            "grid_column": null,
            "grid_gap": null,
            "grid_row": null,
            "grid_template_areas": null,
            "grid_template_columns": null,
            "grid_template_rows": null,
            "height": null,
            "justify_content": null,
            "justify_items": null,
            "left": null,
            "margin": null,
            "max_height": null,
            "max_width": null,
            "min_height": null,
            "min_width": null,
            "object_fit": null,
            "object_position": null,
            "order": null,
            "overflow": null,
            "overflow_x": null,
            "overflow_y": null,
            "padding": null,
            "right": null,
            "top": null,
            "visibility": null,
            "width": null
          }
        },
        "60a10d9497844ec495e4246240bbda9f": {
          "model_module": "@jupyter-widgets/controls",
          "model_name": "DescriptionStyleModel",
          "model_module_version": "1.5.0",
          "state": {
            "_model_module": "@jupyter-widgets/controls",
            "_model_module_version": "1.5.0",
            "_model_name": "DescriptionStyleModel",
            "_view_count": null,
            "_view_module": "@jupyter-widgets/base",
            "_view_module_version": "1.2.0",
            "_view_name": "StyleView",
            "description_width": ""
          }
        }
      }
    }
  },
  "nbformat": 4,
  "nbformat_minor": 0
}